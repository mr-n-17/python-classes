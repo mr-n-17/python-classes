{
 "cells": [
  {
   "cell_type": "code",
   "execution_count": 3,
   "id": "656478fa",
   "metadata": {},
   "outputs": [
    {
     "name": "stdout",
     "output_type": "stream",
     "text": [
      "nivas2178\n",
      "TAR2398\n"
     ]
    }
   ],
   "source": [
    "# 1. define student class \n",
    "# tasks \n",
    "# Create a student class with attributes : name,roll no, marks\n",
    "# create two student objects and print their details\n",
    "\n",
    "class Student():\n",
    "    def __init__(self,name,rollno,marks):\n",
    "        self.n=name \n",
    "        self.r=rollno \n",
    "        self.m=marks \n",
    "    \n",
    "    def printit(self):\n",
    "        return '{}{}{}'.format(self.n,self.r,self.m)\n",
    "\n",
    "s1=Student('nivas',21,78)\n",
    "s2=Student('TAR',23,98)\n",
    "\n",
    "print(s1.printit())\n",
    "print(s2.printit())"
   ]
  },
  {
   "cell_type": "code",
   "execution_count": null,
   "id": "b1c8cc46",
   "metadata": {},
   "outputs": [
    {
     "name": "stdout",
     "output_type": "stream",
     "text": [
      "(1, 2, 3, 4, 5)\n"
     ]
    },
    {
     "data": {
      "text/plain": [
       "3.0"
      ]
     },
     "execution_count": 23,
     "metadata": {},
     "output_type": "execute_result"
    }
   ],
   "source": [
    "# 2.Calculate Average\n",
    "# Task:\n",
    "# Add a method get_grade() that returns the grade based on marks:\n",
    "\n",
    "# Above 90: A\n",
    "\n",
    "# 80-90: B\n",
    "\n",
    "# Below 80: C\n",
    "\n",
    "class Average():\n",
    "    def __init__(self,*args):\n",
    "        self.args=args \n",
    "\n",
    "    def takeavg(self):\n",
    "        return sum(self.args)/len(self.args)\n",
    "\n",
    "x=Average(1,2,3,4,5)\n",
    "x.takeavg()\n",
    "\n"
   ]
  },
  {
   "cell_type": "code",
   "execution_count": null,
   "id": "e1c65eeb",
   "metadata": {},
   "outputs": [
    {
     "data": {
      "text/plain": [
       "('DELL', 'I7')"
      ]
     },
     "execution_count": 7,
     "metadata": {},
     "output_type": "execute_result"
    }
   ],
   "source": [
    "# 3.Class Method vs Instance Method\n",
    "# Task:\n",
    "# Create a class Laptop with:\n",
    "\n",
    "# class variable brand\n",
    "\n",
    "# instance variable price\n",
    "# Add a class method to change the brand for all objects.\n",
    "\n",
    "class Laptop():\n",
    "    brand='Mac'\n",
    "    def __init__(self,version):\n",
    "        self.v=version\n",
    "    \n",
    "    @classmethod \n",
    "    def tochange(cls,new_brand):\n",
    "        cls.brand=new_brand \n",
    "\n",
    "    def toprint(self):\n",
    "        return self.brand,self.v \n",
    "\n",
    "\n",
    "x=Laptop('I7')\n",
    "x.tochange('DELL')\n",
    "x.toprint()\n",
    "    \n",
    "    \n",
    "\n",
    "        "
   ]
  },
  {
   "cell_type": "code",
   "execution_count": 13,
   "id": "5888d782",
   "metadata": {},
   "outputs": [
    {
     "name": "stdout",
     "output_type": "stream",
     "text": [
      "False\n",
      "11\n"
     ]
    }
   ],
   "source": [
    "# 4. Use Dunder/magic method to compare two objects.\n",
    "\n",
    "class checking():\n",
    "    def __init__(self,a,b):\n",
    "        self.a=a \n",
    "        self.b=a \n",
    "    \n",
    "    def __eq__(self,other):\n",
    "        return self.a==other.a and self.b==other.b \n",
    "    \n",
    "    def __add__(self,other):\n",
    "        return self.a + other.a\n",
    "    \n",
    "a1=checking(5,6)\n",
    "a2=checking(6,6)\n",
    "\n",
    "print(a1==a2)\n",
    "print(a1+a2)"
   ]
  },
  {
   "cell_type": "code",
   "execution_count": 14,
   "id": "3d646f58",
   "metadata": {},
   "outputs": [
    {
     "name": "stdout",
     "output_type": "stream",
     "text": [
      "False\n"
     ]
    }
   ],
   "source": [
    "# 5. Create a class with static method.\n",
    "\n",
    "class employeeee:\n",
    "    def __init__(self,fname,lname,age):\n",
    "        self.firstname=fname\n",
    "        self.lastname=lname\n",
    "        self.Age=age\n",
    "    \n",
    "    @classmethod\n",
    "    def to_print(cls,emp_str):\n",
    "        firstname,lastname,Age=emp_str.split('-')\n",
    "        return cls(firstname,lastname,Age)\n",
    "    \n",
    "    @staticmethod\n",
    "    def stacmet(day):\n",
    "        if day.weekday()==5 or day.weekday()==6:\n",
    "            return False\n",
    "        return True \n",
    "\n",
    "emp1=employeeee('NIVAS',\"B\",25000)\n",
    "\n",
    "import datetime\n",
    "m=datetime.date(2016,5,14)\n",
    "print(employeeee.stacmet(m))\n",
    "    "
   ]
  },
  {
   "cell_type": "code",
   "execution_count": 17,
   "id": "4fd1ba34",
   "metadata": {},
   "outputs": [
    {
     "name": "stdout",
     "output_type": "stream",
     "text": [
      "type of vehicle is Grand and brand is Lexus\n"
     ]
    }
   ],
   "source": [
    "# Inheritance\n",
    "\n",
    "# 1. Basic Inheritance\n",
    "# Create a Vehicle class with a method start().\n",
    "\n",
    "# Inherit it in a Car class and add a drive() method.\n",
    "\n",
    "# Create an object of Car and call both methods.\n",
    "\n",
    "\n",
    "class vehicle:\n",
    "    def __init__(self,vehicl):\n",
    "        self.v=vehicl\n",
    "\n",
    "class car(vehicle):\n",
    "    def __init__(self,name,vehicl):\n",
    "        super().__init__(vehicl)\n",
    "        self.name=name \n",
    "    \n",
    "    def drive(self):\n",
    "        print(f\"type of vehicle is {self.v} and brand is {self.name}\")\n",
    "\n",
    "x=car('Lexus','Grand')\n",
    "x.drive()\n",
    "    \n",
    "\n"
   ]
  },
  {
   "cell_type": "code",
   "execution_count": 22,
   "id": "7a2897a8",
   "metadata": {},
   "outputs": [
    {
     "data": {
      "text/plain": [
       "('nivas', 21, 780, 'nivas')"
      ]
     },
     "execution_count": 22,
     "metadata": {},
     "output_type": "execute_result"
    }
   ],
   "source": [
    "# 2. Constructor Overriding\n",
    "# Create a Person class with __init__ taking name and age.\n",
    "\n",
    "# Create an Employee class that inherits Person and also takes employee ID.\n",
    "\n",
    "# Show how super() is used.\n",
    "\n",
    "\n",
    "class person():\n",
    "    def __init__(self,name,age):\n",
    "        self.n=name \n",
    "        self.a=age \n",
    "    \n",
    "class emplpoyee(person):\n",
    "    def __init__(self,name,age,id):\n",
    "        super().__init__(name,age)\n",
    "        self.id=id\n",
    "        self.name=name\n",
    "\n",
    "    def toprint(self):\n",
    "        return self.name,self.a,self.id,self.n\n",
    "\n",
    "x= emplpoyee('nivas',21,780)\n",
    "x.toprint()"
   ]
  },
  {
   "cell_type": "code",
   "execution_count": null,
   "id": "da577a74",
   "metadata": {},
   "outputs": [
    {
     "ename": "AttributeError",
     "evalue": "type object 'super' has no attribute 'area'",
     "output_type": "error",
     "traceback": [
      "\u001b[31m---------------------------------------------------------------------------\u001b[39m",
      "\u001b[31mAttributeError\u001b[39m                            Traceback (most recent call last)",
      "\u001b[36mCell\u001b[39m\u001b[36m \u001b[39m\u001b[32mIn[32]\u001b[39m\u001b[32m, line 25\u001b[39m\n\u001b[32m     22\u001b[39m         \u001b[38;5;28;01mreturn\u001b[39;00m \u001b[38;5;28mself\u001b[39m.a*\u001b[38;5;28mself\u001b[39m.a \n\u001b[32m     24\u001b[39m x=square(\u001b[32m5\u001b[39m)\n\u001b[32m---> \u001b[39m\u001b[32m25\u001b[39m \u001b[43mx\u001b[49m\u001b[43m.\u001b[49m\u001b[43marea\u001b[49m\u001b[43m(\u001b[49m\u001b[43m)\u001b[49m\n",
      "\u001b[36mCell\u001b[39m\u001b[36m \u001b[39m\u001b[32mIn[32]\u001b[39m\u001b[32m, line 21\u001b[39m, in \u001b[36msquare.area\u001b[39m\u001b[34m(self)\u001b[39m\n\u001b[32m     20\u001b[39m \u001b[38;5;28;01mdef\u001b[39;00m\u001b[38;5;250m \u001b[39m\u001b[34marea\u001b[39m(\u001b[38;5;28mself\u001b[39m):\n\u001b[32m---> \u001b[39m\u001b[32m21\u001b[39m     \u001b[38;5;28;43msuper\u001b[39;49m\u001b[43m.\u001b[49m\u001b[43marea\u001b[49m()\n\u001b[32m     22\u001b[39m     \u001b[38;5;28;01mreturn\u001b[39;00m \u001b[38;5;28mself\u001b[39m.a*\u001b[38;5;28mself\u001b[39m.a\n",
      "\u001b[31mAttributeError\u001b[39m: type object 'super' has no attribute 'area'"
     ]
    }
   ],
   "source": [
    "# 3. Method Overriding\n",
    "# Create a Shape class with method area().\n",
    "\n",
    "# Create a Square class that overrides area().\n",
    "\n",
    "class shape():\n",
    "    def __init__(self,*args):\n",
    "        self.args=args\n",
    "    \n",
    "    def area(self):\n",
    "        m=1\n",
    "        for i in self.args:\n",
    "            m*=i \n",
    "        print(m)\n",
    "    \n",
    "class square(shape):\n",
    "    def __init__(self,a):\n",
    "        super().__init__(a)\n",
    "        self.a=a \n",
    "    def area(self):\n",
    "        return self.a*self.a \n",
    "\n",
    "x=square(5)\n",
    "x.area()\n",
    "\n",
    "\n",
    "\n",
    "\n"
   ]
  },
  {
   "cell_type": "code",
   "execution_count": null,
   "id": "ec6dbd29",
   "metadata": {},
   "outputs": [
    {
     "ename": "TypeError",
     "evalue": "LivingBeing.checks() takes 1 positional argument but 2 were given",
     "output_type": "error",
     "traceback": [
      "\u001b[31m---------------------------------------------------------------------------\u001b[39m",
      "\u001b[31mTypeError\u001b[39m                                 Traceback (most recent call last)",
      "\u001b[36mCell\u001b[39m\u001b[36m \u001b[39m\u001b[32mIn[42]\u001b[39m\u001b[32m, line 31\u001b[39m\n\u001b[32m     29\u001b[39m x.toprint()\n\u001b[32m     30\u001b[39m x.type()\n\u001b[32m---> \u001b[39m\u001b[32m31\u001b[39m \u001b[38;5;28mprint\u001b[39m(\u001b[43mx\u001b[49m\u001b[43m.\u001b[49m\u001b[43mchecks\u001b[49m\u001b[43m(\u001b[49m\u001b[33;43m'\u001b[39;49m\u001b[33;43mANIMAL\u001b[39;49m\u001b[33;43m'\u001b[39;49m\u001b[43m)\u001b[49m)\n",
      "\u001b[31mTypeError\u001b[39m: LivingBeing.checks() takes 1 positional argument but 2 were given"
     ]
    }
   ],
   "source": [
    "# 4. Multilevel Inheritance\n",
    "# LivingBeing → Animal → Dog\n",
    "\n",
    "# Add unique methods in each and access all from Dog.\n",
    "\n",
    "class LivingBeing():\n",
    "    def __init__(self,a):\n",
    "        self.a=a \n",
    "    \n",
    "    def checks(self):\n",
    "        return f'LIVING BEING IS {self.a}' \n",
    "    \n",
    "class Animal(LivingBeing):\n",
    "    def __init__(self,b):\n",
    "        # super().__init__()\n",
    "        self.b=b\n",
    "    \n",
    "    def type(self):\n",
    "        return f'and animal is {self.b}'\n",
    "\n",
    "class Dog(Animal):\n",
    "    def __init__(self,b,c):\n",
    "        super().__init__(b)\n",
    "        self.c=c \n",
    "    def toprint(self):\n",
    "        return f'and animal is {self.b} and DOG IS {self.c}'\n",
    "\n",
    "x=Dog('DOG','LAB')\n",
    "x.toprint()\n",
    "x.type()\n",
    "print(x.checks())\n",
    "\n",
    "\n",
    "\n",
    "    "
   ]
  },
  {
   "cell_type": "code",
   "execution_count": 43,
   "id": "18037b5b",
   "metadata": {},
   "outputs": [
    {
     "name": "stdout",
     "output_type": "stream",
     "text": [
      "Queue before enqueue(2):\n",
      "1\n",
      "\n",
      "Queue after enqueue(2):\n",
      "1\n",
      "2\n",
      "3\n"
     ]
    }
   ],
   "source": [
    "class Node:\n",
    "    def __init__(self, value):\n",
    "        self.value = value\n",
    "        self.next = None\n",
    "        \n",
    "\n",
    "class Queue:\n",
    "    def __init__(self, value):\n",
    "        new_node = Node(value)\n",
    "        self.first = new_node\n",
    "        self.last = new_node\n",
    "        self.length = 1\n",
    "\n",
    "    def print_queue(self):\n",
    "        temp = self.first\n",
    "        while temp is not None:\n",
    "            print(temp.value)\n",
    "            temp = temp.next\n",
    "        \n",
    "    def enqueue(self,value):\n",
    "        new_node=Node(value)\n",
    "        if self.first is None:\n",
    "            self.first=new_node\n",
    "            self.last=new_node\n",
    "        else:\n",
    "            self.last.next=new_node\n",
    "            self.last=new_node\n",
    "        self.length += 1 \n",
    "        \n",
    "        \n",
    "\n",
    "\n",
    "\n",
    "\n",
    "my_queue = Queue(1)\n",
    "\n",
    "print('Queue before enqueue(2):')\n",
    "my_queue.print_queue()\n",
    "\n",
    "my_queue.enqueue(2)\n",
    "my_queue.enqueue(3)\n",
    "\n",
    "print('\\nQueue after enqueue(2):')\n",
    "my_queue.print_queue()"
   ]
  },
  {
   "cell_type": "code",
   "execution_count": 7,
   "id": "e6f6ef8e",
   "metadata": {},
   "outputs": [
    {
     "name": "stdout",
     "output_type": "stream",
     "text": [
      "IT CAN FILE\n",
      "IT CAN SWIM\n"
     ]
    },
    {
     "ename": "TypeError",
     "evalue": "__init__() should return None, not 'tuple'",
     "output_type": "error",
     "traceback": [
      "\u001b[31m---------------------------------------------------------------------------\u001b[39m",
      "\u001b[31mTypeError\u001b[39m                                 Traceback (most recent call last)",
      "\u001b[36mCell\u001b[39m\u001b[36m \u001b[39m\u001b[32mIn[7]\u001b[39m\u001b[32m, line 22\u001b[39m\n\u001b[32m     19\u001b[39m         \u001b[38;5;28msuper\u001b[39m().\u001b[34m__init__\u001b[39m()\n\u001b[32m     20\u001b[39m         \u001b[38;5;28;01mreturn\u001b[39;00m \u001b[38;5;28mself\u001b[39m.fly(),\u001b[38;5;28mself\u001b[39m.swim()\n\u001b[32m---> \u001b[39m\u001b[32m22\u001b[39m x=\u001b[43mduck\u001b[49m\u001b[43m(\u001b[49m\u001b[43m)\u001b[49m\n\u001b[32m     23\u001b[39m x\n",
      "\u001b[31mTypeError\u001b[39m: __init__() should return None, not 'tuple'"
     ]
    }
   ],
   "source": [
    "# 5. Multiple Inheritance\n",
    "# Flyer class with method fly()\n",
    "\n",
    "# Swimmer class with method swim()\n",
    "\n",
    "# Duck class inherits both and has its own quack() method.\n",
    "\n",
    "\n",
    "class flyer():\n",
    "    def fly(self):\n",
    "        print('IT CAN FILE')\n",
    "\n",
    "class swimmer():\n",
    "    def swim(self):\n",
    "        print('IT CAN SWIM')\n",
    "\n",
    "class duck(flyer,swimmer):\n",
    "    def __init__(self):\n",
    "        super().__init__()\n",
    "        return self.fly(),self.swim()\n",
    "\n",
    "x=duck()\n",
    "x"
   ]
  },
  {
   "cell_type": "code",
   "execution_count": 13,
   "id": "9932f01a",
   "metadata": {},
   "outputs": [
    {
     "name": "stdout",
     "output_type": "stream",
     "text": [
      "HELLO THIS IS CLASS\n",
      "THIS IS CHILD ONE\n"
     ]
    }
   ],
   "source": [
    "# 6. Using super() in methods (not just __init__)\n",
    "# Create a base class with a method and override it in the child.\n",
    "\n",
    "# In the child, use super() to call the parent method before extending it.\n",
    "\n",
    "class newone:\n",
    "    def classone(self):\n",
    "        print('HELLO THIS IS CLASS')\n",
    "\n",
    "class childone(newone):\n",
    "    def classone(self):\n",
    "        super().classone()\n",
    "        print('THIS IS CHILD ONE')\n",
    "        \n",
    "\n",
    "x=childone()\n",
    "x.classone()"
   ]
  },
  {
   "cell_type": "code",
   "execution_count": 14,
   "id": "7dc4fc1a",
   "metadata": {},
   "outputs": [
    {
     "name": "stdout",
     "output_type": "stream",
     "text": [
      "11\n",
      "NIVASB\n"
     ]
    }
   ],
   "source": [
    "# Polymorphism:\n",
    "\n",
    "# 1.write a polymorphic function to add two integers and to add two strings\n",
    "\n",
    "\n",
    "def toadd(a,b):\n",
    "    return a+b \n",
    "\n",
    "print(toadd(5,6))\n",
    "print(toadd('NIVAS',\"B\"))"
   ]
  },
  {
   "cell_type": "code",
   "execution_count": 16,
   "id": "07ea46c2",
   "metadata": {},
   "outputs": [
    {
     "name": "stdout",
     "output_type": "stream",
     "text": [
      "HELLO THIS IS CLASS\n",
      "THIS IS CHILD ONE\n"
     ]
    }
   ],
   "source": [
    "# 2.What is method overriding show it with an example?\n",
    "\n",
    "class newone:\n",
    "    def classone(self):\n",
    "        print('HELLO THIS IS CLASS')\n",
    "\n",
    "class childone(newone):\n",
    "    def classone(self):\n",
    "        super().classone()\n",
    "        print('THIS IS CHILD ONE')\n",
    "        \n",
    "x=childone()\n",
    "x.classone()"
   ]
  },
  {
   "cell_type": "code",
   "execution_count": 22,
   "id": "aaae6d85",
   "metadata": {},
   "outputs": [
    {
     "name": "stdout",
     "output_type": "stream",
     "text": [
      "36\n"
     ]
    }
   ],
   "source": [
    "# 3.Write a function that accepts any shape object and prints its area?\n",
    "\n",
    "class shape():\n",
    "    def __init__(self,*args):\n",
    "        self.args=args\n",
    "    \n",
    "    def area(self):\n",
    "        if len(self.args)==2:\n",
    "            a=self.args[1]\n",
    "            b=self.args[1]\n",
    "        elif len(self.args)>2:\n",
    "            a=self.args[1]\n",
    "            b=self.args[2]\n",
    "        if self.args[0] == 'circle':\n",
    "            return 3.14*a*b \n",
    "        if self.args[0] == 'triangle':\n",
    "            return 0.5*a*b  \n",
    "        if self.args[0]=='square' or self.args[1]:\n",
    "            return a*b \n",
    "\n",
    "x=shape('traingle',6)\n",
    "print(x.area())\n",
    "            \n",
    "        "
   ]
  },
  {
   "cell_type": "code",
   "execution_count": 23,
   "id": "4a8bcc15",
   "metadata": {},
   "outputs": [
    {
     "name": "stdout",
     "output_type": "stream",
     "text": [
      "15.0\n",
      "40\n"
     ]
    }
   ],
   "source": [
    "# 4. Shape Area\n",
    "# Define two classes Rectangle and Triangle.\n",
    "# Both should have a method area() which returns the area of the shape.\n",
    "# Write a function print_area(shape) to display the area.\n",
    "\n",
    "class Rectangle():\n",
    "    def __init__(self,*args):\n",
    "        self.args=args\n",
    "    \n",
    "    def area(self):\n",
    "        return self.args[0]*self.args[1]\n",
    "\n",
    "class Triangle():\n",
    "    def __init__(self,*args):\n",
    "        self.args=args \n",
    "    \n",
    "    def area(self):\n",
    "        return 0.5*self.args[0]*self.args[1]\n",
    "\n",
    "def toprintarea(shape):\n",
    "    \n",
    "    print(shape.area()) \n",
    "    \n",
    "tri=Triangle(5,6)\n",
    "rec=Rectangle(5,8)\n",
    "\n",
    "toprintarea(tri)\n",
    "toprintarea(rec)\n",
    "        "
   ]
  },
  {
   "cell_type": "code",
   "execution_count": 24,
   "id": "cecca1dc",
   "metadata": {},
   "outputs": [
    {
     "name": "stdout",
     "output_type": "stream",
     "text": [
      "DOG BARKS\n",
      "CAT MEOWS\n",
      "COW YAWNS\n"
     ]
    }
   ],
   "source": [
    "# 5.Animal Sounds\n",
    "# Create three classes: Dog, Cat, and Cow. Each class should have a method speak() that prints their respective sounds.\n",
    "# Requirement: Call the speak() method using a loop.\n",
    "\n",
    "class dog():\n",
    "    def speak(self):\n",
    "        print(\"DOG BARKS\")\n",
    "\n",
    "class cat():\n",
    "    def speak(self):\n",
    "        print('CAT MEOWS')\n",
    "\n",
    "class cow():\n",
    "    def speak(self):\n",
    "        print('COW YAWNS')\n",
    "\n",
    "x=dog()\n",
    "y=cat()\n",
    "z=cow()\n",
    "\n",
    "m=[x,y,z]\n",
    "\n",
    "for i in m:\n",
    "    i.speak()\n"
   ]
  },
  {
   "cell_type": "code",
   "execution_count": 26,
   "id": "b4dd8bd9",
   "metadata": {},
   "outputs": [
    {
     "name": "stdout",
     "output_type": "stream",
     "text": [
      "25\n",
      "78.5\n"
     ]
    }
   ],
   "source": [
    "# 1. Abstract Shape Class\n",
    "# Create an abstract class Shape with an abstract method area().\n",
    "# Then create two child classes: Circle and Rectangle, and implement the area() method in both.\n",
    "\n",
    "from abc import ABC,abstractmethod\n",
    "\n",
    "class shape():\n",
    "    \n",
    "    def __init__(self,*args):\n",
    "        self.args=args\n",
    "    \n",
    "    @abstractmethod\n",
    "    def area(self):\n",
    "        return self.args \n",
    "    \n",
    "class circle(shape):\n",
    "    def area(self):\n",
    "        return 3.14*self.r*self.r \n",
    "        \n",
    "    def __init__(self,r):\n",
    "        super().__init__()\n",
    "        self.r=r \n",
    "\n",
    "class rectangle(shape):\n",
    "        \n",
    "    def __init__(self,s):\n",
    "        super().__init__()\n",
    "        self.s=s \n",
    "        \n",
    "    def area(self):\n",
    "        return self.s*self.s \n",
    "        \n",
    "x=rectangle(5)\n",
    "print(x.area())\n",
    "\n",
    "y=circle(5)\n",
    "print(y.area())"
   ]
  },
  {
   "cell_type": "code",
   "execution_count": 33,
   "id": "9ec4b90e",
   "metadata": {},
   "outputs": [
    {
     "name": "stdout",
     "output_type": "stream",
     "text": [
      "the payment is done and the balance is 2000\n",
      "U R BROKE BRUHH\n"
     ]
    }
   ],
   "source": [
    "# 2.Abstract Payment System\n",
    "# Create an abstract class Payment with an abstract method pay(amount).\n",
    "# Create classes CreditCardPayment and PayPalPayment that implement the payment logic.\n",
    "\n",
    "class payment:\n",
    "    \n",
    "    def __init__(self,amount,balance):\n",
    "        self.a=amount\n",
    "        self.b=balance\n",
    "    \n",
    "    @abstractmethod\n",
    "    def pay(self):\n",
    "        if self.b>=self.a:\n",
    "            return f'the payment is done and the balance is {self.b-self.a}'\n",
    "        return 'U R BROKE BRUHH'\n",
    "\n",
    "class creditcardpayment(payment):\n",
    "    def __init__(self,amount,balance):\n",
    "        super().__init__(amount,balance)\n",
    "    \n",
    "        def pay(self):\n",
    "            return self.pay()\n",
    "\n",
    "class payppalpayment(payment):\n",
    "    def __init__(self,amount,balance):\n",
    "        super().__init__(amount,balance)\n",
    "    \n",
    "        def pay(self):\n",
    "            return self.pay()\n",
    "    \n",
    "\n",
    "x=creditcardpayment(1000,3000)\n",
    "y=payppalpayment(1000,900)\n",
    "\n",
    "print(x.pay())\n",
    "print(y.pay())\n",
    "\n",
    "\n",
    "        "
   ]
  },
  {
   "cell_type": "code",
   "execution_count": 35,
   "id": "6a57f93a",
   "metadata": {},
   "outputs": [
    {
     "name": "stdout",
     "output_type": "stream",
     "text": [
      "DOG BARKS\n",
      "CAT MEOWS\n",
      "COW YAWNS\n"
     ]
    }
   ],
   "source": [
    "# 3.Abstract Animal Sound\n",
    "# Create an abstract class Animal with an abstract method make_sound().\n",
    "# Create classes Dog, Cat, and Cow that implement make_sound() accordingly. \n",
    "\n",
    "from abc import ABC,abstractmethod\n",
    "\n",
    "class Animal():\n",
    "    def __init__(self,ani):\n",
    "        self.a=ani\n",
    "        pass\n",
    "    @abstractmethod\n",
    "    def sound(self):\n",
    "        if self.a=='dog':\n",
    "            return 'DOG BARKS'\n",
    "        if self.a=='cat':\n",
    "            return 'CAT MEOWS'\n",
    "        return 'COW YAWNS'\n",
    "\n",
    "class Dog(Animal):\n",
    "    def __init__(self, ani):\n",
    "        super().__init__(ani)\n",
    "        def soound(self):\n",
    "            return self.sound()\n",
    "\n",
    "class Cat(Animal):\n",
    "    def __init__(self, ani):\n",
    "        super().__init__(ani)\n",
    "        \n",
    "        def sound(self):\n",
    "            return self.sound()\n",
    "        \n",
    "class Cow(Animal):\n",
    "    def __init__(self, ani):\n",
    "        super().__init__(ani)\n",
    "        \n",
    "        def sound(self):\n",
    "            return self.sound()\n",
    "\n",
    "x=Dog('dog')\n",
    "y=Cat('cat')\n",
    "z=Cow('cow')\n",
    "\n",
    "m=[x,y,z]\n",
    "\n",
    "for i in m:\n",
    "    print(i.sound())"
   ]
  },
  {
   "cell_type": "code",
   "execution_count": null,
   "id": "96e634e1",
   "metadata": {},
   "outputs": [],
   "source": []
  }
 ],
 "metadata": {
  "kernelspec": {
   "display_name": "Python 3",
   "language": "python",
   "name": "python3"
  },
  "language_info": {
   "codemirror_mode": {
    "name": "ipython",
    "version": 3
   },
   "file_extension": ".py",
   "mimetype": "text/x-python",
   "name": "python",
   "nbconvert_exporter": "python",
   "pygments_lexer": "ipython3",
   "version": "3.11.1"
  }
 },
 "nbformat": 4,
 "nbformat_minor": 5
}
