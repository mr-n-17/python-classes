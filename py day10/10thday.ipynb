{
 "cells": [
  {
   "cell_type": "markdown",
   "id": "76e9d83f",
   "metadata": {},
   "source": [
    "# CLASS AND OBJECTS"
   ]
  },
  {
   "cell_type": "code",
   "execution_count": 4,
   "id": "b2f0fd03",
   "metadata": {},
   "outputs": [
    {
     "name": "stdout",
     "output_type": "stream",
     "text": [
      "my\n"
     ]
    }
   ],
   "source": [
    "class tw2:\n",
    "    def __init__(self,a='PYTHON'):\n",
    "        self.a1=a \n",
    "    \n",
    "    def prinit(self):\n",
    "        return self.a1\n",
    "\n",
    "f=tw2('my')\n",
    "x=f.prinit()\n",
    "print(x)"
   ]
  },
  {
   "cell_type": "code",
   "execution_count": 6,
   "id": "146e2f38",
   "metadata": {},
   "outputs": [
    {
     "name": "stdout",
     "output_type": "stream",
     "text": [
      "5,6\n",
      "6,7\n",
      "False\n",
      "30\n",
      "42\n"
     ]
    }
   ],
   "source": [
    "class rect:\n",
    "    def __init__(self,l,b):\n",
    "        self.length=l \n",
    "        self.width=b \n",
    "    \n",
    "    def __str__(self):\n",
    "        return f'{self.length},{self.width}'\n",
    "    \n",
    "    def __eq__(self, other):\n",
    "        return self.length== other.length and self.width == other.width \n",
    "    \n",
    "    def area(self):\n",
    "        return self.length * self.width \n",
    "\n",
    "r1=rect(5,6)\n",
    "r2=rect(6,7)\n",
    "\n",
    "print(r1)\n",
    "print(r2)\n",
    "print(r1==r2)\n",
    "print(r1.area())\n",
    "print(r2.area())"
   ]
  },
  {
   "cell_type": "markdown",
   "id": "dd6fb4bc",
   "metadata": {},
   "source": [
    "# ACCESS SPECIFIERS"
   ]
  },
  {
   "cell_type": "code",
   "execution_count": null,
   "id": "675c0824",
   "metadata": {},
   "outputs": [
    {
     "name": "stdout",
     "output_type": "stream",
     "text": [
      "private\n"
     ]
    }
   ],
   "source": [
    "# PUBLIC AND PRIVATE\n",
    "\n",
    "class myclass:\n",
    "    def __init__(self):\n",
    "        self.public='public'\n",
    "        self.__privatevar= 'private' #private variable mentioned with '__'\n",
    "\n",
    "    def togetprivate(self): #but the function is not private\n",
    "        return self.__privatevar \n",
    "    \n",
    "a=myclass()\n",
    "print(a.togetprivate())"
   ]
  },
  {
   "cell_type": "code",
   "execution_count": 12,
   "id": "fc15b28d",
   "metadata": {},
   "outputs": [
    {
     "name": "stdout",
     "output_type": "stream",
     "text": [
      "public\n"
     ]
    }
   ],
   "source": [
    "class myclass:\n",
    "    def __init__(self):\n",
    "        self.public1='public' # public variable\n",
    "        self.__privatevar= 'private'\n",
    "\n",
    "    def __togetprivate(self): #but function is private\n",
    "        return self.public1\n",
    "    \n",
    "a=myclass()\n",
    "print(a._myclass__togetprivate())"
   ]
  },
  {
   "cell_type": "code",
   "execution_count": 13,
   "id": "834c0334",
   "metadata": {},
   "outputs": [
    {
     "name": "stdout",
     "output_type": "stream",
     "text": [
      "True\n"
     ]
    }
   ],
   "source": [
    "#isinstance in class\n",
    "\n",
    "class demo:\n",
    "    a=10 \n",
    "\n",
    "x=demo()\n",
    "y=isinstance(x,demo) #used this because when there are two or more classes for rechecking\n",
    "print(y)"
   ]
  },
  {
   "cell_type": "code",
   "execution_count": null,
   "id": "945fd3a7",
   "metadata": {},
   "outputs": [
    {
     "name": "stdout",
     "output_type": "stream",
     "text": [
      "20\n",
      "True\n"
     ]
    }
   ],
   "source": [
    "class demo:\n",
    "    a=10 \n",
    "\n",
    "x=demo()\n",
    "demo.m=20\n",
    "y=isinstance(x,demo) #used this because when there are two or more classes for rechecking\n",
    "print(y)"
   ]
  },
  {
   "cell_type": "markdown",
   "id": "76e6bf88",
   "metadata": {},
   "source": [
    "# get attribute"
   ]
  },
  {
   "cell_type": "code",
   "execution_count": 18,
   "id": "4eb4f46f",
   "metadata": {},
   "outputs": [
    {
     "name": "stdout",
     "output_type": "stream",
     "text": [
      "10\n",
      "16\n"
     ]
    }
   ],
   "source": [
    "# to get attributes from a class\n",
    "\n",
    "class demo:\n",
    "    a=10 \n",
    "    b=16\n",
    "\n",
    "x=demo()\n",
    "getattr(demo,'a')\n",
    "print(x.a)\n",
    "print(x.b)"
   ]
  },
  {
   "cell_type": "markdown",
   "id": "c30e03c8",
   "metadata": {},
   "source": [
    "# set Atrribute"
   ]
  },
  {
   "cell_type": "code",
   "execution_count": null,
   "id": "19d780d3",
   "metadata": {},
   "outputs": [
    {
     "name": "stdout",
     "output_type": "stream",
     "text": [
      "29\n"
     ]
    }
   ],
   "source": [
    "#to give new variables for a class outside the class\n",
    "\n",
    "class demo:\n",
    "    a=10 \n",
    "    b=16\n",
    "\n",
    "x=demo()\n",
    "setattr(demo,'c',29) #setattr(classname,'varname',value)\n",
    "print(x.c)"
   ]
  },
  {
   "cell_type": "markdown",
   "id": "19e9f7ca",
   "metadata": {},
   "source": [
    "# del Attribute"
   ]
  },
  {
   "cell_type": "code",
   "execution_count": null,
   "id": "25b953a1",
   "metadata": {},
   "outputs": [],
   "source": []
  },
  {
   "cell_type": "code",
   "execution_count": null,
   "id": "f3168f19",
   "metadata": {},
   "outputs": [
    {
     "name": "stdout",
     "output_type": "stream",
     "text": [
      "20\n",
      "20\n",
      "30\n",
      "20\n"
     ]
    }
   ],
   "source": [
    "# to update a class variable\n",
    "\n",
    "class demo1:\n",
    "    a=10\n",
    "\n",
    "x=demo1()\n",
    "demo1.a=20  #changes in the class totally\n",
    "print(x.a)\n",
    "y=demo1()\n",
    "print(y.a)\n",
    "\n",
    "z=demo1()\n",
    "z.a=30      #only changed for z object not for other objects\n",
    "print(z.a) \n",
    "\n",
    "b=demo1\n",
    "print(b.a)"
   ]
  },
  {
   "cell_type": "code",
   "execution_count": 35,
   "id": "c6edda30",
   "metadata": {},
   "outputs": [
    {
     "name": "stdout",
     "output_type": "stream",
     "text": [
      "20000\n",
      "21200\n",
      "1.05\n",
      "abcc\n",
      "{'fname': 'nivas', 'lname': 'b', 'pay': 21200, 'email': 'nivas.b@comnpany.com', 'r_a': 1.06}\n",
      "{'fname': 'abc', 'lname': 'c', 'pay': 30000, 'email': 'abc.c@comnpany.com'}\n"
     ]
    }
   ],
   "source": [
    "class employee:\n",
    "    r_a=1.05\n",
    "\n",
    "    def __init__(self,fname,lname,pay):\n",
    "        self.fname=fname\n",
    "        self.lname=lname \n",
    "        self.pay=pay \n",
    "        self.email=fname+'.'+lname+'@comnpany.com'\n",
    "    \n",
    "    def fullname(self):\n",
    "        return '{}{}'.format(self.fname,self.lname)\n",
    "    \n",
    "    def app_raiase(self):\n",
    "        self.pay =int(self.pay*self.r_a)\n",
    "\n",
    "emp1=employee('nivas','b',20000)\n",
    "print(emp1.pay)\n",
    "emp1.r_a=1.06\n",
    "\n",
    "emp1.app_raiase()\n",
    "print(emp1.pay)\n",
    "\n",
    "emp2=employee('abc','c',30000)\n",
    "print(emp2.r_a)\n",
    "print(emp2.fullname())\n",
    "\n",
    "print(emp1.__dict__)\n",
    "print(emp2.__dict__)"
   ]
  },
  {
   "cell_type": "markdown",
   "id": "900ecfc2",
   "metadata": {},
   "source": [
    "# CLASS METHOD"
   ]
  },
  {
   "cell_type": "code",
   "execution_count": 53,
   "id": "d0940d0d",
   "metadata": {},
   "outputs": [
    {
     "name": "stdout",
     "output_type": "stream",
     "text": [
      "1.06 2\n",
      "1.06\n",
      "1.06\n"
     ]
    }
   ],
   "source": [
    "class employee:\n",
    "    r_a=1.05\n",
    "    interewst=1\n",
    "\n",
    "    def __init__(self,fname,lname,pay):\n",
    "        self.fname=fname\n",
    "        self.lname=lname \n",
    "        self.pay=pay \n",
    "        self.email=fname+'.'+lname+'@comnpany.com'\n",
    "    \n",
    "    def fullname(self):\n",
    "        return '{}{}'.format(self.fname,self.lname)\n",
    "    \n",
    "    def app_raiase(self):\n",
    "        self.pay =int(self.pay*self.r_a)\n",
    "    \n",
    "    @classmethod\n",
    "    def set_raise_amt(cls,amount,inter):\n",
    "        cls.r_a=amount\n",
    "        cls.interewst=inter\n",
    "\n",
    "emp1=employee('nivas','b',20000)\n",
    "emp2=employee('abc','c',30000)\n",
    "\n",
    "employee.set_raise_amt(1.06,2)\n",
    "\n",
    "print(employee.r_a,employee.interewst)\n",
    "print(emp1.r_a)\n",
    "print(emp2.r_a)"
   ]
  },
  {
   "cell_type": "code",
   "execution_count": 54,
   "id": "dff51594",
   "metadata": {},
   "outputs": [
    {
     "name": "stdout",
     "output_type": "stream",
     "text": [
      "1.05\n",
      "1.05\n",
      "1.05\n",
      "John.Doe@company.com\n",
      "40000\n"
     ]
    }
   ],
   "source": [
    "emp_str_1='John-Doe-40000'\n",
    "emp_str_2='Will-Smith-50000'\n",
    "emp_str_3='John-Adam-60000'\n",
    "\n",
    "\n",
    "# regular methods class methods and static methods\n",
    "\n",
    "class Employee:\n",
    "  raise_amount=1.04       #class variable\n",
    "\n",
    "  def __init__(self, first, last, pay):\n",
    "    self.first = first\n",
    "    self.last = last\n",
    "    self.pay = pay\n",
    "    self.email = first + '.' + last + '@company.com'\n",
    "\n",
    "  def fullname(self):       #regular method\n",
    "    return '{} {}'.format(self.first, self.last)\n",
    "\n",
    "  def apply_raise(self):\n",
    "    #self.pay = int(self.pay * 1.04)\n",
    "    self.pay=int(self.pay*self.raise_amount) # Employee.raise_amount\n",
    "\n",
    "  @classmethod\n",
    "  def set_raise_amt(cls,amount):\n",
    "    cls.raise_amount=amount\n",
    "\n",
    "  @classmethod\n",
    "  def from_string(cls,emp_str):\n",
    "    first,last,pay=emp_str.split('-')\n",
    "    return cls(first,last,pay)\n",
    "\n",
    "emp_1 = Employee('Coery',\"Schafer\",50000)\n",
    "emp_2 = Employee('Test','User',60000)\n",
    "\n",
    "#emp_1.set_raise_amt(1.05)    # a class method will work with a object\n",
    "Employee.set_raise_amt(1.05)\n",
    "\n",
    "print(Employee.raise_amount)\n",
    "print(emp_1.raise_amount)\n",
    "print(emp_2.raise_amount)\n",
    "\n",
    "new_emp_1=Employee.from_string(emp_str_1)\n",
    "print(new_emp_1.email)\n",
    "print(new_emp_1.pay)"
   ]
  },
  {
   "cell_type": "markdown",
   "id": "4a4549fd",
   "metadata": {},
   "source": [
    "# STATIC Method"
   ]
  },
  {
   "cell_type": "code",
   "execution_count": 52,
   "id": "aa930c94",
   "metadata": {},
   "outputs": [
    {
     "name": "stdout",
     "output_type": "stream",
     "text": [
      "False\n"
     ]
    }
   ],
   "source": [
    "class employeeee:\n",
    "    def __init__(self,fname,lname,age):\n",
    "        self.firstname=fname\n",
    "        self.lastname=lname\n",
    "        self.Age=age\n",
    "    \n",
    "    @classmethod\n",
    "    def to_print(cls,emp_str):\n",
    "        firstname,lastname,Age=emp_str.split('-')\n",
    "        return cls(firstname,lastname,Age)\n",
    "    \n",
    "    @staticmethod\n",
    "    def stacmet(day):\n",
    "        if day.weekday()==5 or day.weekday()==6:\n",
    "            return False\n",
    "        return True \n",
    "\n",
    "emp1=employeeee('NIVAS',\"B\",25000)\n",
    "\n",
    "import datetime\n",
    "m=datetime.date(2016,5,14)\n",
    "print(employeeee.stacmet(m))\n",
    "    \n"
   ]
  },
  {
   "cell_type": "code",
   "execution_count": null,
   "id": "75044b3a",
   "metadata": {},
   "outputs": [],
   "source": [
    "# Definition: A classmethod is a method that is bound to the class and not the instance of the class. It can modify class state that applies across all instances of the class.\n",
    "# Decorator: @classmethod\n",
    "# First Parameter: The first parameter is always cls, which refers to the class itself.\n",
    "# Usage: Useful when you need to access or modify class-level attributes or methods.\n",
    "\n",
    "# class MyClass:\n",
    "#     class_variable = \"Hello, Class!\"\n",
    "\n",
    "#     @classmethod\n",
    "#     def class_method(cls):\n",
    "#         return cls.class_variable\n",
    "\n",
    "# # Usage\n",
    "# print(MyClass.class_method())  # Output: Hello, Class!\n",
    "# staticmethod\n",
    "# Definition: A staticmethod is a method that does not receive an implicit first argument. It behaves like a regular function but belongs to the class's namespace.\n",
    "# Decorator: @staticmethod\n",
    "# First Parameter: It does not take self or cls as the first parameter.\n",
    "# Usage: Useful when you need a utility function that doesn't modify class or instance state.\n",
    "\n",
    "# class MyClass:\n",
    "#     @staticmethod\n",
    "#     def static_method():\n",
    "#         return \"Hello, Static!\"\n",
    "\n",
    "# # Usage\n",
    "# print(MyClass.static_method())  # Output: Hello, Static!\n",
    "# Key Differences\n",
    "# Binding:\n",
    "\n",
    "# classmethod: Bound to the class.\n",
    "# staticmethod: Not bound to the class or instance.\n",
    "# First Parameter:\n",
    "\n",
    "# classmethod: Takes cls as the first parameter.\n",
    "# staticmethod: Does not take self or cls.\n",
    "# Use Case:\n",
    "\n",
    "# classmethod: When you need to access or modify class-level data.\n",
    "# staticmethod: When you need a utility function that doesn't depend on class or instance data.\n",
    "# I hope this clarifies the differences for you! If you have any more questions or need further examples, feel free to ask."
   ]
  },
  {
   "cell_type": "markdown",
   "id": "f0cbb7fc",
   "metadata": {},
   "source": [
    "# INHERITANCE"
   ]
  },
  {
   "cell_type": "code",
   "execution_count": 55,
   "id": "6ecbcd88",
   "metadata": {},
   "outputs": [
    {
     "name": "stdout",
     "output_type": "stream",
     "text": [
      "base derived\n"
     ]
    }
   ],
   "source": [
    "#Single Inheritance\n",
    "\n",
    "class base():\n",
    "    a_name='base'\n",
    "\n",
    "class derived(base):\n",
    "    b_name='derived'\n",
    "\n",
    "x=derived()\n",
    "print(x.a_name,x.b_name)"
   ]
  },
  {
   "cell_type": "code",
   "execution_count": 60,
   "id": "bd17b6b9",
   "metadata": {},
   "outputs": [
    {
     "name": "stdout",
     "output_type": "stream",
     "text": [
      "HELLO I AM Nivas\n",
      "HELLO I AM RAM\n",
      "HELLO I AM RAM\n"
     ]
    }
   ],
   "source": [
    "class robot():\n",
    "    def __init__(self,n='RAM'):\n",
    "        self.n=n \n",
    "\n",
    "    def to_print(self):\n",
    "        print('HELLO I AM', self.n)\n",
    "    \n",
    "class derived(robot):\n",
    "    pass \n",
    "\n",
    "y=derived('Nivas')\n",
    "y.to_print()\n",
    "z=derived()\n",
    "z.to_print()\n",
    "x=robot()\n",
    "x.to_print()"
   ]
  },
  {
   "cell_type": "markdown",
   "id": "451d535b",
   "metadata": {},
   "source": [
    "# MULTI LEVEL INHERITANCE\n"
   ]
  },
  {
   "cell_type": "code",
   "execution_count": 61,
   "id": "e3ccb9d5",
   "metadata": {},
   "outputs": [
    {
     "name": "stdout",
     "output_type": "stream",
     "text": [
      "grsandfather father son\n"
     ]
    }
   ],
   "source": [
    "class gfather:\n",
    "    g_name='grsandfather'\n",
    "\n",
    "class father(gfather):\n",
    "    f_name='father'\n",
    "\n",
    "class son(father):\n",
    "    s_name='son'\n",
    "\n",
    "y=son()\n",
    "print(y.g_name,y.f_name,y.s_name)"
   ]
  },
  {
   "cell_type": "markdown",
   "id": "d0558fa0",
   "metadata": {},
   "source": [
    "# MUTIPLE INHERITANCE"
   ]
  },
  {
   "cell_type": "code",
   "execution_count": 62,
   "id": "6d7c30ad",
   "metadata": {},
   "outputs": [
    {
     "name": "stdout",
     "output_type": "stream",
     "text": [
      "father mother son\n"
     ]
    }
   ],
   "source": [
    "class father:\n",
    "    f_name='father'\n",
    "\n",
    "class mother:\n",
    "    m_name='mother'\n",
    "\n",
    "class son(father,mother):\n",
    "    s_name='son'\n",
    "\n",
    "x=son()\n",
    "print(x.f_name,x.m_name,x.s_name)"
   ]
  },
  {
   "cell_type": "markdown",
   "id": "b75ccd6b",
   "metadata": {},
   "source": [
    "# HIERARCHICAL INHERITANCE"
   ]
  },
  {
   "cell_type": "code",
   "execution_count": null,
   "id": "25d0ac3e",
   "metadata": {},
   "outputs": [
    {
     "name": "stdout",
     "output_type": "stream",
     "text": [
      "A CAR\n",
      "4\n"
     ]
    }
   ],
   "source": [
    "class vehicle:\n",
    "    def g_usage(self):\n",
    "        print('general usage is for transportation')\n",
    "\n",
    "class car(vehicle):\n",
    "    def __init__(self):\n",
    "        print('A CAR')\n",
    "        self.wheel=4 \n",
    "        self.roof=True\n",
    "    \n",
    "    def specific_usage(self):\n",
    "        print('FOR LONG DRIVES/TRIPS')\n",
    "\n",
    "class motercycle(vehicle):\n",
    "    def __init__(self):\n",
    "        print('BIKE')\n",
    "        self.wheel=2 \n",
    "        self.roof=False\n",
    "    \n",
    "    def specific_usage(self):\n",
    "        print(\"FOR DIALY USE\")\n",
    "    \n",
    "\n",
    "x=car()\n",
    "print(x.wheel)\n",
    "\n",
    "# print(x.wheel,x.roof,x.specific_usage(),x.g_usage())\n"
   ]
  },
  {
   "cell_type": "markdown",
   "id": "0970bb39",
   "metadata": {},
   "source": [
    "# METHOD OVERRIDDING USING SUPER KEYWORD"
   ]
  },
  {
   "cell_type": "code",
   "execution_count": 68,
   "id": "f22cb15a",
   "metadata": {},
   "outputs": [
    {
     "name": "stdout",
     "output_type": "stream",
     "text": [
      "HELLO CLASS\n",
      "HELLO DERIVED CLASS\n"
     ]
    }
   ],
   "source": [
    "class demo():\n",
    "    def __init__(self):\n",
    "        print('HELLO CLASS')\n",
    "    \n",
    "class demo1(demo):\n",
    "    def __init__(self):\n",
    "        super().__init__()\n",
    "        print('HELLO DERIVED CLASS')\n",
    "    \n",
    "d=demo1()\n"
   ]
  },
  {
   "cell_type": "code",
   "execution_count": 71,
   "id": "670a579a",
   "metadata": {},
   "outputs": [
    {
     "name": "stdout",
     "output_type": "stream",
     "text": [
      "ANIMAL SPECIES\n",
      "ANIMAL BREED\n",
      "DOG\n",
      "LAB\n"
     ]
    }
   ],
   "source": [
    "class Animal():\n",
    "    def __init__(self,species):\n",
    "        self.s=species\n",
    "        print('ANIMAL SPECIES')\n",
    "    \n",
    "class BREED(Animal):\n",
    "    def __init__(self,breed):\n",
    "        super().__init__('DOG')\n",
    "        self.b=breed\n",
    "        print('ANIMAL BREED')\n",
    "\n",
    "x=BREED(\"LAB\")\n",
    "print(x.s)\n",
    "print(x.b)"
   ]
  },
  {
   "cell_type": "code",
   "execution_count": 72,
   "id": "dc6316dd",
   "metadata": {},
   "outputs": [
    {
     "name": "stdout",
     "output_type": "stream",
     "text": [
      "ANIMAL SPECIES\n",
      "ANIMAL BREED\n"
     ]
    }
   ],
   "source": [
    "class Animal():\n",
    "    def __init__(self,species):\n",
    "        self.s=species\n",
    "        print('ANIMAL SPECIES')\n",
    "    \n",
    "class BREED(Animal):\n",
    "    def __init__(self,breed,spec):\n",
    "        self.spec=spec\n",
    "        super().__init__(spec)\n",
    "        self.b=breed\n",
    "        print('ANIMAL BREED')\n",
    "\n",
    "x=BREED(\"LAB\",'DOG')"
   ]
  },
  {
   "cell_type": "code",
   "execution_count": 82,
   "id": "836cdf61",
   "metadata": {},
   "outputs": [
    {
     "name": "stdout",
     "output_type": "stream",
     "text": [
      "ANIMAL SPECIES\n",
      "ANIMAL BREED\n"
     ]
    },
    {
     "data": {
      "text/plain": [
       "'Lucky'"
      ]
     },
     "execution_count": 82,
     "metadata": {},
     "output_type": "execute_result"
    }
   ],
   "source": [
    "class Animal():\n",
    "    def __init__(self,species,name):\n",
    "        self.s=species\n",
    "        self.n=name\n",
    "        print('ANIMAL SPECIES')\n",
    "    \n",
    "class BREED(Animal):\n",
    "    def __init__(self,breed,spec,name):\n",
    "        self.spec=spec\n",
    "        super().__init__(spec,name)\n",
    "        self.b=breed\n",
    "        print('ANIMAL BREED')\n",
    "\n",
    "x=BREED(\"LAB\",'DOG','Lucky')\n",
    "x.n"
   ]
  },
  {
   "cell_type": "markdown",
   "id": "023e64e3",
   "metadata": {},
   "source": [
    "# ISSUBCLASS"
   ]
  },
  {
   "cell_type": "code",
   "execution_count": 75,
   "id": "cba2e405",
   "metadata": {},
   "outputs": [
    {
     "name": "stdout",
     "output_type": "stream",
     "text": [
      "True\n",
      "False\n"
     ]
    }
   ],
   "source": [
    "class calculation1():\n",
    "    def summation(self,a,b):\n",
    "        return a+b\n",
    "\n",
    "class calculation2:\n",
    "    def multiple(self,a,b):\n",
    "        return a*b \n",
    "\n",
    "class derived(calculation1,calculation2):\n",
    "    def divide(self,a,b):\n",
    "        return a/b \n",
    "\n",
    "f=derived()\n",
    "print(issubclass(derived,calculation1))\n",
    "print(issubclass(calculation1,calculation2))"
   ]
  },
  {
   "cell_type": "markdown",
   "id": "0a81d4c3",
   "metadata": {},
   "source": [
    "# TRICKY QUESTION USING SUPER"
   ]
  },
  {
   "cell_type": "code",
   "execution_count": 92,
   "id": "2c7a39e8",
   "metadata": {},
   "outputs": [
    {
     "name": "stdout",
     "output_type": "stream",
     "text": [
      "INTIAL A\n",
      "INTIAL C\n",
      "INTIAL B\n",
      "INTIAL D\n",
      "Help on D in module __main__ object:\n",
      "\n",
      "class D(B, C)\n",
      " |  Method resolution order:\n",
      " |      D\n",
      " |      B\n",
      " |      C\n",
      " |      A\n",
      " |      builtins.object\n",
      " |\n",
      " |  Methods defined here:\n",
      " |\n",
      " |  __init__(self)\n",
      " |      Initialize self.  See help(type(self)) for accurate signature.\n",
      " |\n",
      " |  ----------------------------------------------------------------------\n",
      " |  Data descriptors inherited from A:\n",
      " |\n",
      " |  __dict__\n",
      " |      dictionary for instance variables\n",
      " |\n",
      " |  __weakref__\n",
      " |      list of weak references to the object\n",
      "\n"
     ]
    }
   ],
   "source": [
    "class A:\n",
    "    def __init__(self):\n",
    "        print('INTIAL A')\n",
    "\n",
    "class B(A):\n",
    "    def __init__(self):\n",
    "        super().__init__() \n",
    "        print('INTIAL B')\n",
    "\n",
    "class C(A):\n",
    "    def __init__(self):\n",
    "        super().__init__() \n",
    "        print('INTIAL C')\n",
    "\n",
    "class D(B,C):\n",
    "    def __init__(self):\n",
    "        super().__init__() \n",
    "        print('INTIAL D')\n",
    "\n",
    "x=D()\n",
    "help(x)"
   ]
  },
  {
   "cell_type": "code",
   "execution_count": 110,
   "id": "6353fc7c",
   "metadata": {},
   "outputs": [
    {
     "name": "stdout",
     "output_type": "stream",
     "text": [
      "INTIAL B\n",
      "nivas\n",
      "INTIAL D\n"
     ]
    }
   ],
   "source": [
    "class B():\n",
    "    def __init__(self,name):\n",
    "        self.name=name\n",
    "        print('INTIAL B')\n",
    "        print(name)\n",
    "\n",
    "class C():\n",
    "    def __init__(self,name):\n",
    "        self.name=name\n",
    "        print('INTIAL C')\n",
    "        print(name)\n",
    "\n",
    "class D(B,C):\n",
    "    def __init__(self,name):\n",
    "        super().__init__(name) \n",
    "        print('INTIAL D')\n",
    "        \n",
    "\n",
    "x=D('nivas')\n"
   ]
  },
  {
   "cell_type": "markdown",
   "id": "b2ef98a4",
   "metadata": {},
   "source": [
    "# POLYMORPHISM OR METHOD OVERLOADING"
   ]
  },
  {
   "cell_type": "code",
   "execution_count": null,
   "id": "fb77a022",
   "metadata": {},
   "outputs": [],
   "source": [
    "def sum(a=None, b=None, c=None):\n",
    "    if a!=None and b!=None and c!=None:\n",
    "        c = a+b+c\n",
    "    elif a!=None and b!=None:\n",
    "        c = a*b\n",
    "    else:\n",
    "        c = a\n",
    "    print(c)\n",
    "a = int(input(\"a=\"))\n",
    "sum(a, 20, 30)\n",
    "sum(10, 20)\n",
    "sum(10)"
   ]
  },
  {
   "cell_type": "code",
   "execution_count": null,
   "id": "93c0c278",
   "metadata": {},
   "outputs": [],
   "source": [
    "# Function to take multiple arguments\n",
    " \n",
    "def add(datatype, *args):\n",
    "    if datatype=='int':\n",
    "        answer = 0\n",
    " \n",
    "    if datatype =='str':\n",
    "        answer = ''\n",
    " \n",
    "    #Traverse through the arguments\n",
    "    for x in args:\n",
    "        answer = answer+x\n",
    "    print(answer)\n",
    " \n",
    "#Integer\n",
    "add('int', 5, 6)\n",
    " \n",
    "#String\n",
    "add('str', 'Hi ', 'Geeks')# Function to take multiple arguments"
   ]
  },
  {
   "cell_type": "code",
   "execution_count": 111,
   "id": "10b8623e",
   "metadata": {},
   "outputs": [
    {
     "name": "stdout",
     "output_type": "stream",
     "text": [
      "Defaulting to user installation because normal site-packages is not writeable\n",
      "Collecting multipledispatch\n",
      "  Downloading multipledispatch-1.0.0-py3-none-any.whl.metadata (3.8 kB)\n",
      "Downloading multipledispatch-1.0.0-py3-none-any.whl (12 kB)\n",
      "Installing collected packages: multipledispatch\n",
      "Successfully installed multipledispatch-1.0.0\n",
      "Note: you may need to restart the kernel to use updated packages.\n"
     ]
    },
    {
     "name": "stderr",
     "output_type": "stream",
     "text": [
      "\n",
      "[notice] A new release of pip is available: 24.0 -> 25.0.1\n",
      "[notice] To update, run: python.exe -m pip install --upgrade pip\n"
     ]
    }
   ],
   "source": [
    "pip install multipledispatch\n"
   ]
  },
  {
   "cell_type": "code",
   "execution_count": null,
   "id": "2fe5feaa",
   "metadata": {},
   "outputs": [
    {
     "name": "stdout",
     "output_type": "stream",
     "text": [
      "30\n",
      "7.2\n",
      "17.0\n"
     ]
    }
   ],
   "source": [
    "from multipledispatch import dispatch  #overloading\n",
    "\n",
    "@dispatch(int,int) #decorator \n",
    "def product(f,s):\n",
    "    r=f*s\n",
    "    print(r)\n",
    "\n",
    "@dispatch(float,int,int)\n",
    "def product(f,s,t):\n",
    "    r=f+s+t \n",
    "    print(r)\n",
    "\n",
    "@dispatch(float,float,int)\n",
    "def product(f,s,t):\n",
    "    r=f+s+t\n",
    "    print(r)\n",
    "\n",
    "\n",
    "product(5,6)\n",
    "product(2.2,2,3)\n",
    "product(5.5,5.5,6)\n"
   ]
  },
  {
   "cell_type": "code",
   "execution_count": null,
   "id": "6edd7556",
   "metadata": {},
   "outputs": [],
   "source": [
    "# overloading \n",
    "\n",
    "# 1.methods or functions must have the same name and diff signatures(parameters)\n",
    "# 2.example of compile time polymorphism\n",
    "# 3.inheritance may or may not be required \n",
    "# 4.used in order to add more to be the behavior of methods \n",
    "# 5.no need of more than of class \n",
    "\n",
    "# overriding \n",
    "\n",
    "# 1.methods or functions must have the same name and same signatures(parameters)\n",
    "# 2.example of run time polymorphism\n",
    "# 3.inheritance always required\n",
    "# 4.used in order to change the behavior of exist methods \n",
    "# 5. need of atleast of two classes"
   ]
  },
  {
   "cell_type": "markdown",
   "id": "272ae55f",
   "metadata": {},
   "source": [
    "# ABSTRACTIION"
   ]
  },
  {
   "cell_type": "code",
   "execution_count": 120,
   "id": "0df078bd",
   "metadata": {},
   "outputs": [
    {
     "name": "stdout",
     "output_type": "stream",
     "text": [
      "EDGES IN TRIANGLE 4\n",
      "I HAVE 3 SIDES\n"
     ]
    }
   ],
   "source": [
    "from abc import ABC,abstractmethod \n",
    "\n",
    "class polygon(ABC):\n",
    "    def __init__(self,edge):\n",
    "        self.edge=edge\n",
    "    \n",
    "    @abstractmethod\n",
    "    def sides(self,edge):\n",
    "        self.edge=edge \n",
    "        if edge >=3:\n",
    "            pass \n",
    "\n",
    "class triangle(polygon):\n",
    "    def sides(self):\n",
    "        print('I HAVE 3 SIDES')\n",
    "    \n",
    "    def __init__(self, edge):\n",
    "        super().__init__(edge)\n",
    "        print('EDGES IN TRIANGLE',edge)\n",
    "        \n",
    "    \n",
    "x=triangle(4)\n",
    "x.sides()"
   ]
  },
  {
   "cell_type": "markdown",
   "id": "4e9bd1c6",
   "metadata": {},
   "source": [
    "# CUSTOM DATATYPES"
   ]
  },
  {
   "cell_type": "code",
   "execution_count": null,
   "id": "394a286b",
   "metadata": {},
   "outputs": [],
   "source": [
    "#USED FOR TIME COMPLEXITY AND SPACE COMPLEXITY"
   ]
  },
  {
   "cell_type": "code",
   "execution_count": null,
   "id": "f2d38336",
   "metadata": {},
   "outputs": [],
   "source": []
  }
 ],
 "metadata": {
  "kernelspec": {
   "display_name": "Python 3",
   "language": "python",
   "name": "python3"
  },
  "language_info": {
   "codemirror_mode": {
    "name": "ipython",
    "version": 3
   },
   "file_extension": ".py",
   "mimetype": "text/x-python",
   "name": "python",
   "nbconvert_exporter": "python",
   "pygments_lexer": "ipython3",
   "version": "3.12.3"
  }
 },
 "nbformat": 4,
 "nbformat_minor": 5
}
