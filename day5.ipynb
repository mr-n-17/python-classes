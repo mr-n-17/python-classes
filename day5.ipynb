{
 "cells": [
  {
   "cell_type": "code",
   "execution_count": 3,
   "metadata": {},
   "outputs": [
    {
     "name": "stdout",
     "output_type": "stream",
     "text": [
      "1\n",
      "blue\n",
      "dave\n"
     ]
    }
   ],
   "source": [
    "name = 'dave'\n",
    "c=0 \n",
    "\n",
    "def first():\n",
    "    clr='red' \n",
    "    global c\n",
    "    c+=1\n",
    "    print(c)\n",
    "\n",
    "    def second(name):\n",
    "        nonlocal clr \n",
    "        clr='blue'\n",
    "        print(clr)\n",
    "\n",
    "        print(name)\n",
    "    \n",
    "    second('dave')\n",
    "\n",
    "first()"
   ]
  },
  {
   "cell_type": "markdown",
   "metadata": {},
   "source": [
    "# iterator"
   ]
  },
  {
   "cell_type": "code",
   "execution_count": null,
   "metadata": {},
   "outputs": [
    {
     "name": "stdout",
     "output_type": "stream",
     "text": [
      "<str_ascii_iterator object at 0x103e67d30>\n"
     ]
    },
    {
     "data": {
      "text/plain": [
       "'h'"
      ]
     },
     "execution_count": 1,
     "metadata": {},
     "output_type": "execute_result"
    }
   ],
   "source": [
    "# for i in [1,2,3]:\n",
    "#     print(i)\n",
    "\n",
    "l='hello'\n",
    "a=iter(l)\n",
    "next(a)\n",
    "\n",
    "\n",
    "# m='kling'\n",
    "# f=iter(m)\n",
    "# # print(*f)\n",
    "# print(list(f))"
   ]
  },
  {
   "cell_type": "code",
   "execution_count": 19,
   "metadata": {},
   "outputs": [
    {
     "name": "stdout",
     "output_type": "stream",
     "text": [
      "0 1\n",
      "1 2\n",
      "2 3\n",
      "(0, 1)\n",
      "(1, 2)\n",
      "[(0, 1), (1, 2), (2, 3)]\n"
     ]
    },
    {
     "data": {
      "text/plain": [
       "[(2, 1), (3, 2), (4, 3)]"
      ]
     },
     "execution_count": 19,
     "metadata": {},
     "output_type": "execute_result"
    }
   ],
   "source": [
    "#enumerate \n",
    "\n",
    "a=[1,2,3]\n",
    "for i,v in enumerate(a):\n",
    "    print(i,v)\n",
    "\n",
    "b=enumerate(a)\n",
    "print(next(b))\n",
    "print(next(b))\n",
    "\n",
    "print(list(enumerate(a)))\n",
    "\n",
    "list(enumerate(a,start=2))"
   ]
  },
  {
   "cell_type": "markdown",
   "metadata": {},
   "source": [
    "# GENERATORS"
   ]
  },
  {
   "cell_type": "code",
   "execution_count": 20,
   "metadata": {},
   "outputs": [
    {
     "name": "stdout",
     "output_type": "stream",
     "text": [
      "0\n",
      "1\n",
      "2\n"
     ]
    }
   ],
   "source": [
    "#yield \n",
    "\n",
    "def infinite():\n",
    "    x=0\n",
    "    while True:\n",
    "        yield x\n",
    "        x+=1 \n",
    "a=infinite()\n",
    "print(next(a))\n",
    "print(next(a))\n",
    "print(next(a))"
   ]
  },
  {
   "cell_type": "code",
   "execution_count": 29,
   "metadata": {},
   "outputs": [
    {
     "name": "stdout",
     "output_type": "stream",
     "text": [
      "1 2 3\n"
     ]
    }
   ],
   "source": [
    "m={1,2,3}\n",
    "g=iter(m)\n",
    "print(*g)"
   ]
  },
  {
   "cell_type": "code",
   "execution_count": 31,
   "metadata": {},
   "outputs": [
    {
     "name": "stdout",
     "output_type": "stream",
     "text": [
      "1\n",
      "2\n"
     ]
    }
   ],
   "source": [
    "#generate mu,bers from 1 to N using yield \n",
    "\n",
    "\n",
    "def first(x):\n",
    "    m=1\n",
    "    while m<=x:\n",
    "        yield m \n",
    "        m+=1 \n",
    "\n",
    "a=first(5)\n",
    "print(next(a))\n",
    "print(next(a))\n",
    " \n"
   ]
  },
  {
   "cell_type": "code",
   "execution_count": 37,
   "metadata": {},
   "outputs": [
    {
     "name": "stdout",
     "output_type": "stream",
     "text": [
      "0\n",
      "1\n",
      "1\n",
      "2\n",
      "3\n",
      "5\n",
      "8\n",
      "13\n",
      "21\n",
      "34\n"
     ]
    }
   ],
   "source": [
    "#fibonacci using generator\n",
    "\n",
    "def fib():\n",
    "    a=0;b=1\n",
    "    \n",
    "    while True:\n",
    "        yield a\n",
    "        c=a+b\n",
    "        a=b \n",
    "        b=c \n",
    "m=fib()\n",
    "for i in range(10):\n",
    "    print(next(m))"
   ]
  },
  {
   "cell_type": "code",
   "execution_count": 42,
   "metadata": {},
   "outputs": [
    {
     "name": "stdout",
     "output_type": "stream",
     "text": [
      "2\n",
      "4\n"
     ]
    }
   ],
   "source": [
    "#generate even numbers from list using yield \n",
    "\n",
    "l=[i for i in range(1,16)]\n",
    "\n",
    "def check(num):\n",
    "    for i in num:\n",
    "        if i%2==0:\n",
    "            yield i \n",
    "\n",
    "a=check(l)\n",
    "print(next(a))\n",
    "print(next(a))"
   ]
  },
  {
   "cell_type": "code",
   "execution_count": null,
   "metadata": {},
   "outputs": [
    {
     "name": "stdout",
     "output_type": "stream",
     "text": [
      "1\n",
      "3\n"
     ]
    }
   ],
   "source": [
    "l=[i for i in range(1,16)]\n",
    "\n",
    "def check(num):\n",
    "    for i in num:\n",
    "        if i%2!=0:\n",
    "            yield i \n",
    "\n",
    "a=check(l)\n",
    "print(next(a))\n",
    "print(next(a))"
   ]
  },
  {
   "cell_type": "markdown",
   "metadata": {},
   "source": [
    "# DECORATORS"
   ]
  },
  {
   "cell_type": "code",
   "execution_count": 46,
   "metadata": {},
   "outputs": [
    {
     "name": "stdout",
     "output_type": "stream",
     "text": [
      "Before\n",
      "OH MY\n",
      "After\n"
     ]
    }
   ],
   "source": [
    "def first(func):\n",
    "    def second():\n",
    "        print('Before')\n",
    "        func()\n",
    "        print(\"After\")\n",
    "    return second\n",
    "\n",
    "@first #decorator \n",
    "def third():\n",
    "    print('OH MY')\n",
    "\n",
    "third()"
   ]
  },
  {
   "cell_type": "code",
   "execution_count": null,
   "metadata": {},
   "outputs": [
    {
     "name": "stdout",
     "output_type": "stream",
     "text": [
      "Before third\n",
      "OH MY\n"
     ]
    }
   ],
   "source": [
    "#without decorator\n",
    "\n",
    "def first(calling):\n",
    "    def second():\n",
    "        print('Before',calling.__name__)\n",
    "        return calling()\n",
    "    return second\n",
    "\n",
    "def third():\n",
    "    print('OH MY')\n",
    "\n",
    "a=first(third)\n",
    "a()"
   ]
  },
  {
   "cell_type": "code",
   "execution_count": 49,
   "metadata": {},
   "outputs": [
    {
     "name": "stdout",
     "output_type": "stream",
     "text": [
      "Function Executed\n",
      "Function Executed\n",
      "2\n"
     ]
    }
   ],
   "source": [
    "#with arguments\n",
    "\n",
    "def copied(func):\n",
    "    def wrap(*args,**kwargs):\n",
    "        wrap.count+=1 \n",
    "        return func(*args,**kwargs)\n",
    "    wrap.count=0\n",
    "    return wrap \n",
    "\n",
    "@copied\n",
    "\n",
    "def calling():\n",
    "    print('Function Executed')\n",
    "\n",
    "calling()\n",
    "calling()\n",
    "\n",
    "print(calling.count)"
   ]
  },
  {
   "cell_type": "code",
   "execution_count": 51,
   "metadata": {},
   "outputs": [
    {
     "name": "stdout",
     "output_type": "stream",
     "text": [
      "OH MY KADAVULE\n",
      "(123, 'A number')\n"
     ]
    }
   ],
   "source": [
    "# more decorators \n",
    "\n",
    "def checking(func):\n",
    "    def wrap(*args,**kwargs):\n",
    "        r=func(*args,**kwargs)\n",
    "        if isinstance(r,str):\n",
    "            return r.upper()\n",
    "        return r,'A number'\n",
    "    return wrap \n",
    "\n",
    "@checking\n",
    "def forstr():\n",
    "    return 'oh my kadavule'\n",
    "\n",
    "@checking \n",
    "def forint():\n",
    "    return 123\n",
    "\n",
    "print(forstr())\n",
    "print(forint())"
   ]
  },
  {
   "cell_type": "code",
   "execution_count": 2,
   "metadata": {},
   "outputs": [
    {
     "name": "stdout",
     "output_type": "stream",
     "text": [
      "200\n"
     ]
    }
   ],
   "source": [
    "#chaining decorator \n",
    "\n",
    "def decor1(func):\n",
    "    def wrap1(*args):\n",
    "        x=func(*args)\n",
    "        return x+x \n",
    "    return wrap1\n",
    "def decor2(func):\n",
    "    def wrap2(*args):\n",
    "        x=func(*args)\n",
    "        return x*x \n",
    "    return wrap2\n",
    "\n",
    "@decor1\n",
    "@decor2 \n",
    "\n",
    "def check():\n",
    "    return 10\n",
    "\n",
    "print(check())"
   ]
  },
  {
   "cell_type": "code",
   "execution_count": 54,
   "metadata": {},
   "outputs": [
    {
     "name": "stdout",
     "output_type": "stream",
     "text": [
      "25\n",
      "JIKLMN\n",
      "Expected <class 'int'>, got <class 'str'>\n"
     ]
    }
   ],
   "source": [
    "#polymorphism using decorator\n",
    "\n",
    "\n",
    "def typecheck(argm):\n",
    "    def deco(func):\n",
    "        def wrap(args):\n",
    "            if not isinstance(args, argm):\n",
    "                return TypeError(f'Expected {argm}, got {type(args)}')\n",
    "            return func(args)\n",
    "        return wrap\n",
    "    return deco \n",
    "\n",
    "@typecheck(int)\n",
    "def square(n):\n",
    "    return n*n\n",
    "\n",
    "@typecheck(str)\n",
    "def shout(text):\n",
    "    return text.upper()\n",
    "\n",
    "print(square(5))\n",
    "print(shout(\"jiklmn\")) \n",
    "\n",
    "print(square('njimgh'))"
   ]
  },
  {
   "cell_type": "code",
   "execution_count": 56,
   "metadata": {},
   "outputs": [
    {
     "name": "stdout",
     "output_type": "stream",
     "text": [
      "156\n"
     ]
    }
   ],
   "source": [
    "#double the vaalue using decorator\n",
    "\n",
    "def doublethe(func):\n",
    "    def wrap(*args):\n",
    "        x=func(*args)\n",
    "        return 2*x \n",
    "    return wrap \n",
    "\n",
    "@doublethe \n",
    "\n",
    "def doubleman(n):\n",
    "    return n \n",
    "\n",
    "print(doubleman(int(input(\"enter the number\"))))\n"
   ]
  },
  {
   "cell_type": "code",
   "execution_count": 70,
   "metadata": {},
   "outputs": [
    {
     "name": "stdout",
     "output_type": "stream",
     "text": [
      "///////////\n",
      "nivas\n",
      "/////\n"
     ]
    }
   ],
   "source": [
    "#add line befor and afterline after each function\n",
    "\n",
    "def lineone(func):\n",
    "    def linetwo(*args):\n",
    "        x=func(*args)\n",
    "        print('/'*((len(x))))\n",
    "        return x\n",
    "    # print('///////')\n",
    "    return linetwo\n",
    "\n",
    "@lineone\n",
    "def check():\n",
    "    x=input()\n",
    "    temp = ''\n",
    "    for i in range(len(x)):\n",
    "        temp+='/'\n",
    "    return x+'\\n'+temp\n",
    "\n",
    "print(check())\n",
    "\n"
   ]
  },
  {
   "cell_type": "markdown",
   "metadata": {},
   "source": [
    "# LAMBDA\n"
   ]
  },
  {
   "cell_type": "code",
   "execution_count": 72,
   "metadata": {},
   "outputs": [
    {
     "name": "stdout",
     "output_type": "stream",
     "text": [
      "savin\n"
     ]
    }
   ],
   "source": [
    "#reverse a string \n",
    "\n",
    "a=input()\n",
    "c= lambda b : a[::-1]\n",
    "print(c(a))"
   ]
  },
  {
   "cell_type": "code",
   "execution_count": null,
   "metadata": {},
   "outputs": [
    {
     "name": "stdout",
     "output_type": "stream",
     "text": [
      "6\n"
     ]
    }
   ],
   "source": [
    "#maximum of two numbers \n",
    "\n",
    "a,b=map(int,input().split())\n",
    "c=lambda a,b : a if a>=b else b\n",
    "print(c(a,b))"
   ]
  },
  {
   "cell_type": "code",
   "execution_count": 77,
   "metadata": {},
   "outputs": [
    {
     "name": "stdout",
     "output_type": "stream",
     "text": [
      "7\n"
     ]
    }
   ],
   "source": [
    "#maximum of three \n",
    "\n",
    "a,b,c=map(int,input().split())\n",
    "d=lambda a,b,c : a if a>b and a>c else (b if b>c and b>a else c )\n",
    "print(d(a,b,c))"
   ]
  },
  {
   "cell_type": "code",
   "execution_count": 86,
   "metadata": {},
   "outputs": [
    {
     "name": "stdout",
     "output_type": "stream",
     "text": [
      "[2, 2, 34, 6, 4, 456, 6, 56]\n"
     ]
    }
   ],
   "source": [
    "l=[1,2,2,3,34,43,5,5,6,67,7,4,3,456,5,6,56,5]\n",
    "c= [ i for i in l if (lambda i : (i%2==0))(i)]\n",
    "print(c)\n"
   ]
  },
  {
   "cell_type": "code",
   "execution_count": 87,
   "metadata": {},
   "outputs": [
    {
     "name": "stdout",
     "output_type": "stream",
     "text": [
      "['a', 'aaaaa', 'ab', 'abc']\n"
     ]
    }
   ],
   "source": [
    "l=['a','abc','ab','aaaaa']\n",
    "c= lambda l : sorted(l)\n",
    "\n",
    "print(c(l))"
   ]
  },
  {
   "cell_type": "code",
   "execution_count": 89,
   "metadata": {},
   "outputs": [
    {
     "name": "stdout",
     "output_type": "stream",
     "text": [
      "{'pear': 1, 'orange': 2, 'banana': 3, 'apple': 4}\n"
     ]
    }
   ],
   "source": [
    "my_dict = {'banana': 3, 'apple': 4, 'pear': 1, 'orange': 2}\n",
    "sorted_by_values_desc = dict(sorted(my_dict.items(), key=lambda item: item[1]))\n",
    "print(sorted_by_values_desc)"
   ]
  }
 ],
 "metadata": {
  "kernelspec": {
   "display_name": "Python 3",
   "language": "python",
   "name": "python3"
  },
  "language_info": {
   "codemirror_mode": {
    "name": "ipython",
    "version": 3
   },
   "file_extension": ".py",
   "mimetype": "text/x-python",
   "name": "python",
   "nbconvert_exporter": "python",
   "pygments_lexer": "ipython3",
   "version": "3.11.1"
  }
 },
 "nbformat": 4,
 "nbformat_minor": 2
}
