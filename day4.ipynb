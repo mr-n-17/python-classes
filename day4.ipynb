{
 "cells": [
  {
   "cell_type": "markdown",
   "metadata": {},
   "source": [
    "# Recursive"
   ]
  },
  {
   "cell_type": "code",
   "execution_count": 6,
   "metadata": {},
   "outputs": [
    {
     "name": "stdout",
     "output_type": "stream",
     "text": [
      "three\n",
      "two\n",
      "one\n"
     ]
    }
   ],
   "source": [
    "def function3():\n",
    "    print('three')\n",
    "\n",
    "def function2():\n",
    "    function3()\n",
    "    print('two')\n",
    "\n",
    "def function1():\n",
    "    function2()\n",
    "    print('one')\n",
    "\n",
    "function1()"
   ]
  },
  {
   "cell_type": "code",
   "execution_count": 5,
   "metadata": {},
   "outputs": [
    {
     "data": {
      "text/plain": [
       "'one'"
      ]
     },
     "execution_count": 5,
     "metadata": {},
     "output_type": "execute_result"
    }
   ],
   "source": [
    "def function3():\n",
    "    return 'three'\n",
    "\n",
    "def function2():\n",
    "    function3()\n",
    "    return 'two'\n",
    "\n",
    "def function1():\n",
    "    function2()\n",
    "    return 'one'\n",
    "\n",
    "function1()"
   ]
  },
  {
   "cell_type": "code",
   "execution_count": 7,
   "metadata": {},
   "outputs": [
    {
     "name": "stdout",
     "output_type": "stream",
     "text": [
      "0 1 1 2 3 5 8 13 21 34 "
     ]
    }
   ],
   "source": [
    "#recursive fibonacci\n",
    "\n",
    "def fib(a):\n",
    "    if a==0:\n",
    "        return 0\n",
    "    if a==1:\n",
    "        return 1\n",
    "    return fib(a-1)+fib(a-2)\n",
    "\n",
    "\n",
    "n=int(input())\n",
    "for i in range(n):\n",
    "    print(fib(i),end=' ')"
   ]
  },
  {
   "cell_type": "code",
   "execution_count": 11,
   "metadata": {},
   "outputs": [
    {
     "name": "stdout",
     "output_type": "stream",
     "text": [
      "[3]\n"
     ]
    }
   ],
   "source": [
    "l=[1,2,3]\n",
    "print(l[1:][1:])"
   ]
  },
  {
   "cell_type": "code",
   "execution_count": 15,
   "metadata": {},
   "outputs": [
    {
     "name": "stdout",
     "output_type": "stream",
     "text": [
      "3\n"
     ]
    }
   ],
   "source": [
    "#counting using recursive \n",
    "\n",
    "\n",
    "def cont2(a):\n",
    "    if a==0:\n",
    "        return 0\n",
    "    return 1 + cont2((a//10)) \n",
    "    \n",
    "\n",
    "l=120\n",
    "print(cont2(l))\n",
    "\n"
   ]
  },
  {
   "cell_type": "code",
   "execution_count": null,
   "metadata": {},
   "outputs": [
    {
     "name": "stdout",
     "output_type": "stream",
     "text": [
      "savin\n"
     ]
    }
   ],
   "source": [
    "#reverse using recursion\n",
    "\n",
    "def ref(a):\n",
    "    if len(a)==1:\n",
    "        return a\n",
    "    return a[-1]+ref(a[:-1])\n",
    "l='nivas'\n",
    "print(ref(l))"
   ]
  },
  {
   "cell_type": "code",
   "execution_count": 44,
   "metadata": {},
   "outputs": [
    {
     "name": "stdout",
     "output_type": "stream",
     "text": [
      "10\n"
     ]
    }
   ],
   "source": [
    "#sum of numbers\n",
    "\n",
    "def sun(a):\n",
    "    if a==0:\n",
    "        return 0\n",
    "    return a%10 + sun((a//10))\n",
    "\n",
    "m=1234 \n",
    "print(sun(m))\n"
   ]
  },
  {
   "cell_type": "code",
   "execution_count": null,
   "metadata": {},
   "outputs": [
    {
     "name": "stdout",
     "output_type": "stream",
     "text": [
      "[1, 4, 9, 16]\n"
     ]
    }
   ],
   "source": [
    "def square(num):\n",
    "    return num*num\n",
    "\n",
    "n=square #firstclass function\n",
    "\n",
    "\n",
    "def abc(func,a):\n",
    "    l=[]\n",
    "    for i in a:\n",
    "        l.append(func(i))\n",
    "    return l \n",
    "x=abc(square,[1,2,3,4]) \n",
    "print(x)"
   ]
  },
  {
   "cell_type": "markdown",
   "metadata": {},
   "source": [
    "# NESTED FUNCTION"
   ]
  },
  {
   "cell_type": "code",
   "execution_count": null,
   "metadata": {},
   "outputs": [
    {
     "name": "stdout",
     "output_type": "stream",
     "text": [
      "no.2\n"
     ]
    }
   ],
   "source": [
    "def a1(a):\n",
    "    def a2(b):\n",
    "        print('log',a)\n",
    "        print(b)\n",
    "    return a2\n",
    "x=a1('hi') # x is a2 not a1 as in a1() return statement calling a2 so x is a2 if in a1 return is 'bc' then x is 'bc'\n",
    "x('no.2')"
   ]
  },
  {
   "cell_type": "code",
   "execution_count": 61,
   "metadata": {},
   "outputs": [
    {
     "name": "stdout",
     "output_type": "stream",
     "text": [
      "6\n",
      "2\n"
     ]
    }
   ],
   "source": [
    "import logging \n",
    "logging.basicConfig(filename='example.log',level=logging.INFO)\n",
    "\n",
    "def logger(func):\n",
    "    def log_func(*args):\n",
    "        logging.info(\n",
    "            'running \"()\" with arguments {}'.format(func.__name__, args)\n",
    "        )\n",
    "        print(func(*args))\n",
    "    return log_func \n",
    "\n",
    "def add(x,y):\n",
    "    return x+y \n",
    "\n",
    "def sub(x,y):\n",
    "    return x-y \n",
    "\n",
    "a1=logger(add)\n",
    "a2=logger(sub)\n",
    "\n",
    "a1(3,3)\n",
    "a2(5,3)\n",
    "\n"
   ]
  },
  {
   "cell_type": "code",
   "execution_count": 2,
   "metadata": {},
   "outputs": [
    {
     "name": "stdout",
     "output_type": "stream",
     "text": [
      "[1, 2, 3, 4, 5, 6]\n"
     ]
    }
   ],
   "source": [
    "#flatten list \n",
    "\n",
    "l=[1,2,[3,[4,5]],6]\n",
    "k=str(l)\n",
    "# m=list(k)\n",
    "# print(m)\n",
    "m=[]\n",
    "for i in k:\n",
    "    if i.isdigit():\n",
    "        m.append(int(i))\n",
    "print(m)"
   ]
  },
  {
   "cell_type": "code",
   "execution_count": null,
   "metadata": {},
   "outputs": [
    {
     "name": "stdout",
     "output_type": "stream",
     "text": [
      "[1, 2, 3, 4, 5, 6]\n"
     ]
    }
   ],
   "source": [
    "#using recursive\n",
    "\n",
    "l=[1,2,[3,[4,5]],6]\n",
    "m=[]\n",
    "\n",
    "def check(l):\n",
    "    for i in l:\n",
    "        if type(i)==int:\n",
    "            m.append(i)\n",
    "        else: check(i)\n",
    "check(l)\n",
    "print(m)\n",
    "\n"
   ]
  },
  {
   "cell_type": "code",
   "execution_count": null,
   "metadata": {},
   "outputs": [
    {
     "name": "stdout",
     "output_type": "stream",
     "text": [
      "['1', '10', '101', '1013', '10139', '101390', '1013908', '10139087', '0', '01', '013', '0139', '01390', '013908', '0139087', '1', '13', '139', '1390', '13908', '139087', '3', '39', '390', '3908', '39087', '9', '90', '908', '9087', '0', '08', '087', '8', '87', '7']\n"
     ]
    }
   ],
   "source": [
    "#substring \n",
    "\n",
    "a='10139087'\n",
    "m=[]\n",
    "\n",
    "def subs(a):\n",
    "    if len(a)==1:\n",
    "        m.append(a)\n",
    "        return\n",
    "    for i in range(len(a)):\n",
    "        m.append(a[:i+1])\n",
    "    subs(a[1:]) \n",
    "\n",
    "subs(a)\n",
    "print(m)\n",
    "    "
   ]
  },
  {
   "cell_type": "code",
   "execution_count": null,
   "metadata": {},
   "outputs": [
    {
     "name": "stdout",
     "output_type": "stream",
     "text": [
      "1\n",
      "12\n",
      "123\n",
      "1234\n",
      "2\n",
      "23\n",
      "234\n",
      "3\n",
      "34\n",
      "4\n",
      "null\n",
      "None\n",
      "None\n",
      "None\n"
     ]
    }
   ],
   "source": [
    "#better way to substring\n",
    "\n",
    "def subs(s,start=0,curr=''):\n",
    "    if start==len(s):\n",
    "        return \n",
    "    if curr=='':\n",
    "        curr=s[start]\n",
    "    print(curr)\n",
    "\n",
    "    if start+len(curr)<len(s):\n",
    "        subs(s,start,curr+s[start+len(curr)])\n",
    "    else:\n",
    "        print(subs(s,start+1))\n",
    "\n",
    "subs('1234')"
   ]
  },
  {
   "cell_type": "code",
   "execution_count": 71,
   "metadata": {},
   "outputs": [
    {
     "name": "stdout",
     "output_type": "stream",
     "text": [
      "5.5\n"
     ]
    }
   ],
   "source": [
    "#calculate the average of the given arguments using *args\n",
    "\n",
    "def check(*ag):\n",
    "    return sum(ag)/len(ag)\n",
    "\n",
    "\n",
    "c=0\n",
    "print(check(1,2,3,4,5,6,7,8,9,10))"
   ]
  },
  {
   "cell_type": "code",
   "execution_count": 75,
   "metadata": {},
   "outputs": [
    {
     "name": "stdout",
     "output_type": "stream",
     "text": [
      "76\n"
     ]
    }
   ],
   "source": [
    "t=(2,46,5,5,6,76,7,4,4,3)\n",
    "print(sorted(t)[-1])"
   ]
  },
  {
   "cell_type": "code",
   "execution_count": null,
   "metadata": {},
   "outputs": [
    {
     "name": "stdout",
     "output_type": "stream",
     "text": [
      "One of the field is missing\n"
     ]
    }
   ],
   "source": [
    "#check keyword arguments\n",
    "\n",
    "def checkky(**args):\n",
    "    \n",
    "    if 'name' in args and 'email' in args and 'dob' in args:\n",
    "        return True\n",
    "    else:\n",
    "        return 'One of the field is missing'\n",
    "\n",
    "print(checkky(email='a@com',dob=1/1/1000))"
   ]
  },
  {
   "cell_type": "code",
   "execution_count": 93,
   "metadata": {},
   "outputs": [
    {
     "name": "stdout",
     "output_type": "stream",
     "text": [
      "1050.0\n",
      "1055.0\n",
      "949.5\n"
     ]
    }
   ],
   "source": [
    "def billthe(**args):\n",
    "    if 'bill' in args and ('tax' in args and args['tax']>=5):\n",
    "        m= args['bill']+(args['bill']*(args['tax']/100))\n",
    "        print(m)\n",
    "        m+=args['tip']\n",
    "        print(m)\n",
    "        m-=(m*(args['dis']/100))\n",
    "        return m \n",
    "    return 'Tax or bill value are missing'\n",
    "\n",
    "\n",
    "print(billthe(bill=1000,tax=5,tip=5,dis=10))"
   ]
  },
  {
   "cell_type": "code",
   "execution_count": null,
   "metadata": {},
   "outputs": [],
   "source": []
  }
 ],
 "metadata": {
  "kernelspec": {
   "display_name": "Python 3",
   "language": "python",
   "name": "python3"
  },
  "language_info": {
   "codemirror_mode": {
    "name": "ipython",
    "version": 3
   },
   "file_extension": ".py",
   "mimetype": "text/x-python",
   "name": "python",
   "nbconvert_exporter": "python",
   "pygments_lexer": "ipython3",
   "version": "3.11.1"
  }
 },
 "nbformat": 4,
 "nbformat_minor": 2
}
