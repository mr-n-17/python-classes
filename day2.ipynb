{
 "cells": [
  {
   "cell_type": "code",
   "execution_count": 5,
   "metadata": {},
   "outputs": [
    {
     "data": {
      "text/plain": [
       "['chennai-porur', 'niv', 'mphasis', 'new']"
      ]
     },
     "execution_count": 5,
     "metadata": {},
     "output_type": "execute_result"
    }
   ],
   "source": [
    "#lists\n",
    "\n",
    "l=['chennai-porur','mphasis','new']\n",
    "l[0]\n",
    "l.insert(1,'niv') #position,value \n",
    "l "
   ]
  },
  {
   "cell_type": "code",
   "execution_count": 6,
   "metadata": {},
   "outputs": [
    {
     "name": "stdout",
     "output_type": "stream",
     "text": [
      "1\n"
     ]
    }
   ],
   "source": [
    "l[0][8:]\n",
    "print(l.index('niv'))"
   ]
  },
  {
   "cell_type": "code",
   "execution_count": 7,
   "metadata": {},
   "outputs": [
    {
     "name": "stdout",
     "output_type": "stream",
     "text": [
      "['niv', 'mphasis', 'new']\n"
     ]
    }
   ],
   "source": [
    "del l[0]\n",
    "print(l)"
   ]
  },
  {
   "cell_type": "code",
   "execution_count": null,
   "metadata": {},
   "outputs": [
    {
     "data": {
      "text/plain": [
       "[200, 30, 43, 8, 5]"
      ]
     },
     "execution_count": 15,
     "metadata": {},
     "output_type": "execute_result"
    }
   ],
   "source": [
    "l1=[1,6,8,9,43,5]\n",
    "(l1.sort())\n",
    "l1=l1+[20,30]\n",
    "l1\n",
    "l1.extend([100,200])\n",
    "l1 \n",
    "l1[::-2] #starts from back and skips 1 value like 2 - 1 , 3 - 2... "
   ]
  },
  {
   "cell_type": "code",
   "execution_count": 16,
   "metadata": {},
   "outputs": [
    {
     "data": {
      "text/plain": [
       "['h1', 'h2', 'h1', 'h2']"
      ]
     },
     "execution_count": 16,
     "metadata": {},
     "output_type": "execute_result"
    }
   ],
   "source": [
    "l3=['h1','h2'] * 2\n",
    "l3"
   ]
  },
  {
   "cell_type": "code",
   "execution_count": 20,
   "metadata": {},
   "outputs": [
    {
     "name": "stdout",
     "output_type": "stream",
     "text": [
      "[1, 2, 3, 4, 9, 8, 7, 6, 5]\n"
     ]
    }
   ],
   "source": [
    "l=list(map(int,input().split()))\n",
    "print(l[:(len(l)//2)]+(l[len(l)//2:])[::-1])\n"
   ]
  },
  {
   "cell_type": "code",
   "execution_count": 22,
   "metadata": {},
   "outputs": [
    {
     "name": "stdout",
     "output_type": "stream",
     "text": [
      "[2, 3, 5, 7, 11, 13, 17, 19, 23, 29, 31, 37, 41, 43, 47]\n"
     ]
    }
   ],
   "source": [
    "l1=[]\n",
    "for i in range(2,51):\n",
    "    c=0\n",
    "    for j in range(2,i//2 + 1):\n",
    "        if i%j==0:\n",
    "            c+=1\n",
    "    if c==0:\n",
    "        l1.append(i)\n",
    "print(l1)\n"
   ]
  },
  {
   "cell_type": "code",
   "execution_count": 26,
   "metadata": {},
   "outputs": [
    {
     "data": {
      "text/plain": [
       "(1, 2, 3, [4, 5, 6])"
      ]
     },
     "execution_count": 26,
     "metadata": {},
     "output_type": "execute_result"
    }
   ],
   "source": [
    "#tuple \n",
    "#inmutuable can't update we can't add \n",
    "\n",
    "t=(1,2,3,[1,2,3])\n",
    "t[3]\n",
    "l=list(t)\n",
    "l1=[1,2,3,[4,5,6]]\n",
    "t=tuple(l1)\n",
    "t"
   ]
  },
  {
   "cell_type": "code",
   "execution_count": null,
   "metadata": {},
   "outputs": [
    {
     "name": "stdout",
     "output_type": "stream",
     "text": [
      "The SI ammount of a is 1000.0 with principal amount of 10000 with rate of 5 of 2 years\n",
      "The SI ammount of b is 2000.0 with principal amount of 20000 with rate of 5 of 2 years\n",
      "The SI ammount of c is 3000.0 with principal amount of 30000 with rate of 5 of 2 years\n",
      "The SI ammount of d is 4000.0 with principal amount of 40000 with rate of 5 of 2 years\n",
      "The SI ammount of e is 5000.0 with principal amount of 50000 with rate of 5 of 2 years\n"
     ]
    }
   ],
   "source": [
    "n=['a','b','c','d','e']\n",
    "p=[10000,20000,30000,40000,50000]\n",
    "r=[5,5,5,5,5]\n",
    "t=[2,2,2,2,2]\n",
    "si=[]\n",
    "for i in range(len(n)):\n",
    "    am= (p[i]*r[i]*t[i])/100\n",
    "    si.append(am)\n",
    "for i in range(len(si)):\n",
    "    print(f'The SI ammount of {n[i]} is {si[i]} with principal amount of {p[i]} with rate of {r[i]} percent of {t[i]} years')"
   ]
  },
  {
   "cell_type": "code",
   "execution_count": 1,
   "metadata": {},
   "outputs": [
    {
     "name": "stdout",
     "output_type": "stream",
     "text": [
      "1 2\n",
      "0 3\n"
     ]
    }
   ],
   "source": [
    "l=list(map(int,input().split()))\n",
    "t=int(input())\n",
    "d={}\n",
    "for i in range(len(l)):\n",
    "    c=t-l[i]\n",
    "    if c in d:\n",
    "        print(d[c],i)\n",
    "    else:\n",
    "        d[l[i]]=i"
   ]
  },
  {
   "cell_type": "code",
   "execution_count": 43,
   "metadata": {},
   "outputs": [
    {
     "name": "stdout",
     "output_type": "stream",
     "text": [
      "[1, 2, 3] [1, 2, 3, 3]\n",
      "[1, 2, 3, [4, 5, 6]] [1, 2, 3, [4, 5, 6]]\n"
     ]
    }
   ],
   "source": [
    "#shallow copy or copy that is list_name.copy()\n",
    "\n",
    "a=[1,2,3]\n",
    "b=a.copy()\n",
    "b.append(3)\n",
    "print(a,b)\n",
    "\n",
    "a=[1,2,3,[4,5]]\n",
    "b=a.copy()\n",
    "b[3].append(6)\n",
    "print(a,b)"
   ]
  },
  {
   "cell_type": "code",
   "execution_count": 44,
   "metadata": {},
   "outputs": [
    {
     "name": "stdout",
     "output_type": "stream",
     "text": [
      "[1, 2, 3, [4, 5]] [1, 2, 3, [4, 5, 6]]\n"
     ]
    }
   ],
   "source": [
    "#deep copy is used when there are nested lists \n",
    "\n",
    "import copy\n",
    "\n",
    "a=[1,2,3,[4,5]]\n",
    "b=copy.deepcopy(a)\n",
    "b[3].append(6)\n",
    "print(a,b)"
   ]
  },
  {
   "cell_type": "code",
   "execution_count": null,
   "metadata": {},
   "outputs": [
    {
     "name": "stdout",
     "output_type": "stream",
     "text": [
      "[1, 2, 3, [4, 5]] [1, 2, 3, [4, 5]]\n"
     ]
    }
   ],
   "source": [
    "original_list = [1, 2, 3,[4,5]]\n",
    "copied_list = original_list[:]"
   ]
  },
  {
   "cell_type": "code",
   "execution_count": 48,
   "metadata": {},
   "outputs": [
    {
     "name": "stdout",
     "output_type": "stream",
     "text": [
      "[0, 2, 4, 6, 8] [1, 3, 5, 7]\n"
     ]
    }
   ],
   "source": [
    "l=[0,1,2,3,4,5,6,7,8]\n",
    "print(l[::2],l[1::2])"
   ]
  },
  {
   "cell_type": "code",
   "execution_count": null,
   "metadata": {},
   "outputs": [
    {
     "data": {
      "text/plain": [
       "{'name': 'def', 'std': 2}"
      ]
     },
     "execution_count": 50,
     "metadata": {},
     "output_type": "execute_result"
    }
   ],
   "source": [
    "#dictionaries \n",
    "#values can be duplicated not keys\n",
    "\n",
    "d={'name':'abc','std': 2,'name': 'def'}\n",
    "d"
   ]
  },
  {
   "cell_type": "code",
   "execution_count": null,
   "metadata": {},
   "outputs": [],
   "source": [
    "l=[]\n",
    "for i in range(3):\n",
    "    m=input()\n",
    "    l.append(m)\n",
    "print(l)"
   ]
  },
  {
   "cell_type": "code",
   "execution_count": 51,
   "metadata": {},
   "outputs": [
    {
     "data": {
      "text/plain": [
       "{1: 4, 2: 5, 3: 6}"
      ]
     },
     "execution_count": 51,
     "metadata": {},
     "output_type": "execute_result"
    }
   ],
   "source": [
    "l=[1,2,3]\n",
    "l2=[4,5,6]\n",
    "d={}\n",
    "for i,j in zip(l,l2):\n",
    "    d[i]=j\n",
    "d"
   ]
  },
  {
   "cell_type": "code",
   "execution_count": null,
   "metadata": {},
   "outputs": [
    {
     "name": "stdout",
     "output_type": "stream",
     "text": [
      "{1: 4, 2: 5, 3: 6}\n"
     ]
    }
   ],
   "source": [
    "l=[1,2,3]\n",
    "l2=[4,5,6]\n",
    "z=zip(l,l2)\n",
    "print(dict(z))"
   ]
  },
  {
   "cell_type": "code",
   "execution_count": 53,
   "metadata": {},
   "outputs": [
    {
     "name": "stdout",
     "output_type": "stream",
     "text": [
      "[(1, 4), (2, 5), (3, 6)]\n"
     ]
    }
   ],
   "source": [
    "l=[1,2,3]\n",
    "l2=[4,5,6]\n",
    "z=list(zip(l,l2))\n",
    "print(z)"
   ]
  },
  {
   "cell_type": "code",
   "execution_count": 54,
   "metadata": {},
   "outputs": [
    {
     "name": "stdout",
     "output_type": "stream",
     "text": [
      "dict_keys(['name', 'std', 'class'])\n",
      "dict_values(['def', 2, 'ece'])\n",
      "dict_items([('name', 'def'), ('std', 2), ('class', 'ece')])\n"
     ]
    }
   ],
   "source": [
    "d={'name':'abc','std': 2,'name': 'def','class':'ece'}\n",
    "print(d.keys())\n",
    "print(d.values())\n",
    "print(d.items())"
   ]
  },
  {
   "cell_type": "code",
   "execution_count": 55,
   "metadata": {},
   "outputs": [
    {
     "name": "stdout",
     "output_type": "stream",
     "text": [
      "((1, 4), (2, 5), (3, 6))\n"
     ]
    }
   ],
   "source": [
    "l=[1,2,3]\n",
    "l2=[4,5,6]\n",
    "z=zip(l,l2)\n",
    "print(tuple(z))"
   ]
  },
  {
   "cell_type": "code",
   "execution_count": 57,
   "metadata": {},
   "outputs": [
    {
     "data": {
      "text/plain": [
       "{'first': 5,\n",
       " 'last': 4,\n",
       " 'hello': 5,\n",
       " 'world': 5,\n",
       " 'things': 6,\n",
       " 'number': 6,\n",
       " 'kaduvule': 8,\n",
       " 'stanley': 7,\n",
       " 'wild': 4,\n",
       " 'kubrick': 7}"
      ]
     },
     "execution_count": 57,
     "metadata": {},
     "output_type": "execute_result"
    }
   ],
   "source": [
    "l1=['first','last','hello','world','things','number','kaduvule','stanley','wild','kubrick']\n",
    "d={}\n",
    "for i in l1:\n",
    "    d[i]=len(i)\n",
    "d"
   ]
  },
  {
   "cell_type": "code",
   "execution_count": 65,
   "metadata": {},
   "outputs": [
    {
     "data": {
      "text/plain": [
       "{'The': 2,\n",
       " 'working': 1,\n",
       " 'of': 3,\n",
       " 'the': 6,\n",
       " 'filter': 2,\n",
       " 'function': 4,\n",
       " 'is': 2,\n",
       " 'a': 1,\n",
       " 'way': 1,\n",
       " 'implementing': 1,\n",
       " 'if-else': 1,\n",
       " 'condition': 2,\n",
       " 'in': 3,\n",
       " 'python.': 1,\n",
       " 'Filter': 1,\n",
       " 'mainly': 1,\n",
       " 'used': 1,\n",
       " 'for': 2,\n",
       " 'filtering': 1,\n",
       " 'function.': 1,\n",
       " 'main': 1,\n",
       " 'this': 1,\n",
       " 'will': 1,\n",
       " 'check': 1,\n",
       " 'form': 1,\n",
       " 'Boolean': 1,\n",
       " 'values': 1,\n",
       " 'and': 1,\n",
       " 'then': 1,\n",
       " 'print': 1,\n",
       " 'all': 1,\n",
       " 'elements': 1,\n",
       " 'which': 1,\n",
       " 'are': 1,\n",
       " 'identified': 1,\n",
       " 'as': 1,\n",
       " 'true': 1,\n",
       " 'element': 1,\n",
       " 'sequence.': 1}"
      ]
     },
     "execution_count": 65,
     "metadata": {},
     "output_type": "execute_result"
    }
   ],
   "source": [
    "l='The working of the filter function is a way of implementing the if-else condition in python. Filter function is mainly used for filtering function. The main function for this filter function will check the condition in the form of Boolean values and then print all the elements which are identified as true element in the sequence.'\n",
    "l=l.split()\n",
    "d={}\n",
    "for i in l:\n",
    "    if i in d:\n",
    "        d[i]+=1 \n",
    "    else:\n",
    "        d[i]=1 \n",
    "d\n"
   ]
  },
  {
   "cell_type": "code",
   "execution_count": null,
   "metadata": {},
   "outputs": [
    {
     "data": {
      "text/plain": [
       "{1: {'name': 'def', 'std': 2, 'class': 'ece'},\n",
       " 2: {'name': 'def', 'std': 2, 'class': 'ece'},\n",
       " 3: [1, 2, 3, 4],\n",
       " 4: (1, 2, 3, 4, 5),\n",
       " 5: [1, 4, 5],\n",
       " 6: {'name': 'def', 'std': 2, 'class': 'ece'}}"
      ]
     },
     "execution_count": 70,
     "metadata": {},
     "output_type": "execute_result"
    }
   ],
   "source": [
    "#nested dictionaries \n",
    "\n",
    "d={\n",
    "    1: {'name':'abc','std': 2,'name': 'def','class':'ece'},\n",
    "    2: {'name':'abc','std': 2,'name': 'def','class':'ece'},\n",
    "    3: [1,2,3,4],\n",
    "    4: (1,2,3,4,5)  \n",
    "}\n",
    "d[1]['std']\n",
    "d[3][2]\n",
    "d[5]=[1,4,5] #(1,2,3)\n",
    "d[6]={'name':'abc','std': 2,'name': 'def','class':'ece'}\n",
    "d"
   ]
  },
  {
   "cell_type": "code",
   "execution_count": 77,
   "metadata": {},
   "outputs": [
    {
     "data": {
      "text/plain": [
       "{'a': 12, 'c': 16}"
      ]
     },
     "execution_count": 77,
     "metadata": {},
     "output_type": "execute_result"
    }
   ],
   "source": [
    "d1={'a':12,'b':9,'c': 16,'d':3}\n",
    "d2={}\n",
    "for i,j in enumerate(d1.items()):\n",
    "    if j[1]>=10:\n",
    "        d2[j[0]]=j[1]\n",
    "d2\n"
   ]
  },
  {
   "cell_type": "code",
   "execution_count": 78,
   "metadata": {},
   "outputs": [
    {
     "ename": "ValueError",
     "evalue": "invalid literal for int() with base 10: '5.5'",
     "output_type": "error",
     "traceback": [
      "\u001b[31m---------------------------------------------------------------------------\u001b[39m",
      "\u001b[31mValueError\u001b[39m                                Traceback (most recent call last)",
      "\u001b[36mCell\u001b[39m\u001b[36m \u001b[39m\u001b[32mIn[78]\u001b[39m\u001b[32m, line 1\u001b[39m\n\u001b[32m----> \u001b[39m\u001b[32m1\u001b[39m n=\u001b[38;5;28;43mint\u001b[39;49m\u001b[43m(\u001b[49m\u001b[38;5;28;43minput\u001b[39;49m\u001b[43m(\u001b[49m\u001b[43m)\u001b[49m\u001b[43m)\u001b[49m\n\u001b[32m      2\u001b[39m \u001b[38;5;28mprint\u001b[39m(n)\n",
      "\u001b[31mValueError\u001b[39m: invalid literal for int() with base 10: '5.5'"
     ]
    }
   ],
   "source": [
    "n=int(input())\n",
    "print(n)"
   ]
  },
  {
   "cell_type": "code",
   "execution_count": 86,
   "metadata": {},
   "outputs": [
    {
     "ename": "ModuleNotFoundError",
     "evalue": "No module named 'numpy'",
     "output_type": "error",
     "traceback": [
      "\u001b[31m---------------------------------------------------------------------------\u001b[39m",
      "\u001b[31mModuleNotFoundError\u001b[39m                       Traceback (most recent call last)",
      "\u001b[36mCell\u001b[39m\u001b[36m \u001b[39m\u001b[32mIn[86]\u001b[39m\u001b[32m, line 1\u001b[39m\n\u001b[32m----> \u001b[39m\u001b[32m1\u001b[39m \u001b[38;5;28;01mimport\u001b[39;00m\u001b[38;5;250m \u001b[39m\u001b[34;01mnumpy\u001b[39;00m\u001b[38;5;250m \u001b[39m\u001b[38;5;28;01mas\u001b[39;00m\u001b[38;5;250m \u001b[39m\u001b[34;01mnp\u001b[39;00m\n\u001b[32m      2\u001b[39m d1={\u001b[33m'\u001b[39m\u001b[33ma\u001b[39m\u001b[33m'\u001b[39m:\u001b[32m12\u001b[39m,\u001b[33m'\u001b[39m\u001b[33mb\u001b[39m\u001b[33m'\u001b[39m:\u001b[32m9\u001b[39m,\u001b[33m'\u001b[39m\u001b[33mc\u001b[39m\u001b[33m'\u001b[39m: \u001b[32m16\u001b[39m,\u001b[33m'\u001b[39m\u001b[33md\u001b[39m\u001b[33m'\u001b[39m:\u001b[32m3\u001b[39m}\n\u001b[32m      3\u001b[39m \u001b[38;5;28mprint\u001b[39m(\u001b[38;5;28mmin\u001b[39m(d1.values()))\n",
      "\u001b[31mModuleNotFoundError\u001b[39m: No module named 'numpy'"
     ]
    }
   ],
   "source": [
    "import numpy as np\n",
    "d1={'a':12,'b':9,'c': 16,'d':3}\n",
    "print(min(d1.values()))\n",
    "print(max(d1.values()))\n",
    "print(np.average(d1.values()))"
   ]
  },
  {
   "cell_type": "code",
   "execution_count": 89,
   "metadata": {},
   "outputs": [
    {
     "name": "stdout",
     "output_type": "stream",
     "text": [
      "{1, 2, 3, 4, 5, 6}\n",
      "{1, 2, 3, 4, 5, 6}\n"
     ]
    }
   ],
   "source": [
    "#sets { }\n",
    "\n",
    "#unions \n",
    "\n",
    "a={1,2,3,4}\n",
    "b={3,4,5,6}\n",
    "print(a | b) # | pipeline operator\n",
    "\n",
    "print(a.union(b)) # another way using function\n",
    "\n"
   ]
  },
  {
   "cell_type": "code",
   "execution_count": null,
   "metadata": {},
   "outputs": [
    {
     "name": "stdout",
     "output_type": "stream",
     "text": [
      "{1, 2}\n",
      "{5, 6}\n",
      "{1, 2}\n",
      "{5, 6}\n"
     ]
    }
   ],
   "source": [
    "#differnce \n",
    "\n",
    "a={1,2,3,4}\n",
    "b={3,4,5,6}\n",
    "print(a-b)\n",
    "print(b-a)\n",
    "print(a.difference(b))\n",
    "print(b.difference(a))\n",
    "\n"
   ]
  },
  {
   "cell_type": "code",
   "execution_count": 92,
   "metadata": {},
   "outputs": [
    {
     "name": "stdout",
     "output_type": "stream",
     "text": [
      "{1, 2, 5, 6}\n",
      "{1, 2, 5, 6}\n",
      "{1, 2, 5, 6}\n",
      "{1, 2, 5, 6}\n"
     ]
    }
   ],
   "source": [
    "#symmetric difference \n",
    "\n",
    "a={1,2,3,4}\n",
    "b={3,4,5,6}\n",
    "\n",
    "print(a^b)\n",
    "print(b^a)\n",
    "print(a.symmetric_difference(b))\n",
    "print(b.symmetric_difference(a))"
   ]
  },
  {
   "cell_type": "code",
   "execution_count": 100,
   "metadata": {},
   "outputs": [
    {
     "name": "stdout",
     "output_type": "stream",
     "text": [
      "True\n"
     ]
    }
   ],
   "source": [
    "#issubset\n",
    "\n",
    "set_a = {1, 2, 3, 4,5}\n",
    "set_b = {3, 4, 5}\n",
    "\n",
    "# Check if set_a is a subset of set_b\n",
    "is_subset = set_b.issubset(set_a)\n",
    "print(is_subset)"
   ]
  },
  {
   "cell_type": "code",
   "execution_count": 108,
   "metadata": {},
   "outputs": [
    {
     "name": "stdout",
     "output_type": "stream",
     "text": [
      "True\n",
      "{1, 2}\n"
     ]
    }
   ],
   "source": [
    "#issuperset \n",
    "\n",
    "\n",
    "set_a = {1, 2, 3}\n",
    "set_b = {3}\n",
    "c=set_a.issuperset(set_b)\n",
    "print(c)\n",
    "set_a.remove(3)\n",
    "print(set_a)\n"
   ]
  },
  {
   "cell_type": "code",
   "execution_count": null,
   "metadata": {},
   "outputs": [
    {
     "data": {
      "text/plain": [
       "{1, 2, 3, 4, 5}"
      ]
     },
     "execution_count": 110,
     "metadata": {},
     "output_type": "execute_result"
    }
   ],
   "source": [
    "#update function\n",
    "\n",
    "set_a = {1, 2, 3}\n",
    "set_b = {3,4,5}\n",
    "set_a |= set_b # or set_a.update(set_b)\n",
    "set_a"
   ]
  },
  {
   "cell_type": "code",
   "execution_count": 112,
   "metadata": {},
   "outputs": [
    {
     "data": {
      "text/plain": [
       "'hll wrld'"
      ]
     },
     "execution_count": 112,
     "metadata": {},
     "output_type": "execute_result"
    }
   ],
   "source": [
    "a='hello world'\n",
    "m=''\n",
    "for i in a:\n",
    "    if i.lower() not in 'aeiou':\n",
    "        m+=i \n",
    "m\n"
   ]
  },
  {
   "cell_type": "code",
   "execution_count": null,
   "metadata": {},
   "outputs": [
    {
     "data": {
      "text/plain": [
       "75"
      ]
     },
     "execution_count": 116,
     "metadata": {},
     "output_type": "execute_result"
    }
   ],
   "source": [
    "#without * operator \n",
    "\n",
    "a=15\n",
    "b=5\n",
    "c=0\n",
    "for i in range(min(a,b)):\n",
    "    c+=max(a,b)\n",
    "c\n",
    "\n",
    "#using bitwise\n",
    "# def multiply(a, b):\n",
    "#     result = 0\n",
    "#     while b != 0:\n",
    "#         if b & 1:\n",
    "#             result += a\n",
    "#         a <<= 1 #leftshift\n",
    "#         b >>= 1 #rightshift\n",
    "#     return result\n",
    "\n",
    "# # Example usage\n",
    "# print(multiply(5, 3))  # Output: 15\n",
    "# print(multiply(-5, 3))"
   ]
  },
  {
   "cell_type": "code",
   "execution_count": 1,
   "metadata": {},
   "outputs": [
    {
     "name": "stdout",
     "output_type": "stream",
     "text": [
      "15\n"
     ]
    }
   ],
   "source": [
    "a=3 \n",
    "b=5 \n",
    "r=0\n",
    "while b!=0:\n",
    "    if b & 1:\n",
    "        r+=a \n",
    "    a<<=1 \n",
    "    b>>=1 \n",
    "print(r)\n",
    "        "
   ]
  },
  {
   "cell_type": "code",
   "execution_count": null,
   "metadata": {},
   "outputs": [],
   "source": []
  }
 ],
 "metadata": {
  "kernelspec": {
   "display_name": "Python 3",
   "language": "python",
   "name": "python3"
  },
  "language_info": {
   "codemirror_mode": {
    "name": "ipython",
    "version": 3
   },
   "file_extension": ".py",
   "mimetype": "text/x-python",
   "name": "python",
   "nbconvert_exporter": "python",
   "pygments_lexer": "ipython3",
   "version": "3.11.1"
  }
 },
 "nbformat": 4,
 "nbformat_minor": 2
}
