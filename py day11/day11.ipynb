{
 "cells": [
  {
   "cell_type": "markdown",
   "id": "1b334352",
   "metadata": {},
   "source": [
    "# STACK USING LIST\n",
    "# QUEUE USING LIST \n",
    "# BINARY TREE USING LIST"
   ]
  },
  {
   "cell_type": "code",
   "execution_count": null,
   "id": "3191915c",
   "metadata": {},
   "outputs": [
    {
     "name": "stdout",
     "output_type": "stream",
     "text": [
      "(True, 3)\n"
     ]
    }
   ],
   "source": [
    "l=[]\n",
    "\n",
    "\n",
    "# def toadd(m,l):\n",
    "#     if l==[]:\n",
    "#         l.append(m)\n",
    "#         return l \n",
    "    \n",
    "#     c=0\n",
    "#     for i in l:\n",
    "#         c+=1\n",
    "#         temp=i \n",
    "    \n",
    "#     l.append(m) \n",
    "#     c+=1\n",
    "#     temp=l[c-1] \n",
    "#     return l \n",
    "\n",
    "# print(toadd(3,[1,5]))\n",
    "\n",
    "# def topop(l):\n",
    "#     if l==[]:\n",
    "#         return None\n",
    "    \n",
    "#     c=0\n",
    "#     for i in l:\n",
    "#         c+=1\n",
    "    \n",
    "#     l.pop()\n",
    "#     c-=1\n",
    "#     temp=l[c-1] \n",
    "#     return l \n",
    "\n",
    "# print(topop([1,5]))\n",
    "\n",
    "\n",
    "# def tosearch(m,l):\n",
    "#     if l==[]:\n",
    "#         return None \n",
    "#     c=0\n",
    "#     for i in l:\n",
    "#         if m==i:\n",
    "#             return True,c\n",
    "#         c+=1\n",
    "#     return False \n",
    "\n",
    "# print(tosearch(3,[7,8,9,3,6,6]))\n",
    "\n",
    "def toremove(m,l):\n",
    "    if l==[]:\n",
    "        return None \n",
    "    \n",
    "    c=0 \n",
    "    for i in l: \n",
    "        if m==i:\n",
    "            \n",
    "    \n",
    "\n",
    "    \n",
    "\n",
    "\n",
    "\n",
    "    \n",
    "\n"
   ]
  },
  {
   "cell_type": "code",
   "execution_count": 48,
   "id": "a7276292",
   "metadata": {},
   "outputs": [
    {
     "name": "stdout",
     "output_type": "stream",
     "text": [
      "[27, 40, 18, 80, 90]\n"
     ]
    }
   ],
   "source": [
    "l=[27,40,80,18,90]\n",
    "\n",
    "mid=l[len(l)//2]\n",
    "left=0 \n",
    "r=(len(l)//2) + 1\n",
    "\n",
    "while l[left]!=mid:\n",
    "    if l[left]>mid:\n",
    "        l.insert(r,l[left])\n",
    "        l.remove(l[left])\n",
    "        r+=1 \n",
    "        left+=1\n",
    "    else: left+=1\n",
    "while (len(l)//2)<r<len(l) and left>=0:\n",
    "    if l[r]<mid:\n",
    "        c=l[r]\n",
    "        l.remove(l[r])\n",
    "        l.insert(left,c)\n",
    "        left-=1 \n",
    "        r+=1\n",
    "    else: r+=1 \n",
    "\n",
    "print(l)"
   ]
  },
  {
   "cell_type": "code",
   "execution_count": null,
   "id": "359d9d53",
   "metadata": {},
   "outputs": [],
   "source": [
    "# Insert value into BST (tree is a nested list)\n",
    "def insert(tree, value):\n",
    "    if not tree:\n",
    "        tree += [value, [], []]  # Create new node\n",
    "    elif value < tree[0]:\n",
    "        insert(tree[1], value)  # Go to left subtree\n",
    "    else:\n",
    "        insert(tree[2], value)  # Go to right subtree\n",
    "\n",
    "# Inorder traversal to print sorted values\n",
    "def inorder(tree):\n",
    "    if tree:\n",
    "        inorder(tree[1])\n",
    "        print(tree[0], end=' ')\n",
    "        inorder(tree[2])\n",
    "\n",
    "# Example usage\n",
    "bst = []  # Empty BST\n",
    "# values = [50, 30, 70, 20, 40, 60, 80]\n",
    "values=[47,21,76,52,82,18,27]\n",
    "for v in values:\n",
    "    insert(bst, v)\n",
    "\n",
    "print(\"Inorder Traversal of BST:\")\n",
    "inorder(bst)\n",
    "print(bst)"
   ]
  },
  {
   "cell_type": "markdown",
   "id": "927c12c8",
   "metadata": {},
   "source": [
    "# bubble sort \n",
    "\n",
    "COMPARE TWO ELEMENTS EVERY TIME i.e., i,i+1   i+1,i+2   i+2,i+3"
   ]
  },
  {
   "cell_type": "code",
   "execution_count": null,
   "id": "c61bf1d1",
   "metadata": {},
   "outputs": [
    {
     "name": "stdout",
     "output_type": "stream",
     "text": [
      "[-5, -3, -3, 1, 2, 2, 2, 3, 7]\n"
     ]
    }
   ],
   "source": [
    "\n",
    "\n",
    "\n",
    "l=[-5,3,2,1,-3,-3,7,2,2]\n",
    "\n",
    "n=len(l)\n",
    "for i in range(n):\n",
    "    s=True\n",
    "    for j in range(n-i-1):\n",
    "        if l[j]>l[j+1]:\n",
    "            l[j],l[j+1]=l[j+1],l[j]\n",
    "            s=True\n",
    "    if not s:\n",
    "        break       \n",
    "print(l)\n"
   ]
  },
  {
   "cell_type": "code",
   "execution_count": 40,
   "id": "4edf5d80",
   "metadata": {},
   "outputs": [
    {
     "name": "stdout",
     "output_type": "stream",
     "text": [
      "[-5, -3, -3, 1, 2, 2, 2, 3, 7]\n",
      "13\n"
     ]
    }
   ],
   "source": [
    "\n",
    "l=[-5,3,2,1,-3,-3,7,2,2]\n",
    "s=False \n",
    "c=0\n",
    "while not s:\n",
    "    s=True\n",
    "    for i in range(len(l)-1):\n",
    "        if l[i]>l[i+1]:\n",
    "            l[i],l[i+1]=l[i+1],l[i] \n",
    "            c+=1 \n",
    "            s=False \n",
    "print(l)\n",
    "print(c)\n"
   ]
  },
  {
   "cell_type": "markdown",
   "id": "96efd01b",
   "metadata": {},
   "source": [
    "# SELECTION Sort"
   ]
  },
  {
   "cell_type": "code",
   "execution_count": 55,
   "id": "0cfe0bef",
   "metadata": {},
   "outputs": [
    {
     "name": "stdout",
     "output_type": "stream",
     "text": [
      "[18, 27, 40, 80, 90] 10\n"
     ]
    }
   ],
   "source": [
    "l=[27,40,80,18,90]\n",
    "\n",
    "n=len(l)\n",
    "c=0\n",
    "for i in range(n):\n",
    "    m=i\n",
    "    for j in range(i+1,n):\n",
    "        if l[j]<l[m]:\n",
    "            m=j \n",
    "        c+=1\n",
    "    l[i],l[m]=l[m],l[i]\n",
    "\n",
    "print(l,c)"
   ]
  },
  {
   "cell_type": "markdown",
   "id": "30dcfa15",
   "metadata": {},
   "source": [
    "# MERGE SORT"
   ]
  },
  {
   "cell_type": "code",
   "execution_count": null,
   "id": "95f64585",
   "metadata": {},
   "outputs": [
    {
     "name": "stdout",
     "output_type": "stream",
     "text": [
      "[27, 43]\n",
      "None\n"
     ]
    },
    {
     "ename": "TypeError",
     "evalue": "object of type 'NoneType' has no len()",
     "output_type": "error",
     "traceback": [
      "\u001b[31m---------------------------------------------------------------------------\u001b[39m",
      "\u001b[31mTypeError\u001b[39m                                 Traceback (most recent call last)",
      "\u001b[36mCell\u001b[39m\u001b[36m \u001b[39m\u001b[32mIn[57]\u001b[39m\u001b[32m, line 33\u001b[39m\n\u001b[32m     30\u001b[39m     \u001b[38;5;28mprint\u001b[39m(sorted_list)\n\u001b[32m     32\u001b[39m arr = [\u001b[32m38\u001b[39m, \u001b[32m27\u001b[39m, \u001b[32m43\u001b[39m, \u001b[32m3\u001b[39m, \u001b[32m9\u001b[39m, \u001b[32m82\u001b[39m, \u001b[32m10\u001b[39m]\n\u001b[32m---> \u001b[39m\u001b[32m33\u001b[39m \u001b[43mmerge_sort\u001b[49m\u001b[43m(\u001b[49m\u001b[43marr\u001b[49m\u001b[43m)\u001b[49m\n",
      "\u001b[36mCell\u001b[39m\u001b[36m \u001b[39m\u001b[32mIn[57]\u001b[39m\u001b[32m, line 7\u001b[39m, in \u001b[36mmerge_sort\u001b[39m\u001b[34m(arr)\u001b[39m\n\u001b[32m      5\u001b[39m \u001b[38;5;66;03m# Step 1: Split the array into two halves\u001b[39;00m\n\u001b[32m      6\u001b[39m mid = \u001b[38;5;28mlen\u001b[39m(arr) // \u001b[32m2\u001b[39m\n\u001b[32m----> \u001b[39m\u001b[32m7\u001b[39m left_half = \u001b[43mmerge_sort\u001b[49m\u001b[43m(\u001b[49m\u001b[43marr\u001b[49m\u001b[43m[\u001b[49m\u001b[43m:\u001b[49m\u001b[43mmid\u001b[49m\u001b[43m]\u001b[49m\u001b[43m)\u001b[49m\n\u001b[32m      8\u001b[39m right_half = merge_sort(arr[mid:])\n\u001b[32m     10\u001b[39m \u001b[38;5;66;03m# Step 2: Merge the sorted halves\u001b[39;00m\n",
      "\u001b[36mCell\u001b[39m\u001b[36m \u001b[39m\u001b[32mIn[57]\u001b[39m\u001b[32m, line 11\u001b[39m, in \u001b[36mmerge_sort\u001b[39m\u001b[34m(arr)\u001b[39m\n\u001b[32m      8\u001b[39m right_half = merge_sort(arr[mid:])\n\u001b[32m     10\u001b[39m \u001b[38;5;66;03m# Step 2: Merge the sorted halves\u001b[39;00m\n\u001b[32m---> \u001b[39m\u001b[32m11\u001b[39m \u001b[38;5;28mprint\u001b[39m(\u001b[43mmerge\u001b[49m\u001b[43m(\u001b[49m\u001b[43mleft_half\u001b[49m\u001b[43m,\u001b[49m\u001b[43m \u001b[49m\u001b[43mright_half\u001b[49m\u001b[43m)\u001b[49m)\n",
      "\u001b[36mCell\u001b[39m\u001b[36m \u001b[39m\u001b[32mIn[57]\u001b[39m\u001b[32m, line 18\u001b[39m, in \u001b[36mmerge\u001b[39m\u001b[34m(left, right)\u001b[39m\n\u001b[32m     15\u001b[39m i = j = \u001b[32m0\u001b[39m  \u001b[38;5;66;03m# Pointers for left and right lists\u001b[39;00m\n\u001b[32m     17\u001b[39m \u001b[38;5;66;03m# Step 3: Compare elements and merge in sorted order\u001b[39;00m\n\u001b[32m---> \u001b[39m\u001b[32m18\u001b[39m \u001b[38;5;28;01mwhile\u001b[39;00m i < \u001b[38;5;28mlen\u001b[39m(left) \u001b[38;5;129;01mand\u001b[39;00m j < \u001b[38;5;28;43mlen\u001b[39;49m\u001b[43m(\u001b[49m\u001b[43mright\u001b[49m\u001b[43m)\u001b[49m:\n\u001b[32m     19\u001b[39m     \u001b[38;5;28;01mif\u001b[39;00m left[i] < right[j]:   \u001b[38;5;66;03m# i increases when there is a swap\u001b[39;00m\n\u001b[32m     20\u001b[39m         sorted_list.append(left[i])\n",
      "\u001b[31mTypeError\u001b[39m: object of type 'NoneType' has no len()"
     ]
    }
   ],
   "source": [
    "\n",
    "def merge_sort(arr):\n",
    "    if len(arr) <= 1:\n",
    "        return arr  # Base case: Already sorted\n",
    "\n",
    "    # Step 1: Split the array into two halves\n",
    "    mid = len(arr) // 2\n",
    "    left_half = merge_sort(arr[:mid])\n",
    "    right_half = merge_sort(arr[mid:])\n",
    "\n",
    "    # Step 2: Merge the sorted halves\n",
    "    return merge(left_half, right_half)\n",
    "\n",
    "def merge(left, right):\n",
    "    sorted_list = []\n",
    "    i = j = 0  # Pointers for left and right lists\n",
    "\n",
    "    # Step 3: Compare elements and merge in sorted order\n",
    "    while i < len(left) and j < len(right):\n",
    "        if left[i] < right[j]:   # i increases when there is a swap\n",
    "            sorted_list.append(left[i])\n",
    "            i += 1\n",
    "        else:                   # j increase when there is no swap\n",
    "            sorted_list.append(right[j])\n",
    "            j += 1\n",
    "\n",
    "    # Step 4: Add any remaining elements\n",
    "    sorted_list.extend(left[i:])\n",
    "    sorted_list.extend(right[j:])\n",
    "\n",
    "    return sorted_list\n",
    "\n",
    "# 🔹 Test it out\n",
    "arr = [38, 27, 43, 3, 9, 82, 10]\n",
    "print(\"Sorted Array:\", merge_sort(arr))\n"
   ]
  },
  {
   "cell_type": "code",
   "execution_count": 58,
   "id": "b6168d1b",
   "metadata": {},
   "outputs": [
    {
     "name": "stdout",
     "output_type": "stream",
     "text": [
      "Element is present at index 1\n"
     ]
    }
   ],
   "source": [
    "# Binary Search in python\n",
    "\n",
    "\n",
    "def binarySearch(array, x, low, high):\n",
    "\n",
    "    # Repeat until the pointers low and high meet each other\n",
    "    while low <= high:\n",
    "\n",
    "        mid = low + (high - low)//2\n",
    "\n",
    "        if x == array[mid]:\n",
    "            return mid\n",
    "\n",
    "        elif x > array[mid]:\n",
    "            low = mid + 1\n",
    "\n",
    "        else:\n",
    "            high = mid - 1\n",
    "\n",
    "    return -1\n",
    "\n",
    "\n",
    "array = [3, 4, 5, 6, 7, 8, 9]\n",
    "x = 4\n",
    "\n",
    "result = binarySearch(array, x, 0, len(array)-1)\n",
    "\n",
    "if result != -1:\n",
    "    print(\"Element is present at index \" + str(result))\n",
    "else:\n",
    "    print(\"Not found\")"
   ]
  },
  {
   "cell_type": "markdown",
   "id": "0a972f8f",
   "metadata": {},
   "source": [
    "# Property"
   ]
  },
  {
   "cell_type": "code",
   "execution_count": 72,
   "id": "229dfab6",
   "metadata": {},
   "outputs": [
    {
     "name": "stdout",
     "output_type": "stream",
     "text": [
      "5\n",
      "RADIUS DELETED\n"
     ]
    }
   ],
   "source": [
    "class circle:\n",
    "    def __init__(self,r):\n",
    "        self.r=r \n",
    "    \n",
    "    @property\n",
    "    def radius(self):\n",
    "        return self.r \n",
    "    \n",
    "    @radius.setter \n",
    "    def radius(self,value):\n",
    "        if value<0:\n",
    "            raise ValueError(\"RADIUS CANNOT BE NEGATIVE\")\n",
    "        self.r=value \n",
    "    \n",
    "    @radius.deleter \n",
    "    def radius(self):\n",
    "        print(\"RADIUS DELETED\")\n",
    "        del self.r \n",
    "\n",
    "x=circle(5)\n",
    "print(x.radius)\n",
    "x.radius=10 \n",
    "\n",
    "del x.radius "
   ]
  },
  {
   "cell_type": "code",
   "execution_count": 73,
   "id": "7b8aea7b",
   "metadata": {},
   "outputs": [
    {
     "name": "stdout",
     "output_type": "stream",
     "text": [
      "5\n",
      "RADIUS DELETED\n"
     ]
    }
   ],
   "source": [
    "class circle:\n",
    "    def __init__(self,r):\n",
    "        self.__r=r \n",
    "    \n",
    "    @property\n",
    "    def radius(self):\n",
    "        return self.__r \n",
    "    \n",
    "    @radius.setter \n",
    "    def radius(self,value):\n",
    "        if value<0:\n",
    "            raise ValueError(\"RADIUS CANNOT BE NEGATIVE\")\n",
    "        self.__r=value \n",
    "    \n",
    "    @radius.deleter \n",
    "    def radius(self):\n",
    "        print(\"RADIUS DELETED\")\n",
    "        del self.__r \n",
    "\n",
    "x=circle(5)\n",
    "print(x.radius)\n",
    "x.radius=10 \n",
    "\n",
    "del x.radius "
   ]
  },
  {
   "cell_type": "code",
   "execution_count": null,
   "id": "36979991",
   "metadata": {},
   "outputs": [],
   "source": [
    "class Alphabet:\n",
    "    def __init__(self, value):\n",
    "        self._value = value\n",
    "\n",
    "    def getValue(self):\n",
    "        print(\"Getting value\")\n",
    "        return self._value\n",
    "\n",
    "    def setValue(self, value):\n",
    "        print(\"Setting value to \" + value)\n",
    "        self._value = value\n",
    "\n",
    "    def delValue(self):\n",
    "        print(\"Deleting value\")\n",
    "        del self._value\n",
    "\n",
    "    value = property(getValue, setValue, delValue)\n",
    "\n",
    "# Usage\n",
    "x = Alphabet(\"GeeksforGeeks\")\n",
    "print(x.value)\n",
    "\n",
    "x.value = \"GfG\"\n",
    "del x.value"
   ]
  },
  {
   "cell_type": "markdown",
   "id": "4835b97f",
   "metadata": {},
   "source": []
  }
 ],
 "metadata": {
  "kernelspec": {
   "display_name": "Python 3",
   "language": "python",
   "name": "python3"
  },
  "language_info": {
   "codemirror_mode": {
    "name": "ipython",
    "version": 3
   },
   "file_extension": ".py",
   "mimetype": "text/x-python",
   "name": "python",
   "nbconvert_exporter": "python",
   "pygments_lexer": "ipython3",
   "version": "3.12.3"
  }
 },
 "nbformat": 4,
 "nbformat_minor": 5
}
