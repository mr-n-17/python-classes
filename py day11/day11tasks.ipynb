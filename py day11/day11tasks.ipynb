{
 "cells": [
  {
   "cell_type": "code",
   "execution_count": null,
   "id": "9745a1b2",
   "metadata": {},
   "outputs": [],
   "source": [
    "# Class and Object:\n",
    "\n",
    "# 1.Student Management System\n",
    "# Requirements:\n",
    "# Define a Student class.\n",
    "\n",
    "# Each student should have:\n",
    "\n",
    "# name\n",
    "\n",
    "# roll_no\n",
    "\n",
    "# marks (a dictionary with subject: score)\n",
    "\n",
    "# Add methods to:\n",
    "\n",
    "# Add a subject and marks\n",
    "\n",
    "# Calculate average\n",
    "\n",
    "# Determine grade based on average\n",
    "\n",
    "# Display student details\n",
    "\n",
    "# Use @property to get grade automatically.\n",
    "\n",
    "# Use a class variable to keep track of total students. \n",
    "\n",
    "class Student:\n",
    "    def __init__(self,name,rollno,**kwargs):\n",
    "        self.n=name \n",
    "        self.r=rollno \n",
    "        self.kwargs=kwargs \n",
    "    \n",
    "    _grades={\n",
    "        \n",
    "    }\n",
    "    \n",
    "\n"
   ]
  },
  {
   "cell_type": "code",
   "execution_count": 5,
   "id": "fd3a206a",
   "metadata": {},
   "outputs": [
    {
     "data": {
      "text/plain": [
       "False"
      ]
     },
     "execution_count": 5,
     "metadata": {},
     "output_type": "execute_result"
    }
   ],
   "source": [
    "l=[]\n",
    "bool(l)"
   ]
  },
  {
   "cell_type": "code",
   "execution_count": 9,
   "id": "1ced72af",
   "metadata": {},
   "outputs": [
    {
     "data": {
      "text/plain": [
       "[1, 2, 2, 4, 5, 23]"
      ]
     },
     "execution_count": 9,
     "metadata": {},
     "output_type": "execute_result"
    }
   ],
   "source": [
    "t=(1,5,23,2,4,2)\n",
    "t=sorted(t)\n",
    "t"
   ]
  },
  {
   "cell_type": "code",
   "execution_count": null,
   "id": "43b14cb0",
   "metadata": {},
   "outputs": [],
   "source": []
  }
 ],
 "metadata": {
  "kernelspec": {
   "display_name": "Python 3",
   "language": "python",
   "name": "python3"
  },
  "language_info": {
   "codemirror_mode": {
    "name": "ipython",
    "version": 3
   },
   "file_extension": ".py",
   "mimetype": "text/x-python",
   "name": "python",
   "nbconvert_exporter": "python",
   "pygments_lexer": "ipython3",
   "version": "3.12.3"
  }
 },
 "nbformat": 4,
 "nbformat_minor": 5
}
