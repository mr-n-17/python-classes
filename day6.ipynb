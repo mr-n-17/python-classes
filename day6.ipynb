{
 "cells": [
  {
   "cell_type": "markdown",
   "id": "40607f2a",
   "metadata": {},
   "source": [
    "# List Comprehension"
   ]
  },
  {
   "cell_type": "code",
   "execution_count": 5,
   "id": "a82a007a",
   "metadata": {},
   "outputs": [
    {
     "data": {
      "text/plain": [
       "[7,\n",
       " 14,\n",
       " 21,\n",
       " 28,\n",
       " 35,\n",
       " 42,\n",
       " 49,\n",
       " 56,\n",
       " 63,\n",
       " 70,\n",
       " 77,\n",
       " 84,\n",
       " 91,\n",
       " 98,\n",
       " 105,\n",
       " 112,\n",
       " 119,\n",
       " 126,\n",
       " 133,\n",
       " 140,\n",
       " 147,\n",
       " 154,\n",
       " 161,\n",
       " 168,\n",
       " 175,\n",
       " 182,\n",
       " 189,\n",
       " 196,\n",
       " 203,\n",
       " 210,\n",
       " 217,\n",
       " 224,\n",
       " 231,\n",
       " 238,\n",
       " 245,\n",
       " 252,\n",
       " 259,\n",
       " 266,\n",
       " 273,\n",
       " 280,\n",
       " 287,\n",
       " 294,\n",
       " 301,\n",
       " 308,\n",
       " 315,\n",
       " 322,\n",
       " 329,\n",
       " 336,\n",
       " 343,\n",
       " 350,\n",
       " 357,\n",
       " 364,\n",
       " 371,\n",
       " 378,\n",
       " 385,\n",
       " 392,\n",
       " 399,\n",
       " 406,\n",
       " 413,\n",
       " 420,\n",
       " 427,\n",
       " 434,\n",
       " 441,\n",
       " 448,\n",
       " 455,\n",
       " 462,\n",
       " 469,\n",
       " 476,\n",
       " 483,\n",
       " 490,\n",
       " 497,\n",
       " 504,\n",
       " 511,\n",
       " 518,\n",
       " 525,\n",
       " 532,\n",
       " 539,\n",
       " 546,\n",
       " 553,\n",
       " 560,\n",
       " 567,\n",
       " 574,\n",
       " 581,\n",
       " 588,\n",
       " 595,\n",
       " 602,\n",
       " 609,\n",
       " 616,\n",
       " 623,\n",
       " 630,\n",
       " 637,\n",
       " 644,\n",
       " 651,\n",
       " 658,\n",
       " 665,\n",
       " 672,\n",
       " 679,\n",
       " 686,\n",
       " 693,\n",
       " 700,\n",
       " 707,\n",
       " 714,\n",
       " 721,\n",
       " 728,\n",
       " 735,\n",
       " 742,\n",
       " 749,\n",
       " 756,\n",
       " 763,\n",
       " 770,\n",
       " 777,\n",
       " 784,\n",
       " 791,\n",
       " 798,\n",
       " 805,\n",
       " 812,\n",
       " 819,\n",
       " 826,\n",
       " 833,\n",
       " 840,\n",
       " 847,\n",
       " 854,\n",
       " 861,\n",
       " 868,\n",
       " 875,\n",
       " 882,\n",
       " 889,\n",
       " 896,\n",
       " 903,\n",
       " 910,\n",
       " 917,\n",
       " 924,\n",
       " 931,\n",
       " 938,\n",
       " 945,\n",
       " 952,\n",
       " 959,\n",
       " 966,\n",
       " 973,\n",
       " 980,\n",
       " 987,\n",
       " 994]"
      ]
     },
     "execution_count": 5,
     "metadata": {},
     "output_type": "execute_result"
    }
   ],
   "source": [
    "l =[ u for  u in range(1,1000) if u%7==0]\n",
    "l\n"
   ]
  },
  {
   "cell_type": "code",
   "execution_count": 4,
   "id": "b9089050",
   "metadata": {},
   "outputs": [
    {
     "data": {
      "text/plain": [
       "[3,\n",
       " 13,\n",
       " 23,\n",
       " 30,\n",
       " 31,\n",
       " 32,\n",
       " 33,\n",
       " 34,\n",
       " 35,\n",
       " 36,\n",
       " 37,\n",
       " 38,\n",
       " 39,\n",
       " 43,\n",
       " 53,\n",
       " 63,\n",
       " 73,\n",
       " 83,\n",
       " 93,\n",
       " 103,\n",
       " 113,\n",
       " 123,\n",
       " 130,\n",
       " 131,\n",
       " 132,\n",
       " 133,\n",
       " 134,\n",
       " 135,\n",
       " 136,\n",
       " 137,\n",
       " 138,\n",
       " 139,\n",
       " 143,\n",
       " 153,\n",
       " 163,\n",
       " 173,\n",
       " 183,\n",
       " 193,\n",
       " 203,\n",
       " 213,\n",
       " 223,\n",
       " 230,\n",
       " 231,\n",
       " 232,\n",
       " 233,\n",
       " 234,\n",
       " 235,\n",
       " 236,\n",
       " 237,\n",
       " 238,\n",
       " 239,\n",
       " 243,\n",
       " 253,\n",
       " 263,\n",
       " 273,\n",
       " 283,\n",
       " 293,\n",
       " 300,\n",
       " 301,\n",
       " 302,\n",
       " 303,\n",
       " 304,\n",
       " 305,\n",
       " 306,\n",
       " 307,\n",
       " 308,\n",
       " 309,\n",
       " 310,\n",
       " 311,\n",
       " 312,\n",
       " 313,\n",
       " 314,\n",
       " 315,\n",
       " 316,\n",
       " 317,\n",
       " 318,\n",
       " 319,\n",
       " 320,\n",
       " 321,\n",
       " 322,\n",
       " 323,\n",
       " 324,\n",
       " 325,\n",
       " 326,\n",
       " 327,\n",
       " 328,\n",
       " 329,\n",
       " 330,\n",
       " 331,\n",
       " 332,\n",
       " 333,\n",
       " 334,\n",
       " 335,\n",
       " 336,\n",
       " 337,\n",
       " 338,\n",
       " 339,\n",
       " 340,\n",
       " 341,\n",
       " 342,\n",
       " 343,\n",
       " 344,\n",
       " 345,\n",
       " 346,\n",
       " 347,\n",
       " 348,\n",
       " 349,\n",
       " 350,\n",
       " 351,\n",
       " 352,\n",
       " 353,\n",
       " 354,\n",
       " 355,\n",
       " 356,\n",
       " 357,\n",
       " 358,\n",
       " 359,\n",
       " 360,\n",
       " 361,\n",
       " 362,\n",
       " 363,\n",
       " 364,\n",
       " 365,\n",
       " 366,\n",
       " 367,\n",
       " 368,\n",
       " 369,\n",
       " 370,\n",
       " 371,\n",
       " 372,\n",
       " 373,\n",
       " 374,\n",
       " 375,\n",
       " 376,\n",
       " 377,\n",
       " 378,\n",
       " 379,\n",
       " 380,\n",
       " 381,\n",
       " 382,\n",
       " 383,\n",
       " 384,\n",
       " 385,\n",
       " 386,\n",
       " 387,\n",
       " 388,\n",
       " 389,\n",
       " 390,\n",
       " 391,\n",
       " 392,\n",
       " 393,\n",
       " 394,\n",
       " 395,\n",
       " 396,\n",
       " 397,\n",
       " 398,\n",
       " 399,\n",
       " 403,\n",
       " 413,\n",
       " 423,\n",
       " 430,\n",
       " 431,\n",
       " 432,\n",
       " 433,\n",
       " 434,\n",
       " 435,\n",
       " 436,\n",
       " 437,\n",
       " 438,\n",
       " 439,\n",
       " 443,\n",
       " 453,\n",
       " 463,\n",
       " 473,\n",
       " 483,\n",
       " 493,\n",
       " 503,\n",
       " 513,\n",
       " 523,\n",
       " 530,\n",
       " 531,\n",
       " 532,\n",
       " 533,\n",
       " 534,\n",
       " 535,\n",
       " 536,\n",
       " 537,\n",
       " 538,\n",
       " 539,\n",
       " 543,\n",
       " 553,\n",
       " 563,\n",
       " 573,\n",
       " 583,\n",
       " 593,\n",
       " 603,\n",
       " 613,\n",
       " 623,\n",
       " 630,\n",
       " 631,\n",
       " 632,\n",
       " 633,\n",
       " 634,\n",
       " 635,\n",
       " 636,\n",
       " 637,\n",
       " 638,\n",
       " 639,\n",
       " 643,\n",
       " 653,\n",
       " 663,\n",
       " 673,\n",
       " 683,\n",
       " 693,\n",
       " 703,\n",
       " 713,\n",
       " 723,\n",
       " 730,\n",
       " 731,\n",
       " 732,\n",
       " 733,\n",
       " 734,\n",
       " 735,\n",
       " 736,\n",
       " 737,\n",
       " 738,\n",
       " 739,\n",
       " 743,\n",
       " 753,\n",
       " 763,\n",
       " 773,\n",
       " 783,\n",
       " 793,\n",
       " 803,\n",
       " 813,\n",
       " 823,\n",
       " 830,\n",
       " 831,\n",
       " 832,\n",
       " 833,\n",
       " 834,\n",
       " 835,\n",
       " 836,\n",
       " 837,\n",
       " 838,\n",
       " 839,\n",
       " 843,\n",
       " 853,\n",
       " 863,\n",
       " 873,\n",
       " 883,\n",
       " 893,\n",
       " 903,\n",
       " 913,\n",
       " 923,\n",
       " 930,\n",
       " 931,\n",
       " 932,\n",
       " 933,\n",
       " 934,\n",
       " 935,\n",
       " 936,\n",
       " 937,\n",
       " 938,\n",
       " 939,\n",
       " 943,\n",
       " 953,\n",
       " 963,\n",
       " 973,\n",
       " 983,\n",
       " 993]"
      ]
     },
     "execution_count": 4,
     "metadata": {},
     "output_type": "execute_result"
    }
   ],
   "source": [
    "m= [ i for i in range(1,1000) if '3' in str(i)]\n",
    "m"
   ]
  },
  {
   "cell_type": "code",
   "execution_count": 13,
   "id": "65af27a5",
   "metadata": {},
   "outputs": [
    {
     "name": "stdout",
     "output_type": "stream",
     "text": [
      "10\n"
     ]
    },
    {
     "data": {
      "text/plain": [
       "10"
      ]
     },
     "execution_count": 13,
     "metadata": {},
     "output_type": "execute_result"
    }
   ],
   "source": [
    "s='hasdfuj hjafsd jgdasukbn        guksdgbjb'\n",
    "m=0\n",
    "q= [m+1 for i in s if i==' ']\n",
    "print(sum(q))\n",
    "len(q)"
   ]
  },
  {
   "cell_type": "code",
   "execution_count": 16,
   "id": "b1e579b1",
   "metadata": {},
   "outputs": [
    {
     "data": {
      "text/plain": [
       "['Y',\n",
       " 'l',\n",
       " 'l',\n",
       " 'w',\n",
       " 'y',\n",
       " 'k',\n",
       " 's',\n",
       " 'l',\n",
       " 'k',\n",
       " 'y',\n",
       " 'l',\n",
       " 'l',\n",
       " 'n',\n",
       " 'g',\n",
       " 'n',\n",
       " 'd',\n",
       " 'y',\n",
       " 'm',\n",
       " 'n',\n",
       " 'g',\n",
       " 'n',\n",
       " 'd',\n",
       " 'y',\n",
       " 's',\n",
       " 't',\n",
       " 'r',\n",
       " 'd',\n",
       " 'y',\n",
       " 't',\n",
       " 'h',\n",
       " 'y',\n",
       " 'y',\n",
       " 'l',\n",
       " 'd',\n",
       " 'd',\n",
       " 'w',\n",
       " 'h',\n",
       " '9',\n",
       " 'l',\n",
       " 's',\n",
       " 'n',\n",
       " 'g',\n",
       " 'y',\n",
       " 'k',\n",
       " 'y',\n",
       " 'y',\n",
       " 'm',\n",
       " 's']"
      ]
     },
     "execution_count": 16,
     "metadata": {},
     "output_type": "execute_result"
    }
   ],
   "source": [
    "k= [ i for i in 'Yellow yaks like yelling and yaming and yestarday they yolded whi9le using yuky yams' if i not in 'aeiouAEIOU' and i!=' ']\n",
    "k"
   ]
  },
  {
   "cell_type": "code",
   "execution_count": 23,
   "id": "df83dce0",
   "metadata": {},
   "outputs": [
    {
     "data": {
      "text/plain": [
       "[(0, 'hi'), (1, 1), (2, 4), (3, 5), (4, 'apple'), (5, ('t', 'b'))]"
      ]
     },
     "execution_count": 23,
     "metadata": {},
     "output_type": "execute_result"
    }
   ],
   "source": [
    "x=['hi',1,4,5,'apple',('t','b')]\n",
    "k=[(i,x[i]) for i in range(len(x)) ]\n",
    "k"
   ]
  },
  {
   "cell_type": "code",
   "execution_count": 21,
   "id": "6a66617f",
   "metadata": {},
   "outputs": [
    {
     "data": {
      "text/plain": [
       "[2, 4, 5]"
      ]
     },
     "execution_count": 21,
     "metadata": {},
     "output_type": "execute_result"
    }
   ],
   "source": [
    "x=[1,2,3,4,5]\n",
    "y=[2,4,5,6,2]\n",
    "z=[x[i] for i in range(len(x)) if x[i] in y]\n",
    "z"
   ]
  },
  {
   "cell_type": "code",
   "execution_count": 32,
   "id": "5651825c",
   "metadata": {},
   "outputs": [
    {
     "name": "stdout",
     "output_type": "stream",
     "text": [
      "['In', '1984', 'there', 'were', '13', 'instances', 'of', 'a', 'protest', 'with', 'over', '1000', 'people', 'attending']\n",
      "['1984', '13', '1000']\n"
     ]
    }
   ],
   "source": [
    "s='In 1984 there were 13 instances of a protest with over 1000 people attending'\n",
    "m=[i for i in s.split()]\n",
    "print(m)\n",
    "l= [i for i in m if i.isdigit()]\n",
    "print(l)"
   ]
  },
  {
   "cell_type": "code",
   "execution_count": 33,
   "id": "95f60986",
   "metadata": {},
   "outputs": [
    {
     "data": {
      "text/plain": [
       "['odd',\n",
       " 'even',\n",
       " 'odd',\n",
       " 'even',\n",
       " 'odd',\n",
       " 'even',\n",
       " 'odd',\n",
       " 'even',\n",
       " 'odd',\n",
       " 'even',\n",
       " 'odd',\n",
       " 'even',\n",
       " 'odd',\n",
       " 'even',\n",
       " 'odd',\n",
       " 'even',\n",
       " 'odd',\n",
       " 'even',\n",
       " 'odd']"
      ]
     },
     "execution_count": 33,
     "metadata": {},
     "output_type": "execute_result"
    }
   ],
   "source": [
    "l=['even' if i%2==0 else 'odd' for i in range(1,20)]\n",
    "l"
   ]
  },
  {
   "cell_type": "code",
   "execution_count": null,
   "id": "990df5d8",
   "metadata": {},
   "outputs": [
    {
     "data": {
      "text/plain": [
       "[(1, 1), 'not match', 'not match']"
      ]
     },
     "execution_count": 44,
     "metadata": {},
     "output_type": "execute_result"
    }
   ],
   "source": [
    "m=[1,2,3]\n",
    "k=[1,3,4,5,6]\n",
    "l=(m[i],k[i] for i in range(len(m)) if m[i] in k)\n",
    "l=[(m[i],k[i]) if len(m)==min(len(m),len(k)) and m[i]==k[i] else (m[i],k[i]) if k[i]==m[i] else 'not match' for i in range(min(len(m),len(k))) ]\n",
    "l"
   ]
  },
  {
   "cell_type": "code",
   "execution_count": 47,
   "id": "5f646e75",
   "metadata": {},
   "outputs": [
    {
     "data": {
      "text/plain": [
       "['svd', 'hvb', 'gv', 'hb']"
      ]
     },
     "execution_count": 47,
     "metadata": {},
     "output_type": "execute_result"
    }
   ],
   "source": [
    "s='niafjds hsgdvjb hsvgj hgsdv svd hsgd hvb gv hb'\n",
    "l=[ i for i in s.split() if len(i)<4]\n",
    "l"
   ]
  },
  {
   "cell_type": "code",
   "execution_count": 56,
   "id": "c7615f88",
   "metadata": {},
   "outputs": [
    {
     "data": {
      "text/plain": [
       "[2,\n",
       " 3,\n",
       " 4,\n",
       " 5,\n",
       " 6,\n",
       " 7,\n",
       " 8,\n",
       " 9,\n",
       " 10,\n",
       " 12,\n",
       " 14,\n",
       " 15,\n",
       " 16,\n",
       " 18,\n",
       " 20,\n",
       " 21,\n",
       " 22,\n",
       " 24,\n",
       " 25,\n",
       " 26,\n",
       " 27,\n",
       " 28,\n",
       " 30,\n",
       " 32,\n",
       " 33,\n",
       " 34,\n",
       " 35,\n",
       " 36,\n",
       " 38,\n",
       " 39,\n",
       " 40,\n",
       " 42,\n",
       " 44,\n",
       " 45,\n",
       " 46,\n",
       " 48,\n",
       " 49,\n",
       " 50,\n",
       " 51,\n",
       " 52,\n",
       " 54,\n",
       " 55,\n",
       " 56,\n",
       " 57,\n",
       " 58,\n",
       " 60,\n",
       " 62,\n",
       " 63,\n",
       " 64,\n",
       " 65,\n",
       " 66,\n",
       " 68,\n",
       " 69,\n",
       " 70,\n",
       " 72,\n",
       " 74,\n",
       " 75,\n",
       " 76,\n",
       " 77,\n",
       " 78,\n",
       " 80,\n",
       " 81,\n",
       " 82,\n",
       " 84,\n",
       " 85,\n",
       " 86,\n",
       " 87,\n",
       " 88,\n",
       " 90,\n",
       " 91,\n",
       " 92,\n",
       " 93,\n",
       " 94,\n",
       " 95,\n",
       " 96,\n",
       " 98,\n",
       " 99]"
      ]
     },
     "execution_count": 56,
     "metadata": {},
     "output_type": "execute_result"
    }
   ],
   "source": [
    "l=[[(i,j) for j in range(2,9) if i%j==0] for i in range(1,1000)]\n",
    "l\n",
    "\n",
    "m=[i for i in range(1,100) if True in [True for x in range(2,9) if i%x==0]]\n",
    "m"
   ]
  },
  {
   "cell_type": "markdown",
   "id": "d8e2926f",
   "metadata": {},
   "source": [
    "# DICT COMPREHENION"
   ]
  },
  {
   "cell_type": "code",
   "execution_count": null,
   "id": "6658660a",
   "metadata": {},
   "outputs": [
    {
     "data": {
      "text/plain": [
       "{'a': 1, 'b': 3, 'c': 4}"
      ]
     },
     "execution_count": 66,
     "metadata": {},
     "output_type": "execute_result"
    }
   ],
   "source": [
    "# two lists to dict is done by comprehension\n",
    "\n",
    "l1=['a','b','c']\n",
    "l2=[1,3,4]\n",
    "d={l1[i]:l2[i] for i in range(len(l1))}\n",
    "d"
   ]
  },
  {
   "cell_type": "code",
   "execution_count": 73,
   "id": "70060a9c",
   "metadata": {},
   "outputs": [
    {
     "data": {
      "text/plain": [
       "{1: 'a', 2: 'b'}"
      ]
     },
     "execution_count": 73,
     "metadata": {},
     "output_type": "execute_result"
    }
   ],
   "source": [
    "d={'a':1 , 'b': 2}\n",
    "x={v:i for i,v in zip(d.keys(),d.values())}\n",
    "x\n",
    "\n",
    "m={v:i for i,v in d.items()}\n",
    "m"
   ]
  },
  {
   "cell_type": "code",
   "execution_count": 147,
   "id": "d921f4b2",
   "metadata": {},
   "outputs": [
    {
     "data": {
      "text/plain": [
       "{'b': 1, 'a': 3, 'n': 2}"
      ]
     },
     "execution_count": 147,
     "metadata": {},
     "output_type": "execute_result"
    }
   ],
   "source": [
    "\n",
    "\n",
    "s='banana'\n",
    "x=0\n",
    "d={i:s.count(i) for i in s}\n",
    "d\n",
    "\n",
    "# m={i:(0 if i not in m else m[i]+=1) for i in s}\n",
    "# m"
   ]
  },
  {
   "cell_type": "markdown",
   "id": "00b4e52c",
   "metadata": {},
   "source": [
    "# MAP"
   ]
  },
  {
   "cell_type": "code",
   "execution_count": 80,
   "id": "834e4a0f",
   "metadata": {},
   "outputs": [
    {
     "name": "stdout",
     "output_type": "stream",
     "text": [
      "(1, 5.76)\n"
     ]
    }
   ],
   "source": [
    "l=[2.3,4]\n",
    "\n",
    "def area(a):\n",
    "    return a*a \n",
    "print(tuple(map(area,(1,2.4))))"
   ]
  },
  {
   "cell_type": "markdown",
   "id": "fe12309a",
   "metadata": {},
   "source": [
    "# FILTER"
   ]
  },
  {
   "cell_type": "code",
   "execution_count": null,
   "id": "9e5dd6a9",
   "metadata": {},
   "outputs": [],
   "source": [
    "def is_even(num):\n",
    "    return num % 2 == 0\n",
    "\n",
    "numbers = [1, 2, 3, 4, 5, 6, 7, 8, 9, 10]\n",
    "filtered_numbers = list(filter(is_even, numbers))\n",
    "print(filtered_numbers)"
   ]
  },
  {
   "cell_type": "code",
   "execution_count": null,
   "id": "5dc1e410",
   "metadata": {},
   "outputs": [],
   "source": [
    "mixed_list = [0, 1, False, True, '', 'Hello']\n",
    "filtered_list = list(filter(None, mixed_list))\n",
    "print(filtered_list)"
   ]
  },
  {
   "cell_type": "markdown",
   "id": "7e79b6fa",
   "metadata": {},
   "source": [
    "# REDUCE"
   ]
  },
  {
   "cell_type": "code",
   "execution_count": null,
   "id": "1fb582d0",
   "metadata": {},
   "outputs": [],
   "source": [
    "from functools import reduce\n",
    "\n",
    "# Function to add two numbers\n",
    "def add(x, y):\n",
    "    return x + y\n",
    "\n",
    "a = [1, 2, 3, 4, 5]\n",
    "res = reduce(add, a)\n",
    "\n",
    "print(res)"
   ]
  },
  {
   "cell_type": "code",
   "execution_count": 88,
   "id": "a268f5cc",
   "metadata": {},
   "outputs": [
    {
     "data": {
      "text/plain": [
       "[16]"
      ]
     },
     "execution_count": 88,
     "metadata": {},
     "output_type": "execute_result"
    }
   ],
   "source": [
    "def square(a):\n",
    "    return a*a \n",
    "\n",
    "list(map(square,[4]))\n",
    "list(map(lambda x:x*x,[4]))"
   ]
  },
  {
   "cell_type": "code",
   "execution_count": 93,
   "id": "f734f0a9",
   "metadata": {},
   "outputs": [
    {
     "name": "stdout",
     "output_type": "stream",
     "text": [
      "NIVAS\n"
     ]
    }
   ],
   "source": [
    "s=['nivas']\n",
    "\n",
    "print(*list(map(lambda x: x.upper(),s)))"
   ]
  },
  {
   "cell_type": "code",
   "execution_count": 95,
   "id": "05aa0938",
   "metadata": {},
   "outputs": [
    {
     "name": "stdout",
     "output_type": "stream",
     "text": [
      "[4, 569, 11, 9]\n"
     ]
    }
   ],
   "source": [
    "a=[1,2,3,4]\n",
    "b=[3,567,8,5]\n",
    "c=list(map(lambda x,y: x+y,a,b))\n",
    "print(c)"
   ]
  },
  {
   "cell_type": "code",
   "execution_count": 101,
   "id": "ba2333bf",
   "metadata": {},
   "outputs": [
    {
     "name": "stdout",
     "output_type": "stream",
     "text": [
      "8 1138 22 18\n"
     ]
    }
   ],
   "source": [
    "a=[1,2,3,4]\n",
    "b=[3,567,8,5]\n",
    "c=[4,569,11,9]\n",
    "print(*tuple(map(lambda x,y,z: x+y+z,a,b,c)))"
   ]
  },
  {
   "cell_type": "code",
   "execution_count": 104,
   "id": "4ace0b10",
   "metadata": {},
   "outputs": [
    {
     "name": "stdout",
     "output_type": "stream",
     "text": [
      "[2, 4, 6]\n"
     ]
    }
   ],
   "source": [
    "a=[1,2,3,4,5,6]\n",
    "print(list(filter(lambda f: f%2==0,a)))"
   ]
  },
  {
   "cell_type": "code",
   "execution_count": 105,
   "id": "fa188670",
   "metadata": {},
   "outputs": [
    {
     "name": "stdout",
     "output_type": "stream",
     "text": [
      "['nlsahd', 'jehgrfnlk', 'djhflkh', 'kljsdhf']\n"
     ]
    }
   ],
   "source": [
    "a='nlsahd jehgrfnlk djhflkh hjdf kljsdhf nih mjn hj h jdhf uyhr'\n",
    "print(list(filter(lambda x: len(x)>4,a.split())))"
   ]
  },
  {
   "cell_type": "code",
   "execution_count": 112,
   "id": "1a667fcc",
   "metadata": {},
   "outputs": [
    {
     "name": "stdout",
     "output_type": "stream",
     "text": [
      "[' ', 'sdulshd', 123]\n"
     ]
    }
   ],
   "source": [
    "l=['',' ','sdulshd',123]\n",
    "print(list(filter(lambda x: x!='',l)))"
   ]
  },
  {
   "cell_type": "code",
   "execution_count": 122,
   "id": "c7b49d1d",
   "metadata": {},
   "outputs": [
    {
     "name": "stdout",
     "output_type": "stream",
     "text": [
      "[3, 5]\n"
     ]
    }
   ],
   "source": [
    "def check(x):\n",
    "    for i in range(2,x):\n",
    "        if x%i!=0:\n",
    "            return True\n",
    "        return False\n",
    "\n",
    "\n",
    "l=[2,3,4,5,6]\n",
    "print(list(filter(check,l)))"
   ]
  },
  {
   "cell_type": "code",
   "execution_count": 123,
   "id": "02df7da7",
   "metadata": {},
   "outputs": [
    {
     "name": "stdout",
     "output_type": "stream",
     "text": [
      "nivasjsdgyajsdkg\n"
     ]
    }
   ],
   "source": [
    "from functools import reduce\n",
    "\n",
    "l=['nivas','jsdgy','ajsdkg']\n",
    "print(reduce(lambda a,b: a+b,l))\n"
   ]
  },
  {
   "cell_type": "code",
   "execution_count": 128,
   "id": "22ea486b",
   "metadata": {},
   "outputs": [
    {
     "name": "stdout",
     "output_type": "stream",
     "text": [
      "425412\n"
     ]
    }
   ],
   "source": [
    "l=[54,425412,54,51321,5640,54105,0,212,0]\n",
    "print(reduce(lambda a,b: a if a>b else b,l))"
   ]
  },
  {
   "cell_type": "markdown",
   "id": "504670fe",
   "metadata": {},
   "source": [
    "# HASHH\n"
   ]
  },
  {
   "cell_type": "code",
   "execution_count": 133,
   "id": "e2eb6d91",
   "metadata": {},
   "outputs": [
    {
     "data": {
      "text/plain": [
       "245772043337665730"
      ]
     },
     "execution_count": 133,
     "metadata": {},
     "output_type": "execute_result"
    }
   ],
   "source": [
    "import hashlib\n",
    "\n",
    "hash('1,2,3')\n",
    "\n",
    "hash('abc')\n",
    "\n",
    "hash('1,2,3')"
   ]
  },
  {
   "cell_type": "code",
   "execution_count": 134,
   "id": "0b99a42f",
   "metadata": {},
   "outputs": [
    {
     "name": "stdout",
     "output_type": "stream",
     "text": [
      "{'sha384', 'sha512_256', 'sha224', 'md5-sha1', 'md5', 'sha3_256', 'sha1', 'sha3_384', 'sha512_224', 'shake_256', 'ripemd160', 'blake2b', 'sha3_224', 'sm3', 'shake_128', 'sha256', 'sha3_512', 'blake2s', 'sha512'}\n",
      "{'sha384', 'sha3_224', 'sha3_384', 'md5', 'shake_128', 'sha224', 'sha256', 'sha3_256', 'shake_256', 'sha1', 'blake2s', 'sha3_512', 'blake2b', 'sha512'}\n"
     ]
    }
   ],
   "source": [
    "print(hashlib.algorithms_available)\n",
    "print(hashlib.algorithms_guaranteed)"
   ]
  },
  {
   "cell_type": "code",
   "execution_count": 135,
   "id": "601abb83",
   "metadata": {},
   "outputs": [
    {
     "name": "stdout",
     "output_type": "stream",
     "text": [
      "b'\\xbax\\x16\\xbf\\x8f\\x01\\xcf\\xeaAA@\\xde]\\xae\"#\\xb0\\x03a\\xa3\\x96\\x17z\\x9c\\xb4\\x10\\xffa\\xf2\\x00\\x15\\xad'\n",
      "ba7816bf8f01cfea414140de5dae2223b00361a396177a9cb410ff61f20015ad\n"
     ]
    }
   ],
   "source": [
    "h=hashlib.new('sha256')\n",
    "h.update(b'abc')\n",
    "print(h.digest())\n",
    "print(h.hexdigest())"
   ]
  },
  {
   "cell_type": "code",
   "execution_count": 137,
   "id": "0c953c4d",
   "metadata": {},
   "outputs": [
    {
     "name": "stdout",
     "output_type": "stream",
     "text": [
      "142fb76d0836a41ae9faa5dba2b6680ce63eeba577c89a34c3870e18b4dae1f0\n"
     ]
    }
   ],
   "source": [
    "h=hashlib.new('sha256')\n",
    "k='Mypas6785'\n",
    "h.update(k.encode())\n",
    "p_hash=h.hexdigest()\n",
    "print(p_hash)"
   ]
  },
  {
   "cell_type": "code",
   "execution_count": 138,
   "id": "9b5545ec",
   "metadata": {},
   "outputs": [
    {
     "name": "stdout",
     "output_type": "stream",
     "text": [
      "142fb76d0836a41ae9faa5dba2b6680ce63eeba577c89a34c3870e18b4dae1f0\n"
     ]
    }
   ],
   "source": [
    "k='Mypas6785'\n",
    "h=hashlib.new('sha256')\n",
    "h.update(k.encode())\n",
    "k_hash=h.hexdigest()\n",
    "print(k_hash)"
   ]
  },
  {
   "cell_type": "markdown",
   "id": "a7b03ab0",
   "metadata": {},
   "source": [
    "# STATISTIC MODULE"
   ]
  },
  {
   "cell_type": "code",
   "execution_count": 141,
   "id": "e0211269",
   "metadata": {},
   "outputs": [
    {
     "ename": "ModuleNotFoundError",
     "evalue": "No module named 'numpy'",
     "output_type": "error",
     "traceback": [
      "\u001b[31m---------------------------------------------------------------------------\u001b[39m",
      "\u001b[31mModuleNotFoundError\u001b[39m                       Traceback (most recent call last)",
      "\u001b[36mCell\u001b[39m\u001b[36m \u001b[39m\u001b[32mIn[141]\u001b[39m\u001b[32m, line 1\u001b[39m\n\u001b[32m----> \u001b[39m\u001b[32m1\u001b[39m \u001b[38;5;28;01mimport\u001b[39;00m\u001b[38;5;250m \u001b[39m\u001b[34;01mnumpy\u001b[39;00m\n\u001b[32m      3\u001b[39m l=[\u001b[32m1\u001b[39m, \u001b[32m3\u001b[39m, \u001b[32m5\u001b[39m, \u001b[32m7\u001b[39m, \u001b[32m9\u001b[39m, \u001b[32m11\u001b[39m, \u001b[32m13\u001b[39m]\n\u001b[32m      4\u001b[39m \u001b[38;5;28mprint\u001b[39m(numpy.average(l))\n",
      "\u001b[31mModuleNotFoundError\u001b[39m: No module named 'numpy'"
     ]
    }
   ],
   "source": [
    "import numpy\n",
    "\n",
    "l=[1, 3, 5, 7, 9, 11, 13]\n",
    "print(numpy.average(l))\n"
   ]
  },
  {
   "cell_type": "code",
   "execution_count": 142,
   "id": "3fe0a4cd",
   "metadata": {},
   "outputs": [
    {
     "name": "stdout",
     "output_type": "stream",
     "text": [
      "Defaulting to user installation because normal site-packages is not writeable\n",
      "Collecting numpy\n",
      "  Downloading numpy-2.2.4-cp312-cp312-win_amd64.whl.metadata (60 kB)\n",
      "     ---------------------------------------- 0.0/60.8 kB ? eta -:--:--\n",
      "     --------------------------------- ------ 51.2/60.8 kB ? eta -:--:--\n",
      "     -------------------------------------- 60.8/60.8 kB 648.8 kB/s eta 0:00:00\n",
      "Downloading numpy-2.2.4-cp312-cp312-win_amd64.whl (12.6 MB)\n",
      "   ---------------------------------------- 0.0/12.6 MB ? eta -:--:--\n",
      "   ---------------------------------------- 0.0/12.6 MB ? eta -:--:--\n",
      "   ---------------------------------------- 0.1/12.6 MB 2.2 MB/s eta 0:00:06\n",
      "    --------------------------------------- 0.2/12.6 MB 1.5 MB/s eta 0:00:09\n",
      "    --------------------------------------- 0.2/12.6 MB 1.4 MB/s eta 0:00:09\n",
      "    --------------------------------------- 0.3/12.6 MB 1.5 MB/s eta 0:00:09\n",
      "   - -------------------------------------- 0.4/12.6 MB 1.4 MB/s eta 0:00:09\n",
      "   - -------------------------------------- 0.5/12.6 MB 1.4 MB/s eta 0:00:09\n",
      "   - -------------------------------------- 0.5/12.6 MB 1.4 MB/s eta 0:00:09\n",
      "   - -------------------------------------- 0.5/12.6 MB 1.2 MB/s eta 0:00:10\n",
      "   - -------------------------------------- 0.6/12.6 MB 1.2 MB/s eta 0:00:10\n",
      "   -- ------------------------------------- 0.6/12.6 MB 1.3 MB/s eta 0:00:10\n",
      "   -- ------------------------------------- 0.6/12.6 MB 1.3 MB/s eta 0:00:10\n",
      "   -- ------------------------------------- 0.7/12.6 MB 1.2 MB/s eta 0:00:10\n",
      "   -- ------------------------------------- 0.8/12.6 MB 1.2 MB/s eta 0:00:10\n",
      "   -- ------------------------------------- 0.8/12.6 MB 1.2 MB/s eta 0:00:10\n",
      "   -- ------------------------------------- 0.8/12.6 MB 1.2 MB/s eta 0:00:11\n",
      "   -- ------------------------------------- 0.9/12.6 MB 1.2 MB/s eta 0:00:11\n",
      "   --- ------------------------------------ 1.0/12.6 MB 1.2 MB/s eta 0:00:11\n",
      "   --- ------------------------------------ 1.0/12.6 MB 1.2 MB/s eta 0:00:10\n",
      "   --- ------------------------------------ 1.0/12.6 MB 1.2 MB/s eta 0:00:10\n",
      "   --- ------------------------------------ 1.1/12.6 MB 1.2 MB/s eta 0:00:10\n",
      "   --- ------------------------------------ 1.2/12.6 MB 1.1 MB/s eta 0:00:11\n",
      "   --- ------------------------------------ 1.2/12.6 MB 1.2 MB/s eta 0:00:10\n",
      "   --- ------------------------------------ 1.2/12.6 MB 1.2 MB/s eta 0:00:10\n",
      "   ---- ----------------------------------- 1.3/12.6 MB 1.1 MB/s eta 0:00:11\n",
      "   ---- ----------------------------------- 1.3/12.6 MB 1.1 MB/s eta 0:00:11\n",
      "   ---- ----------------------------------- 1.4/12.6 MB 1.1 MB/s eta 0:00:11\n",
      "   ---- ----------------------------------- 1.4/12.6 MB 1.1 MB/s eta 0:00:11\n",
      "   ---- ----------------------------------- 1.5/12.6 MB 1.1 MB/s eta 0:00:11\n",
      "   ---- ----------------------------------- 1.5/12.6 MB 1.1 MB/s eta 0:00:11\n",
      "   ---- ----------------------------------- 1.5/12.6 MB 1.1 MB/s eta 0:00:11\n",
      "   ----- ---------------------------------- 1.6/12.6 MB 1.1 MB/s eta 0:00:11\n",
      "   ----- ---------------------------------- 1.7/12.6 MB 1.1 MB/s eta 0:00:11\n",
      "   ----- ---------------------------------- 1.7/12.6 MB 1.1 MB/s eta 0:00:11\n",
      "   ----- ---------------------------------- 1.7/12.6 MB 1.1 MB/s eta 0:00:11\n",
      "   ----- ---------------------------------- 1.8/12.6 MB 1.1 MB/s eta 0:00:11\n",
      "   ----- ---------------------------------- 1.9/12.6 MB 1.1 MB/s eta 0:00:10\n",
      "   ----- ---------------------------------- 1.9/12.6 MB 1.1 MB/s eta 0:00:10\n",
      "   ------ --------------------------------- 1.9/12.6 MB 1.1 MB/s eta 0:00:10\n",
      "   ------ --------------------------------- 2.0/12.6 MB 1.1 MB/s eta 0:00:10\n",
      "   ------ --------------------------------- 2.1/12.6 MB 1.1 MB/s eta 0:00:10\n",
      "   ------ --------------------------------- 2.1/12.6 MB 1.1 MB/s eta 0:00:10\n",
      "   ------ --------------------------------- 2.1/12.6 MB 1.1 MB/s eta 0:00:10\n",
      "   ------ --------------------------------- 2.2/12.6 MB 1.1 MB/s eta 0:00:10\n",
      "   ------ --------------------------------- 2.2/12.6 MB 1.1 MB/s eta 0:00:10\n",
      "   ------- -------------------------------- 2.3/12.6 MB 1.1 MB/s eta 0:00:10\n",
      "   ------- -------------------------------- 2.3/12.6 MB 1.1 MB/s eta 0:00:10\n",
      "   ------- -------------------------------- 2.3/12.6 MB 1.0 MB/s eta 0:00:10\n",
      "   ------- -------------------------------- 2.3/12.6 MB 1.0 MB/s eta 0:00:10\n",
      "   ------- -------------------------------- 2.4/12.6 MB 1.0 MB/s eta 0:00:10\n",
      "   ------- -------------------------------- 2.5/12.6 MB 1.0 MB/s eta 0:00:10\n",
      "   -------- ------------------------------- 2.5/12.6 MB 1.0 MB/s eta 0:00:10\n",
      "   -------- ------------------------------- 2.6/12.6 MB 1.0 MB/s eta 0:00:10\n",
      "   -------- ------------------------------- 2.8/12.6 MB 1.1 MB/s eta 0:00:09\n",
      "   --------- ------------------------------ 2.9/12.6 MB 1.1 MB/s eta 0:00:09\n",
      "   --------- ------------------------------ 2.9/12.6 MB 1.1 MB/s eta 0:00:09\n",
      "   --------- ------------------------------ 3.0/12.6 MB 1.1 MB/s eta 0:00:09\n",
      "   ---------- ----------------------------- 3.3/12.6 MB 1.2 MB/s eta 0:00:08\n",
      "   ----------- ---------------------------- 3.6/12.6 MB 1.3 MB/s eta 0:00:08\n",
      "   ------------- -------------------------- 4.1/12.6 MB 1.5 MB/s eta 0:00:06\n",
      "   -------------- ------------------------- 4.7/12.6 MB 1.6 MB/s eta 0:00:05\n",
      "   ---------------- ----------------------- 5.3/12.6 MB 1.8 MB/s eta 0:00:05\n",
      "   ------------------ --------------------- 5.8/12.6 MB 2.0 MB/s eta 0:00:04\n",
      "   -------------------- ------------------- 6.3/12.6 MB 2.1 MB/s eta 0:00:03\n",
      "   --------------------- ------------------ 6.9/12.6 MB 2.3 MB/s eta 0:00:03\n",
      "   ----------------------- ---------------- 7.5/12.6 MB 2.4 MB/s eta 0:00:03\n",
      "   ------------------------- -------------- 8.0/12.6 MB 2.5 MB/s eta 0:00:02\n",
      "   --------------------------- ------------ 8.6/12.6 MB 2.7 MB/s eta 0:00:02\n",
      "   ---------------------------- ----------- 9.1/12.6 MB 2.8 MB/s eta 0:00:02\n",
      "   ------------------------------ --------- 9.7/12.6 MB 2.9 MB/s eta 0:00:02\n",
      "   -------------------------------- ------- 10.2/12.6 MB 3.1 MB/s eta 0:00:01\n",
      "   ---------------------------------- ----- 10.8/12.6 MB 3.5 MB/s eta 0:00:01\n",
      "   ----------------------------------- ---- 11.3/12.6 MB 4.1 MB/s eta 0:00:01\n",
      "   ------------------------------------- -- 11.9/12.6 MB 5.3 MB/s eta 0:00:01\n",
      "   ---------------------------------------  12.4/12.6 MB 7.0 MB/s eta 0:00:01\n",
      "   ---------------------------------------  12.6/12.6 MB 8.3 MB/s eta 0:00:01\n",
      "   ---------------------------------------  12.6/12.6 MB 8.3 MB/s eta 0:00:01\n",
      "   ---------------------------------------  12.6/12.6 MB 8.3 MB/s eta 0:00:01\n",
      "   ---------------------------------------  12.6/12.6 MB 8.3 MB/s eta 0:00:01\n",
      "   ---------------------------------------  12.6/12.6 MB 8.3 MB/s eta 0:00:01\n",
      "   ---------------------------------------  12.6/12.6 MB 8.3 MB/s eta 0:00:01\n",
      "   ---------------------------------------- 12.6/12.6 MB 7.0 MB/s eta 0:00:00\n",
      "Installing collected packages: numpy\n",
      "Successfully installed numpy-2.2.4\n",
      "Note: you may need to restart the kernel to use updated packages.\n"
     ]
    },
    {
     "name": "stderr",
     "output_type": "stream",
     "text": [
      "\n",
      "[notice] A new release of pip is available: 24.0 -> 25.0.1\n",
      "[notice] To update, run: python.exe -m pip install --upgrade pip\n"
     ]
    }
   ],
   "source": [
    "pip install numpy"
   ]
  },
  {
   "cell_type": "code",
   "execution_count": 143,
   "id": "12539e88",
   "metadata": {},
   "outputs": [
    {
     "name": "stdout",
     "output_type": "stream",
     "text": [
      "7.0\n"
     ]
    }
   ],
   "source": [
    "import numpy\n",
    "\n",
    "l=[1, 3, 5, 7, 9, 11, 13]\n",
    "print(numpy.average(l))"
   ]
  },
  {
   "cell_type": "code",
   "execution_count": 146,
   "id": "e5c6c947",
   "metadata": {},
   "outputs": [
    {
     "name": "stdout",
     "output_type": "stream",
     "text": [
      "7.0\n",
      "7\n",
      "1\n",
      "4.320493798938574\n"
     ]
    }
   ],
   "source": [
    "import statistics\n",
    "\n",
    "l=[1, 3, 5, 7, 9, 11, 13]\n",
    "print(statistics.fmean(l))\n",
    "print(statistics.median(l))\n",
    "print(statistics.mode(l))\n",
    "print(statistics.stdev(l))\n"
   ]
  },
  {
   "cell_type": "code",
   "execution_count": 152,
   "id": "f5ed00a1",
   "metadata": {},
   "outputs": [
    {
     "name": "stdout",
     "output_type": "stream",
     "text": [
      "1744024289.2486608\n",
      "Mon Apr  7 16:41:29 2025\n",
      "time.struct_time(tm_year=2025, tm_mon=4, tm_mday=7, tm_hour=16, tm_min=41, tm_sec=29, tm_wday=0, tm_yday=97, tm_isdst=0)\n",
      "time.struct_time(tm_year=2025, tm_mon=4, tm_mday=7, tm_hour=11, tm_min=11, tm_sec=29, tm_wday=0, tm_yday=97, tm_isdst=0)\n",
      "Mon, 07 Apr 2025 16:41:29\n"
     ]
    },
    {
     "data": {
      "text/plain": [
       "546120.6493312"
      ]
     },
     "execution_count": 152,
     "metadata": {},
     "output_type": "execute_result"
    }
   ],
   "source": [
    "import time \n",
    "\n",
    "print(time.time())\n",
    "print(time.ctime())\n",
    "print(time.localtime())\n",
    "print(time.gmtime())\n",
    "print(time.strftime(\"%a, %d %b %Y %H:%M:%S\", \n",
    "             time.localtime()))\n",
    "\n",
    "time.perf_counter()\n",
    "time.sleep(3)\n",
    "time.perf_counter()"
   ]
  },
  {
   "cell_type": "markdown",
   "id": "6332ba29",
   "metadata": {},
   "source": [
    "# TIMEIT"
   ]
  },
  {
   "cell_type": "code",
   "execution_count": null,
   "id": "050d3cc4",
   "metadata": {},
   "outputs": [
    {
     "name": "stdout",
     "output_type": "stream",
     "text": [
      "0.04678590002004057\n",
      "0.0005187999922782183\n"
     ]
    }
   ],
   "source": [
    "import timeit\n",
    "\n",
    "#time to check a number in a list \n",
    "\n",
    "# my_list=[i for i in range(1000)]\n",
    "\n",
    "\n",
    "lt=timeit.timeit(stmt='500 in my_list',\n",
    "                 setup='my_list = list(range(1000))',\n",
    "                 number=10000)\n",
    "\n",
    "#time to check a number in a set\n",
    "\n",
    "st=timeit.timeit(stmt='500 in my_set',\n",
    "                 setup='my_set=set(range(1000))',\n",
    "                 number=10000)\n",
    "\n",
    "print(lt)\n",
    "print(st)\n",
    "\n"
   ]
  },
  {
   "cell_type": "code",
   "execution_count": 166,
   "id": "2a50006d",
   "metadata": {},
   "outputs": [
    {
     "name": "stdout",
     "output_type": "stream",
     "text": [
      "5.379320900072344\n"
     ]
    }
   ],
   "source": [
    "def test():\n",
    "    return sum([i for i in range(10000)])\n",
    "\n",
    "import timeit \n",
    "print(timeit.timeit(test,number=10000))"
   ]
  },
  {
   "cell_type": "code",
   "execution_count": null,
   "id": "a0e84227",
   "metadata": {},
   "outputs": [],
   "source": [
    "# calculate the time required to complete a Process \n",
    "# display current time every second \n",
    "# print the current and month \n",
    "# create a simple stopwatch"
   ]
  },
  {
   "cell_type": "code",
   "execution_count": 167,
   "id": "3b79ace7",
   "metadata": {},
   "outputs": [
    {
     "name": "stdout",
     "output_type": "stream",
     "text": [
      "Mon Apr  7 17:00:28 2025\n"
     ]
    }
   ],
   "source": [
    "print(time.ctime())"
   ]
  },
  {
   "cell_type": "code",
   "execution_count": 175,
   "id": "1ff3b8e2",
   "metadata": {},
   "outputs": [
    {
     "name": "stdout",
     "output_type": "stream",
     "text": [
      "Mon Apr  7 17:03:53 2025\n",
      "Mon Apr  7 17:03:54 2025\n",
      "Mon Apr  7 17:03:55 2025\n",
      "Mon Apr  7 17:03:56 2025\n",
      "Mon Apr  7 17:03:57 2025\n"
     ]
    }
   ],
   "source": [
    "for i in range(5):\n",
    "    print(time.ctime())\n",
    "    time.sleep(1)"
   ]
  },
  {
   "cell_type": "code",
   "execution_count": 177,
   "id": "92e46bd5",
   "metadata": {},
   "outputs": [
    {
     "name": "stdout",
     "output_type": "stream",
     "text": [
      "2025 4\n",
      "0425\n"
     ]
    }
   ],
   "source": [
    "\n",
    "s=time.localtime()\n",
    "print(s.tm_year,s.tm_mon)\n",
    "print(time.strftime('%m''%y',time.localtime()))"
   ]
  },
  {
   "cell_type": "code",
   "execution_count": 178,
   "id": "94d11636",
   "metadata": {},
   "outputs": [
    {
     "name": "stdout",
     "output_type": "stream",
     "text": [
      "5.750346400076523\n"
     ]
    }
   ],
   "source": [
    "a=input()\n",
    "start=time.perf_counter()\n",
    "b=input()\n",
    "end=time.perf_counter()\n",
    "print(end-start)"
   ]
  },
  {
   "cell_type": "code",
   "execution_count": 179,
   "id": "6200d749",
   "metadata": {},
   "outputs": [
    {
     "name": "stdout",
     "output_type": "stream",
     "text": [
      "Press Enter to start the stopwatch\n",
      "Stopwatch started... Press Enter to stop\n",
      "Elapsed time: 2.32 seconds\n"
     ]
    }
   ],
   "source": [
    "import time\n",
    "\n",
    "def stopwatch():\n",
    "    print(\"Press Enter to start the stopwatch\")\n",
    "    input()\n",
    "    start_time = time.time()\n",
    "    print(\"Stopwatch started... Press Enter to stop\")\n",
    "    input()\n",
    "    end_time = time.time()\n",
    "    elapsed_time = end_time - start_time\n",
    "    print(f\"Elapsed time: {elapsed_time:.2f} seconds\")\n",
    "\n",
    "stopwatch()"
   ]
  },
  {
   "cell_type": "markdown",
   "id": "e541386b",
   "metadata": {},
   "source": [
    "# DATETIME MODULE"
   ]
  },
  {
   "cell_type": "code",
   "execution_count": null,
   "id": "6dcb70d7",
   "metadata": {},
   "outputs": [],
   "source": [
    "#current time \n",
    "# Days until a specific time\n",
    "# convert a userinput from yyyy-mm-dd to dd-mm-yyyy"
   ]
  },
  {
   "cell_type": "code",
   "execution_count": 180,
   "id": "0ac7b680",
   "metadata": {},
   "outputs": [
    {
     "name": "stdout",
     "output_type": "stream",
     "text": [
      "Current date and time: 2025-04-07 17:41:29.128370\n"
     ]
    }
   ],
   "source": [
    "import datetime\n",
    "\n",
    "now = datetime.datetime.now()\n",
    "print(\"Current date and time:\", now)"
   ]
  },
  {
   "cell_type": "code",
   "execution_count": 181,
   "id": "da0d68bf",
   "metadata": {},
   "outputs": [
    {
     "name": "stdout",
     "output_type": "stream",
     "text": [
      "Specific date: 2025-04-06\n",
      "Specific time: 14:30:00\n"
     ]
    }
   ],
   "source": [
    "specific_date = datetime.date(2025, 4, 6)\n",
    "print(\"Specific date:\", specific_date)\n",
    "\n",
    "# Creating a specific time\n",
    "specific_time = datetime.time(14, 30, 0)\n",
    "print(\"Specific time:\", specific_time)"
   ]
  },
  {
   "cell_type": "code",
   "execution_count": 182,
   "id": "c81b627f",
   "metadata": {},
   "outputs": [
    {
     "name": "stdout",
     "output_type": "stream",
     "text": [
      "Days until 2025-12-31: 267 days\n"
     ]
    }
   ],
   "source": [
    "from datetime import datetime\n",
    "\n",
    "# Define the target date\n",
    "target_date = datetime(2025, 12, 31)\n",
    "\n",
    "# Get the current date\n",
    "current_date = datetime.now()\n",
    "\n",
    "# Calculate the difference in days\n",
    "days_until_target = (target_date - current_date).days\n",
    "\n",
    "print(f\"Days until {target_date.date()}: {days_until_target} days\")"
   ]
  },
  {
   "cell_type": "code",
   "execution_count": 183,
   "id": "6f98f2da",
   "metadata": {},
   "outputs": [
    {
     "name": "stdout",
     "output_type": "stream",
     "text": [
      "Converted Date: 07 04 2025\n"
     ]
    }
   ],
   "source": [
    "from datetime import datetime\n",
    "\n",
    "# Function to convert date format\n",
    "def convert_date_format(date_str):\n",
    "    # Parse the input date string\n",
    "    date_obj = datetime.strptime(date_str, '%Y %m %d')\n",
    "    # Convert to the desired format\n",
    "    formatted_date = date_obj.strftime('%d %m %Y')\n",
    "    return formatted_date\n",
    "\n",
    "# Example usage\n",
    "user_input = \"2025 04 07\"\n",
    "converted_date = convert_date_format(user_input)\n",
    "print(\"Converted Date:\", converted_date)"
   ]
  },
  {
   "cell_type": "code",
   "execution_count": 2,
   "id": "22e193ff",
   "metadata": {},
   "outputs": [
    {
     "name": "stdout",
     "output_type": "stream",
     "text": [
      "{1: {'name': 'tjjh', 'age': 47, 'email': 'tjjh238@gmail.com', 'phone': 6917130016}}\n",
      "{2: {'name': 'bkig ', 'age': 39, 'email': 'bkig 558@gmail.com', 'phone': 2067196309}}\n",
      "{3: {'name': 'mxsdjp', 'age': 30, 'email': 'mxsdjp040@gmail.com', 'phone': 6204884800}}\n",
      "{4: {'name': 'tywbymrv', 'age': 47, 'email': 'tywbymrv425@gmail.com', 'phone': 8256399997}}\n",
      "{5: {'name': 'jacn', 'age': 39, 'email': 'jacn660@gmail.com', 'phone': 7832252027}}\n",
      "{6: {'name': 't', 'age': 49, 'email': 't075@gmail.com', 'phone': 7183860992}}\n",
      "{7: {'name': ' fedj ir', 'age': 47, 'email': ' fedj ir510@gmail.com', 'phone': 7153130216}}\n",
      "{8: {'name': 'gk', 'age': 28, 'email': 'gk926@gmail.com', 'phone': 2787459177}}\n",
      "{9: {'name': ' mslth', 'age': 27, 'email': ' mslth724@gmail.com', 'phone': 9079439589}}\n",
      "{10: {'name': 'dne kmxhpw', 'age': 53, 'email': 'dne kmxhpw365@gmail.com', 'phone': 1946704242}}\n"
     ]
    }
   ],
   "source": [
    "# Rabdom Data Generator \n",
    "\n",
    "# A Random Full name \n",
    "# A random age between 18 and 60\n",
    "# A random 10 digit phone number \n",
    "# a random email based on their name \n",
    "# store the data in an nested dict\n",
    "\n",
    "import random \n",
    "\n",
    "def rangen(f1,f2,j):\n",
    "    l=''\n",
    "    for i in range(random.randint(1,10)):\n",
    "        l+=random.choice(f1)\n",
    "    a=random.randint(18,60)\n",
    "    pn=''\n",
    "    for i in range(10):\n",
    "        pn+=random.choice(f2)\n",
    "    em=l\n",
    "    for i in range(3):\n",
    "        em+=random.choice(f2)\n",
    "    em+='@gmail.com'\n",
    "    f3={}\n",
    "    f3[j]={'name':l,'age':int(a),'email':em,'phone':int(pn)}\n",
    "    return f3\n",
    "\n",
    "\n",
    "a1='poiuytrewqasdfghjklmnbvcxz '\n",
    "n1='1234567890'\n",
    "for i in range(1,11):\n",
    "    print(rangen(a1,n1,i))\n",
    "\n",
    "\n",
    "\n"
   ]
  },
  {
   "cell_type": "code",
   "execution_count": null,
   "id": "46004d39",
   "metadata": {},
   "outputs": [],
   "source": []
  }
 ],
 "metadata": {
  "kernelspec": {
   "display_name": "Python 3",
   "language": "python",
   "name": "python3"
  },
  "language_info": {
   "codemirror_mode": {
    "name": "ipython",
    "version": 3
   },
   "file_extension": ".py",
   "mimetype": "text/x-python",
   "name": "python",
   "nbconvert_exporter": "python",
   "pygments_lexer": "ipython3",
   "version": "3.11.1"
  }
 },
 "nbformat": 4,
 "nbformat_minor": 5
}
