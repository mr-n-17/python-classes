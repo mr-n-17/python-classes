{
 "cells": [
  {
   "cell_type": "code",
   "execution_count": 6,
   "id": "3ba41851",
   "metadata": {},
   "outputs": [
    {
     "ename": "KeyboardInterrupt",
     "evalue": "",
     "output_type": "error",
     "traceback": [
      "\u001b[31m---------------------------------------------------------------------------\u001b[39m",
      "\u001b[31mKeyboardInterrupt\u001b[39m                         Traceback (most recent call last)",
      "\u001b[36mCell\u001b[39m\u001b[36m \u001b[39m\u001b[32mIn[6]\u001b[39m\u001b[32m, line 3\u001b[39m\n\u001b[32m      1\u001b[39m \u001b[38;5;28;01mfrom\u001b[39;00m\u001b[38;5;250m \u001b[39m\u001b[34;01mselenium\u001b[39;00m\u001b[38;5;250m \u001b[39m\u001b[38;5;28;01mimport\u001b[39;00m webdriver\n\u001b[32m----> \u001b[39m\u001b[32m3\u001b[39m d=\u001b[43mwebdriver\u001b[49m\u001b[43m.\u001b[49m\u001b[43mChrome\u001b[49m\u001b[43m(\u001b[49m\u001b[43m)\u001b[49m\n\u001b[32m      4\u001b[39m d.get(\u001b[33m'\u001b[39m\u001b[33mhttps://www.google.com\u001b[39m\u001b[33m'\u001b[39m)\n\u001b[32m      5\u001b[39m \u001b[38;5;28mprint\u001b[39m(d.title)\n",
      "\u001b[36mFile \u001b[39m\u001b[32mc:\\Users\\bollini.nivas\\selenium\\.envn\\Lib\\site-packages\\selenium\\webdriver\\chrome\\webdriver.py:45\u001b[39m, in \u001b[36mWebDriver.__init__\u001b[39m\u001b[34m(self, options, service, keep_alive)\u001b[39m\n\u001b[32m     42\u001b[39m service = service \u001b[38;5;28;01mif\u001b[39;00m service \u001b[38;5;28;01melse\u001b[39;00m Service()\n\u001b[32m     43\u001b[39m options = options \u001b[38;5;28;01mif\u001b[39;00m options \u001b[38;5;28;01melse\u001b[39;00m Options()\n\u001b[32m---> \u001b[39m\u001b[32m45\u001b[39m \u001b[38;5;28;43msuper\u001b[39;49m\u001b[43m(\u001b[49m\u001b[43m)\u001b[49m\u001b[43m.\u001b[49m\u001b[34;43m__init__\u001b[39;49m\u001b[43m(\u001b[49m\n\u001b[32m     46\u001b[39m \u001b[43m    \u001b[49m\u001b[43mbrowser_name\u001b[49m\u001b[43m=\u001b[49m\u001b[43mDesiredCapabilities\u001b[49m\u001b[43m.\u001b[49m\u001b[43mCHROME\u001b[49m\u001b[43m[\u001b[49m\u001b[33;43m\"\u001b[39;49m\u001b[33;43mbrowserName\u001b[39;49m\u001b[33;43m\"\u001b[39;49m\u001b[43m]\u001b[49m\u001b[43m,\u001b[49m\n\u001b[32m     47\u001b[39m \u001b[43m    \u001b[49m\u001b[43mvendor_prefix\u001b[49m\u001b[43m=\u001b[49m\u001b[33;43m\"\u001b[39;49m\u001b[33;43mgoog\u001b[39;49m\u001b[33;43m\"\u001b[39;49m\u001b[43m,\u001b[49m\n\u001b[32m     48\u001b[39m \u001b[43m    \u001b[49m\u001b[43moptions\u001b[49m\u001b[43m=\u001b[49m\u001b[43moptions\u001b[49m\u001b[43m,\u001b[49m\n\u001b[32m     49\u001b[39m \u001b[43m    \u001b[49m\u001b[43mservice\u001b[49m\u001b[43m=\u001b[49m\u001b[43mservice\u001b[49m\u001b[43m,\u001b[49m\n\u001b[32m     50\u001b[39m \u001b[43m    \u001b[49m\u001b[43mkeep_alive\u001b[49m\u001b[43m=\u001b[49m\u001b[43mkeep_alive\u001b[49m\u001b[43m,\u001b[49m\n\u001b[32m     51\u001b[39m \u001b[43m\u001b[49m\u001b[43m)\u001b[49m\n",
      "\u001b[36mFile \u001b[39m\u001b[32mc:\\Users\\bollini.nivas\\selenium\\.envn\\Lib\\site-packages\\selenium\\webdriver\\chromium\\webdriver.py:55\u001b[39m, in \u001b[36mChromiumDriver.__init__\u001b[39m\u001b[34m(self, browser_name, vendor_prefix, options, service, keep_alive)\u001b[39m\n\u001b[32m     52\u001b[39m     options.browser_version = \u001b[38;5;28;01mNone\u001b[39;00m\n\u001b[32m     54\u001b[39m \u001b[38;5;28mself\u001b[39m.service.path = \u001b[38;5;28mself\u001b[39m.service.env_path() \u001b[38;5;129;01mor\u001b[39;00m finder.get_driver_path()\n\u001b[32m---> \u001b[39m\u001b[32m55\u001b[39m \u001b[38;5;28;43mself\u001b[39;49m\u001b[43m.\u001b[49m\u001b[43mservice\u001b[49m\u001b[43m.\u001b[49m\u001b[43mstart\u001b[49m\u001b[43m(\u001b[49m\u001b[43m)\u001b[49m\n\u001b[32m     57\u001b[39m executor = ChromiumRemoteConnection(\n\u001b[32m     58\u001b[39m     remote_server_addr=\u001b[38;5;28mself\u001b[39m.service.service_url,\n\u001b[32m     59\u001b[39m     browser_name=browser_name,\n\u001b[32m   (...)\u001b[39m\u001b[32m     62\u001b[39m     ignore_proxy=options._ignore_local_proxy,\n\u001b[32m     63\u001b[39m )\n\u001b[32m     65\u001b[39m \u001b[38;5;28;01mtry\u001b[39;00m:\n",
      "\u001b[36mFile \u001b[39m\u001b[32mc:\\Users\\bollini.nivas\\selenium\\.envn\\Lib\\site-packages\\selenium\\webdriver\\common\\service.py:114\u001b[39m, in \u001b[36mService.start\u001b[39m\u001b[34m(self)\u001b[39m\n\u001b[32m    112\u001b[39m \u001b[38;5;28;01mwhile\u001b[39;00m \u001b[38;5;28;01mTrue\u001b[39;00m:\n\u001b[32m    113\u001b[39m     \u001b[38;5;28mself\u001b[39m.assert_process_still_running()\n\u001b[32m--> \u001b[39m\u001b[32m114\u001b[39m     \u001b[38;5;28;01mif\u001b[39;00m \u001b[38;5;28;43mself\u001b[39;49m\u001b[43m.\u001b[49m\u001b[43mis_connectable\u001b[49m\u001b[43m(\u001b[49m\u001b[43m)\u001b[49m:\n\u001b[32m    115\u001b[39m         \u001b[38;5;28;01mbreak\u001b[39;00m\n\u001b[32m    116\u001b[39m     \u001b[38;5;66;03m# sleep increasing: 0.01, 0.06, 0.11, 0.16, 0.21, 0.26, 0.31, 0.36, 0.41, 0.46, 0.5\u001b[39;00m\n",
      "\u001b[36mFile \u001b[39m\u001b[32mc:\\Users\\bollini.nivas\\selenium\\.envn\\Lib\\site-packages\\selenium\\webdriver\\common\\service.py:131\u001b[39m, in \u001b[36mService.is_connectable\u001b[39m\u001b[34m(self)\u001b[39m\n\u001b[32m    128\u001b[39m \u001b[38;5;28;01mdef\u001b[39;00m\u001b[38;5;250m \u001b[39m\u001b[34mis_connectable\u001b[39m(\u001b[38;5;28mself\u001b[39m) -> \u001b[38;5;28mbool\u001b[39m:\n\u001b[32m    129\u001b[39m \u001b[38;5;250m    \u001b[39m\u001b[33;03m\"\"\"Establishes a socket connection to determine if the service running\u001b[39;00m\n\u001b[32m    130\u001b[39m \u001b[33;03m    on the port is accessible.\"\"\"\u001b[39;00m\n\u001b[32m--> \u001b[39m\u001b[32m131\u001b[39m     \u001b[38;5;28;01mreturn\u001b[39;00m \u001b[43mutils\u001b[49m\u001b[43m.\u001b[49m\u001b[43mis_connectable\u001b[49m\u001b[43m(\u001b[49m\u001b[38;5;28;43mself\u001b[39;49m\u001b[43m.\u001b[49m\u001b[43mport\u001b[49m\u001b[43m)\u001b[49m\n",
      "\u001b[36mFile \u001b[39m\u001b[32mc:\\Users\\bollini.nivas\\selenium\\.envn\\Lib\\site-packages\\selenium\\webdriver\\common\\utils.py:101\u001b[39m, in \u001b[36mis_connectable\u001b[39m\u001b[34m(port, host)\u001b[39m\n\u001b[32m     99\u001b[39m socket_ = \u001b[38;5;28;01mNone\u001b[39;00m\n\u001b[32m    100\u001b[39m \u001b[38;5;28;01mtry\u001b[39;00m:\n\u001b[32m--> \u001b[39m\u001b[32m101\u001b[39m     socket_ = \u001b[43msocket\u001b[49m\u001b[43m.\u001b[49m\u001b[43mcreate_connection\u001b[49m\u001b[43m(\u001b[49m\u001b[43m(\u001b[49m\u001b[43mhost\u001b[49m\u001b[43m,\u001b[49m\u001b[43m \u001b[49m\u001b[43mport\u001b[49m\u001b[43m)\u001b[49m\u001b[43m,\u001b[49m\u001b[43m \u001b[49m\u001b[32;43m1\u001b[39;49m\u001b[43m)\u001b[49m\n\u001b[32m    102\u001b[39m     result = \u001b[38;5;28;01mTrue\u001b[39;00m\n\u001b[32m    103\u001b[39m \u001b[38;5;28;01mexcept\u001b[39;00m _is_connectable_exceptions:\n",
      "\u001b[36mFile \u001b[39m\u001b[32mC:\\Program Files\\Python312\\Lib\\socket.py:837\u001b[39m, in \u001b[36mcreate_connection\u001b[39m\u001b[34m(address, timeout, source_address, all_errors)\u001b[39m\n\u001b[32m    835\u001b[39m \u001b[38;5;28;01mif\u001b[39;00m source_address:\n\u001b[32m    836\u001b[39m     sock.bind(source_address)\n\u001b[32m--> \u001b[39m\u001b[32m837\u001b[39m \u001b[43msock\u001b[49m\u001b[43m.\u001b[49m\u001b[43mconnect\u001b[49m\u001b[43m(\u001b[49m\u001b[43msa\u001b[49m\u001b[43m)\u001b[49m\n\u001b[32m    838\u001b[39m \u001b[38;5;66;03m# Break explicitly a reference cycle\u001b[39;00m\n\u001b[32m    839\u001b[39m exceptions.clear()\n",
      "\u001b[31mKeyboardInterrupt\u001b[39m: "
     ]
    }
   ],
   "source": [
    "from selenium import webdriver\n",
    "\n",
    "d=webdriver.Chrome()\n",
    "d.get('https://www.google.com')\n",
    "print(d.title)\n",
    "d.quit()"
   ]
  },
  {
   "cell_type": "markdown",
   "id": "67abe318",
   "metadata": {},
   "source": [
    "# TO FIND ELEMENTS"
   ]
  },
  {
   "cell_type": "code",
   "execution_count": null,
   "id": "2f114c1d",
   "metadata": {},
   "outputs": [],
   "source": [
    "# find_element(By.ID,..)\n",
    "# find_element(By.NAME,..)\n",
    "# find_element(By.CLASS_NAME,..)\n",
    "# find_element(By.XPATH,..)\n",
    "# find_element(By.CSS_SELECTOR,....)\n"
   ]
  },
  {
   "cell_type": "code",
   "execution_count": 4,
   "id": "8a6ee73a",
   "metadata": {},
   "outputs": [],
   "source": [
    "from selenium.webdriver.common.by import By\n",
    "import time \n",
    "\n",
    "d = webdriver.Chrome()\n",
    "d.get('https://www.google.com')\n",
    "s=d.find_element(By.NAME,'q')\n",
    "s.send_keys('PYTHON SELENIUM')\n",
    "s.submit()\n",
    "time.sleep(3)\n",
    "#d.quit()"
   ]
  },
  {
   "cell_type": "code",
   "execution_count": null,
   "id": "25fd762f",
   "metadata": {},
   "outputs": [
    {
     "ename": "NameError",
     "evalue": "name 'webdriver' is not defined",
     "output_type": "error",
     "traceback": [
      "\u001b[31m---------------------------------------------------------------------------\u001b[39m",
      "\u001b[31mNameError\u001b[39m                                 Traceback (most recent call last)",
      "\u001b[36mCell\u001b[39m\u001b[36m \u001b[39m\u001b[32mIn[4]\u001b[39m\u001b[32m, line 8\u001b[39m\n\u001b[32m      4\u001b[39m \u001b[38;5;28;01mfrom\u001b[39;00m\u001b[38;5;250m \u001b[39m\u001b[34;01mselenium\u001b[39;00m\u001b[34;01m.\u001b[39;00m\u001b[34;01mwebdriver\u001b[39;00m\u001b[34;01m.\u001b[39;00m\u001b[34;01mcommon\u001b[39;00m\u001b[34;01m.\u001b[39;00m\u001b[34;01mkeys\u001b[39;00m\u001b[38;5;250m \u001b[39m\u001b[38;5;28;01mimport\u001b[39;00m Keys \n\u001b[32m      5\u001b[39m \u001b[38;5;28;01mimport\u001b[39;00m\u001b[38;5;250m \u001b[39m\u001b[34;01mtime\u001b[39;00m \n\u001b[32m----> \u001b[39m\u001b[32m8\u001b[39m d = \u001b[43mwebdriver\u001b[49m.Chrome()\n\u001b[32m      9\u001b[39m d.get(\u001b[33m'\u001b[39m\u001b[33mhttps://www.saucedemo.com/\u001b[39m\u001b[33m'\u001b[39m)\n\u001b[32m     10\u001b[39m u=d.find_element(By.ID,\u001b[33m'\u001b[39m\u001b[33muser-name\u001b[39m\u001b[33m'\u001b[39m)\n",
      "\u001b[31mNameError\u001b[39m: name 'webdriver' is not defined"
     ]
    }
   ],
   "source": [
    "#TEST CASE\n",
    "\n",
    "from selenium.webdriver.common.by import By\n",
    "from selenium.webdriver.common.keys import Keys \n",
    "import time \n",
    "\n",
    "\n",
    "d=webdriver.Chrome()\n",
    "d.get('https://www.saucedemo.com/')\n",
    "u=d.find_element(By.ID,'user-name')\n",
    "u.send_keys('standard_user')\n",
    "p=d.find_element(By.ID,'password')\n",
    "p.send_keys('secret_sauce')\n",
    "sub=d.find_element(By.ID,'login-button')\n",
    "sub.send_keys(Keys.ENTER) \n"
   ]
  },
  {
   "cell_type": "code",
   "execution_count": null,
   "id": "b55ade27",
   "metadata": {},
   "outputs": [
    {
     "ename": "NameError",
     "evalue": "name 'webdriver' is not defined",
     "output_type": "error",
     "traceback": [
      "\u001b[31m---------------------------------------------------------------------------\u001b[39m",
      "\u001b[31mNameError\u001b[39m                                 Traceback (most recent call last)",
      "\u001b[36mCell\u001b[39m\u001b[36m \u001b[39m\u001b[32mIn[1]\u001b[39m\u001b[32m, line 6\u001b[39m\n\u001b[32m      2\u001b[39m \u001b[38;5;28;01mfrom\u001b[39;00m\u001b[38;5;250m \u001b[39m\u001b[34;01mselenium\u001b[39;00m\u001b[34;01m.\u001b[39;00m\u001b[34;01mwebdriver\u001b[39;00m\u001b[34;01m.\u001b[39;00m\u001b[34;01mcommon\u001b[39;00m\u001b[34;01m.\u001b[39;00m\u001b[34;01mkeys\u001b[39;00m\u001b[38;5;250m \u001b[39m\u001b[38;5;28;01mimport\u001b[39;00m Keys \n\u001b[32m      3\u001b[39m \u001b[38;5;28;01mimport\u001b[39;00m\u001b[38;5;250m \u001b[39m\u001b[34;01mtime\u001b[39;00m \n\u001b[32m----> \u001b[39m\u001b[32m6\u001b[39m d=\u001b[43mwebdriver\u001b[49m.Chrome()\n\u001b[32m      7\u001b[39m d.get(\u001b[33m'\u001b[39m\u001b[33mhttps://rahulshetty.com/LoginpagePractise/\u001b[39m\u001b[33m'\u001b[39m)\n\u001b[32m      8\u001b[39m u=d.find_element(By.ID,\u001b[33m'\u001b[39m\u001b[33muser-name\u001b[39m\u001b[33m'\u001b[39m)\n",
      "\u001b[31mNameError\u001b[39m: name 'webdriver' is not defined"
     ]
    }
   ],
   "source": [
    "from selenium.webdriver.common.by import By\n",
    "from selenium.webdriver.common.keys import Keys \n",
    "import time \n",
    "\n",
    "\n",
    "d=webdriver.Chrome()\n",
    "d.get('https://rahulshetty.com/LoginpagePractise/')\n",
    "u=d.find_element(By.ID,'user-name')\n",
    "u.send_keys('standard_user')\n",
    "p=d.find_element(By.ID,'password')\n",
    "p.send_keys('secret_sauce1')\n",
    "sub=d.find_element(By.ID,'login-button')\n",
    "sub.send_keys(Keys.ENTER) \n"
   ]
  },
  {
   "cell_type": "code",
   "execution_count": 11,
   "id": "8c06db50",
   "metadata": {},
   "outputs": [
    {
     "name": "stdout",
     "output_type": "stream",
     "text": [
      "Your password is invalid!\n"
     ]
    }
   ],
   "source": [
    "#submit form\n",
    "\n",
    "from selenium.webdriver.common.by import By\n",
    "from selenium.webdriver.common.keys import Keys \n",
    "import time\n",
    "\n",
    "d=webdriver.Chrome()\n",
    "d.get('https://practicetestautomation.com/practice-test-login/')\n",
    "u=d.find_element(By.ID,'username')\n",
    "p=d.find_element(By.ID,'password')\n",
    "u.send_keys('student')\n",
    "p.send_keys('student1233')\n",
    "sub=d.find_element(By.ID,'submit')\n",
    "sub.click()\n",
    "\n",
    "time.sleep(2) \n",
    "\n",
    "#verify error message is displayed \n",
    "\n",
    "e=d.find_element(By.ID,'error')\n",
    "\n",
    "print(e.text)"
   ]
  },
  {
   "cell_type": "code",
   "execution_count": null,
   "id": "19099fd0",
   "metadata": {},
   "outputs": [],
   "source": [
    "# login and logout\n",
    "\n",
    "\n",
    "\n",
    "from selenium.webdriver.common.by import By\n",
    "from selenium.webdriver.common.keys import Keys \n",
    "import time \n",
    "\n",
    "\n",
    "d=webdriver.Chrome()\n",
    "d.get('https://www.saucedemo.com/')\n",
    "u=d.find_element(By.ID,'user-name')\n",
    "u.send_keys('standard_user')\n",
    "p=d.find_element(By.ID,'password')\n",
    "p.send_keys('secret_sauce')\n",
    "sub=d.find_element(By.ID,'login-button')\n",
    "sub.send_keys(Keys.ENTER) \n",
    "\n",
    "b=d.find_element(By.ID,'react-burger-menu-btn')\n",
    "b.click()\n",
    "\n",
    "time.sleep(1)\n",
    "\n",
    "lo=d.find_element(By.ID,'logout_sidebar_link').click()\n"
   ]
  },
  {
   "cell_type": "code",
   "execution_count": 28,
   "id": "b309f1cc",
   "metadata": {},
   "outputs": [
    {
     "name": "stdout",
     "output_type": "stream",
     "text": [
      "CHECK BOX ONE IS SELECTED\n",
      "CHECK BOX 2 IS NOT SELECTED\n"
     ]
    }
   ],
   "source": [
    "# https://the-internet.herokuapp.com/ - for practice use this website\n",
    "\n",
    "#checkboxes \n",
    "\n",
    "from selenium.webdriver.common.by import By \n",
    "import time \n",
    "\n",
    "d=webdriver.Chrome()\n",
    "d.get('https://the-internet.herokuapp.com/checkboxes')\n",
    "time.sleep(2)\n",
    "\n",
    "c=d.find_elements(By.CSS_SELECTOR,\"input[type='checkbox']\")\n",
    "if not c[0].is_selected():\n",
    "    time.sleep(3)\n",
    "    c[0].click()\n",
    "\n",
    "assert c[0].is_selected() == True\n",
    "print('CHECK BOX ONE IS SELECTED')\n",
    "\n",
    "if c[1].is_selected():\n",
    "    time.sleep(3)\n",
    "    c[1].click() \n",
    "\n",
    "\n",
    "assert not c[1].is_selected()\n",
    "print('CHECK BOX 2 IS NOT SELECTED')\n",
    "\n",
    "# c=d.find_elements(By.ID,\"checkboxes\")\n",
    "# print(c)"
   ]
  },
  {
   "cell_type": "code",
   "execution_count": 33,
   "id": "116f44b6",
   "metadata": {},
   "outputs": [
    {
     "name": "stdout",
     "output_type": "stream",
     "text": [
      "Option 2\n"
     ]
    }
   ],
   "source": [
    "# dropdown\n",
    "\n",
    "\n",
    "from selenium.webdriver.common.by import By \n",
    "from selenium.webdriver.support.ui import Select\n",
    "import time \n",
    "\n",
    "d=webdriver.Chrome()\n",
    "d.get('https://the-internet.herokuapp.com/dropdown')\n",
    "\n",
    "c=d.find_element(By.ID,'dropdown')\n",
    "\n",
    "f= Select(c)\n",
    "\n",
    "f.select_by_visible_text(\"Option 2\")\n",
    "time.sleep(1)\n",
    "\n",
    "s=f.first_selected_option.text\n",
    "assert s=='Option 2'\n",
    "print(s)"
   ]
  },
  {
   "cell_type": "code",
   "execution_count": 34,
   "id": "a3940e71",
   "metadata": {},
   "outputs": [],
   "source": [
    "# MANIPULATING THE BROWSER \n",
    "\n",
    "from selenium import webdriver\n",
    "from selenium.webdriver.common.by import By\n",
    "import time \n",
    "\n",
    "d=webdriver.Chrome()\n",
    "d.get('https://www.w3schools.com/')\n",
    "t=d.find_element(By.LINK_TEXT,'Python Tutorial').click()\n",
    "\n",
    "time.sleep(2)\n",
    "\n",
    "d.back()\n",
    "\n",
    "time.sleep(2)\n",
    "\n",
    "d.forward()\n",
    "\n",
    "time.sleep(2)\n",
    "\n",
    "d.refresh()"
   ]
  },
  {
   "cell_type": "code",
   "execution_count": 42,
   "id": "467d0487",
   "metadata": {},
   "outputs": [
    {
     "name": "stdout",
     "output_type": "stream",
     "text": [
      "Python has two built-in methods that you can use on tuples.\n"
     ]
    }
   ],
   "source": [
    "# w3-code notranslate pythonHigh\n",
    "\n",
    "from selenium import webdriver\n",
    "from selenium.webdriver.common.by import By\n",
    "import time \n",
    "\n",
    "d=webdriver.Chrome()\n",
    "d.get('https://www.w3schools.com/')\n",
    "t=d.find_element(By.LINK_TEXT,'Python Tutorial').click()\n",
    "\n",
    "time.sleep(2)\n",
    "t=d.find_element(By.LINK_TEXT,'Tuple Methods').click()\n",
    "\n",
    "time.sleep(2)\n",
    "\n",
    "c=d.find_element(By.XPATH,'//*[@id=\"main\"]/p[1]')\n",
    "print(c.text)"
   ]
  },
  {
   "cell_type": "code",
   "execution_count": null,
   "id": "c7476c13",
   "metadata": {},
   "outputs": [],
   "source": [
    "# create new window\n",
    "\n",
    "\n",
    "from selenium import webdriver\n",
    "from selenium.webdriver.common.by import By\n",
    "import time\n",
    "\n",
    "# Step 1: Open the main page\n",
    "driver = webdriver.Chrome()\n",
    "driver.get(\"https://www.google.com\")\n",
    "time.sleep(2)\n",
    "\n",
    "# Step 2: Open a new tab by clicking a link (e.g., Gmail)\n",
    "gmail_link = driver.find_element(By.LINK_TEXT, \"Gmail\")\n",
    "driver.execute_script(\"window.open(arguments[0]);\", gmail_link.get_attribute('href'))\n",
    "time.sleep(2)\n",
    "\n",
    "# Step 3: Switch to the new tab\n",
    "driver.switch_to.window(driver.window_handles[1])  # Switch to second tab\n",
    "time.sleep(2)\n",
    "\n",
    "# Step 4: Perform actions in the new tab (e.g., check the title of the Gmail page)\n",
    "print(\"New Tab Title:\", driver.title)\n",
    "\n",
    "# Step 5: Switch back to the original tab\n",
    "driver.switch_to.window(driver.window_handles[0])  # Switch back to first tab\n",
    "time.sleep(2)\n",
    "\n",
    "# Step 6: Close all tabs\n",
    "driver.quit()"
   ]
  },
  {
   "cell_type": "code",
   "execution_count": 43,
   "id": "d7364ecb",
   "metadata": {},
   "outputs": [],
   "source": [
    "# SELENIUM IN CLASS"
   ]
  },
  {
   "cell_type": "code",
   "execution_count": null,
   "id": "a040f077",
   "metadata": {},
   "outputs": [],
   "source": [
    "# Automate a ecommerce website from login to final checkout. \n",
    "# Task: Automate a Purchase Flow on Sauce Demo\n",
    "# Website: https://www.saucedemo.com/\n",
    "\n",
    "# Login:\n",
    "\n",
    "# \tUsername: standard_user\n",
    "\n",
    "# \tPassword: secret_sauce\n",
    "\n",
    "# Sort Products:\n",
    "\n",
    "# \tUse the “Sort” dropdown to select “Price (low to high)”.\n",
    "\n",
    "# \tAdd Items to Cart\n",
    "\n",
    "# \tAdd the cheapest and most expensive products to the cart.\n",
    "\n",
    "# Verify Cart Badge:\n",
    "\n",
    "# \tEnsure the cart icon shows “2”.\n",
    "\n",
    "# Go to Cart:\n",
    "\n",
    "# \tClick the cart icon and verify that exactly your two selected products are listed.\n",
    "\n",
    "# Checkout:\n",
    "\n",
    "# \tClick “Checkout”\n",
    "\n",
    "# Fill in the form:\n",
    "\n",
    "# \tFirst Name: Test\n",
    "\n",
    "# \tLast Name: User\n",
    "\n",
    "# \tPostal Code: 12345\n",
    "\n",
    "# Continue to the overview page.\n",
    "\n",
    "# Finish Purchase\n",
    "\n",
    "# Click “Finish”\n",
    "\n",
    "# Verify the success message: “THANK YOU FOR YOUR ORDER”.\n",
    "\n",
    "# Logout\n",
    "\n",
    "# Open the side menu → click “Logout”\n",
    "\n",
    "# Verify you’re back on the login page."
   ]
  },
  {
   "cell_type": "code",
   "execution_count": null,
   "id": "e33899c5",
   "metadata": {},
   "outputs": [],
   "source": [
    "from selenium import webdriver\n",
    "\n",
    "from selenium.webdriver.common.by import By \n",
    "from selenium.webdriver.support.ui import Select\n",
    "\n",
    "import time \n",
    "\n",
    "d=webdriver.Chrome()\n",
    "d.get('https://www.saucedemo.com/')\n",
    "\n",
    "login=d.find_element(By.ID,'user-name').send_keys('standard_user')\n",
    "time.sleep(1)\n",
    "passw=d.find_element(By.ID,'password').send_keys('secret_sauce')\n",
    "time.sleep(1)\n",
    "loginn=d.find_element(By.ID,'login-button').click()\n",
    "time.sleep(1)\n",
    "\n",
    "dropdown=d.find_element(By.CLASS_NAME,'product_sort_container')\n",
    "f=Select(dropdown)\n",
    "time.sleep(2)\n",
    "f.select_by_visible_text('Price (low to high)')\n",
    "time.sleep(2)\n",
    "\n",
    "\n",
    "product=d.find_elements(By.CLASS_NAME,'inventory_item')\n",
    "product[0].find_element(By.TAG_NAME,'button').click()\n",
    "time.sleep(1)\n",
    "product[-1].find_element(By.TAG_NAME,'button').click()\n",
    "time.sleep(1)\n",
    "# p1=d.find_element(By.ID,'add-to-cart-sauce-labs-onesie').click()\n",
    "\n",
    "# time.sleep(1)\n",
    "\n",
    "# p2=d.find_element(By.ID,'add-to-cart-sauce-labs-fleece-jacket').click()\n",
    "\n",
    "# time.sleep(1)\n",
    "\n",
    "addcart=d.find_element(By.XPATH,'//*[@id=\"shopping_cart_container\"]/a').click()\n",
    "\n",
    "time.sleep(1)\n",
    "\n",
    "if (d.find_element(By.CLASS_NAME,'shopping_cart_badge')).text=='2':\n",
    "\n",
    "    checkout=d.find_element(By.ID,'checkout').click()\n",
    "\n",
    "    time.sleep(1) \n",
    "\n",
    "    firstname=d.find_element(By.ID,'first-name').send_keys('Test')\n",
    "\n",
    "    time.sleep(1)\n",
    "\n",
    "    lastname=d.find_element(By.ID,'last-name').send_keys('User')\n",
    "\n",
    "    time.sleep(1)\n",
    "\n",
    "    postal=d.find_element(By.ID,'postal-code').send_keys(\"12345\")\n",
    "\n",
    "    time.sleep(1)\n",
    "\n",
    "    con=d.find_element(By.ID,'continue').click()\n",
    "\n",
    "    time.sleep(1)\n",
    "\n",
    "    fin=d.find_element(By.ID,'finish').click()\n",
    "\n",
    "    time.sleep(1)\n",
    "\n",
    "    backto=d.find_element(By.ID,\"back-to-products\").click()\n",
    "\n",
    "    time.sleep(1)\n",
    "\n",
    "    clickit=d.find_element(By.ID,'react-burger-menu-btn').click()\n",
    "\n",
    "    time.sleep(1)\n",
    "\n",
    "    logout1=d.find_element(By.ID,'logout_sidebar_link').click()\n",
    "else:\n",
    "    raise 'THE CART SHOULD HAVE Two ITEMS/QUANTITIES'\n",
    "\n"
   ]
  },
  {
   "cell_type": "code",
   "execution_count": null,
   "id": "5b77171f",
   "metadata": {},
   "outputs": [],
   "source": []
  }
 ],
 "metadata": {
  "kernelspec": {
   "display_name": ".envn",
   "language": "python",
   "name": "python3"
  },
  "language_info": {
   "codemirror_mode": {
    "name": "ipython",
    "version": 3
   },
   "file_extension": ".py",
   "mimetype": "text/x-python",
   "name": "python",
   "nbconvert_exporter": "python",
   "pygments_lexer": "ipython3",
   "version": "3.12.3"
  }
 },
 "nbformat": 4,
 "nbformat_minor": 5
}
