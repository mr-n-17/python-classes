{
 "cells": [
  {
   "cell_type": "code",
   "execution_count": 3,
   "metadata": {},
   "outputs": [
    {
     "name": "stdout",
     "output_type": "stream",
     "text": [
      "hello\n"
     ]
    }
   ],
   "source": [
    "print('hello')"
   ]
  },
  {
   "cell_type": "code",
   "execution_count": 4,
   "metadata": {},
   "outputs": [
    {
     "name": "stdout",
     "output_type": "stream",
     "text": [
      "python\n"
     ]
    }
   ],
   "source": [
    "print('python')"
   ]
  },
  {
   "cell_type": "code",
   "execution_count": 5,
   "metadata": {},
   "outputs": [
    {
     "name": "stdout",
     "output_type": "stream",
     "text": [
      "('niv', 12, 13)\n"
     ]
    }
   ],
   "source": [
    "a='niv',12,13\n",
    "print(a)"
   ]
  },
  {
   "cell_type": "code",
   "execution_count": 6,
   "metadata": {},
   "outputs": [
    {
     "name": "stdout",
     "output_type": "stream",
     "text": [
      "niv 12 13\n"
     ]
    }
   ],
   "source": [
    "x,y,z=a \n",
    "print(x,y,z)"
   ]
  },
  {
   "cell_type": "code",
   "execution_count": 8,
   "metadata": {},
   "outputs": [
    {
     "name": "stdout",
     "output_type": "stream",
     "text": [
      "<class 'tuple'> <class 'str'>\n"
     ]
    }
   ],
   "source": [
    "print(type(a),type(x))"
   ]
  },
  {
   "cell_type": "code",
   "execution_count": 9,
   "metadata": {},
   "outputs": [
    {
     "name": "stdout",
     "output_type": "stream",
     "text": [
      "niv is studying 8th\n",
      "niv is studying 8th\n"
     ]
    }
   ],
   "source": [
    "#string fortmating\n",
    "\n",
    "name='niv'\n",
    "std='8th'\n",
    "#print(name,'is studying',std)\n",
    "print(f'{name} is studying {std}')"
   ]
  },
  {
   "cell_type": "code",
   "execution_count": 10,
   "metadata": {},
   "outputs": [
    {
     "name": "stdout",
     "output_type": "stream",
     "text": [
      "Area of triangle is 50.0\n"
     ]
    }
   ],
   "source": [
    "#Area of a triangle\n",
    "\n",
    "base=int(input('Enter Base of the Triangle:' ))\n",
    "height=int(input('Enter Height of the Triangle:' ))\n",
    "print('Area of triangle is',0.5*base*height)"
   ]
  },
  {
   "cell_type": "code",
   "execution_count": 13,
   "metadata": {},
   "outputs": [
    {
     "name": "stdout",
     "output_type": "stream",
     "text": [
      "Temperature in fahrenheit is : 104.0\n"
     ]
    }
   ],
   "source": [
    "#celsius to f \n",
    "\n",
    "cel=int(input('Enter Temperature in Celusis:'))\n",
    "far=(cel*(9/5))+32\n",
    "print('Temperature in fahrenheit is :',far)"
   ]
  },
  {
   "cell_type": "code",
   "execution_count": null,
   "metadata": {},
   "outputs": [
    {
     "name": "stdout",
     "output_type": "stream",
     "text": [
      "Simple interest is 55.0 for 5.5 years with 100.0 principle and 10.0 rate\n"
     ]
    }
   ],
   "source": [
    "#Simple interest\n",
    "\n",
    "Prin=float(input('Enter princpal :'))\n",
    "r=float(input('Enter the rate :'))\n",
    "time = float(input('Enter number of years :'))\n",
    "SI=(Prin*time*r)/100\n",
    "print(f'Simple interest is {SI} for {time} years with {Prin} principle and {r} rate')"
   ]
  },
  {
   "cell_type": "code",
   "execution_count": 23,
   "metadata": {},
   "outputs": [
    {
     "name": "stdout",
     "output_type": "stream",
     "text": [
      "Compund Interst4641.000000000004 is \n"
     ]
    }
   ],
   "source": [
    "#compound interest\n",
    "\n",
    "p=float(input('Enter Principal Amount: '))\n",
    "r=float(input('Enter the rate of interest; '))\n",
    "r=r/100\n",
    "t=float(input('Enter number of years; '))\n",
    "n=float(input('Enter number of years the interst is calculated: '))\n",
    "Ci=p*(1+(r/n))**(n*t)\n",
    "tot=Ci-p\n",
    "print(f'Compund Interst{tot} is ')\n"
   ]
  },
  {
   "cell_type": "code",
   "execution_count": 24,
   "metadata": {},
   "outputs": [
    {
     "name": "stdout",
     "output_type": "stream",
     "text": [
      "0\n",
      "15\n",
      "15\n",
      "-11\n",
      "-6\n",
      "20\n",
      "5\n"
     ]
    }
   ],
   "source": [
    "#bitwiseoperators \n",
    "\n",
    "a=10\n",
    "b=5\n",
    "\n",
    "print(a&b)\n",
    "print(a|b)\n",
    "print(a^b)\n",
    "print(~a)\n",
    "print(~b)\n",
    "print(a<<1)\n",
    "print(a>>1)\n"
   ]
  },
  {
   "cell_type": "code",
   "execution_count": 29,
   "metadata": {},
   "outputs": [
    {
     "name": "stdout",
     "output_type": "stream",
     "text": [
      "123498765\n"
     ]
    }
   ],
   "source": [
    "#lastpart reverse \n",
    "\n",
    "a=input()\n",
    "m=a[:len(a)//2]\n",
    "n=a[(len(a)//2):][::-1]\n",
    "print(m+n)\n"
   ]
  },
  {
   "cell_type": "code",
   "execution_count": 30,
   "metadata": {},
   "outputs": [
    {
     "name": "stdout",
     "output_type": "stream",
     "text": [
      "positive\n"
     ]
    }
   ],
   "source": [
    "a=int(input())\n",
    "if a!=0:\n",
    "    if a>0:\n",
    "        print('positive')\n",
    "    else:\n",
    "        print('negative')\n",
    "else:\n",
    "    print('it is zero')"
   ]
  },
  {
   "cell_type": "code",
   "execution_count": null,
   "metadata": {},
   "outputs": [],
   "source": [
    "a=int(input('enter a :'))\n",
    "b=int(input('enter b :'))\n",
    "c= int(input('enter c :'))\n",
    "big =a\n",
    "if b>a:\n",
    "    print(b)\n",
    "elif c>a:\n",
    "    print(a)\n",
    "else:\n",
    "    print(a)"
   ]
  },
  {
   "cell_type": "code",
   "execution_count": 33,
   "metadata": {},
   "outputs": [
    {
     "name": "stdout",
     "output_type": "stream",
     "text": [
      "yes\n"
     ]
    }
   ],
   "source": [
    "a=input()\n",
    "print('NO' if a not in 'AEIOUaeiou' else 'yes')"
   ]
  },
  {
   "cell_type": "code",
   "execution_count": 36,
   "metadata": {},
   "outputs": [
    {
     "name": "stdout",
     "output_type": "stream",
     "text": [
      "yes\n"
     ]
    }
   ],
   "source": [
    "a=76\n",
    "if type(a)==int:\n",
    "    print('yes')\n",
    "else:\n",
    "    print('no')"
   ]
  },
  {
   "cell_type": "code",
   "execution_count": 38,
   "metadata": {},
   "outputs": [
    {
     "name": "stdout",
     "output_type": "stream",
     "text": [
      "9 * 1 = 9\n",
      "9 * 2 = 18\n",
      "9 * 3 = 27\n",
      "9 * 4 = 36\n",
      "9 * 5 = 45\n",
      "9 * 6 = 54\n",
      "9 * 7 = 63\n",
      "9 * 8 = 72\n",
      "9 * 9 = 81\n",
      "9 * 10 = 90\n"
     ]
    }
   ],
   "source": [
    "for i in range(1,11):\n",
    "    print(f'9 * {i} = {9*i}')"
   ]
  },
  {
   "cell_type": "code",
   "execution_count": 39,
   "metadata": {},
   "outputs": [
    {
     "name": "stdout",
     "output_type": "stream",
     "text": [
      "0\n",
      "1\n",
      "2\n",
      "3\n",
      "4\n",
      "end\n"
     ]
    }
   ],
   "source": [
    "for i in range(5):\n",
    "    print(i)\n",
    "else:\n",
    "    print('end')"
   ]
  },
  {
   "cell_type": "code",
   "execution_count": 40,
   "metadata": {},
   "outputs": [
    {
     "name": "stdout",
     "output_type": "stream",
     "text": [
      "h\n",
      "e\n",
      "l\n",
      "l\n",
      "o\n",
      "end\n"
     ]
    }
   ],
   "source": [
    "for i in 'hello':\n",
    "    print(i)\n",
    "else: print('end')"
   ]
  },
  {
   "cell_type": "code",
   "execution_count": 42,
   "metadata": {},
   "outputs": [
    {
     "name": "stdout",
     "output_type": "stream",
     "text": [
      "Number of vowels : 6\n",
      "Number of consonants : 13\n"
     ]
    }
   ],
   "source": [
    "n1=input()\n",
    "s1,s2=0,0\n",
    "for a1 in n1:\n",
    "    if a1 in 'AEIOUaeiou':\n",
    "        s1+=1\n",
    "    else:\n",
    "        s2+=1\n",
    "print('Number of vowels :',s1)\n",
    "print('Number of consonants :',s2)"
   ]
  },
  {
   "cell_type": "code",
   "execution_count": 43,
   "metadata": {},
   "outputs": [
    {
     "name": "stdout",
     "output_type": "stream",
     "text": [
      "153\n"
     ]
    }
   ],
   "source": [
    "#armsstrong number\n",
    "\n",
    "n=int(input())\n",
    "m=len(str(n))\n",
    "s=0\n",
    "while n>0:\n",
    "    r=n%10\n",
    "    s+=(r**m)\n",
    "    n//=10 \n",
    "print(s)"
   ]
  },
  {
   "cell_type": "code",
   "execution_count": 44,
   "metadata": {},
   "outputs": [
    {
     "name": "stdout",
     "output_type": "stream",
     "text": [
      "Perfect No\n"
     ]
    }
   ],
   "source": [
    "#perfectnumber \n",
    "\n",
    "n=int(input())\n",
    "s,i=0,1\n",
    "while i<=(n//2):\n",
    "    if n%i==0:\n",
    "        s+=i\n",
    "    i+=1 \n",
    "print('Perfect Number' if s==n else 'Not perfect Number')\n"
   ]
  },
  {
   "cell_type": "code",
   "execution_count": null,
   "metadata": {},
   "outputs": [],
   "source": []
  }
 ],
 "metadata": {
  "kernelspec": {
   "display_name": "Python 3",
   "language": "python",
   "name": "python3"
  },
  "language_info": {
   "codemirror_mode": {
    "name": "ipython",
    "version": 3
   },
   "file_extension": ".py",
   "mimetype": "text/x-python",
   "name": "python",
   "nbconvert_exporter": "python",
   "pygments_lexer": "ipython3",
   "version": "3.12.3"
  }
 },
 "nbformat": 4,
 "nbformat_minor": 2
}
