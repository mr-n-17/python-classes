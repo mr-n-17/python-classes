{
 "cells": [
  {
   "cell_type": "code",
   "execution_count": 92,
   "id": "70523541",
   "metadata": {},
   "outputs": [
    {
     "ename": "ValueError",
     "evalue": "invalid literal for int() with base 10: ''",
     "output_type": "error",
     "traceback": [
      "\u001b[31m---------------------------------------------------------------------------\u001b[39m",
      "\u001b[31mValueError\u001b[39m                                Traceback (most recent call last)",
      "\u001b[36mCell\u001b[39m\u001b[36m \u001b[39m\u001b[32mIn[92]\u001b[39m\u001b[32m, line 11\u001b[39m\n\u001b[32m      8\u001b[39m     \u001b[38;5;28;01mexcept\u001b[39;00m \u001b[38;5;167;01mZeroDivisionError\u001b[39;00m \u001b[38;5;28;01mas\u001b[39;00m e:\n\u001b[32m      9\u001b[39m         \u001b[38;5;28mprint\u001b[39m(e)\n\u001b[32m---> \u001b[39m\u001b[32m11\u001b[39m a=\u001b[38;5;28;43mint\u001b[39;49m\u001b[43m(\u001b[49m\u001b[38;5;28;43minput\u001b[39;49m\u001b[43m(\u001b[49m\u001b[43m)\u001b[49m\u001b[43m)\u001b[49m\n\u001b[32m     12\u001b[39m b=\u001b[38;5;28mint\u001b[39m(\u001b[38;5;28minput\u001b[39m())\n\u001b[32m     13\u001b[39m checkdiv(a,b)\n",
      "\u001b[31mValueError\u001b[39m: invalid literal for int() with base 10: ''"
     ]
    }
   ],
   "source": [
    "# 1. Divide Two Numbers\n",
    "#  - Input two numbers.\n",
    "#  - Handle ZeroDivisionError and ValueError.\n",
    "\n",
    "def checkdiv(a,b):\n",
    "    try:\n",
    "        print(a/b)\n",
    "    except ZeroDivisionError as e:\n",
    "        print(e)\n",
    "\n",
    "a=int(input())\n",
    "b=int(input())\n",
    "checkdiv(a,b)"
   ]
  },
  {
   "cell_type": "code",
   "execution_count": null,
   "id": "74196673",
   "metadata": {},
   "outputs": [
    {
     "name": "stdout",
     "output_type": "stream",
     "text": [
      "[Errno 2] No such file or directory: 'day0data.txt'\n"
     ]
    }
   ],
   "source": [
    "# 2. File Reader\n",
    "#  - Try opening a file.\n",
    "#  - Handle FileNotFoundError and PermissionError.\n",
    "\n",
    "try:\n",
    "    with open('day0data.txt','r') as f:\n",
    "        f.read()\n",
    "        print(f)\n",
    "except FileNotFoundError as e:\n",
    "    print(e)\n"
   ]
  },
  {
   "cell_type": "code",
   "execution_count": null,
   "id": "cc9277da",
   "metadata": {},
   "outputs": [
    {
     "name": "stdout",
     "output_type": "stream",
     "text": [
      "kil\n",
      "invalid literal for int() with base 10: 'kil'\n"
     ]
    }
   ],
   "source": [
    "# 3. List Index Access\n",
    "#  - Access a list index given by the user.\n",
    "#  - Handle IndexError and ValueError.\n",
    "\n",
    "l=[1,3,4,5,7,0,'kil']\n",
    "m=len(l)\n",
    "try:\n",
    "    print(l[m-1])\n",
    "    try: \n",
    "        print(int('kil'))\n",
    "    except ValueError as e:\n",
    "        print(e)\n",
    "except IndexError as e:\n",
    "    print(e)"
   ]
  },
  {
   "cell_type": "code",
   "execution_count": null,
   "id": "5ed1d0ca",
   "metadata": {},
   "outputs": [
    {
     "name": "stdout",
     "output_type": "stream",
     "text": [
      "invalid literal for int() with base 10: 'kil'\n"
     ]
    }
   ],
   "source": [
    "# 4. String to Integer Conversion\n",
    "#  - Convert a user-given string to an integer.\n",
    "#  - Handle ValueError.\n",
    "\n",
    "try: \n",
    "    print(int('kil'))\n",
    "except ValueError as e:\n",
    "    print(e)\n"
   ]
  },
  {
   "cell_type": "code",
   "execution_count": null,
   "id": "040ec49a",
   "metadata": {},
   "outputs": [
    {
     "name": "stdout",
     "output_type": "stream",
     "text": [
      "[Errno 17] File exists: 'day8data.txt'\n"
     ]
    }
   ],
   "source": [
    "# 5. Open a Nonexistent File\n",
    "#  - Read a file that may or may not exist.\n",
    "#  - Handle FileExistserror.\n",
    "\n",
    "\n",
    "try:\n",
    "    with open('day8data.txt','x') as f:\n",
    "        f.read()\n",
    "        print(f)\n",
    "except FileExistsError as e:\n",
    "    print(e)"
   ]
  },
  {
   "cell_type": "code",
   "execution_count": null,
   "id": "9686477f",
   "metadata": {},
   "outputs": [],
   "source": [
    "# 6. Handle KeyboardInterrupt Exception When Reading Input\n",
    "\n",
    "\n",
    "try: n=input()\n",
    "except KeyboardInterrupt as e:\n",
    "    print(e)\n"
   ]
  },
  {
   "cell_type": "code",
   "execution_count": null,
   "id": "c97290a1",
   "metadata": {},
   "outputs": [
    {
     "name": "stdout",
     "output_type": "stream",
     "text": [
      "4\n",
      "1.0\n",
      "3 3\n"
     ]
    }
   ],
   "source": [
    "# 6. Nested Try-Except\n",
    "#  - Perform multiple operations (file, division, list access).\n",
    "#  - Use nested try-except.\n",
    "\n",
    "import random\n",
    "\n",
    "def check(a,b,l):\n",
    "    try:\n",
    "        print(a*b)\n",
    "        try: \n",
    "            print(a/b)\n",
    "            try: print(l[a],l[b])\n",
    "            except IndexError as e:\n",
    "                print(e)\n",
    "        except ZeroDivisionError as e:\n",
    "            print(e)\n",
    "    except ValueError as e:\n",
    "        print(e)\n",
    "    \n",
    "a=random.randint(1,5)\n",
    "b=random.randint(1,5)\n",
    "check(a,b,[1,2,3,4])"
   ]
  },
  {
   "cell_type": "code",
   "execution_count": null,
   "id": "6bd3da0a",
   "metadata": {},
   "outputs": [
    {
     "name": "stdout",
     "output_type": "stream",
     "text": [
      "2.5\n",
      "NO ERRORS\n",
      "NOT OCCURED\n"
     ]
    }
   ],
   "source": [
    "# Use of Else and Finally\n",
    "#  - Create a program that uses try-except-else-finally together.\n",
    "c=0\n",
    "try:\n",
    "    n=int(input())\n",
    "    print(10/n)\n",
    "except ZeroDivisionError as e:\n",
    "    c=1\n",
    "    print(e)\n",
    "else:\n",
    "    print(\"NO ERRORS\")\n",
    "finally:\n",
    "    if c:\n",
    "        print(\"OCCURED\")\n",
    "    else: print(\"NOT OCCURED\")"
   ]
  },
  {
   "cell_type": "code",
   "execution_count": null,
   "id": "bb98c5c8",
   "metadata": {},
   "outputs": [
    {
     "name": "stdout",
     "output_type": "stream",
     "text": [
      "EROOR is Number is negative\n"
     ]
    }
   ],
   "source": [
    "# 8. Raise Custom Exceptions\n",
    "# Python Exception Handling Tasks\n",
    "#  - Create a custom exception for 'Negative Age'.\n",
    "#  - Raise it if the user enters a negative number.\n",
    "\n",
    "class NegativeError(Exception):\n",
    "    pass\n",
    "\n",
    "def check(a):\n",
    "    try:\n",
    "        if a<0:\n",
    "            raise NegativeError('Number is negative')\n",
    "        else: return a\n",
    "    except NegativeError as e:\n",
    "        return f'EROOR is {e}'\n",
    "    \n",
    "print(check(int(input())))"
   ]
  },
  {
   "cell_type": "code",
   "execution_count": null,
   "id": "6b0bc723",
   "metadata": {},
   "outputs": [
    {
     "name": "stdout",
     "output_type": "stream",
     "text": [
      "ERROR IS Invalid Inputs of {a},{c}\n"
     ]
    }
   ],
   "source": [
    "# 9. Form Validation\n",
    "#  - Validate a form with name, age, and email.\n",
    "#  - Raise custom exceptions for invalid inputs.\n",
    "\n",
    "class invaliderrors(Exception):\n",
    "    pass\n",
    "\n",
    "def check(a,b,c):\n",
    "    try:\n",
    "        if not isinstance(a,str) or not isinstance(c,str) or '@gmail.com' not in c:\n",
    "            raise invaliderrors('Invalid Inputs of {a},{c}')\n",
    "        else: print(a,c)\n",
    "        try: \n",
    "            if not isinstance(b,int): raise invaliderrors('Invalid Input of {b}')\n",
    "            else: print(b)\n",
    "        except invaliderrors as e:\n",
    "            print(\"ERROR IS\",e)\n",
    "    except invaliderrors as e:\n",
    "        print(\"ERROR IS\",e)\n",
    "\n",
    "check(input('Enter Name :'),int(input('Enter the age')),input('Enter the mail :'))\n",
    "        \n",
    "        "
   ]
  },
  {
   "cell_type": "code",
   "execution_count": null,
   "id": "7d82657d",
   "metadata": {},
   "outputs": [
    {
     "name": "stdout",
     "output_type": "stream",
     "text": [
      "VALID\n"
     ]
    }
   ],
   "source": [
    "# 10. User Registration System\n",
    "#  - Ask for username and password.\n",
    "#  - Raise exception for weak password or duplicate username.\n",
    "\n",
    "class Duplicateuse(Exception):\n",
    "    pass\n",
    "\n",
    "class Weakpassword(Exception):\n",
    "    pass \n",
    "\n",
    "def check(u,p):\n",
    "    try:\n",
    "        if u in l:\n",
    "            raise Duplicateuse(f'DUplicate USER , enter new username')\n",
    "        else:\n",
    "            a,b,c=0,0,0\n",
    "            try:\n",
    "                for i in p:\n",
    "                    if i in '1234567890': a=1 \n",
    "                    elif i in '!@#$%^&*(){\":?><}': b=1\n",
    "                    elif i.lower() in 'qwertyuioplkjhgfdsazxcvbnm': c=1 \n",
    "                if a==0 or b==0 or c==0:\n",
    "                    raise Weakpassword('YOUR PASSWORD IS WEAK !')\n",
    "                else: l.append(u);print('VALID')\n",
    "            except Weakpassword as e:\n",
    "                print(e)\n",
    "    except Duplicateuse as e:\n",
    "        print(e)\n",
    "\n",
    "l=['nivas17','mahesh09']\n",
    "check(input('Enterusername'),input('PASSWORD : '))\n",
    "\n"
   ]
  },
  {
   "cell_type": "code",
   "execution_count": null,
   "id": "02f5e6ed",
   "metadata": {},
   "outputs": [
    {
     "name": "stdout",
     "output_type": "stream",
     "text": [
      "You enter wrong pin\n"
     ]
    }
   ],
   "source": [
    "# 11. ATM Simulator\n",
    "#  - Simulate checking balance, withdrawing, and depositing money.\n",
    "#  - Handle invalid input and insufficient funds.\n",
    "\n",
    "class Invalidinputs(Exception): pass\n",
    "class insufficientfunds(Exception): pass \n",
    "\n",
    "def ATMSim(a):\n",
    "        try: \n",
    "            if a in l:\n",
    "                print('1.CHECK BALANCE\\n 2.WITHDRAW MONEY\\n 3.DEPOSIT MONEY')\n",
    "                c=int(input(\"ENTER YOUR THE NUMBER FOR WHICH PROCESS YOU NEED\"))\n",
    "                if c<=0 or c>3:\n",
    "                    raise Invalidinputs(f'Your iput for the process is {c} which is invalid')\n",
    "                else: \n",
    "                    if c==1:\n",
    "                        print('BALNCE IS',l[a]['balance'])\n",
    "                    if c==2:\n",
    "                        d=int(input('Enter the withdraw amount'))\n",
    "                        try:\n",
    "                            if c-d<0: raise insufficientfunds('YOU Are broke bro')\n",
    "                        except insufficientfunds as e:\n",
    "                            print(e)\n",
    "                        else:\n",
    "                            l[a]['balance']=c-d \n",
    "                            print(f\"The {c} a,ount is succeasfully withdrawn\")\n",
    "                    if c==3:\n",
    "                        f=int(input('ENTER THE DEPSOIT AMOUNT'))\n",
    "                        try: \n",
    "                            if f<0 and f>=21000:\n",
    "                                raise insufficientfunds(f'this {d} amount cannot deposited at one time')\n",
    "                        except insufficientfunds as e:\n",
    "                            print(e)\n",
    "                        else:\n",
    "                            l[a]['balance']=c+d \n",
    "        except Invalidinputs as e:\n",
    "            print(e)\n",
    "        else:\n",
    "            print('You enter wrong pin')\n",
    "\n",
    "\n",
    "\n",
    "\n",
    "l={\n",
    "    7451 : {\n",
    "        'balance': 1000\n",
    "    },\n",
    "    5678 : {\n",
    "        'balance': 2000\n",
    "    },\n",
    "    9009 : {\n",
    "        'balance':0\n",
    "    }\n",
    "}\n",
    "ATMSim(int(input('ENTER YOUR ATM PIN')))"
   ]
  },
  {
   "cell_type": "code",
   "execution_count": null,
   "id": "24dfa5bf",
   "metadata": {},
   "outputs": [
    {
     "name": "stdout",
     "output_type": "stream",
     "text": [
      "INVALID MARKS 101\n"
     ]
    }
   ],
   "source": [
    "# 12. Student Mark Entry\n",
    "#  - Enter marks for a student.\n",
    "#  - Raise exception if marks are not between 0 and 100.\n",
    "\n",
    "class INVALIDMARK(Exception): pass\n",
    "\n",
    "def check(mark):\n",
    "    try:\n",
    "        if mark<0 or mark>100 or not isinstance(mark,int):\n",
    "            raise INVALIDMARK(f'INVALID MARKS {mark}')\n",
    "    except INVALIDMARK as e:\n",
    "        print(e)\n",
    "    else: print(f'MARK OF THE STUDENT IS {mark}')\n",
    "\n",
    "check(int(input()))\n"
   ]
  },
  {
   "cell_type": "code",
   "execution_count": null,
   "id": "f25a50ea",
   "metadata": {},
   "outputs": [
    {
     "name": "stdout",
     "output_type": "stream",
     "text": [
      "d not in l\n"
     ]
    }
   ],
   "source": [
    "# 13. Product Billing System\n",
    "#  - Ask user to enter product quantities.\n",
    "#  - Raise exception if quantity is negative.\n",
    "\n",
    "l={\n",
    "    'a':0,'b':0,'c':0\n",
    "}\n",
    "\n",
    "class negativething(Exception):\n",
    "    pass\n",
    "\n",
    "class notfound(Exception): pass\n",
    "\n",
    "def quantitycheck(a1):\n",
    "    try:\n",
    "        if a1 in l:\n",
    "            try:\n",
    "                d=int(input('REQUIRED QUANTITIES'))\n",
    "                if d<0:\n",
    "                    raise negativething('QUANTITIES REQ IS IN NEGATIVE')\n",
    "                else: l['a1']=d\n",
    "            except negativething as e:\n",
    "                print(e)\n",
    "        else:\n",
    "            raise notfound(f'{a1} not in l')\n",
    "    except notfound as e:\n",
    "        print(e)\n",
    "\n",
    "quantitycheck(input('QUANTITY U WANT :'))"
   ]
  },
  {
   "cell_type": "code",
   "execution_count": null,
   "id": "0247b962",
   "metadata": {},
   "outputs": [
    {
     "name": "stdout",
     "output_type": "stream",
     "text": [
      "10.0\n",
      "1\n",
      "5.0\n",
      "2\n",
      "3.3333333333333335\n",
      "3\n",
      "2.5\n",
      "4\n",
      "1.6666666666666667\n",
      "6\n",
      "3.3333333333333335\n",
      "3\n",
      "2.5\n",
      "4\n"
     ]
    }
   ],
   "source": [
    "# 14. Log Errors to a File\n",
    "#  - Use try-except blocks and log exceptions into a .log file.\n",
    "\n",
    "import logging \n",
    "logging.basicConfig(filename='error.log',level=logging.ERROR)\n",
    "l=[1,2,3,4,'hello',0,6,3,4]\n",
    "\n",
    "for i in l:\n",
    "    try:\n",
    "        print(10/i)\n",
    "        print(int(i))\n",
    "    except ValueError as e:\n",
    "        print(e)\n",
    "    except Exception as e: \n",
    "        logging.exception(e)\n",
    "\n"
   ]
  },
  {
   "cell_type": "code",
   "execution_count": null,
   "id": "06a18bd3",
   "metadata": {},
   "outputs": [
    {
     "name": "stdout",
     "output_type": "stream",
     "text": [
      "INVALID for 6\n"
     ]
    }
   ],
   "source": [
    "# 15. Retry Input Until Correct\n",
    "#  - Keep asking user for correct input using a while loop and try-except.\n",
    "\n",
    "m=0\n",
    "\n",
    "class INVALIDMARK(Exception):\n",
    "    pass\n",
    "\n",
    "def check(a):\n",
    "    # a=int(a)\n",
    "    if not isinstance(a,int):\n",
    "        return 0\n",
    "    else: return 1 \n",
    "        \n",
    "a1=input()\n",
    "try:\n",
    "    while m<=5:\n",
    "        if check(a1)==0:\n",
    "            a1=input()\n",
    "            m+=1\n",
    "        else:\n",
    "            print('VALID')\n",
    "            break\n",
    "    else: \n",
    "        raise INVALIDMARK(f'INVALID for {m}')\n",
    "except INVALIDMARK as e:\n",
    "    print(e)"
   ]
  },
  {
   "cell_type": "code",
   "execution_count": null,
   "id": "62b92e64",
   "metadata": {},
   "outputs": [
    {
     "name": "stdout",
     "output_type": "stream",
     "text": [
      "0 1 0\n"
     ]
    }
   ],
   "source": [
    "n=int(input())\n",
    "mm = n//60\n",
    "while n>60:\n",
    "    n=n-60\n",
    "if n==60: n=0\n",
    "hh = mm//60\n",
    "while mm>60:\n",
    "    mm=mm-60\n",
    "if mm==60: mm=0\n",
    "print(hh,mm,n)\n"
   ]
  },
  {
   "cell_type": "code",
   "execution_count": null,
   "id": "c207da40",
   "metadata": {},
   "outputs": [
    {
     "name": "stdout",
     "output_type": "stream",
     "text": [
      "0:1:7\n"
     ]
    }
   ],
   "source": [
    "t = int(input())\n",
    "hh = t//3600\n",
    " \n",
    "mm = (t%3600) //60\n",
    " \n",
    "ss =(t%3600) %60\n",
    " \n",
    " \n",
    "print(f'{hh}:{mm}:{ss}')\n",
    " \n",
    " \n",
    " "
   ]
  },
  {
   "cell_type": "code",
   "execution_count": null,
   "id": "612b43ca",
   "metadata": {},
   "outputs": [],
   "source": [
    "\n",
    "\n",
    "num = '42'\n",
    "ans = num.zfill(8)\n",
    "print(ans) "
   ]
  },
  {
   "cell_type": "markdown",
   "id": "9999179e",
   "metadata": {},
   "source": [
    "# python resources w3schools for practice"
   ]
  },
  {
   "cell_type": "markdown",
   "id": "c5090ada",
   "metadata": {},
   "source": []
  },
  {
   "cell_type": "code",
   "execution_count": 9,
   "id": "92680256",
   "metadata": {},
   "outputs": [
    {
     "name": "stdout",
     "output_type": "stream",
     "text": [
      "HELLO MY NAME IS Nivas\n"
     ]
    }
   ],
   "source": [
    "class Myclass:\n",
    "    def __init__(self,name,age):\n",
    "        self.name=name \n",
    "        self.age=age \n",
    "    def __str__(self):\n",
    "        return f'{self.name},{self.age}'\n",
    "    \n",
    "    def toprint(self):\n",
    "        print('HELLO MY NAME IS',self.name) #object\n",
    "    \n",
    "p1 = Myclass('Nivas',21)\n",
    "# print(p1.name)\n",
    "# print(p1.age)\n",
    "\n",
    "p1.age=70\n",
    "p1.toprint() \n",
    "\n"
   ]
  },
  {
   "cell_type": "code",
   "execution_count": 12,
   "id": "3bc8201d",
   "metadata": {},
   "outputs": [
    {
     "name": "stdout",
     "output_type": "stream",
     "text": [
      "Him V 25\n"
     ]
    }
   ],
   "source": [
    "class parentone:\n",
    "    def __init__(self,fname,lname):\n",
    "        self.firstname=fname\n",
    "        self.lastname=lname \n",
    "    \n",
    "    def checkingit(self):\n",
    "        print(self.firstname,self.lastname)\n",
    "        \n",
    "class childone(parentone):\n",
    "    def __init__(self, fname, lname,age):\n",
    "        super().__init__(fname, lname)\n",
    "        self.age=age \n",
    "        \n",
    "    def childonecheck(self):\n",
    "        print(self.firstname,self.lastname,self.age)\n",
    "        \n",
    "        \n",
    "p1=parentone(\"Nivas\",'B')\n",
    "\n",
    "p2=childone('Him','V',25)\n",
    "\n",
    "p2.childonecheck()"
   ]
  },
  {
   "cell_type": "code",
   "execution_count": null,
   "id": "25b1d265",
   "metadata": {},
   "outputs": [],
   "source": []
  }
 ],
 "metadata": {
  "kernelspec": {
   "display_name": "Python 3",
   "language": "python",
   "name": "python3"
  },
  "language_info": {
   "codemirror_mode": {
    "name": "ipython",
    "version": 3
   },
   "file_extension": ".py",
   "mimetype": "text/x-python",
   "name": "python",
   "nbconvert_exporter": "python",
   "pygments_lexer": "ipython3",
   "version": "3.11.1"
  }
 },
 "nbformat": 4,
 "nbformat_minor": 5
}
