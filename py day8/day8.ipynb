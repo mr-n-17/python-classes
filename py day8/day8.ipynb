{
 "cells": [
  {
   "cell_type": "markdown",
   "id": "e623ec34",
   "metadata": {},
   "source": [
    "# EXCEPTION HANDELING"
   ]
  },
  {
   "cell_type": "code",
   "execution_count": null,
   "id": "6ed58282",
   "metadata": {},
   "outputs": [],
   "source": [
    "#logical error cannot be found out by system"
   ]
  },
  {
   "cell_type": "code",
   "execution_count": null,
   "id": "325bf1fc",
   "metadata": {},
   "outputs": [
    {
     "name": "stdout",
     "output_type": "stream",
     "text": [
      "Zero division error\n",
      "Hello\n"
     ]
    }
   ],
   "source": [
    "try:\n",
    "    print(10/0) #zerodivisionerror\n",
    "except ZeroDivisionError as e: #only zerodivisionerror is accepted no other is accepted we didnn't menton\n",
    "    print('Zero division error')\n",
    "\n",
    "print('Hello')\n"
   ]
  },
  {
   "cell_type": "code",
   "execution_count": 2,
   "id": "cf48b064",
   "metadata": {},
   "outputs": [
    {
     "name": "stdout",
     "output_type": "stream",
     "text": [
      "Something went wrong i,e., division by zero\n"
     ]
    }
   ],
   "source": [
    "try:\n",
    "    print(10/0) #zerodivisionerror\n",
    "except Exception as e:\n",
    "    print('Something went wrong i,e.,',e)"
   ]
  },
  {
   "cell_type": "code",
   "execution_count": 3,
   "id": "a8f77cc5",
   "metadata": {},
   "outputs": [
    {
     "name": "stdout",
     "output_type": "stream",
     "text": [
      "2.0\n",
      "name 'v1' is not defined\n",
      "Hello\n"
     ]
    }
   ],
   "source": [
    "try:\n",
    "    print(10/5) \n",
    "    v=v1 #only first error can be caught\n",
    "    n=int('Hello') #this error will not be caught\n",
    "except ZeroDivisionError as e: #only zerodivisionerror is accepted no other is accepted we didnn't menton\n",
    "    print('Zero division error')\n",
    "except NameError as e:\n",
    "    print(e)\n",
    "except ValueError as e:\n",
    "    print(e)\n",
    "\n",
    "print('Hello')"
   ]
  },
  {
   "cell_type": "code",
   "execution_count": null,
   "id": "45be7744",
   "metadata": {},
   "outputs": [
    {
     "name": "stdout",
     "output_type": "stream",
     "text": [
      "[Errno 2] No such file or directory: 'wgd.txt'\n"
     ]
    },
    {
     "ename": "NameError",
     "evalue": "name 'f' is not defined",
     "output_type": "error",
     "traceback": [
      "\u001b[31m---------------------------------------------------------------------------\u001b[39m",
      "\u001b[31mNameError\u001b[39m                                 Traceback (most recent call last)",
      "\u001b[36mCell\u001b[39m\u001b[36m \u001b[39m\u001b[32mIn[6]\u001b[39m\u001b[32m, line 10\u001b[39m\n\u001b[32m      7\u001b[39m     \u001b[38;5;28mprint\u001b[39m(e)\n\u001b[32m      9\u001b[39m \u001b[38;5;28;01mfinally\u001b[39;00m:\n\u001b[32m---> \u001b[39m\u001b[32m10\u001b[39m     \u001b[43mf\u001b[49m.close()\n",
      "\u001b[31mNameError\u001b[39m: name 'f' is not defined"
     ]
    }
   ],
   "source": [
    "#FINALLY\n",
    "\n",
    "try:\n",
    "    f=open('wgd.txt','r')\n",
    "\n",
    "except FileNotFoundError as e:\n",
    "    print(e)\n",
    "\n",
    "finally:\n",
    "    pass"
   ]
  },
  {
   "cell_type": "code",
   "execution_count": 7,
   "id": "831d0a9b",
   "metadata": {},
   "outputs": [
    {
     "name": "stdout",
     "output_type": "stream",
     "text": [
      "ERROR\n"
     ]
    }
   ],
   "source": [
    "# ELSE IN TRY \n",
    "\n",
    "try:\n",
    "    print(10/0)\n",
    "except:\n",
    "    print('ERROR')\n",
    "else:\n",
    "    print('HEllo')"
   ]
  },
  {
   "cell_type": "code",
   "execution_count": null,
   "id": "20286d01",
   "metadata": {},
   "outputs": [],
   "source": [
    "# 1.try\n",
    "# 2.except\n",
    "# 3.else \n",
    "# 4.finally"
   ]
  },
  {
   "cell_type": "code",
   "execution_count": null,
   "id": "22aab930",
   "metadata": {},
   "outputs": [
    {
     "name": "stdout",
     "output_type": "stream",
     "text": [
      "NOT FOUND\n"
     ]
    }
   ],
   "source": [
    "try:\n",
    "    var=var1\n",
    "except Exception:\n",
    "    print(\"NOT FOUND\")"
   ]
  },
  {
   "cell_type": "code",
   "execution_count": 13,
   "id": "189a62a3",
   "metadata": {},
   "outputs": [
    {
     "name": "stdout",
     "output_type": "stream",
     "text": [
      "FILE NOT FOUND\n"
     ]
    }
   ],
   "source": [
    "import json\n",
    "\n",
    "try:\n",
    "    with open('shdg.txt','r') as f:\n",
    "        v=json.dumps(f)\n",
    "except FileNotFoundError:\n",
    "    print(\"FILE NOT FOUND\")"
   ]
  },
  {
   "cell_type": "code",
   "execution_count": 9,
   "id": "1ffbcd1f",
   "metadata": {},
   "outputs": [
    {
     "name": "stdout",
     "output_type": "stream",
     "text": [
      "FILE NOT FOUND\n"
     ]
    }
   ],
   "source": [
    "try:\n",
    "    f=open('sjgd.txt','r')\n",
    "    v=var1\n",
    "except FileNotFoundError:\n",
    "    print(\"FILE NOT FOUND\")"
   ]
  },
  {
   "cell_type": "code",
   "execution_count": 10,
   "id": "79a2f049",
   "metadata": {},
   "outputs": [
    {
     "ename": "NameError",
     "evalue": "name 'var1' is not defined",
     "output_type": "error",
     "traceback": [
      "\u001b[31m---------------------------------------------------------------------------\u001b[39m",
      "\u001b[31mNameError\u001b[39m                                 Traceback (most recent call last)",
      "\u001b[36mCell\u001b[39m\u001b[36m \u001b[39m\u001b[32mIn[10]\u001b[39m\u001b[32m, line 3\u001b[39m\n\u001b[32m      1\u001b[39m \u001b[38;5;28;01mtry\u001b[39;00m:\n\u001b[32m      2\u001b[39m     \u001b[38;5;66;03m# f=open('sjgd.txt','r')\u001b[39;00m\n\u001b[32m----> \u001b[39m\u001b[32m3\u001b[39m     v=\u001b[43mvar1\u001b[49m\n\u001b[32m      4\u001b[39m \u001b[38;5;28;01mexcept\u001b[39;00m \u001b[38;5;167;01mFileNotFoundError\u001b[39;00m:\n\u001b[32m      5\u001b[39m     \u001b[38;5;28mprint\u001b[39m(\u001b[33m\"\u001b[39m\u001b[33mFILE NOT FOUND\u001b[39m\u001b[33m\"\u001b[39m)\n",
      "\u001b[31mNameError\u001b[39m: name 'var1' is not defined"
     ]
    }
   ],
   "source": [
    "try:\n",
    "    # f=open('sjgd.txt','r')\n",
    "    v=var1\n",
    "except FileNotFoundError:\n",
    "    print(\"FILE NOT FOUND\")"
   ]
  },
  {
   "cell_type": "code",
   "execution_count": 12,
   "id": "ff05a2c1",
   "metadata": {},
   "outputs": [
    {
     "name": "stdout",
     "output_type": "stream",
     "text": [
      "SOMETHING WRONG\n"
     ]
    }
   ],
   "source": [
    "try:\n",
    "    # f=open('sjgd.txt','r')\n",
    "    v=var1\n",
    "except FileNotFoundError:\n",
    "    print(\"FILE NOT FOUND\")\n",
    "except Exception:\n",
    "    print('SOMETHING WRONG')"
   ]
  },
  {
   "cell_type": "code",
   "execution_count": null,
   "id": "4babf829",
   "metadata": {},
   "outputs": [
    {
     "name": "stdout",
     "output_type": "stream",
     "text": [
      "SOMETHING WRONG\n"
     ]
    }
   ],
   "source": [
    "try:\n",
    "    f=open('sjgd.txt','r')\n",
    "    v=var1\n",
    "except Exception:\n",
    "    print('SOMETHING WRONG')\n",
    "except FileNotFoundError:\n",
    "    print(\"FILE NOT FOUND\")\n",
    "\n",
    "#if we give except exception at first for every error it will be catch except exception"
   ]
  },
  {
   "cell_type": "code",
   "execution_count": 16,
   "id": "2bf98b59",
   "metadata": {},
   "outputs": [
    {
     "name": "stdout",
     "output_type": "stream",
     "text": [
      "[Errno 2] No such file or directory: 'sjkdg.txt'\n",
      "fially is exceuted\n"
     ]
    }
   ],
   "source": [
    "# finally runs np matter what happens , helops us to close or release the resources\n",
    "\n",
    "try:\n",
    "    f=open('sjkdg.txt','r')\n",
    "    v=v1 \n",
    "except FileNotFoundError as e:\n",
    "    print(e)\n",
    "except Exception as e:\n",
    "    print(e)\n",
    "else:\n",
    "    print('HELLO')\n",
    "finally:\n",
    "    print('fially is exceuted')"
   ]
  },
  {
   "cell_type": "code",
   "execution_count": null,
   "id": "3ee530dd",
   "metadata": {},
   "outputs": [
    {
     "name": "stdout",
     "output_type": "stream",
     "text": [
      "10.0\n",
      "5.0\n",
      "3.3333333333333335\n",
      "2.5\n",
      "2.0\n",
      "1.6666666666666667\n",
      "3.3333333333333335\n"
     ]
    }
   ],
   "source": [
    "l=[1,2,3,4,5,6,3,0]\n",
    "for i in l:\n",
    "    try:\n",
    "        print(10/i)\n",
    "    except:\n",
    "        pass #continue"
   ]
  },
  {
   "cell_type": "code",
   "execution_count": 19,
   "id": "b834a274",
   "metadata": {},
   "outputs": [
    {
     "name": "stdout",
     "output_type": "stream",
     "text": [
      "10.0\n",
      "5.0\n",
      "3.3333333333333335\n",
      "2.5\n",
      "division by zero\n",
      "1.6666666666666667\n",
      "3.3333333333333335\n",
      "division by zero\n"
     ]
    }
   ],
   "source": [
    "l=[1,2,3,4,0,6,3,0]\n",
    "for i in l:\n",
    "    try:\n",
    "        print(10/i)\n",
    "    except ZeroDivisionError as e:\n",
    "        print(e)"
   ]
  },
  {
   "cell_type": "code",
   "execution_count": 57,
   "id": "66fc71c7",
   "metadata": {},
   "outputs": [
    {
     "name": "stdout",
     "output_type": "stream",
     "text": [
      "invalid literal for int() with base 10: 'hello'\n",
      "invalid literal for int() with base 10: 'hello'\n",
      "invalid literal for int() with base 10: 'hello'\n",
      "invalid literal for int() with base 10: 'hello'\n",
      "invalid literal for int() with base 10: 'hello'\n",
      "invalid literal for int() with base 10: 'hello'\n",
      "invalid literal for int() with base 10: 'hello'\n",
      "invalid literal for int() with base 10: 'hello'\n"
     ]
    }
   ],
   "source": [
    "#we store error in logging file\n",
    "\n",
    "import logging\n",
    "\n",
    "logging.basicConfig(filename='error.log',level=logging.ERROR)\n",
    "\n",
    "l=[1,2,3,4,0,6,3,4]\n",
    "\n",
    "for i in l:\n",
    "    try:\n",
    "        print(int('hello'))\n",
    "    except ValueError as e:\n",
    "        print(e)\n",
    "    except Exception as e: #exception (unexcepted error are stored in logging)\n",
    "        logging.exception(e)\n",
    "    "
   ]
  },
  {
   "cell_type": "code",
   "execution_count": null,
   "id": "e4e4a0c8",
   "metadata": {},
   "outputs": [
    {
     "name": "stdout",
     "output_type": "stream",
     "text": [
      "AssertionError X is greater than y\n"
     ]
    }
   ],
   "source": [
    "#assertion error:\n",
    "try:\n",
    "    x=5\n",
    "    y=90\n",
    "    assert x>y,'X should be greater than y'\n",
    "except AssertionError as e:\n",
    "    print('AssertionError',e)"
   ]
  },
  {
   "cell_type": "code",
   "execution_count": null,
   "id": "c5ffa8d6",
   "metadata": {},
   "outputs": [
    {
     "name": "stdout",
     "output_type": "stream",
     "text": [
      "AttributeError 'str' object has no attribute 'sort'\n"
     ]
    }
   ],
   "source": [
    "# Attribute Error - functions of other datatype is used then this error raises\n",
    "\n",
    "try:\n",
    "    m='hello'\n",
    "    m.sort()\n",
    "except AttributeError as e:\n",
    "   print('AttributeError',e)"
   ]
  },
  {
   "cell_type": "code",
   "execution_count": null,
   "id": "826ee0ea",
   "metadata": {},
   "outputs": [
    {
     "name": "stdout",
     "output_type": "stream",
     "text": [
      "KeyError 'n'\n"
     ]
    }
   ],
   "source": [
    "#keyerror - when we access the key which is not in the dict\n",
    "try:\n",
    "    d={'name':'hello','age':56}\n",
    "    print(d['n'])\n",
    "except KeyError as e:\n",
    "    print(\"KeyError\",e)\n"
   ]
  },
  {
   "cell_type": "code",
   "execution_count": null,
   "id": "fcafbe0e",
   "metadata": {},
   "outputs": [
    {
     "name": "stdout",
     "output_type": "stream",
     "text": [
      "NAME ERROR\n"
     ]
    }
   ],
   "source": [
    "#Nameerror\n",
    "\n",
    "try:\n",
    "    print(a) #a is not defined so nameerro occurs\n",
    "except NameError:\n",
    "    print(\"NAME ERROR\")"
   ]
  },
  {
   "cell_type": "code",
   "execution_count": 25,
   "id": "c7de6442",
   "metadata": {},
   "outputs": [
    {
     "name": "stdout",
     "output_type": "stream",
     "text": [
      "OS ERROR [Errno 2] No such file or directory: 'sjdgh.txt'\n"
     ]
    }
   ],
   "source": [
    "#OS error\n",
    "\n",
    "try:\n",
    "    with open('sjdgh.txt','r') as f:\n",
    "        v=f.read()\n",
    "except OSError  as e:\n",
    "    print('OS ERROR',e)"
   ]
  },
  {
   "cell_type": "code",
   "execution_count": 26,
   "id": "d3052319",
   "metadata": {},
   "outputs": [
    {
     "name": "stdout",
     "output_type": "stream",
     "text": [
      "SyntaxError '(' was never closed (<string>, line 1)\n"
     ]
    }
   ],
   "source": [
    "#SYNTAX ERROR - as python runs line by line when ever there is syntax error python doesn't catch except so we have to use \"EXEC\"\n",
    "\n",
    "try:\n",
    "    exec('print(5') #print(5 ')' syntax error\n",
    "except SyntaxError as e:\n",
    "    print(\"SyntaxError\",e)"
   ]
  },
  {
   "cell_type": "code",
   "execution_count": 27,
   "id": "d8b07de6",
   "metadata": {},
   "outputs": [
    {
     "name": "stdout",
     "output_type": "stream",
     "text": [
      "TypeError unsupported operand type(s) for +: 'int' and 'str'\n"
     ]
    }
   ],
   "source": [
    "#TYPE ERROR - when we do operations between two or more datatypes\n",
    "\n",
    "try:\n",
    "    a=55+'090'\n",
    "except TypeError as e:\n",
    "    print('TypeError',e)\n",
    "\n"
   ]
  },
  {
   "cell_type": "code",
   "execution_count": 28,
   "id": "2f242172",
   "metadata": {},
   "outputs": [
    {
     "name": "stdout",
     "output_type": "stream",
     "text": [
      "ValueError invalid literal for int() with base 10: 'hejj'\n"
     ]
    }
   ],
   "source": [
    "#Value error\n",
    "\n",
    "try:\n",
    "    n=int('hejj')\n",
    "except ValueError as e:\n",
    "    print('ValueError',e)"
   ]
  },
  {
   "cell_type": "code",
   "execution_count": 30,
   "id": "98cc9a6b",
   "metadata": {},
   "outputs": [
    {
     "name": "stdout",
     "output_type": "stream",
     "text": [
      "1.0\n",
      "0.5\n",
      "0.3333333333333333\n",
      "error (<class 'TypeError'>, TypeError(\"unsupported operand type(s) for /: 'int' and 'str'\"), <traceback object at 0x0000012EE776EAC0>)\n",
      "0.25\n"
     ]
    }
   ],
   "source": [
    "import sys \n",
    "a=[2,4,6,'a',8]\n",
    "for i in a:\n",
    "    try:\n",
    "        c=2/i \n",
    "        print(c)\n",
    "    except: print('error',sys.exc_info())\n"
   ]
  },
  {
   "cell_type": "code",
   "execution_count": 31,
   "id": "4c638afe",
   "metadata": {},
   "outputs": [
    {
     "name": "stdout",
     "output_type": "stream",
     "text": [
      "1.0\n",
      "0.5\n",
      "0.3333333333333333\n",
      "error <class 'TypeError'>\n",
      "0.25\n"
     ]
    }
   ],
   "source": [
    "import sys \n",
    "a=[2,4,6,'a',8]\n",
    "for i in a:\n",
    "    try:\n",
    "        c=2/i \n",
    "        print(c)\n",
    "    except: print('error',sys.exc_info()[0])"
   ]
  },
  {
   "cell_type": "code",
   "execution_count": 38,
   "id": "44e73d63",
   "metadata": {},
   "outputs": [
    {
     "name": "stdout",
     "output_type": "stream",
     "text": [
      "1\n",
      "2\n",
      "3\n",
      "ERROR 4 Should not be greater than 3\n"
     ]
    }
   ],
   "source": [
    "for i in range(1,5):\n",
    "    try: \n",
    "        if i>3:\n",
    "            raise ValueError(f'{i} Should not be greater than 3')\n",
    "    except ValueError as e: print('ERROR',e)\n",
    "    else: print(i)"
   ]
  },
  {
   "cell_type": "code",
   "execution_count": 35,
   "id": "14aafb36",
   "metadata": {},
   "outputs": [
    {
     "name": "stdout",
     "output_type": "stream",
     "text": [
      "ERROR IS Index out of range\n"
     ]
    }
   ],
   "source": [
    "def getiten(l,index):\n",
    "    if index >=len(l):\n",
    "        raise IndexError('Index out of range')\n",
    "    return l[index]\n",
    "\n",
    "try:\n",
    "    getiten([10,20,30],5)\n",
    "except IndexError as e:\n",
    "    print('ERROR IS',e)"
   ]
  },
  {
   "cell_type": "code",
   "execution_count": 40,
   "id": "22ccdc7f",
   "metadata": {},
   "outputs": [
    {
     "name": "stdout",
     "output_type": "stream",
     "text": [
      "12\n"
     ]
    }
   ],
   "source": [
    "def mult(a,b):\n",
    "    if not isinstance(a,(int,float)) or not isinstance(b,(int,float)):\n",
    "        raise TypeError('Arguments should be Numbers')\n",
    "    return a*b\n",
    "\n",
    "try:\n",
    "    print(mult(3,4))\n",
    "except TypeError as e:\n",
    "    print(\"ERROR IS\",e)"
   ]
  },
  {
   "cell_type": "code",
   "execution_count": 41,
   "id": "86cedccd",
   "metadata": {},
   "outputs": [
    {
     "name": "stdout",
     "output_type": "stream",
     "text": [
      "10.0\n",
      "3.3333333333333335\n",
      "0.18518518518518517\n",
      "division by zero\n",
      "1.6666666666666667\n",
      "1.25\n",
      "hello\n"
     ]
    },
    {
     "ename": "ValueError",
     "evalue": "Value Error",
     "output_type": "error",
     "traceback": [
      "\u001b[31m---------------------------------------------------------------------------\u001b[39m",
      "\u001b[31mValueError\u001b[39m                                Traceback (most recent call last)",
      "\u001b[36mCell\u001b[39m\u001b[36m \u001b[39m\u001b[32mIn[41]\u001b[39m\u001b[32m, line 7\u001b[39m\n\u001b[32m      6\u001b[39m \u001b[38;5;28;01mtry\u001b[39;00m:\n\u001b[32m----> \u001b[39m\u001b[32m7\u001b[39m     \u001b[38;5;28mprint\u001b[39m(\u001b[32m10\u001b[39m/\u001b[38;5;28;43mint\u001b[39;49m\u001b[43m(\u001b[49m\u001b[43mi\u001b[49m\u001b[43m)\u001b[49m)\n\u001b[32m      8\u001b[39m \u001b[38;5;28;01mexcept\u001b[39;00m \u001b[38;5;167;01mZeroDivisionError\u001b[39;00m \u001b[38;5;28;01mas\u001b[39;00m e:\n",
      "\u001b[31mValueError\u001b[39m: invalid literal for int() with base 10: 'hello'",
      "\nDuring handling of the above exception, another exception occurred:\n",
      "\u001b[31mValueError\u001b[39m                                Traceback (most recent call last)",
      "\u001b[36mCell\u001b[39m\u001b[36m \u001b[39m\u001b[32mIn[41]\u001b[39m\u001b[32m, line 12\u001b[39m\n\u001b[32m     10\u001b[39m \u001b[38;5;28;01mexcept\u001b[39;00m \u001b[38;5;167;01mValueError\u001b[39;00m \u001b[38;5;28;01mas\u001b[39;00m e:\n\u001b[32m     11\u001b[39m     \u001b[38;5;28mprint\u001b[39m(\u001b[33m'\u001b[39m\u001b[33mhello\u001b[39m\u001b[33m'\u001b[39m)\n\u001b[32m---> \u001b[39m\u001b[32m12\u001b[39m     \u001b[38;5;28;01mraise\u001b[39;00m \u001b[38;5;167;01mValueError\u001b[39;00m(\u001b[33m'\u001b[39m\u001b[33mValue Error\u001b[39m\u001b[33m'\u001b[39m)\n\u001b[32m     13\u001b[39m \u001b[38;5;28;01mexcept\u001b[39;00m \u001b[38;5;167;01mException\u001b[39;00m \u001b[38;5;28;01mas\u001b[39;00m e:\n\u001b[32m     14\u001b[39m     \u001b[38;5;28mprint\u001b[39m(e)\n",
      "\u001b[31mValueError\u001b[39m: Value Error"
     ]
    }
   ],
   "source": [
    "#reraise exception\n",
    "\n",
    "l=[1,3,54,0,6,8,'hello',8]\n",
    "\n",
    "for i in l:\n",
    "    try:\n",
    "        print(10/int(i))\n",
    "    except ZeroDivisionError as e:\n",
    "        print(e)\n",
    "    except ValueError as e:\n",
    "        print('hello')\n",
    "        raise ValueError('Value Error')\n",
    "    except Exception as e:\n",
    "        print(e)"
   ]
  },
  {
   "cell_type": "code",
   "execution_count": null,
   "id": "8b86455a",
   "metadata": {},
   "outputs": [
    {
     "name": "stdout",
     "output_type": "stream",
     "text": [
      "Try OUTSIDE\n",
      "TRY INSIDE\n",
      "EXCEPT INSIDE\n",
      "division by zero\n",
      "FINALLY INSIDE\n",
      "OUTSIDE FINAALY\n"
     ]
    }
   ],
   "source": [
    "try:\n",
    "    print('Try OUTSIDE')\n",
    "    try:\n",
    "        print(\"TRY INSIDE\")\n",
    "        print(10/0)\n",
    "    except ZeroDivisionError as e:\n",
    "        print(\"EXCEPT INSIDE\")\n",
    "        print(e)\n",
    "    finally:\n",
    "        print(\"FINALLY INSIDE\")\n",
    "except Exception as e:\n",
    "    print(\"EXCEPT OUTSIDE\")\n",
    "finally:\n",
    "    print(\"OUTSIDE FINAALY\")"
   ]
  },
  {
   "cell_type": "code",
   "execution_count": 44,
   "id": "7ac4a17a",
   "metadata": {},
   "outputs": [
    {
     "name": "stdout",
     "output_type": "stream",
     "text": [
      "Try OUTSIDE\n",
      "EXCEPT OUTSIDE\n",
      "division by zero\n",
      "OUTSIDE FINAALY\n"
     ]
    }
   ],
   "source": [
    "try:\n",
    "    print('Try OUTSIDE')\n",
    "    print(10/0)\n",
    "    try:\n",
    "        print(10/0)\n",
    "    except ZeroDivisionError as e:\n",
    "        print(\"EXCEPT INSIDE\")\n",
    "        print(e)\n",
    "    finally:\n",
    "        print(\"FINALLY INSIDE\")\n",
    "except Exception as e:\n",
    "    print(\"EXCEPT OUTSIDE\")\n",
    "    print(e)\n",
    "finally:\n",
    "    print(\"OUTSIDE FINAALY\")"
   ]
  },
  {
   "cell_type": "code",
   "execution_count": 45,
   "id": "3bd28fae",
   "metadata": {},
   "outputs": [
    {
     "name": "stdout",
     "output_type": "stream",
     "text": [
      "Try OUTSIDE\n",
      "TRY INSIDE\n",
      "FINALLY INSIDE\n",
      "EXCEPT OUTSIDE\n",
      "division by zero\n",
      "OUTSIDE FINAALY\n"
     ]
    }
   ],
   "source": [
    "try:\n",
    "    print('Try OUTSIDE')\n",
    "    # print(10/0)\n",
    "    try:\n",
    "        print(\"TRY INSIDE\")\n",
    "        print(10/0)\n",
    "    # except ZeroDivisionError as e:\n",
    "    #     print(\"EXCEPT INSIDE\")\n",
    "    #     print(e)\n",
    "    finally:\n",
    "        print(\"FINALLY INSIDE\")\n",
    "except Exception as e:\n",
    "    print(\"EXCEPT OUTSIDE\")\n",
    "    print(e)\n",
    "finally:\n",
    "    print(\"OUTSIDE FINAALY\")"
   ]
  },
  {
   "cell_type": "code",
   "execution_count": 49,
   "id": "3abd7a68",
   "metadata": {},
   "outputs": [
    {
     "name": "stdout",
     "output_type": "stream",
     "text": [
      "Valid Number 5\n"
     ]
    }
   ],
   "source": [
    "#user defined exception\n",
    "\n",
    "class CustomError(Exception):\n",
    "    pass\n",
    "\n",
    "def check(a):\n",
    "    if a<0:\n",
    "        raise CustomError('Number should be positive')\n",
    "    else:\n",
    "        print('Valid Number',a)\n",
    "\n",
    "try:\n",
    "    n=int(input())\n",
    "    check(n)\n",
    "\n",
    "except CustomError as e:\n",
    "    print(\"Caught Custome ERROR :\",e)"
   ]
  },
  {
   "cell_type": "code",
   "execution_count": null,
   "id": "3cb82de6",
   "metadata": {},
   "outputs": [],
   "source": [
    "# Guidelines for exception safe functions\n",
    "# Use try except inside the function to handle excepted errors\n",
    "\n",
    "# Raise meaningful exceptions if the function cannot complete its job\n",
    "\n",
    "# use default values\n",
    "\n",
    "# use errors if needed\n",
    "\n",
    "# don't hide bugs silently - handle only that you except"
   ]
  },
  {
   "cell_type": "code",
   "execution_count": 56,
   "id": "e54163a0",
   "metadata": {},
   "outputs": [
    {
     "name": "stdout",
     "output_type": "stream",
     "text": [
      "Hello\n",
      "The Length of the string should be same as value of \"a\"\n"
     ]
    }
   ],
   "source": [
    "\n",
    "class CustomError(Exception):\n",
    "    pass \n",
    "\n",
    "def checking(a,b=' ',c=10):\n",
    "    try:\n",
    "        if a!=len(b):\n",
    "            raise CustomError('The Length of the string should be same as value of \"a\"')\n",
    "        else:\n",
    "            print('A and length of B are same')\n",
    "        try:\n",
    "            print(c/a)\n",
    "        except ZeroDivisionError as e:\n",
    "            print('ZeroDivisionError',e)\n",
    "    except CustomError as e: \n",
    "        print('Hello')  \n",
    "        print(e)\n",
    "\n",
    "\n",
    "\n",
    "\n",
    "a=int(input())\n",
    "b=input()\n",
    "try:\n",
    "    checking(a,b)\n",
    "except Exception as e:\n",
    "    print('hi')\n",
    "    print(e)\n"
   ]
  },
  {
   "cell_type": "code",
   "execution_count": null,
   "id": "34a15cdb",
   "metadata": {},
   "outputs": [],
   "source": []
  }
 ],
 "metadata": {
  "kernelspec": {
   "display_name": "Python 3",
   "language": "python",
   "name": "python3"
  },
  "language_info": {
   "codemirror_mode": {
    "name": "ipython",
    "version": 3
   },
   "file_extension": ".py",
   "mimetype": "text/x-python",
   "name": "python",
   "nbconvert_exporter": "python",
   "pygments_lexer": "ipython3",
   "version": "3.12.3"
  }
 },
 "nbformat": 4,
 "nbformat_minor": 5
}
