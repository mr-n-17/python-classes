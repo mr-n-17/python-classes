{
 "cells": [
  {
   "cell_type": "code",
   "execution_count": 22,
   "id": "d4dd4f6c",
   "metadata": {},
   "outputs": [
    {
     "name": "stdout",
     "output_type": "stream",
     "text": [
      "AFTER REMOVING DUPLICATES [1, 5, 6, 2, 3, 54, 4]\n",
      "SORTED LIST BY BUBBLE SORT IS [1, 2, 3, 4, 5, 6, 54]\n"
     ]
    }
   ],
   "source": [
    "def removedup(l):\n",
    "    f=[]\n",
    "    for i in l:\n",
    "        if i not in f:\n",
    "            f.append(i)\n",
    "    return f\n",
    "      \n",
    "l=list(map(int,input().split()))\n",
    "m=removedup(l)\n",
    "print(\"AFTER REMOVING DUPLICATES\",m)\n",
    "for i in range(len(m)):\n",
    "    for j in range(len(m)-i-1):\n",
    "        if m[j]>m[j+1]:\n",
    "            m[j],m[j+1]=m[j+1],m[j]\n",
    "print(\"SORTED LIST BY BUBBLE SORT IS\",m)"
   ]
  },
  {
   "cell_type": "code",
   "execution_count": null,
   "id": "ce32b191",
   "metadata": {},
   "outputs": [
    {
     "name": "stdout",
     "output_type": "stream",
     "text": [
      "[('n5', 89), ('n4', 89), ('n2', 87), ('n3', 78), ('n1', 39)]\n",
      "THE MAX SCORE STUDENT IS n5\n",
      "THE MAX SCORE STUDENT IS n4\n"
     ]
    }
   ],
   "source": [
    "d={}\n",
    "for i in range(int(input(\"NUMBER OF STUDENTS : \"))):\n",
    "    name=input(\"ENTER STUDENT NAME :\")\n",
    "    mark=int(input(\"ENTER MARKS out of 100\"))\n",
    "    d[name] = mark\n",
    "    \n",
    "c=max(d.values())\n",
    "x=list(sorted(d.items(),key=lambda item : item[1])[::-1])\n",
    "for i in x:\n",
    "    if i[1]==c:\n",
    "        print(f'THE MAX SCORE STUDENT IS {i[0]}')\n",
    "    else: break\n",
    "\n"
   ]
  },
  {
   "cell_type": "code",
   "execution_count": 58,
   "id": "b5320efb",
   "metadata": {},
   "outputs": [
    {
     "name": "stdout",
     "output_type": "stream",
     "text": [
      "VALID Email\n"
     ]
    }
   ],
   "source": [
    "import re\n",
    "def tovalidatemail(x):\n",
    "    y=re.compile(r'\\b[a-zA-Z]\\w+\\@\\w+\\.com')\n",
    "    if y.match(x):\n",
    "        return 'VALID Email'\n",
    "    return 'INVALID Email'\n",
    "\n",
    "x=input('ENTER A EMAIL :').strip()\n",
    "print(tovalidatemail(x))\n"
   ]
  },
  {
   "cell_type": "code",
   "execution_count": null,
   "id": "253dc826",
   "metadata": {},
   "outputs": [
    {
     "name": "stdout",
     "output_type": "stream",
     "text": [
      "{'Python': 1, 'is': 2, 'awesome': 1, 'File': 1, 'handling': 1, 'powerful': 1, 'Practice': 1, 'makes': 1, 'perfect': 1}\n"
     ]
    }
   ],
   "source": [
    "from collections import Counter\n",
    "\n",
    "class EMPTYFILEERROR(Exception):\n",
    "    pass\n",
    "\n",
    "try:\n",
    "    with open('sample.txt','r') as f:\n",
    "        c=f.read().split()\n",
    "        try:\n",
    "            if len(c)==0:\n",
    "                raise EMPTYFILEERROR(\"EMPTY FILE ERROR\")\n",
    "        except Exception as e:\n",
    "            print(e)\n",
    "        else:\n",
    "            print(dict(Counter(c)))\n",
    "            \n",
    "except FileNotFoundError as e:\n",
    "    print(\"ERROR IS \",e)\n"
   ]
  },
  {
   "cell_type": "code",
   "execution_count": 78,
   "id": "38b6aba3",
   "metadata": {},
   "outputs": [
    {
     "name": "stdout",
     "output_type": "stream",
     "text": [
      "{'employee': {'name': 'jim', 'age': 24, 'id': 345, 'dept': 'IT', 'skills': ['IT', 'NON IT', 'EC0'], 'address': {'city': 'Delhi', 'zip': 634893}}, 'employe3': {'name': 'max', 'age': 23, 'id': 345, 'dept': 'IT', 'skills': ['IT', 'NON IT'], 'address': {'city': 'tpt', 'zip': '879089'}}}\n"
     ]
    }
   ],
   "source": [
    "import json \n",
    "\n",
    "try:\n",
    "    with open('data12.json','r') as f:\n",
    "        c=json.load(f)\n",
    "        k={}\n",
    "        for i in c: \n",
    "            if c[i]['age']<25:\n",
    "                k[i]=c[i]\n",
    "        print(k)\n",
    "        with open('data13.json','w') as x:\n",
    "            json.dump(k,x,indent=4)\n",
    "except FileNotFoundError as e:\n",
    "    print(\"ERROR IS \",e)"
   ]
  },
  {
   "cell_type": "code",
   "execution_count": null,
   "id": "2e959ea4",
   "metadata": {},
   "outputs": [
    {
     "name": "stdout",
     "output_type": "stream",
     "text": [
      "[24, 10, 8, 6]\n"
     ]
    }
   ],
   "source": [
    "l=list(map(int,input().split()))\n",
    "# l1=sorted([i for i in l if i%2==0],reverse=True) \n",
    "# print(l1)\n",
    "l2=sorted(list(filter(lambda x : x%2==0,l)),reverse=True)\n",
    "print(l2)\n"
   ]
  },
  {
   "cell_type": "code",
   "execution_count": null,
   "id": "b491aa6e",
   "metadata": {},
   "outputs": [],
   "source": [
    "def tocheck(l):\n",
    "    x={}\n",
    "    for i in l:\n",
    "        if i in l\n",
    "\n",
    "\n"
   ]
  },
  {
   "cell_type": "code",
   "execution_count": 76,
   "id": "b6245365",
   "metadata": {},
   "outputs": [
    {
     "name": "stdout",
     "output_type": "stream",
     "text": [
      "['new@mail2.com', 'nivas@gmail.com']\n"
     ]
    }
   ],
   "source": [
    "import re\n",
    "\n",
    "def tovalidateemail(t):\n",
    "    return re.findall(r'\\b[a-zA-Z]\\w+\\@\\w+\\.com',t)\n",
    "\n",
    "t='random numbers arjun@.com python, and you 1balayya@example.com can 12/5/2925 new@mail2.com control www.chrome.com the python nivas@gmail.com randomness 12/8/1009 by setting www.youtube.com a seed.' \n",
    "print(tovalidateemail(t))"
   ]
  },
  {
   "cell_type": "code",
   "execution_count": 88,
   "id": "25cc5dc2",
   "metadata": {},
   "outputs": [
    {
     "name": "stdout",
     "output_type": "stream",
     "text": [
      "NUMBER OF LINES 3\n",
      "OCUURANCES OF EACH CHARACTER  {'P': 2, 'y': 1, 't': 3, 'h': 2, 'o': 3, 'n': 3, 'i': 5, 's': 4, 'a': 4, 'w': 2, 'e': 8, 'm': 2, 'F': 1, 'l': 3, 'd': 1, 'g': 1, 'p': 2, 'r': 3, 'f': 2, 'u': 1, 'c': 3, 'k': 1}\n",
      "NUMBERS OF WORDS  10\n"
     ]
    }
   ],
   "source": [
    "try:\n",
    "    with open('sample.txt','r') as f:\n",
    "        c=f.readlines()\n",
    "        print(\"NUMBER OF LINES\",len(c))\n",
    "        f.seek(0)\n",
    "        d=f.read()\n",
    "        x={}\n",
    "        for i in d:\n",
    "            if i not in x and i!=' ' and i!='\\n':\n",
    "                x[i]=1 \n",
    "            elif i in x and i!=' ' and i!='\\n': x[i]+=1 \n",
    "        print(\"OCUURANCES OF EACH CHARACTER \",x)\n",
    "        f.seek(0)\n",
    "        m=f.read().split() \n",
    "        print(\"NUMBERS OF WORDS \",len(m))\n",
    "except FileNotFoundError as e:\n",
    "    print(\"ERROR IS\",e)"
   ]
  },
  {
   "cell_type": "code",
   "execution_count": 98,
   "id": "43f759b6",
   "metadata": {},
   "outputs": [
    {
     "name": "stdout",
     "output_type": "stream",
     "text": [
      "NO MATCHES\n"
     ]
    }
   ],
   "source": [
    "def tocheckin(l):\n",
    "    x={}\n",
    "    for i in l:\n",
    "        if i in d:\n",
    "            x[i]=d[i]\n",
    "    if len(x)==0:\n",
    "        return 'NO MATCHES'\n",
    "    return x \n",
    "\n",
    "\n",
    "d={'a':1,'b':2,'c':3,'d':4,'e':5,'f':6,'g':7,'h':8,'i':9,'j':10}\n",
    "l=list(input('ENTER THE CHARCTERS : ').split())\n",
    "print(tocheckin(l))\n"
   ]
  },
  {
   "cell_type": "code",
   "execution_count": 95,
   "id": "981defb6",
   "metadata": {},
   "outputs": [
    {
     "name": "stdout",
     "output_type": "stream",
     "text": [
      "BALANCE AFTER DEOPOSIT WITH 200 is 1200\n",
      "WITHDRAW IS SUCCESSFUL\n",
      "NOW THE BALANCE IS 1100\n"
     ]
    }
   ],
   "source": [
    "class NOTENOUGHERROR(Exception):\n",
    "    pass\n",
    "\n",
    "class BankAccount:\n",
    "    def __init__(self,ac_num,balance):\n",
    "        self.ac_num = ac_num\n",
    "        self.balance=balance\n",
    "    \n",
    "    def deposit(self,amount):\n",
    "        self.balance+=amount\n",
    "        return f'BALANCE AFTER DEOPOSIT WITH {amount} is {self.balance}'\n",
    "    \n",
    "    def withdrawn(self,amount):\n",
    "        try:\n",
    "            if self.balance<amount:\n",
    "                raise NOTENOUGHERROR(\"INSUFFICIENT BALANCE\")\n",
    "        except NOTENOUGHERROR as e:\n",
    "            return f'ERROR IS {e}' \n",
    "        else: \n",
    "            self.balance-=amount\n",
    "            return f'WITHDRAW IS SUCCESSFUL\\nNOW THE BALANCE IS {self.balance}'\n",
    "\n",
    "person1=BankAccount(123456789,1000)\n",
    "print(person1.deposit(200))\n",
    "print(person1.withdrawn(100))"
   ]
  },
  {
   "cell_type": "code",
   "execution_count": null,
   "id": "a82b7bf6",
   "metadata": {},
   "outputs": [],
   "source": []
  }
 ],
 "metadata": {
  "kernelspec": {
   "display_name": "Python 3",
   "language": "python",
   "name": "python3"
  },
  "language_info": {
   "codemirror_mode": {
    "name": "ipython",
    "version": 3
   },
   "file_extension": ".py",
   "mimetype": "text/x-python",
   "name": "python",
   "nbconvert_exporter": "python",
   "pygments_lexer": "ipython3",
   "version": "3.12.3"
  }
 },
 "nbformat": 4,
 "nbformat_minor": 5
}
