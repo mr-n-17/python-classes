{
 "cells": [
  {
   "cell_type": "code",
   "execution_count": 50,
   "metadata": {},
   "outputs": [
    {
     "name": "stdout",
     "output_type": "stream",
     "text": [
      "1\n",
      "2\n",
      "3\n",
      "end\n"
     ]
    }
   ],
   "source": [
    "#while loop\n",
    "\n",
    "n=0\n",
    "while n<3:\n",
    "    print(n+1)\n",
    "    n+=1\n",
    "else:\n",
    "    print('end')"
   ]
  },
  {
   "cell_type": "code",
   "execution_count": 6,
   "metadata": {},
   "outputs": [
    {
     "name": "stdout",
     "output_type": "stream",
     "text": [
      "p\n",
      "y\n",
      "t\n",
      "p\n",
      "y\n",
      "t\n",
      "o\n",
      "n\n",
      "p\n",
      "y\n",
      "t\n",
      "h\n",
      "o\n",
      "n\n"
     ]
    }
   ],
   "source": [
    "#break#pass#continue\n",
    "\n",
    "# for i in 'python':\n",
    "#     if i=='h':\n",
    "#         print(i)\n",
    "#     break \n",
    "\n",
    "for i in 'python':\n",
    "    if i=='h':\n",
    "        break \n",
    "    print(i)\n",
    "\n",
    "\n",
    "for i in 'python':\n",
    "    if i=='h':\n",
    "        continue \n",
    "    print(i)\n",
    "\n",
    "for i in 'python':\n",
    "    if i=='h':\n",
    "        pass\n",
    "    print(i)\n",
    "\n"
   ]
  },
  {
   "cell_type": "code",
   "execution_count": 8,
   "metadata": {},
   "outputs": [
    {
     "name": "stdout",
     "output_type": "stream",
     "text": [
      "0 1 1 2 3 5 "
     ]
    }
   ],
   "source": [
    "#fibonacci \n",
    "\n",
    "a=0\n",
    "b=1\n",
    "n=int(input())\n",
    "print(a,b,end=' ')\n",
    "for i in range(n-2):\n",
    "    c=a+b \n",
    "    print(c,end=' ')\n",
    "    a=b \n",
    "    b=c\n",
    "\n",
    "\n"
   ]
  },
  {
   "cell_type": "markdown",
   "metadata": {},
   "source": [
    "# FUNCTIONS"
   ]
  },
  {
   "cell_type": "code",
   "execution_count": 11,
   "metadata": {},
   "outputs": [
    {
     "name": "stdout",
     "output_type": "stream",
     "text": [
      "11\n",
      "19\n",
      "11\n",
      "20\n"
     ]
    }
   ],
   "source": [
    "#types of functions :\n",
    " #with parameter and without return type\n",
    "\n",
    "def add(a,b):\n",
    "    print(a+b)\n",
    "add(5,6)\n",
    "\n",
    "#withpout parameter and without return type\n",
    "def add():\n",
    "    a=10\n",
    "    b=9\n",
    "    print(a+b)\n",
    "add()\n",
    "\n",
    "#with parameter and with return type\n",
    "\n",
    "def add(a,b):\n",
    "    return (a+b)\n",
    "print(add(5,6))\n",
    "\n",
    "#without parameter and with return type\n",
    "\n",
    "def add():\n",
    "    a=10\n",
    "    b=10\n",
    "    return (a+b)\n",
    "print(add())\n",
    "\n",
    "\n",
    "\n",
    "\n"
   ]
  },
  {
   "cell_type": "code",
   "execution_count": 17,
   "metadata": {},
   "outputs": [
    {
     "name": "stdout",
     "output_type": "stream",
     "text": [
      "9\n",
      "(5, 6)\n",
      "('5', '6')\n",
      "56\n"
     ]
    }
   ],
   "source": [
    "def cd(l1,s1):\n",
    "    c=0\n",
    "    for i in l1:\n",
    "        if i==s1: c+=1 \n",
    "    return c \n",
    "\n",
    "l=[1,56,4,2,7,4,1,5,86,95,1,4,2,57,5,4,8,3,6,4,4,256,4,5,8,2,1,6,7,4,5,9,6,3,2,15,9,8,7,4]\n",
    "print(cd(l,4))\n",
    "\n",
    "def nm(a,b):  \n",
    "    return a,b \n",
    "\n",
    "print(nm(5,6)) \n",
    "\n",
    "def nm(a,b):  \n",
    "    return a,b \n",
    "\n",
    "print(nm('5','6'))\n",
    "\n",
    "def nm(a,b):  \n",
    "    return a+b \n",
    "\n",
    "print(nm('5','6'))"
   ]
  },
  {
   "cell_type": "markdown",
   "metadata": {},
   "source": [
    "# TYPES OF ARGUMENTS"
   ]
  },
  {
   "cell_type": "code",
   "execution_count": null,
   "metadata": {},
   "outputs": [],
   "source": [
    "# positional - not less or more arguments \n",
    "\n",
    "def cd(a,b):\n",
    "    return a+b \n",
    "cd(5,6) # not (5,6,7) or (5)\n"
   ]
  },
  {
   "cell_type": "code",
   "execution_count": 18,
   "metadata": {},
   "outputs": [
    {
     "name": "stdout",
     "output_type": "stream",
     "text": [
      "niv\n",
      "hello\n"
     ]
    }
   ],
   "source": [
    "#defualt \n",
    "\n",
    "def fg(name='niv'):\n",
    "     return name \n",
    "\n",
    "print(fg())\n",
    "print(fg('hello'))"
   ]
  },
  {
   "cell_type": "code",
   "execution_count": 19,
   "metadata": {},
   "outputs": [
    {
     "name": "stdout",
     "output_type": "stream",
     "text": [
      "hello 12 and name\n",
      "hello name and 12\n"
     ]
    }
   ],
   "source": [
    "#keyword arguments \n",
    "\n",
    "def hj(a,b):\n",
    "    return f'hello {a} and {b}'\n",
    "\n",
    "print(hj(12,'name'))\n",
    "print(hj(b=12,a='name'))"
   ]
  },
  {
   "cell_type": "code",
   "execution_count": null,
   "metadata": {},
   "outputs": [
    {
     "name": "stdout",
     "output_type": "stream",
     "text": [
      "(1, 2, 3, 4)\n",
      "()\n",
      "('hello', ())\n"
     ]
    }
   ],
   "source": [
    "#variable length argument (*)\n",
    "#default datatype is tuple if we not mention \n",
    "\n",
    "def gh(*a):\n",
    "    return a\n",
    "\n",
    "print(gh(1,2,3,4))\n",
    "print(gh())\n",
    "\n",
    "def gh(name,*a):\n",
    "    return name,a\n",
    "\n",
    "print(gh('hello'))"
   ]
  },
  {
   "cell_type": "code",
   "execution_count": 23,
   "metadata": {},
   "outputs": [
    {
     "name": "stdout",
     "output_type": "stream",
     "text": [
      "name\n",
      "{'f': 1, 'g': 'hello'}\n"
     ]
    }
   ],
   "source": [
    "#variable length keyword argument (**)\n",
    "#default datatype is dictionary if we not mention \n",
    "\n",
    "def mk(a,**b):\n",
    "    print(a)\n",
    "    print(b)\n",
    "\n",
    "mk('name',f=1,g='hello')"
   ]
  },
  {
   "cell_type": "code",
   "execution_count": 24,
   "metadata": {},
   "outputs": [
    {
     "name": "stdout",
     "output_type": "stream",
     "text": [
      "10,klio\n"
     ]
    }
   ],
   "source": [
    "#function annotation\n",
    "\n",
    "def gh(a:int,b:str)-> str:\n",
    "    return f'{a},{b}'\n",
    "print(gh(10,'klio'))"
   ]
  },
  {
   "cell_type": "markdown",
   "metadata": {},
   "source": [
    "# PASCAL TRIANGLE"
   ]
  },
  {
   "cell_type": "code",
   "execution_count": 39,
   "metadata": {},
   "outputs": [
    {
     "name": "stdout",
     "output_type": "stream",
     "text": [
      "[1]\n",
      "[1, 1]\n",
      "[1, 2, 1]\n",
      "[1, 3, 3, 1]\n",
      "[1, 4, 6, 4, 1]\n"
     ]
    }
   ],
   "source": [
    "def pascal_trianglre():\n",
    "    m=[]\n",
    "    for i in range(1,6):\n",
    "        l=[]\n",
    "        for j in range(i):\n",
    "            if j==0 or j==i-1:\n",
    "                l.append(1) \n",
    "            else:\n",
    "                l.append(m[i-2][j-1]+m[i-2][j])\n",
    "        m.append(l)\n",
    "    for i in m:\n",
    "        print(i)\n",
    "\n",
    "pascal_trianglre()\n",
    "\n",
    "\n",
    "\n"
   ]
  },
  {
   "cell_type": "markdown",
   "metadata": {},
   "source": [
    "# Scope"
   ]
  },
  {
   "cell_type": "code",
   "execution_count": 41,
   "metadata": {},
   "outputs": [
    {
     "name": "stdout",
     "output_type": "stream",
     "text": [
      "10 inside\n",
      "20 outside\n",
      "40 inside\n",
      "40 outside\n"
     ]
    }
   ],
   "source": [
    "x=20\n",
    "\n",
    "def num():\n",
    "    x=10 #local\n",
    "    print(x,'inside')\n",
    "num()\n",
    "print(x,'outside')\n",
    "\n",
    "\n",
    "y=20\n",
    "def hum():\n",
    "    global y\n",
    "    y+=20\n",
    "    print(y,'inside')\n",
    "hum()\n",
    "print(y,'outside')"
   ]
  },
  {
   "cell_type": "markdown",
   "metadata": {},
   "source": [
    "# RANDOM"
   ]
  },
  {
   "cell_type": "code",
   "execution_count": null,
   "metadata": {},
   "outputs": [
    {
     "name": "stdout",
     "output_type": "stream",
     "text": [
      "BEST OF THREE\n",
      "Your choice: paper\n",
      "Computer Choice: rock\n",
      "You Won 1 game\n",
      "\n",
      "Your choice: rock\n",
      "Computer Choice: paper\n",
      "You lost 2 game\n",
      "\n",
      "Your choice: paper\n",
      "Computer Choice: paper\n",
      "You lost 3 game\n",
      "\n",
      "You Lost 2 games out of three\n"
     ]
    }
   ],
   "source": [
    "import random\n",
    "\n",
    "def game(a,b):\n",
    "    if a.lower()==b: \n",
    "        return 0\n",
    "    if (a.lower()=='rock' and b=='scissor') or (a.lower()=='scissor' and b=='paper') or (a.lower()=='paper' and b=='rock'):\n",
    "        return 1\n",
    "    else:\n",
    "        return 0\n",
    "\n",
    "print('BEST OF THREE')\n",
    "f=0\n",
    "for i in range(1,4):\n",
    "    n=input('Enter the UR Choice \"ROCK\" \"PAPER\" \"SCISSOR\"')\n",
    "    print('Your choice:',n)\n",
    "    if n.lower() not in ['rock','paper','scissor']:\n",
    "        print('Invalid Input')\n",
    "        break\n",
    "    else:\n",
    "        m=random.choice(['rock','scissor','paper'])\n",
    "        print('Computer Choice:', m)\n",
    "        g=game(n,m)\n",
    "        if g==1:\n",
    "            print(f'You Won {i} game')\n",
    "            print()\n",
    "            f+=1\n",
    "        else:\n",
    "            print(f'You lost {i} game')\n",
    "            print()\n",
    "if f>=2:\n",
    "    print(f'You won {f} games out of three')\n",
    "\n",
    "else:\n",
    "    print(f'You Lost {3-f} games out of three')"
   ]
  },
  {
   "cell_type": "code",
   "execution_count": null,
   "metadata": {},
   "outputs": [
    {
     "name": "stdout",
     "output_type": "stream",
     "text": [
      "5(KV1s4w\n"
     ]
    }
   ],
   "source": [
    "#random password\n",
    "\n",
    "import random\n",
    "\n",
    "def ranpass(a):\n",
    "    c=''\n",
    "    w,x,y,z=0,0,0,0\n",
    "    k='1234567890qwertyuioplkjhgfdsazxcvbbnmQWERTYUIOPLKJHGFDSAZXCVBNM!@#$%^&*()_-<>,}[]{'\n",
    "    for i in range(a):\n",
    "        g=random.choice(k)\n",
    "        if g in 'QWERTYUIOPLKJHGFDSAZXCVBNM':\n",
    "            c+=g;w=1\n",
    "        elif g in '1234567890':\n",
    "            c+=g;x=1\n",
    "        elif g in 'qwertyuioplkjhgfdsazxcvbbnm':\n",
    "            c+=g;y=1\n",
    "        elif g in '!@#$%^&*()_-<>,}[]{': c+=g;z=1 \n",
    "    if w==0 or x==0 or y==0 or z==0 or (c[0] in '!@#$%^&*()_-<>,}[]{' or c[-1] in '!@#$%^&*()_-<>,}[]{'):\n",
    "        return 0\n",
    "    else: return c \n",
    "\n",
    "n=int(input('Enter The Length of the password'))\n",
    "while n<=3:\n",
    "    n=int(input('Enter The Length of the password and it should be greater than 3'))\n",
    "g=0\n",
    "while g==0:\n",
    "    g=ranpass(n)\n",
    "else: print(g)"
   ]
  },
  {
   "cell_type": "code",
   "execution_count": 58,
   "metadata": {},
   "outputs": [
    {
     "name": "stdout",
     "output_type": "stream",
     "text": [
      "Users Number : 89\n",
      "Computers Guessing number : 30\n",
      "NO\n"
     ]
    }
   ],
   "source": [
    "#random guessing game\n",
    "\n",
    "import random\n",
    "\n",
    "n=int(input('Enter the Number from 1 to 100 : '))\n",
    "while n>100:\n",
    "    n=int(input('Number should in between 1 to 100, Give input once again :'))\n",
    "print('Users Number :',n)\n",
    "c=random.randint(1,100)\n",
    "print('Computers Guessing number :',c)\n",
    "print('Guessed number is coreect' if c==n else 'NO')\n",
    "\n"
   ]
  },
  {
   "cell_type": "code",
   "execution_count": 18,
   "metadata": {},
   "outputs": [
    {
     "name": "stdout",
     "output_type": "stream",
     "text": [
      "The guessing word is : ['c', 'n', 'i', 'g', 'b', 'l', 'k', 'o']\n",
      "\n",
      "You Have 3 attempts\n",
      "\n",
      "You have 2 more chances\n",
      "You have 1 more chances\n",
      "You Won\n"
     ]
    }
   ],
   "source": [
    "#word gussing game\n",
    "\n",
    "import random\n",
    "\n",
    "def guessgame():\n",
    "    l=['python','react','assertion','popitem','connection','blocking','industry']\n",
    "    #l=['python','react']\n",
    "    c=random.choice(l)\n",
    "    m=[i for i in c]\n",
    "    random.shuffle(m)\n",
    "    print('The guessing word is :',m)\n",
    "    print()\n",
    "    print('You Have 3 attempts')\n",
    "    print()\n",
    "    n=input('Guess the word from shuffle word :')\n",
    "    if n==c:\n",
    "        return 'U won'\n",
    "    else:\n",
    "        for i in range(2):\n",
    "            print(f'You have {3-(i+1)} more chances')\n",
    "            if n!=c:\n",
    "                n=input('Guess the word from shuffle word :')\n",
    "            else: \n",
    "                return 'You Won'\n",
    "    return 'You Loss'\n",
    "d=guessgame()\n",
    "print(d)"
   ]
  },
  {
   "cell_type": "code",
   "execution_count": null,
   "metadata": {},
   "outputs": [],
   "source": []
  }
 ],
 "metadata": {
  "kernelspec": {
   "display_name": "Python 3",
   "language": "python",
   "name": "python3"
  },
  "language_info": {
   "codemirror_mode": {
    "name": "ipython",
    "version": 3
   },
   "file_extension": ".py",
   "mimetype": "text/x-python",
   "name": "python",
   "nbconvert_exporter": "python",
   "pygments_lexer": "ipython3",
   "version": "3.12.3"
  }
 },
 "nbformat": 4,
 "nbformat_minor": 2
}
