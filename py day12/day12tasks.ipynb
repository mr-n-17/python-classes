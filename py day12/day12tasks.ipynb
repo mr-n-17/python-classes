{
 "cells": [
  {
   "cell_type": "code",
   "execution_count": 3,
   "id": "5b3d9605",
   "metadata": {},
   "outputs": [
    {
     "name": "stdout",
     "output_type": "stream",
     "text": [
      "['#', '#', '#']\n"
     ]
    }
   ],
   "source": [
    "# Extracting hashtags, mentions from strings\n",
    "\n",
    "import re\n",
    "t='jmgsdfk #hsdgf s# jsdg#auh'\n",
    "f=re.compile(r'#+')\n",
    "m=f.findall(t)\n",
    "print(m)\n"
   ]
  },
  {
   "cell_type": "code",
   "execution_count": 5,
   "id": "d6cc54fb",
   "metadata": {},
   "outputs": [
    {
     "name": "stdout",
     "output_type": "stream",
     "text": [
      "['jmgsdfk ', 'hsdgf ', 's', 'jsdg', 'auh ', 'sja', '8hskdh']\n"
     ]
    }
   ],
   "source": [
    "# Cleaning text (removing special characters, multiple spaces)\n",
    "\n",
    "t='jmgsdfk #hsdgf  s# jsdg#auh sja$ ^8hskdh'\n",
    "f=re.compile(r'[a-zA-Z0-9]+\\s?')\n",
    "print(f.findall(t))"
   ]
  },
  {
   "cell_type": "code",
   "execution_count": 28,
   "id": "1dfc7af2",
   "metadata": {},
   "outputs": [
    {
     "name": "stdout",
     "output_type": "stream",
     "text": [
      "YES\n"
     ]
    }
   ],
   "source": [
    "# Checking passwords for patterns (like uppercase + digit)\n",
    "\n",
    "t='gcdha8@'\n",
    "f=re.compile(r'[a-z]+[A-Z]+[0-9]+!|@|#|$')\n",
    "m=f.search(t)\n",
    "print('YES' if m else \"NO\")"
   ]
  },
  {
   "cell_type": "code",
   "execution_count": 29,
   "id": "78cde3cd",
   "metadata": {},
   "outputs": [
    {
     "name": "stdout",
     "output_type": "stream",
     "text": [
      "['ohmy@yahoo.com', 'nivas@gamil.com']\n"
     ]
    }
   ],
   "source": [
    "# Extract all email addresses from a paragraph\n",
    "\n",
    "t='random numbers, and you can control the randomness by setting a seed. Setting a ohmy@yahoo.com seed ensures that you get the nivas@gamil.com same sequence of random numbers every time you run your code, which is useful for debugging and testing.'\n",
    "f=re.compile(r'\\w+[@]+\\w+.com')\n",
    "m=f.findall(t)\n",
    "print(m)"
   ]
  },
  {
   "cell_type": "code",
   "execution_count": 30,
   "id": "0734604c",
   "metadata": {},
   "outputs": [
    {
     "name": "stdout",
     "output_type": "stream",
     "text": [
      "['#you', '#randomness', '#by', '#seed']\n"
     ]
    }
   ],
   "source": [
    "# Extract all hashtags from a tweet\n",
    "\n",
    "t='random numbers, and #you can control the #randomness ##by setting a #seed.'\n",
    "f=re.compile(r'#\\w+')\n",
    "print(f.findall(t))\n",
    "\n"
   ]
  },
  {
   "cell_type": "code",
   "execution_count": 42,
   "id": "ac3ec310",
   "metadata": {},
   "outputs": [
    {
     "name": "stdout",
     "output_type": "stream",
     "text": [
      "[]\n"
     ]
    }
   ],
   "source": [
    "# Extract all valid dates in DD/MM/YYYY format\n",
    "\n",
    "t='random numbers, and you can 12/5/2925 control the randomness 12/8/1009 by setting a seed.'\n",
    "f=re.compile(r'[1-31]//[1-12]//[999-9999]')\n",
    "print(f.findall(t))\n"
   ]
  },
  {
   "cell_type": "code",
   "execution_count": null,
   "id": "1dbea0ac",
   "metadata": {},
   "outputs": [],
   "source": []
  }
 ],
 "metadata": {
  "kernelspec": {
   "display_name": "Python 3",
   "language": "python",
   "name": "python3"
  },
  "language_info": {
   "codemirror_mode": {
    "name": "ipython",
    "version": 3
   },
   "file_extension": ".py",
   "mimetype": "text/x-python",
   "name": "python",
   "nbconvert_exporter": "python",
   "pygments_lexer": "ipython3",
   "version": "3.12.3"
  }
 },
 "nbformat": 4,
 "nbformat_minor": 5
}
