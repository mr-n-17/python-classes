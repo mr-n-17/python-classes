{
 "cells": [
  {
   "cell_type": "markdown",
   "id": "bacfcdfd",
   "metadata": {},
   "source": [
    "# REGEX"
   ]
  },
  {
   "cell_type": "code",
   "execution_count": 1,
   "id": "65fb0bff",
   "metadata": {},
   "outputs": [
    {
     "name": "stdout",
     "output_type": "stream",
     "text": [
      "<re.Match object; span=(0, 8), match='DEV25001'>\n"
     ]
    }
   ],
   "source": [
    "import re\n",
    "\n",
    "s='DEV25001'\n",
    "pattern='[A-Z]{3}[0-9]{2}[0-9]{3}'\n",
    "\n",
    "print(re.match(pattern,s))"
   ]
  },
  {
   "cell_type": "markdown",
   "id": "2d1ba973",
   "metadata": {},
   "source": [
    "# FINDALL"
   ]
  },
  {
   "cell_type": "code",
   "execution_count": null,
   "id": "61283a66",
   "metadata": {},
   "outputs": [
    {
     "name": "stdout",
     "output_type": "stream",
     "text": [
      "['ai', 'ai']\n"
     ]
    }
   ],
   "source": [
    "txt='The rain in spain is good'\n",
    "x=re.findall('ai',txt)\n",
    "print(x) #list "
   ]
  },
  {
   "cell_type": "markdown",
   "id": "63937baa",
   "metadata": {},
   "source": [
    "# SEARCH()"
   ]
  },
  {
   "cell_type": "code",
   "execution_count": 4,
   "id": "876fdaaa",
   "metadata": {},
   "outputs": [
    {
     "name": "stdout",
     "output_type": "stream",
     "text": [
      "<re.Match object; span=(5, 7), match='ai'>\n",
      "IN TXT\n"
     ]
    }
   ],
   "source": [
    "import re \n",
    "\n",
    "txt='The rain in spain is good'\n",
    "x=re.search('ai',txt)\n",
    "print(x) #boolean type\n",
    "\n",
    "if x:\n",
    "    print('IN TXT')\n",
    "\n",
    "else: print('NO')"
   ]
  },
  {
   "cell_type": "code",
   "execution_count": 48,
   "id": "1496f3dc",
   "metadata": {},
   "outputs": [
    {
     "name": "stdout",
     "output_type": "stream",
     "text": [
      "<re.Match object; span=(0, 2), match='hi'>\n"
     ]
    }
   ],
   "source": [
    "t= 'hi rey say hi i am'\n",
    "print(re.search('hi',t))"
   ]
  },
  {
   "cell_type": "markdown",
   "id": "ab8dbb1d",
   "metadata": {},
   "source": [
    "# SPLIT()"
   ]
  },
  {
   "cell_type": "code",
   "execution_count": 5,
   "id": "834d248c",
   "metadata": {},
   "outputs": [
    {
     "name": "stdout",
     "output_type": "stream",
     "text": [
      "['The r', 'n in sp', 'n is good']\n"
     ]
    }
   ],
   "source": [
    "txt='The rain in spain is good'\n",
    "x=re.split('ai',txt)\n",
    "print(x)"
   ]
  },
  {
   "cell_type": "code",
   "execution_count": null,
   "id": "af3320f0",
   "metadata": {},
   "outputs": [
    {
     "name": "stdout",
     "output_type": "stream",
     "text": [
      "['The', 'rain', 'in', 'Spain', 'is', 'good']\n"
     ]
    }
   ],
   "source": [
    "txt='The rain in Spain is good'\n",
    "x=re.split(r\"\\s\",txt) #\\s is special character to split\n",
    "print(x)"
   ]
  },
  {
   "cell_type": "code",
   "execution_count": 11,
   "id": "91186693",
   "metadata": {},
   "outputs": [
    {
     "name": "stdout",
     "output_type": "stream",
     "text": [
      "['The', 'rain', 'in Spain is good']\n"
     ]
    }
   ],
   "source": [
    "txt='The rain in Spain is good'\n",
    "x=re.split(r\"\\s\",txt,2)\n",
    "print(x)"
   ]
  },
  {
   "cell_type": "markdown",
   "id": "e874877c",
   "metadata": {},
   "source": [
    "# SUB()"
   ]
  },
  {
   "cell_type": "code",
   "execution_count": 12,
   "id": "67a1671a",
   "metadata": {},
   "outputs": [
    {
     "name": "stdout",
     "output_type": "stream",
     "text": [
      "There rain in Spain is good\n"
     ]
    }
   ],
   "source": [
    "txt='The rain in Spain is good'\n",
    "x=re.sub('The',\"There\",txt)\n",
    "print(x)"
   ]
  },
  {
   "cell_type": "code",
   "execution_count": 15,
   "id": "a28c1547",
   "metadata": {},
   "outputs": [
    {
     "name": "stdout",
     "output_type": "stream",
     "text": [
      "There rain in Spain is good There\n"
     ]
    }
   ],
   "source": [
    "txt='The rain in Spain is good The'\n",
    "x=re.sub('The',\"There\",txt)\n",
    "print(x)"
   ]
  },
  {
   "cell_type": "code",
   "execution_count": 17,
   "id": "edf84d2e",
   "metadata": {},
   "outputs": [
    {
     "name": "stdout",
     "output_type": "stream",
     "text": [
      "The9rain9in9Spain9is9good\n"
     ]
    }
   ],
   "source": [
    "txt='The rain in Spain is good'\n",
    "x=re.sub(r'\\s','9',txt)\n",
    "print(x)"
   ]
  },
  {
   "cell_type": "code",
   "execution_count": 21,
   "id": "83a68afa",
   "metadata": {},
   "outputs": [
    {
     "name": "stdout",
     "output_type": "stream",
     "text": [
      "47\n",
      "This is a  string with   special  characters \n",
      "45\n"
     ]
    }
   ],
   "source": [
    "t='This is a $string with \"%\" special^ characters!' \n",
    "print(len(t))\n",
    "p=r'[^a-zA-Z0-9\\s]+'\n",
    "s=re.sub(p,' ',t)\n",
    "print(s)\n",
    "print(len(s))\n"
   ]
  },
  {
   "cell_type": "markdown",
   "id": "d99bd35b",
   "metadata": {},
   "source": [
    "# IF STRING ENDS WITH . PRINT YES ELSE NO"
   ]
  },
  {
   "cell_type": "code",
   "execution_count": 31,
   "id": "8607be28",
   "metadata": {},
   "outputs": [
    {
     "name": "stdout",
     "output_type": "stream",
     "text": [
      "ENDS WITH .\n"
     ]
    }
   ],
   "source": [
    "t='Nivas.' \n",
    "k=re.search(r'[.$]',t)\n",
    "if k:\n",
    "    print('ENDS WITH .')\n",
    "else: print('No')"
   ]
  },
  {
   "cell_type": "markdown",
   "id": "535d39c1",
   "metadata": {},
   "source": [
    "# PRINT ONLY NUMBERS"
   ]
  },
  {
   "cell_type": "code",
   "execution_count": null,
   "id": "acc02aa6",
   "metadata": {},
   "outputs": [
    {
     "name": "stdout",
     "output_type": "stream",
     "text": [
      "['12', '20']\n"
     ]
    }
   ],
   "source": [
    "t='I HAVE 12 apples and 20 bananas'\n",
    "k=re.findall(r'\\d+',t) #\\d gives only numbers\n",
    "print(k)"
   ]
  },
  {
   "cell_type": "markdown",
   "id": "9f0ee401",
   "metadata": {},
   "source": [
    "# MATCH FUNCTION "
   ]
  },
  {
   "cell_type": "code",
   "execution_count": 44,
   "id": "cae17149",
   "metadata": {},
   "outputs": [
    {
     "name": "stdout",
     "output_type": "stream",
     "text": [
      "None\n"
     ]
    }
   ],
   "source": [
    "t= 'say hi i am'\n",
    "print(re.match('hi',t))"
   ]
  },
  {
   "cell_type": "code",
   "execution_count": 45,
   "id": "a6835f42",
   "metadata": {},
   "outputs": [
    {
     "name": "stdout",
     "output_type": "stream",
     "text": [
      "<re.Match object; span=(0, 2), match='hi'>\n"
     ]
    }
   ],
   "source": [
    "t= 'hi rey say hi i am'\n",
    "print(re.match('hi',t))"
   ]
  },
  {
   "cell_type": "code",
   "execution_count": 46,
   "id": "35ebdeb9",
   "metadata": {},
   "outputs": [
    {
     "name": "stdout",
     "output_type": "stream",
     "text": [
      "<re.Match object; span=(4, 6), match='hi'>\n"
     ]
    }
   ],
   "source": [
    "t= 'say hi i am'\n",
    "print(re.search('hi',t))"
   ]
  },
  {
   "cell_type": "code",
   "execution_count": 47,
   "id": "c3924a66",
   "metadata": {},
   "outputs": [
    {
     "name": "stdout",
     "output_type": "stream",
     "text": [
      "<re.Match object; span=(0, 2), match='hi'>\n"
     ]
    }
   ],
   "source": [
    "t= 'hi rey say hi i am'\n",
    "print(re.search('hi',t))"
   ]
  },
  {
   "cell_type": "code",
   "execution_count": null,
   "id": "e569cbd9",
   "metadata": {},
   "outputs": [
    {
     "name": "stdout",
     "output_type": "stream",
     "text": [
      "<re.Match object; span=(7, 9), match='12'>\n"
     ]
    }
   ],
   "source": [
    "t='I HAVE 12 apples and 20 bananas'\n",
    "\n",
    "t=re.search(r'\\d+',t)\n",
    "print(t)   #gives only first occurrence"
   ]
  },
  {
   "cell_type": "code",
   "execution_count": null,
   "id": "dd4fa54e",
   "metadata": {},
   "outputs": [
    {
     "name": "stdout",
     "output_type": "stream",
     "text": [
      "12\n"
     ]
    }
   ],
   "source": [
    "# group() convert span,match to real string values\n",
    "\n",
    "t='I HAVE 12 apples and 20 bananas'\n",
    "\n",
    "t=re.search(r'\\d+',t)\n",
    "print(t.group()) "
   ]
  },
  {
   "cell_type": "code",
   "execution_count": null,
   "id": "d8c31406",
   "metadata": {},
   "outputs": [
    {
     "name": "stdout",
     "output_type": "stream",
     "text": [
      "['12', '20']\n"
     ]
    }
   ],
   "source": [
    "t='I HAVE 12 apples and 20 bananas'\n",
    "\n",
    "t=re.findall(r'\\d+',t)\n",
    "print(t)           # prints all occurrences"
   ]
  },
  {
   "cell_type": "markdown",
   "id": "4e730bb2",
   "metadata": {},
   "source": [
    "# \\b - search specific pattern at beginning or ending of the string"
   ]
  },
  {
   "cell_type": "code",
   "execution_count": 63,
   "id": "5bc3501e",
   "metadata": {},
   "outputs": [
    {
     "name": "stdout",
     "output_type": "stream",
     "text": [
      "['Developed', 'Guido', 'Rossum']\n"
     ]
    }
   ],
   "source": [
    "import re\n",
    "\n",
    "txt='python is Developed by Guido van Rossum in NETHERLands'\n",
    "\n",
    "print(re.findall(r'\\b[A-Z][a-z]*\\b',txt))\n"
   ]
  },
  {
   "cell_type": "markdown",
   "id": "7dd3520f",
   "metadata": {},
   "source": [
    "# funnction in regex"
   ]
  },
  {
   "cell_type": "code",
   "execution_count": 64,
   "id": "d7fb457a",
   "metadata": {},
   "outputs": [
    {
     "name": "stdout",
     "output_type": "stream",
     "text": [
      "the cost is 20 ruppee and 50 paisa\n"
     ]
    }
   ],
   "source": [
    "def dobleit(x):\n",
    "    n=int(x.group())\n",
    "    return str(n*2)\n",
    "\n",
    "t='the cost is 10 ruppee and 25 paisa'\n",
    "print(re.sub(r'\\d+',dobleit,t))"
   ]
  },
  {
   "cell_type": "code",
   "execution_count": 67,
   "id": "06ebf75e",
   "metadata": {},
   "outputs": [
    {
     "name": "stdout",
     "output_type": "stream",
     "text": [
      "You are a censored one and very censored\n"
     ]
    }
   ],
   "source": [
    "txt='You are a dumb one and very badass'\n",
    "\n",
    "b=r'\\bdumb|badass\\b'\n",
    "print(re.sub(b,'censored',txt))"
   ]
  },
  {
   "cell_type": "code",
   "execution_count": 77,
   "id": "5586a541",
   "metadata": {},
   "outputs": [
    {
     "name": "stdout",
     "output_type": "stream",
     "text": [
      "FULL MATCH : name: Nivas,Age: 25,class: Python\n",
      "name : Nivas\n",
      "Age : 25\n",
      "Python\n"
     ]
    }
   ],
   "source": [
    "t='name: Nivas,Age: 25,class: Python'\n",
    "\n",
    "m=re.search(r'name: (\\w+),Age: (\\d+),class: (\\w+)',t)\n",
    "\n",
    "if m:\n",
    "    print('FULL MATCH :',m.group())\n",
    "    print('name :',m.group(1))\n",
    "    print('Age :',m.group(2))\n",
    "    print(m.group(3))"
   ]
  },
  {
   "cell_type": "markdown",
   "id": "1ec3e29f",
   "metadata": {},
   "source": [
    "# MULTIPLE SPLITS USING RE SPLIT()"
   ]
  },
  {
   "cell_type": "code",
   "execution_count": 79,
   "id": "44cf54fb",
   "metadata": {},
   "outputs": [
    {
     "name": "stdout",
     "output_type": "stream",
     "text": [
      "['apple', 'banana', 'litchi', 'berry']\n"
     ]
    }
   ],
   "source": [
    "t='apple;banana,litchi/berry'\n",
    "r=re.split(r'[/;,]',t)\n",
    "print(r)"
   ]
  },
  {
   "cell_type": "code",
   "execution_count": 80,
   "id": "47b100eb",
   "metadata": {},
   "outputs": [
    {
     "name": "stdout",
     "output_type": "stream",
     "text": [
      "['apple', 'banana', 'litchi', 'berry']\n"
     ]
    }
   ],
   "source": [
    "t='apple;banana,litchi/berry'\n",
    "r=re.split(r'[/;,\\s]+',t)\n",
    "print(r)"
   ]
  },
  {
   "cell_type": "markdown",
   "id": "dd1ddc38",
   "metadata": {},
   "source": [
    "# MAXSPLIT"
   ]
  },
  {
   "cell_type": "code",
   "execution_count": null,
   "id": "30761cbf",
   "metadata": {},
   "outputs": [
    {
     "name": "stdout",
     "output_type": "stream",
     "text": [
      "['one', 'two', 'three-fout-five']\n"
     ]
    }
   ],
   "source": [
    "t='one-two-three-four-five'\n",
    "\n",
    "print(re.split(r'-',t,maxsplit=2))"
   ]
  },
  {
   "cell_type": "markdown",
   "id": "c9aae7ca",
   "metadata": {},
   "source": [
    "# SUBN"
   ]
  },
  {
   "cell_type": "code",
   "execution_count": 86,
   "id": "e58fa35a",
   "metadata": {},
   "outputs": [
    {
     "name": "stdout",
     "output_type": "stream",
     "text": [
      "('# # #', 3)\n"
     ]
    }
   ],
   "source": [
    "print(re.subn(r'\\d+','#','1234 657 890'))"
   ]
  },
  {
   "cell_type": "code",
   "execution_count": 84,
   "id": "d8b32ed4",
   "metadata": {},
   "outputs": [
    {
     "name": "stdout",
     "output_type": "stream",
     "text": [
      "# # #\n"
     ]
    }
   ],
   "source": [
    "print(re.sub(r'\\d+','#','1234 657 890'))"
   ]
  },
  {
   "cell_type": "markdown",
   "id": "1f146e1f",
   "metadata": {},
   "source": [
    "# COMPLIER"
   ]
  },
  {
   "cell_type": "code",
   "execution_count": null,
   "id": "543409a9",
   "metadata": {},
   "outputs": [
    {
     "name": "stdout",
     "output_type": "stream",
     "text": [
      "['123', '456']\n"
     ]
    }
   ],
   "source": [
    "# \n",
    "\n",
    "\n",
    "p=re.compile(r'\\d+')\n",
    "print(p.findall('123 456'))"
   ]
  },
  {
   "cell_type": "code",
   "execution_count": 88,
   "id": "1c296fe1",
   "metadata": {},
   "outputs": [
    {
     "name": "stdout",
     "output_type": "stream",
     "text": [
      "['k']\n"
     ]
    }
   ],
   "source": [
    "p=re.compile(r'[a-z]\\b')\n",
    "print(p.findall('123k 456'))"
   ]
  },
  {
   "cell_type": "markdown",
   "id": "1a9a031d",
   "metadata": {},
   "source": [
    "# CHECK A MAIL ID"
   ]
  },
  {
   "cell_type": "code",
   "execution_count": 131,
   "id": "f61c7c72",
   "metadata": {},
   "outputs": [
    {
     "name": "stdout",
     "output_type": "stream",
     "text": [
      "NO\n"
     ]
    }
   ],
   "source": [
    "import re \n",
    "\n",
    "t=['ni12vas@gmail.com','helloworld@.com','jink@yahoo.com','89fhjyf90890@gm.com']\n",
    "\n",
    "p=re.search(r'\\b[a-z][a-z0-9]+\\d*@[a-z]+?.com',t[3])\n",
    "if p:\n",
    "    print('MATCH')\n",
    "else:\n",
    "    print(\"NO\")"
   ]
  },
  {
   "cell_type": "markdown",
   "id": "4709ab83",
   "metadata": {},
   "source": [
    "# FINDiter"
   ]
  },
  {
   "cell_type": "code",
   "execution_count": 135,
   "id": "aedd9525",
   "metadata": {},
   "outputs": [
    {
     "name": "stdout",
     "output_type": "stream",
     "text": [
      "python 3.8 at position : (0, 10)\n",
      "python 9.9 at position : (38, 48)\n"
     ]
    }
   ],
   "source": [
    "t='python 3.8 was releasede in 2019, and python 9.9 in 2020'\n",
    "\n",
    "p=re.finditer(r'python [0-9].\\d',t)\n",
    "\n",
    "for i in p:\n",
    "    print(i.group(),'at position :',i.span())\n",
    "\n"
   ]
  },
  {
   "cell_type": "markdown",
   "id": "299cbfa1",
   "metadata": {},
   "source": [
    "# START END IN REGEX"
   ]
  },
  {
   "cell_type": "code",
   "execution_count": 137,
   "id": "830dae2b",
   "metadata": {},
   "outputs": [
    {
     "name": "stdout",
     "output_type": "stream",
     "text": [
      "nivas@yahoo.com\n",
      "8\n",
      "23\n",
      "Span(START,END) : (8, 23)\n"
     ]
    }
   ],
   "source": [
    "r='email : nivas@yahoo.com'\n",
    "\n",
    "m=re.search(r'\\w+@\\w+\\.\\w+',r)\n",
    "\n",
    "if m:\n",
    "    print(m.group())\n",
    "    print(m.start())\n",
    "    print(m.end())\n",
    "    print('Span(START,END) :',m.span())"
   ]
  },
  {
   "cell_type": "markdown",
   "id": "c68cc5c1",
   "metadata": {},
   "source": [
    "# IGNORECASE or re.I"
   ]
  },
  {
   "cell_type": "code",
   "execution_count": 138,
   "id": "c5a6e3d0",
   "metadata": {},
   "outputs": [
    {
     "name": "stdout",
     "output_type": "stream",
     "text": [
      "Hello\n"
     ]
    }
   ],
   "source": [
    "import re \n",
    "\n",
    "t='Hello world'\n",
    "m=re.compile(r'hello',re.IGNORECASE)\n",
    "f=m.search(t)\n",
    "print(f.group())"
   ]
  },
  {
   "cell_type": "code",
   "execution_count": 139,
   "id": "2b0b66f8",
   "metadata": {},
   "outputs": [
    {
     "name": "stdout",
     "output_type": "stream",
     "text": [
      "Hello\n"
     ]
    }
   ],
   "source": [
    "import re \n",
    "\n",
    "t='Hello world'\n",
    "m=re.compile(r'hello',re.I)\n",
    "f=m.search(t)\n",
    "print(f.group())"
   ]
  },
  {
   "cell_type": "markdown",
   "id": "6db454e8",
   "metadata": {},
   "source": [
    "# re.DOTALL or re.S"
   ]
  },
  {
   "cell_type": "code",
   "execution_count": 142,
   "id": "9096825e",
   "metadata": {},
   "outputs": [
    {
     "name": "stdout",
     "output_type": "stream",
     "text": [
      "Hello\n",
      "World\n"
     ]
    }
   ],
   "source": [
    "t='Hello\\nWorld'\n",
    "p=re.compile(r'Hello.World',re.DOTALL)\n",
    "m=p.search(t)\n",
    "print(m.group())"
   ]
  },
  {
   "cell_type": "markdown",
   "id": "f49b7206",
   "metadata": {},
   "source": [
    "# re.VERBOSE or "
   ]
  },
  {
   "cell_type": "code",
   "execution_count": null,
   "id": "4857313b",
   "metadata": {},
   "outputs": [],
   "source": [
    "# to remove comments in expression lines"
   ]
  },
  {
   "cell_type": "markdown",
   "id": "080c11bb",
   "metadata": {},
   "source": [
    "# re.ASCII or re.A"
   ]
  },
  {
   "cell_type": "code",
   "execution_count": 144,
   "id": "83b047f0",
   "metadata": {},
   "outputs": [
    {
     "name": "stdout",
     "output_type": "stream",
     "text": [
      "['caf', 'caf']\n"
     ]
    }
   ],
   "source": [
    "\n",
    "p=re.compile(r'\\w+',re.ASCII)\n",
    "print(p.findall('café café'))"
   ]
  },
  {
   "cell_type": "code",
   "execution_count": 164,
   "id": "629021eb",
   "metadata": {},
   "outputs": [
    {
     "name": "stdout",
     "output_type": "stream",
     "text": [
      "6\n"
     ]
    }
   ],
   "source": [
    "import random\n",
    "\n",
    "random.seed(7)\n",
    "print(random.randint(1,10))\n",
    "\n"
   ]
  },
  {
   "cell_type": "code",
   "execution_count": 196,
   "id": "e447a915",
   "metadata": {},
   "outputs": [
    {
     "name": "stdout",
     "output_type": "stream",
     "text": [
      "7\n"
     ]
    }
   ],
   "source": [
    "import random\n",
    "\n",
    "random.seed(0)\n",
    "print(random.randint(1,10))"
   ]
  },
  {
   "cell_type": "code",
   "execution_count": 200,
   "id": "8b39fbcc",
   "metadata": {},
   "outputs": [
    {
     "name": "stdout",
     "output_type": "stream",
     "text": [
      "GeeksforGeeks indexGeeks "
     ]
    }
   ],
   "source": [
    "value = [1, 2, 3, 4, 5]\n",
    "try:\n",
    "    value = value[5]/0\n",
    "except (ZeroDivisionError):\n",
    "    print('GeeksforGeeks ', end = '')\n",
    "except (IndexError):\n",
    "    print('GeeksforGeeks index', end = '')\n",
    "else:\n",
    "    print('GFG ', end = '')\n",
    "finally:\n",
    "    print('Geeks ', end = '')"
   ]
  },
  {
   "cell_type": "code",
   "execution_count": null,
   "id": "ef4c8711",
   "metadata": {},
   "outputs": [
    {
     "name": "stdout",
     "output_type": "stream",
     "text": [
      "[7.531, 5.31, 3.1, 1]\n"
     ]
    }
   ],
   "source": [
    "def REVERSE(L):\n",
    "    L.reverse()\n",
    "    return(L)\n",
    "def YKNJS(L):\n",
    "    List = []\n",
    "    List.extend(REVERSE(L))\n",
    "    print(List)\n",
    "\n",
    "L = [1, 3.1, 5.31, 7.531]\n",
    "YKNJS(L)\n"
   ]
  },
  {
   "cell_type": "code",
   "execution_count": 206,
   "id": "f4531937",
   "metadata": {},
   "outputs": [
    {
     "name": "stdout",
     "output_type": "stream",
     "text": [
      "1922948872384\n",
      "1922948872384\n",
      "[2, 4, 6]\n"
     ]
    }
   ],
   "source": [
    "a = [2, 4, 6]\n",
    "def solve(a):\n",
    "   print(id(a))\n",
    "   return a\n",
    "print(id(a))\n",
    "solve(a)\n",
    "print(a)"
   ]
  },
  {
   "cell_type": "code",
   "execution_count": null,
   "id": "e5e0f3a9",
   "metadata": {},
   "outputs": [],
   "source": []
  }
 ],
 "metadata": {
  "kernelspec": {
   "display_name": "Python 3",
   "language": "python",
   "name": "python3"
  },
  "language_info": {
   "codemirror_mode": {
    "name": "ipython",
    "version": 3
   },
   "file_extension": ".py",
   "mimetype": "text/x-python",
   "name": "python",
   "nbconvert_exporter": "python",
   "pygments_lexer": "ipython3",
   "version": "3.12.3"
  }
 },
 "nbformat": 4,
 "nbformat_minor": 5
}
