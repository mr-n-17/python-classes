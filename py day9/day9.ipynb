{
 "cells": [
  {
   "cell_type": "markdown",
   "id": "583ba673",
   "metadata": {},
   "source": [
    "# OOPS IN PYTHON"
   ]
  },
  {
   "cell_type": "code",
   "execution_count": 1,
   "id": "df9b8f12",
   "metadata": {},
   "outputs": [
    {
     "name": "stdout",
     "output_type": "stream",
     "text": [
      "30\n"
     ]
    }
   ],
   "source": [
    "class demo:\n",
    "    def add(self):\n",
    "        a=10\n",
    "        b=20\n",
    "        print(a+b)\n",
    "\n",
    "c=demo()\n",
    "c.add()"
   ]
  },
  {
   "cell_type": "code",
   "execution_count": 2,
   "id": "33cee42e",
   "metadata": {},
   "outputs": [
    {
     "ename": "TypeError",
     "evalue": "unsupported operand type(s) for +: 'int' and 'demo'",
     "output_type": "error",
     "traceback": [
      "\u001b[31m---------------------------------------------------------------------------\u001b[39m",
      "\u001b[31mTypeError\u001b[39m                                 Traceback (most recent call last)",
      "\u001b[36mCell\u001b[39m\u001b[36m \u001b[39m\u001b[32mIn[2]\u001b[39m\u001b[32m, line 9\u001b[39m\n\u001b[32m      6\u001b[39m         \u001b[38;5;28;01mreturn\u001b[39;00m a+b+c\n\u001b[32m      8\u001b[39m c=demo()\n\u001b[32m----> \u001b[39m\u001b[32m9\u001b[39m \u001b[38;5;28mprint\u001b[39m(\u001b[43mc\u001b[49m\u001b[43m.\u001b[49m\u001b[43madd\u001b[49m\u001b[43m(\u001b[49m\u001b[43m)\u001b[49m)\n",
      "\u001b[36mCell\u001b[39m\u001b[36m \u001b[39m\u001b[32mIn[2]\u001b[39m\u001b[32m, line 6\u001b[39m, in \u001b[36mdemo.add\u001b[39m\u001b[34m(self)\u001b[39m\n\u001b[32m      4\u001b[39m a=\u001b[32m10\u001b[39m\n\u001b[32m      5\u001b[39m b=\u001b[32m20\u001b[39m\n\u001b[32m----> \u001b[39m\u001b[32m6\u001b[39m \u001b[38;5;28;01mreturn\u001b[39;00m \u001b[43ma\u001b[49m\u001b[43m+\u001b[49m\u001b[43mb\u001b[49m\u001b[43m+\u001b[49m\u001b[43mc\u001b[49m\n",
      "\u001b[31mTypeError\u001b[39m: unsupported operand type(s) for +: 'int' and 'demo'"
     ]
    }
   ],
   "source": [
    "class demo:\n",
    "    c=5\n",
    "    def add(self):\n",
    "        a=10\n",
    "        b=20\n",
    "        return a+b+c\n",
    "\n",
    "c=demo()\n",
    "print(c.add())"
   ]
  },
  {
   "cell_type": "code",
   "execution_count": 3,
   "id": "13724144",
   "metadata": {},
   "outputs": [
    {
     "name": "stdout",
     "output_type": "stream",
     "text": [
      "35\n"
     ]
    }
   ],
   "source": [
    "class demo:\n",
    "    c=5\n",
    "    def add(self):\n",
    "        a=10\n",
    "        b=20\n",
    "        return a+b+self.c\n",
    "\n",
    "c=demo()\n",
    "print(c.add())"
   ]
  },
  {
   "cell_type": "code",
   "execution_count": 6,
   "id": "5e6e04f8",
   "metadata": {},
   "outputs": [
    {
     "name": "stdout",
     "output_type": "stream",
     "text": [
      "(23, 24)\n"
     ]
    }
   ],
   "source": [
    "class one1:\n",
    "    def __init__(self,a1):\n",
    "        self.a=a1 \n",
    "\n",
    "    def check(self,a):\n",
    "        return self.a,a\n",
    "    \n",
    "a=one1(23)\n",
    "print(a.check(24))"
   ]
  },
  {
   "cell_type": "code",
   "execution_count": 7,
   "id": "daf9c2d1",
   "metadata": {},
   "outputs": [
    {
     "name": "stdout",
     "output_type": "stream",
     "text": [
      "(23, 24, 35)\n"
     ]
    }
   ],
   "source": [
    "class one1:\n",
    "    def __init__(self,a1):\n",
    "        self.a=a1 \n",
    "\n",
    "    def check(self,a):\n",
    "        return self.a,a,self.d\n",
    "    \n",
    "a=one1(23)\n",
    "a.d=35\n",
    "print(a.check(24))"
   ]
  },
  {
   "cell_type": "code",
   "execution_count": 9,
   "id": "ea95051d",
   "metadata": {},
   "outputs": [
    {
     "name": "stdout",
     "output_type": "stream",
     "text": [
      "(23, 24, 35)\n",
      "hello\n",
      "Help on class one1 in module __main__:\n",
      "\n",
      "class one1(builtins.object)\n",
      " |  one1(a1)\n",
      " |\n",
      " |  hello\n",
      " |\n",
      " |  Methods defined here:\n",
      " |\n",
      " |  __init__(self, a1)\n",
      " |      Initialize self.  See help(type(self)) for accurate signature.\n",
      " |\n",
      " |  check(self, a)\n",
      " |\n",
      " |  ----------------------------------------------------------------------\n",
      " |  Data descriptors defined here:\n",
      " |\n",
      " |  __dict__\n",
      " |      dictionary for instance variables\n",
      " |\n",
      " |  __weakref__\n",
      " |      list of weak references to the object\n",
      "\n"
     ]
    }
   ],
   "source": [
    "class one1:\n",
    "    '''hello'''\n",
    "    def __init__(self,a1):\n",
    "        self.a=a1 \n",
    "\n",
    "    def check(self,a):\n",
    "        return self.a,a,self.d\n",
    "    \n",
    "a=one1(23)\n",
    "a.d=35\n",
    "print(a.check(24))\n",
    "print(one1.__doc__)\n",
    "help(one1)"
   ]
  },
  {
   "cell_type": "code",
   "execution_count": 22,
   "id": "45ee93d7",
   "metadata": {},
   "outputs": [
    {
     "name": "stdout",
     "output_type": "stream",
     "text": [
      "1994\n"
     ]
    }
   ],
   "source": [
    "d={\n",
    "    'I':1,\n",
    "    'V':5,\n",
    "    'X': 10,\n",
    "    'L':50,\n",
    "    'C':100,\n",
    "    'D':500,\n",
    "    'M':1000\n",
    "}\n",
    "\n",
    "n=input()\n",
    "\n",
    "c=0\n",
    "for i in range(1,len(n)):\n",
    "    if d[n[i-1].upper()]<d[n[i].upper()]:\n",
    "        c-=d[n[i-1].upper()]\n",
    "    else:\n",
    "        c+=d[n[i-1].upper()]\n",
    "c+=d[n[i].upper()]\n",
    "print(c)\n"
   ]
  },
  {
   "cell_type": "code",
   "execution_count": 4,
   "id": "f2162b0a",
   "metadata": {},
   "outputs": [
    {
     "name": "stdout",
     "output_type": "stream",
     "text": [
      "['Python is awesome\\n', 'File handling is powerful\\n', 'Practice makes perfect']\n"
     ]
    }
   ],
   "source": [
    "with open('data9.txt','r') as f:\n",
    "    print(f.readlines())"
   ]
  },
  {
   "cell_type": "code",
   "execution_count": null,
   "id": "34e41cd7",
   "metadata": {},
   "outputs": [],
   "source": []
  }
 ],
 "metadata": {
  "kernelspec": {
   "display_name": "Python 3",
   "language": "python",
   "name": "python3"
  },
  "language_info": {
   "codemirror_mode": {
    "name": "ipython",
    "version": 3
   },
   "file_extension": ".py",
   "mimetype": "text/x-python",
   "name": "python",
   "nbconvert_exporter": "python",
   "pygments_lexer": "ipython3",
   "version": "3.11.1"
  }
 },
 "nbformat": 4,
 "nbformat_minor": 5
}
