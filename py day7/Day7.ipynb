{
 "cells": [
  {
   "cell_type": "markdown",
   "id": "36168857",
   "metadata": {},
   "source": [
    "# FILE HANDLING\n"
   ]
  },
  {
   "cell_type": "code",
   "execution_count": null,
   "id": "438c983f",
   "metadata": {},
   "outputs": [],
   "source": [
    "# file modes\n",
    "\n",
    "#'r...read \n",
    "#'w'....write\n",
    "#'a'...append\n",
    "#'r+'....read/write\n",
    "#'w+'...read/write"
   ]
  },
  {
   "cell_type": "code",
   "execution_count": null,
   "id": "2fdeaa48",
   "metadata": {},
   "outputs": [
    {
     "name": "stdout",
     "output_type": "stream",
     "text": [
      "log e\n",
      "ntry created at 2025 april 07 \n"
     ]
    }
   ],
   "source": [
    "f=open('demo.txt','r')\n",
    "print(f.read(5))\n",
    "\n",
    "print(f.readline()) #to read line by line\n",
    "f.close()"
   ]
  },
  {
   "cell_type": "code",
   "execution_count": 6,
   "id": "8f7e8097",
   "metadata": {},
   "outputs": [
    {
     "name": "stdout",
     "output_type": "stream",
     "text": [
      "['log entry created at 2025 april 07 \\n', '\\n', 'Is stock going up or down\\n', '\\n', 'eyes chicko they never lie\\n', '\\n', 'but sometimes they do \\n', '\\n']\n"
     ]
    }
   ],
   "source": [
    "#readlines()\n",
    "\n",
    "f=open('demo.txt','r')\n",
    "print(f.readlines())\n",
    "f.close()"
   ]
  },
  {
   "cell_type": "code",
   "execution_count": 8,
   "id": "58e69b33",
   "metadata": {},
   "outputs": [],
   "source": [
    "# to create new file\n",
    "\n",
    "f=open('demo1.txt','w')\n",
    "f.write('KLING IS A NEW AI\\n')\n",
    "f.write('Cursor is a new ai tool\\n')\n",
    "f.close()"
   ]
  },
  {
   "cell_type": "code",
   "execution_count": null,
   "id": "e176468a",
   "metadata": {},
   "outputs": [],
   "source": [
    "# to replace\n",
    "#if we use the new created file to add new lines it will be replaced not appended new lines\n",
    "\n",
    "f=open('demo1.txt','w')\n",
    "f.write('NATURE\\n')\n",
    "f.write('OH My\\n') \n",
    "f.close()"
   ]
  },
  {
   "cell_type": "code",
   "execution_count": 10,
   "id": "085ffe0f",
   "metadata": {},
   "outputs": [],
   "source": [
    "#writelines used for to give multiple lines\n",
    "\n",
    "f=open('demo1.txt','w')\n",
    "f.writelines(['jiklom\\n','hijkhgsd\\n']) \n",
    "f.close()"
   ]
  },
  {
   "cell_type": "markdown",
   "id": "5c85bbdf",
   "metadata": {},
   "source": [
    "# APPEND MODE"
   ]
  },
  {
   "cell_type": "code",
   "execution_count": null,
   "id": "b1cc9a4e",
   "metadata": {},
   "outputs": [],
   "source": [
    "#'a' for to append(atr list) or update\n",
    "\n",
    "f=open('demo1.txt','a')\n",
    "f.write('NATURal\\n')\n",
    "f.write('Fake\\n') \n",
    "f.close()"
   ]
  },
  {
   "cell_type": "markdown",
   "id": "01cfa78b",
   "metadata": {},
   "source": [
    "# a+"
   ]
  },
  {
   "cell_type": "code",
   "execution_count": 14,
   "id": "6108ac96",
   "metadata": {},
   "outputs": [
    {
     "name": "stdout",
     "output_type": "stream",
     "text": [
      "115\n",
      "jiklom\n",
      "hijkhgsd\n",
      "NATURal\n",
      "Fake\n",
      "NATURe is good\n",
      "art is not Fake\n",
      "NATURe is good\n",
      "art is not Fake\n",
      "NATURe is good\n",
      "art is not Fake\n",
      "\n"
     ]
    }
   ],
   "source": [
    "f=open('demo1.txt','a+')\n",
    "f.write('NATURe is good\\n')\n",
    "print(f.tell()) # to know where is the pointer in which line \n",
    "f.write('art is not Fake\\n') \n",
    "f.seek(0) #3 to change the cursor pointer to 0 as it is imp to if we don't it starts from the the last line we appended\n",
    "print(f.read())\n",
    "f.close()"
   ]
  },
  {
   "cell_type": "markdown",
   "id": "b83ac589",
   "metadata": {},
   "source": [
    "# with\n",
    "# used for replace close() as we close everytime we open a file once we use with it automatically close the file"
   ]
  },
  {
   "cell_type": "code",
   "execution_count": 19,
   "id": "947f6faa",
   "metadata": {},
   "outputs": [
    {
     "name": "stdout",
     "output_type": "stream",
     "text": [
      "2\n"
     ]
    }
   ],
   "source": [
    "with open('demo1.txt','a+') as f:\n",
    "    f.seek(2)\n",
    "    print(f.tell())"
   ]
  },
  {
   "cell_type": "markdown",
   "id": "62c662c5",
   "metadata": {},
   "source": [
    "# x mode"
   ]
  },
  {
   "cell_type": "code",
   "execution_count": null,
   "id": "89021833",
   "metadata": {},
   "outputs": [
    {
     "ename": "UnsupportedOperation",
     "evalue": "not readable",
     "output_type": "error",
     "traceback": [
      "\u001b[31m---------------------------------------------------------------------------\u001b[39m",
      "\u001b[31mUnsupportedOperation\u001b[39m                      Traceback (most recent call last)",
      "\u001b[36mCell\u001b[39m\u001b[36m \u001b[39m\u001b[32mIn[21]\u001b[39m\u001b[32m, line 4\u001b[39m\n\u001b[32m      1\u001b[39m \u001b[38;5;66;03m# if file is already exists it raise an error that states that the file is already exists\u001b[39;00m\n\u001b[32m      3\u001b[39m \u001b[38;5;28;01mwith\u001b[39;00m \u001b[38;5;28mopen\u001b[39m(\u001b[33m'\u001b[39m\u001b[33mdemo2.txt\u001b[39m\u001b[33m'\u001b[39m,\u001b[33m'\u001b[39m\u001b[33mx\u001b[39m\u001b[33m'\u001b[39m) \u001b[38;5;28;01mas\u001b[39;00m f:\n\u001b[32m----> \u001b[39m\u001b[32m4\u001b[39m     \u001b[38;5;28mprint\u001b[39m(\u001b[43mf\u001b[49m\u001b[43m.\u001b[49m\u001b[43mread\u001b[49m\u001b[43m(\u001b[49m\u001b[43m)\u001b[49m)\n",
      "\u001b[31mUnsupportedOperation\u001b[39m: not readable"
     ]
    }
   ],
   "source": [
    "# if file is already exists it raise an error that states that the file is already exists and for execution only\n",
    "\n",
    "with open('demo2.txt','x') as f:\n",
    "    print(f.read())\n",
    "\n",
    "#x+ used for execution and read also and appends also\n",
    "#Creates a new file for reading and writing. Raises an error if the file exists."
   ]
  },
  {
   "cell_type": "code",
   "execution_count": null,
   "id": "b3dbfaca",
   "metadata": {},
   "outputs": [],
   "source": [
    "# File Modes in Python\n",
    "# When opening a file, we must specify the mode we want to which specifies what we want to do with the file. Here’s a table of the different modes available:\n",
    "\n",
    "# Mode\tDescription\tBehavior\n",
    "# r\t    Read-only mode.\tOpens the file for reading. File must exist; otherwise, it raises an error.\n",
    "\n",
    "# rb\tRead-only in binary mode.\tOpens the file for reading binary data. File must exist; otherwise, it raises an error.\n",
    "\n",
    "# r+\tRead and write mode.\tOpens the file for both reading and writing. File must exist; otherwise, it raises an error.\n",
    "\n",
    "# rb+\tRead and write in binary mode.\tOpens the file for both reading and writing binary data. File must exist; otherwise, it raises an error.\n",
    "\n",
    "# w\t    Write mode.\tOpens the file for writing. Creates a new file or truncates the existing file.\n",
    "\n",
    "# wb\tWrite in binary mode.\tOpens the file for writing binary data. Creates a new file or truncates the existing file.\n",
    "\n",
    "# w+\tWrite and read mode.\tOpens the file for both writing and reading. Creates a new file or truncates the existing file.\n",
    "\n",
    "# wb+\tWrite and read in binary mode.\tOpens the file for both writing and reading binary data. Creates a new file or truncates the existing file.\n",
    "\n",
    "# a\t    Append mode.\tOpens the file for appending data. Creates a new file if it doesn’t exist.\n",
    "\n",
    "# ab\tAppend in binary mode.\tOpens the file for appending binary data. Creates a new file if it doesn’t exist.\n",
    "\n",
    "# a+\tAppend and read mode.\tOpens the file for appending and reading. Creates a new file if it doesn’t exist.\n",
    "\n",
    "# ab+\tAppend and read in binary mode.\tOpens the file for appending and reading binary data. Creates a new file if it doesn’t exist.\n",
    "\n",
    "# x\t    Exclusive creation mode.\tCreates a new file. Raises an error if the file already exists.\n",
    "\n",
    "# xb\tExclusive creation in binary mode.\tCreates a new binary file. Raises an error if the file already exists.\n",
    "\n",
    "# x+\tExclusive creation with read and write mode.\tCreates a new file for reading and writing. Raises an error if the file exists.\n",
    "\n",
    "# xb+\tExclusive creation with read and write in binary mode.\tCreates a new binary file for reading and writing. Raises an error if the file exists."
   ]
  },
  {
   "cell_type": "code",
   "execution_count": null,
   "id": "81942e54",
   "metadata": {},
   "outputs": [
    {
     "ename": "SyntaxError",
     "evalue": "invalid character '”' (U+201D) (198269556.py, line 5)",
     "output_type": "error",
     "traceback": [
      "  \u001b[36mCell\u001b[39m\u001b[36m \u001b[39m\u001b[32mIn[28]\u001b[39m\u001b[32m, line 5\u001b[39m\n\u001b[31m    \u001b[39m\u001b[31ma=dict([[1:”A”],[2:”B”]])\u001b[39m\n               ^\n\u001b[31mSyntaxError\u001b[39m\u001b[31m:\u001b[39m invalid character '”' (U+201D)\n"
     ]
    }
   ],
   "source": [
    "d1 = {\"john\":40, \"peter\":45}\n",
    "d2 = {\"john\":40, \"peter\":45}\n",
    "d1 == d2\n"
   ]
  },
  {
   "cell_type": "code",
   "execution_count": 30,
   "id": "4385d4dd",
   "metadata": {},
   "outputs": [
    {
     "name": "stdout",
     "output_type": "stream",
     "text": [
      "Log meessage has been written in the log file\n"
     ]
    }
   ],
   "source": [
    "import datetime \n",
    "\n",
    "n=datetime.datetime.now()\n",
    "\n",
    "log_message=f'log entry create date{n}: this is a log message'\n",
    "\n",
    "with open('demo1.txt','a') as f:\n",
    "    f.write(log_message+'\\n')\n",
    "\n",
    "print('Log meessage has been written in the log file')"
   ]
  },
  {
   "cell_type": "code",
   "execution_count": 34,
   "id": "9d13e487",
   "metadata": {},
   "outputs": [
    {
     "name": "stdout",
     "output_type": "stream",
     "text": [
      "BEST OF THREE\n",
      "Your choice: rock\n",
      "Computer Choice: scissor\n",
      "You Won 1 game\n",
      "log entry create date2025-04-08 10:36:26.315801: this is a log message\n",
      "\n",
      "Your choice: scissor\n",
      "Computer Choice: paper\n",
      "You Won 2 game\n",
      "log entry create date2025-04-08 10:36:28.891616: this is a log message\n",
      "\n",
      "Your choice: paper\n",
      "Computer Choice: paper\n",
      "You lost 3 game\n",
      "log entry create date2025-04-08 10:36:31.867654: this is a log message\n",
      "\n",
      "You Lost 3 games out of three\n"
     ]
    }
   ],
   "source": [
    "import random\n",
    "import datetime \n",
    "\n",
    "def game(a,b):\n",
    "    if a.lower()==b: \n",
    "        return 0\n",
    "    if (a.lower()=='rock' and b=='scissor') or (a.lower()=='scissor' and b=='paper') or (a.lower()=='paper' and b=='rock'):\n",
    "        return 1\n",
    "    else:\n",
    "        return 0\n",
    "\n",
    "def score(h1,f1,now1,i):\n",
    "    if h1:\n",
    "        print(f'You Won {i} game')\n",
    "        return f'log entry create date{now1}: this is a log message'\n",
    "        f1+=1\n",
    "    else:\n",
    "        print(f'You lost {i} game')\n",
    "        return f'log entry create date{now1}: this is a log message'\n",
    "    \n",
    "    \n",
    "print('BEST OF THREE')\n",
    "f1=0\n",
    "for i in range(1,4):\n",
    "    n=input('Enter the UR Choice \"ROCK\" \"PAPER\" \"SCISSOR\"')\n",
    "    now1=datetime.datetime.now()\n",
    "    print('Your choice:',n)\n",
    "    if n.lower() not in ['rock','paper','scissor']:\n",
    "        print('Invalid Input')\n",
    "        break\n",
    "    else:\n",
    "        m=random.choice(['rock','scissor','paper'])\n",
    "        print('Computer Choice:', m)\n",
    "        g=game(n,m)\n",
    "    m=print(score(g,f1,now1,i))\n",
    "    print()\n",
    "\n",
    "if f1>=2:\n",
    "    print(f'You won {f1} games out of three')\n",
    "\n",
    "else:\n",
    "    print(f'You Lost {3-f1} games out of three')"
   ]
  },
  {
   "cell_type": "code",
   "execution_count": 37,
   "id": "a4e4ddcf",
   "metadata": {},
   "outputs": [
    {
     "name": "stdout",
     "output_type": "stream",
     "text": [
      "None\n"
     ]
    }
   ],
   "source": [
    "l=['jiklom\\n','sjdygsku\\n']\n",
    "with open('ex.txt','w') as f:\n",
    "    l1=[i+'\\n' for i in l]\n",
    "    print(f.writelines(l1))"
   ]
  },
  {
   "cell_type": "markdown",
   "id": "cc873695",
   "metadata": {},
   "source": [
    "# JSON"
   ]
  },
  {
   "cell_type": "code",
   "execution_count": null,
   "id": "cafb9c9d",
   "metadata": {},
   "outputs": [],
   "source": [
    "# JAVA SCRIPT OBJECT NOTATION"
   ]
  },
  {
   "cell_type": "code",
   "execution_count": 51,
   "id": "c115cea8",
   "metadata": {},
   "outputs": [
    {
     "ename": "JSONDecodeError",
     "evalue": "Expecting value: line 1 column 1 (char 0)",
     "output_type": "error",
     "traceback": [
      "\u001b[31m---------------------------------------------------------------------------\u001b[39m",
      "\u001b[31mJSONDecodeError\u001b[39m                           Traceback (most recent call last)",
      "\u001b[36mCell\u001b[39m\u001b[36m \u001b[39m\u001b[32mIn[51]\u001b[39m\u001b[32m, line 4\u001b[39m\n\u001b[32m      1\u001b[39m \u001b[38;5;28;01mimport\u001b[39;00m\u001b[38;5;250m \u001b[39m\u001b[34;01mjson\u001b[39;00m\n\u001b[32m      3\u001b[39m \u001b[38;5;28;01mwith\u001b[39;00m \u001b[38;5;28mopen\u001b[39m(\u001b[33m'\u001b[39m\u001b[33mdata.json\u001b[39m\u001b[33m'\u001b[39m,\u001b[33m'\u001b[39m\u001b[33mr\u001b[39m\u001b[33m'\u001b[39m) \u001b[38;5;28;01mas\u001b[39;00m j:\n\u001b[32m----> \u001b[39m\u001b[32m4\u001b[39m     d=\u001b[43mjson\u001b[49m\u001b[43m.\u001b[49m\u001b[43mload\u001b[49m\u001b[43m(\u001b[49m\u001b[43mj\u001b[49m\u001b[43m)\u001b[49m\n\u001b[32m      5\u001b[39m \u001b[38;5;28mprint\u001b[39m(\u001b[38;5;28mtype\u001b[39m(d))\n",
      "\u001b[36mFile \u001b[39m\u001b[32mc:\\Program Files\\Python312\\Lib\\json\\__init__.py:293\u001b[39m, in \u001b[36mload\u001b[39m\u001b[34m(fp, cls, object_hook, parse_float, parse_int, parse_constant, object_pairs_hook, **kw)\u001b[39m\n\u001b[32m    274\u001b[39m \u001b[38;5;28;01mdef\u001b[39;00m\u001b[38;5;250m \u001b[39m\u001b[34mload\u001b[39m(fp, *, \u001b[38;5;28mcls\u001b[39m=\u001b[38;5;28;01mNone\u001b[39;00m, object_hook=\u001b[38;5;28;01mNone\u001b[39;00m, parse_float=\u001b[38;5;28;01mNone\u001b[39;00m,\n\u001b[32m    275\u001b[39m         parse_int=\u001b[38;5;28;01mNone\u001b[39;00m, parse_constant=\u001b[38;5;28;01mNone\u001b[39;00m, object_pairs_hook=\u001b[38;5;28;01mNone\u001b[39;00m, **kw):\n\u001b[32m    276\u001b[39m \u001b[38;5;250m    \u001b[39m\u001b[33;03m\"\"\"Deserialize ``fp`` (a ``.read()``-supporting file-like object containing\u001b[39;00m\n\u001b[32m    277\u001b[39m \u001b[33;03m    a JSON document) to a Python object.\u001b[39;00m\n\u001b[32m    278\u001b[39m \n\u001b[32m   (...)\u001b[39m\u001b[32m    291\u001b[39m \u001b[33;03m    kwarg; otherwise ``JSONDecoder`` is used.\u001b[39;00m\n\u001b[32m    292\u001b[39m \u001b[33;03m    \"\"\"\u001b[39;00m\n\u001b[32m--> \u001b[39m\u001b[32m293\u001b[39m     \u001b[38;5;28;01mreturn\u001b[39;00m \u001b[43mloads\u001b[49m\u001b[43m(\u001b[49m\u001b[43mfp\u001b[49m\u001b[43m.\u001b[49m\u001b[43mread\u001b[49m\u001b[43m(\u001b[49m\u001b[43m)\u001b[49m\u001b[43m,\u001b[49m\n\u001b[32m    294\u001b[39m \u001b[43m        \u001b[49m\u001b[38;5;28;43mcls\u001b[39;49m\u001b[43m=\u001b[49m\u001b[38;5;28;43mcls\u001b[39;49m\u001b[43m,\u001b[49m\u001b[43m \u001b[49m\u001b[43mobject_hook\u001b[49m\u001b[43m=\u001b[49m\u001b[43mobject_hook\u001b[49m\u001b[43m,\u001b[49m\n\u001b[32m    295\u001b[39m \u001b[43m        \u001b[49m\u001b[43mparse_float\u001b[49m\u001b[43m=\u001b[49m\u001b[43mparse_float\u001b[49m\u001b[43m,\u001b[49m\u001b[43m \u001b[49m\u001b[43mparse_int\u001b[49m\u001b[43m=\u001b[49m\u001b[43mparse_int\u001b[49m\u001b[43m,\u001b[49m\n\u001b[32m    296\u001b[39m \u001b[43m        \u001b[49m\u001b[43mparse_constant\u001b[49m\u001b[43m=\u001b[49m\u001b[43mparse_constant\u001b[49m\u001b[43m,\u001b[49m\u001b[43m \u001b[49m\u001b[43mobject_pairs_hook\u001b[49m\u001b[43m=\u001b[49m\u001b[43mobject_pairs_hook\u001b[49m\u001b[43m,\u001b[49m\u001b[43m \u001b[49m\u001b[43m*\u001b[49m\u001b[43m*\u001b[49m\u001b[43mkw\u001b[49m\u001b[43m)\u001b[49m\n",
      "\u001b[36mFile \u001b[39m\u001b[32mc:\\Program Files\\Python312\\Lib\\json\\__init__.py:346\u001b[39m, in \u001b[36mloads\u001b[39m\u001b[34m(s, cls, object_hook, parse_float, parse_int, parse_constant, object_pairs_hook, **kw)\u001b[39m\n\u001b[32m    341\u001b[39m     s = s.decode(detect_encoding(s), \u001b[33m'\u001b[39m\u001b[33msurrogatepass\u001b[39m\u001b[33m'\u001b[39m)\n\u001b[32m    343\u001b[39m \u001b[38;5;28;01mif\u001b[39;00m (\u001b[38;5;28mcls\u001b[39m \u001b[38;5;129;01mis\u001b[39;00m \u001b[38;5;28;01mNone\u001b[39;00m \u001b[38;5;129;01mand\u001b[39;00m object_hook \u001b[38;5;129;01mis\u001b[39;00m \u001b[38;5;28;01mNone\u001b[39;00m \u001b[38;5;129;01mand\u001b[39;00m\n\u001b[32m    344\u001b[39m         parse_int \u001b[38;5;129;01mis\u001b[39;00m \u001b[38;5;28;01mNone\u001b[39;00m \u001b[38;5;129;01mand\u001b[39;00m parse_float \u001b[38;5;129;01mis\u001b[39;00m \u001b[38;5;28;01mNone\u001b[39;00m \u001b[38;5;129;01mand\u001b[39;00m\n\u001b[32m    345\u001b[39m         parse_constant \u001b[38;5;129;01mis\u001b[39;00m \u001b[38;5;28;01mNone\u001b[39;00m \u001b[38;5;129;01mand\u001b[39;00m object_pairs_hook \u001b[38;5;129;01mis\u001b[39;00m \u001b[38;5;28;01mNone\u001b[39;00m \u001b[38;5;129;01mand\u001b[39;00m \u001b[38;5;129;01mnot\u001b[39;00m kw):\n\u001b[32m--> \u001b[39m\u001b[32m346\u001b[39m     \u001b[38;5;28;01mreturn\u001b[39;00m \u001b[43m_default_decoder\u001b[49m\u001b[43m.\u001b[49m\u001b[43mdecode\u001b[49m\u001b[43m(\u001b[49m\u001b[43ms\u001b[49m\u001b[43m)\u001b[49m\n\u001b[32m    347\u001b[39m \u001b[38;5;28;01mif\u001b[39;00m \u001b[38;5;28mcls\u001b[39m \u001b[38;5;129;01mis\u001b[39;00m \u001b[38;5;28;01mNone\u001b[39;00m:\n\u001b[32m    348\u001b[39m     \u001b[38;5;28mcls\u001b[39m = JSONDecoder\n",
      "\u001b[36mFile \u001b[39m\u001b[32mc:\\Program Files\\Python312\\Lib\\json\\decoder.py:337\u001b[39m, in \u001b[36mJSONDecoder.decode\u001b[39m\u001b[34m(self, s, _w)\u001b[39m\n\u001b[32m    332\u001b[39m \u001b[38;5;28;01mdef\u001b[39;00m\u001b[38;5;250m \u001b[39m\u001b[34mdecode\u001b[39m(\u001b[38;5;28mself\u001b[39m, s, _w=WHITESPACE.match):\n\u001b[32m    333\u001b[39m \u001b[38;5;250m    \u001b[39m\u001b[33;03m\"\"\"Return the Python representation of ``s`` (a ``str`` instance\u001b[39;00m\n\u001b[32m    334\u001b[39m \u001b[33;03m    containing a JSON document).\u001b[39;00m\n\u001b[32m    335\u001b[39m \n\u001b[32m    336\u001b[39m \u001b[33;03m    \"\"\"\u001b[39;00m\n\u001b[32m--> \u001b[39m\u001b[32m337\u001b[39m     obj, end = \u001b[38;5;28;43mself\u001b[39;49m\u001b[43m.\u001b[49m\u001b[43mraw_decode\u001b[49m\u001b[43m(\u001b[49m\u001b[43ms\u001b[49m\u001b[43m,\u001b[49m\u001b[43m \u001b[49m\u001b[43midx\u001b[49m\u001b[43m=\u001b[49m\u001b[43m_w\u001b[49m\u001b[43m(\u001b[49m\u001b[43ms\u001b[49m\u001b[43m,\u001b[49m\u001b[43m \u001b[49m\u001b[32;43m0\u001b[39;49m\u001b[43m)\u001b[49m\u001b[43m.\u001b[49m\u001b[43mend\u001b[49m\u001b[43m(\u001b[49m\u001b[43m)\u001b[49m\u001b[43m)\u001b[49m\n\u001b[32m    338\u001b[39m     end = _w(s, end).end()\n\u001b[32m    339\u001b[39m     \u001b[38;5;28;01mif\u001b[39;00m end != \u001b[38;5;28mlen\u001b[39m(s):\n",
      "\u001b[36mFile \u001b[39m\u001b[32mc:\\Program Files\\Python312\\Lib\\json\\decoder.py:355\u001b[39m, in \u001b[36mJSONDecoder.raw_decode\u001b[39m\u001b[34m(self, s, idx)\u001b[39m\n\u001b[32m    353\u001b[39m     obj, end = \u001b[38;5;28mself\u001b[39m.scan_once(s, idx)\n\u001b[32m    354\u001b[39m \u001b[38;5;28;01mexcept\u001b[39;00m \u001b[38;5;167;01mStopIteration\u001b[39;00m \u001b[38;5;28;01mas\u001b[39;00m err:\n\u001b[32m--> \u001b[39m\u001b[32m355\u001b[39m     \u001b[38;5;28;01mraise\u001b[39;00m JSONDecodeError(\u001b[33m\"\u001b[39m\u001b[33mExpecting value\u001b[39m\u001b[33m\"\u001b[39m, s, err.value) \u001b[38;5;28;01mfrom\u001b[39;00m\u001b[38;5;250m \u001b[39m\u001b[38;5;28;01mNone\u001b[39;00m\n\u001b[32m    356\u001b[39m \u001b[38;5;28;01mreturn\u001b[39;00m obj, end\n",
      "\u001b[31mJSONDecodeError\u001b[39m: Expecting value: line 1 column 1 (char 0)"
     ]
    }
   ],
   "source": [
    "import json\n",
    "\n",
    "with open('data.json','r') as j:\n",
    "    d=json.load(j)\n",
    "print(type(d))\n",
    "\n"
   ]
  },
  {
   "cell_type": "code",
   "execution_count": 52,
   "id": "81a73425",
   "metadata": {},
   "outputs": [
    {
     "name": "stdout",
     "output_type": "stream",
     "text": [
      "{\"name\": \"jim\", \"age\": 21, \"phone\": 542187358}\n"
     ]
    }
   ],
   "source": [
    "d={\n",
    "    'name': 'jim',\n",
    "    'age': 21,\n",
    "    'phone':542187358\n",
    "}\n",
    "\n",
    "a=json.dumps(d) #serialization method\n",
    "print(a)\n",
    "\n",
    "with open('data.json','w') as f:\n",
    "    json.dump(d,f,indent=4) #(data,file) #but we use now \n",
    "\n",
    "#indent used for line by line object"
   ]
  },
  {
   "cell_type": "code",
   "execution_count": null,
   "id": "3290e8ee",
   "metadata": {},
   "outputs": [
    {
     "name": "stdout",
     "output_type": "stream",
     "text": [
      "{\"name\": \"jim\", \"age\": 21, \"phone\": 542187358}\n",
      "<class 'str'>\n",
      "{'name': 'jim', 'age': 21, 'phone': 542187358}\n"
     ]
    }
   ],
   "source": [
    "# dumps used to convert python objects to json object\n",
    "# load used to convert json object to python object\n",
    "\n",
    "a=json.dumps(d)\n",
    "print(a)\n",
    "print(type(a))\n",
    "\n",
    "b=json.loads(a)\n",
    "print(b)"
   ]
  },
  {
   "cell_type": "code",
   "execution_count": null,
   "id": "55be8821",
   "metadata": {},
   "outputs": [],
   "source": [
    "with open('data.json','w') as f:\n",
    "    json.dump(d,f,indent=4,sort_keys=True)"
   ]
  },
  {
   "cell_type": "markdown",
   "id": "1211cfe3",
   "metadata": {},
   "source": [
    "# To update a json object in a file"
   ]
  },
  {
   "cell_type": "code",
   "execution_count": 53,
   "id": "ceb512bb",
   "metadata": {},
   "outputs": [
    {
     "name": "stdout",
     "output_type": "stream",
     "text": [
      "{'name': 'jim', 'age': 21, 'phone': 542187358}\n"
     ]
    }
   ],
   "source": [
    "with open('data.json','r') as f:\n",
    "    d=json.load(f)\n",
    "print(d)\n",
    "d['pincode']=890987\n",
    "\n",
    "with open('data.json','w') as w:\n",
    "    json.dump(d,w,indent=4)\n",
    "\n"
   ]
  },
  {
   "cell_type": "code",
   "execution_count": 67,
   "id": "600fd6db",
   "metadata": {},
   "outputs": [],
   "source": [
    "with open('data.json','r') as f:\n",
    "    d=json.load(f)\n",
    "    d['new obj']='new one'\n",
    "\n",
    "    with open('data.json','w') as w:\n",
    "        json.dump(d,w,indent=4)"
   ]
  },
  {
   "cell_type": "code",
   "execution_count": 68,
   "id": "effbc48f",
   "metadata": {},
   "outputs": [],
   "source": [
    "#  ఇన్‌పుట్ సాధనాలు \n",
    "\n",
    "with open('data.json','r') as f:\n",
    "    d=json.load(f)\n",
    "    d['Telugu line']='ఇన్‌పుట్ సాధనాలు'\n",
    "\n",
    "    with open('data.json','w') as w:\n",
    "        json.dump(d,w,indent=4)"
   ]
  },
  {
   "cell_type": "code",
   "execution_count": 64,
   "id": "ffaf41bd",
   "metadata": {},
   "outputs": [
    {
     "name": "stdout",
     "output_type": "stream",
     "text": [
      "{'name': 'jim', 'age': 21, 'phone': 542187358, 'pincode': 890987, 'new obj': 'new one', 'Telugu line': 'ఇన్\\u200cపుట్ సాధనాలు'}\n"
     ]
    }
   ],
   "source": [
    "#encoding used for reading only\n",
    "\n",
    "with open('data.json','r',encoding='utf-8') as f:\n",
    "    d=json.load(f)\n",
    "    d['Telugu line']='ఇన్‌పుట్ సాధనాలు'\n",
    "\n",
    "    with open('data.json','w',encoding='utf-8') as w:\n",
    "        json.dump(d,w,indent=4)\n",
    "print(d)"
   ]
  },
  {
   "cell_type": "code",
   "execution_count": 70,
   "id": "9f17afcd",
   "metadata": {},
   "outputs": [
    {
     "name": "stdout",
     "output_type": "stream",
     "text": [
      "{'name': 'jim', 'age': 21, 'phone': 542187358, 'pincode': 890987, 'new obj': 'new one', 'Telugu line': 'ఇన్\\u200cపుట్ సాధనాలు'}\n"
     ]
    }
   ],
   "source": [
    "# for dumping\n",
    "\n",
    "with open('data.json','r') as f:\n",
    "    d=json.load(f)\n",
    "    d['Telugu line']='ఇన్‌పుట్ సాధనాలు'\n",
    "\n",
    "    with open('data.json','w',encoding='utf-8') as w:\n",
    "        json.dump(d,w,ensure_ascii=False)\n",
    "print(d)\n",
    "\n"
   ]
  },
  {
   "cell_type": "markdown",
   "id": "ce932acd",
   "metadata": {},
   "source": [
    "# Nested JSON"
   ]
  },
  {
   "cell_type": "code",
   "execution_count": 71,
   "id": "535a3ca9",
   "metadata": {},
   "outputs": [],
   "source": [
    "new1={\n",
    "    'employee' : {\n",
    "    'name': 'jim',\n",
    "    'age':24,\n",
    "    'id':345,\n",
    "    'dept':'IT',\n",
    "    'skills':['IT','NON IT'],\n",
    "    'address': {\n",
    "        'city':'Delhi',\n",
    "        'zip':'879839' \n",
    "    }\n",
    "}\n",
    "}\n",
    "\n",
    "with open('new1.json','w') as f:\n",
    "    json.dump(new1,f,indent=4)\n"
   ]
  },
  {
   "cell_type": "code",
   "execution_count": 81,
   "id": "52d5289e",
   "metadata": {},
   "outputs": [
    {
     "name": "stdout",
     "output_type": "stream",
     "text": [
      "['IT', 'NON IT']\n"
     ]
    }
   ],
   "source": [
    "#Read Employee skills and print one by one\n",
    "\n",
    "with open('new1.json','r') as d:\n",
    "    f=json.load(d)\n",
    "    m=[f['employee'][i] for i in f['employee'] if i=='skills']\n",
    "    print(*m)\n",
    "\n",
    "    # for i in f['employee']:\n",
    "    #     if i=='skills':\n",
    "    #         print(f['employee'][i])\n",
    "    #         break \n",
    "\n",
    "    f['employee']['skills'].append('EC0')\n",
    "    f['employee']['address']['zip']=634893\n",
    "\n",
    "    with open('new1.json','w') as w:\n",
    "        json.dump(f,w,indent=4)\n",
    "\n"
   ]
  },
  {
   "cell_type": "code",
   "execution_count": 85,
   "id": "f7ca9954",
   "metadata": {},
   "outputs": [],
   "source": [
    "\n",
    "with open('new1.json','r') as d:\n",
    "    f=json.load(d)\n",
    "    f['employe2']={\n",
    "        'name': 'jim',\n",
    "        'age':24,\n",
    "        'id':345,\n",
    "        'dept':'IT',\n",
    "        'skills':['IT','NON IT'],\n",
    "        'address': {\n",
    "        'city':'Delhi',\n",
    "        'zip':'879839' \n",
    "            }\n",
    "    }\n",
    "\n",
    "    with open('new1.json','w') as w:\n",
    "        json.dump(f,w,indent=4)"
   ]
  },
  {
   "cell_type": "markdown",
   "id": "728c7849",
   "metadata": {},
   "source": [
    "# CSV"
   ]
  },
  {
   "cell_type": "code",
   "execution_count": 89,
   "id": "bac3bd75",
   "metadata": {},
   "outputs": [
    {
     "name": "stdout",
     "output_type": "stream",
     "text": [
      "['Name', 'age', 'city']\n",
      "['Alice', '10', 'Tpt']\n",
      "['Jim', '23', 'New york']\n"
     ]
    }
   ],
   "source": [
    "import csv\n",
    "\n",
    "d=[\n",
    "    ['Name','age','city'],\n",
    "    ['Alice',10,'Tpt'],\n",
    "    ['Jim',23,'New york']\n",
    "]\n",
    "\n",
    "with open('csvdata.csv','w',newline='') as c:\n",
    "    w=csv.writer(c)\n",
    "    w.writerows(d)\n",
    "\n",
    "with open('csvdata.csv','r') as f:\n",
    "    r=csv.reader(f)\n",
    "    for i in r:\n",
    "        print(i)"
   ]
  },
  {
   "cell_type": "code",
   "execution_count": 4,
   "id": "1d068952",
   "metadata": {},
   "outputs": [],
   "source": [
    "import csv\n",
    "\n",
    "l=[\n",
    "['Alice', '10', 'Tpt'],\n",
    "['Jim', '23', 'New york']\n",
    "]\n",
    "\n",
    "with open('csvdata.csv','a',newline='') as c:\n",
    "    c1=csv.writer(c)\n",
    "    c1.writerows(l)"
   ]
  },
  {
   "cell_type": "code",
   "execution_count": 5,
   "id": "a068230f",
   "metadata": {},
   "outputs": [
    {
     "name": "stdout",
     "output_type": "stream",
     "text": [
      "[['Name', 'age', 'city'], ['Alice', '10', 'Tpt'], ['Jim', '23', 'New york'], ['Alice', '10', 'Tpt'], [], ['Jim', '23', 'New york'], [], ['Alice', '10', 'Tpt'], ['Jim', '23', 'New york']]\n"
     ]
    }
   ],
   "source": [
    "with open('csvdata.csv','r') as f:\n",
    "    r=csv.reader(f)\n",
    "    print(list(r))"
   ]
  },
  {
   "cell_type": "code",
   "execution_count": null,
   "id": "d5b8cbe0",
   "metadata": {},
   "outputs": [],
   "source": [
    "l=[\n",
    "['Alice', '10', 'Tpt'],\n",
    "['Jim', '23', 'New york'],\n",
    "['Jim', '23', 'New york']\n",
    "]\n",
    "\n",
    "with open('csvdata2.csv','w',newline='') as c:\n",
    "    c1=csv.writer(c)\n",
    "    c1.writerows(l)\n"
   ]
  },
  {
   "cell_type": "code",
   "execution_count": null,
   "id": "d9e39c2e",
   "metadata": {},
   "outputs": [
    {
     "name": "stdout",
     "output_type": "stream",
     "text": [
      "['Name', 'age', 'city']\n",
      "['Alice', '10', 'Tpt']\n",
      "['Jim', '23', 'New york']\n",
      "['Alice', '10', 'Tpt']\n",
      "[]\n",
      "['Jim', '23', 'New york']\n",
      "[]\n",
      "['Alice', '10', 'Tpt']\n",
      "['Jim', '23', 'New york']\n"
     ]
    }
   ],
   "source": [
    "with open('csvdata.csv','r') as f:\n",
    "    r=csv.reader(f)\n",
    "    m=list(r)\n",
    "\n",
    "    with open('csvdata2.csv','r') as f1:\n",
    "        g=csv.reader(f1)\n",
    "        m1=list(g)\n",
    "\n",
    "        with open('csvdata32.csv','w',newline='') as c:\n",
    "            c1=csv.writer(c)\n",
    "            c1.writerows(m+m1)"
   ]
  },
  {
   "cell_type": "code",
   "execution_count": null,
   "id": "3e940857",
   "metadata": {},
   "outputs": [
    {
     "name": "stdout",
     "output_type": "stream",
     "text": [
      "[{'Name': 'Alice', 'age': '10', 'city': 'Tpt'}, {'Name': 'Jim', 'age': '23', 'city': 'New york'}, {'Name': 'Alice', 'age': '10', 'city': 'Tpt'}, {'Name': 'Jim', 'age': '23', 'city': 'New york'}, {'Name': 'Alice', 'age': '10', 'city': 'Tpt'}, {'Name': 'Jim', 'age': '23', 'city': 'New york'}]\n"
     ]
    }
   ],
   "source": [
    "with open('csvdata.csv','r') as f:\n",
    "    r=csv.DictReader(f)\n",
    "    print(list(r))\n",
    "    for i in r:\n",
    "        print(i['Name'],i['row'],i['city'])"
   ]
  },
  {
   "cell_type": "code",
   "execution_count": 24,
   "id": "3bfcfabb",
   "metadata": {},
   "outputs": [],
   "source": [
    "li=[\n",
    "    { 'Name': 'NIVAS','age':21,'city':'Tpt'},\n",
    "    { 'Name': 'NIS','age':1,'city':'Tpty'}\n",
    "]\n",
    "\n",
    "with open('dictf.csv','w') as c1:\n",
    "    w=csv.DictWriter(c1,fieldnames=['Name','age','city'])\n",
    "    w.writeheader()\n",
    "    w.writerows(li)"
   ]
  },
  {
   "cell_type": "code",
   "execution_count": 28,
   "id": "044e4b80",
   "metadata": {},
   "outputs": [],
   "source": [
    "field = ['Name','Age','Contact']\n",
    "rows=[\n",
    "    ['niv',21,3654634],\n",
    "    ['mjk',87,386463463],\n",
    "    ['hks',98,79768687]\n",
    "]\n",
    "\n",
    "with open('test.csv','w') as f:\n",
    "    c1=csv.writer(f,dialect='excel')\n",
    "    c1.writerow(field)\n",
    "    c1.writerows(rows)"
   ]
  },
  {
   "cell_type": "code",
   "execution_count": 37,
   "id": "2fec6d59",
   "metadata": {},
   "outputs": [
    {
     "name": "stdout",
     "output_type": "stream",
     "text": [
      "[['Name', 'age', 'city'], ['Alice', '10', 'Tpt'], ['Jim', '23', 'New york'], ['Alice', '10', 'Tpt'], [], ['Jim', '23', 'New york'], [], ['Alice', '10', 'Tpt'], ['Jim', '23', 'New york'], ['Address'], ['chennaia'], ['ytfyjg'], ['jgshd'], ['jskagdkfa'], ['wgdykj'], ['skjdygfk']]\n"
     ]
    }
   ],
   "source": [
    "l=[['Address'],['chennaia'],['ytfyjg'],['jgshd'],['jskagdkfa'],['wgdykj'],['skjdygfk']]\n",
    "\n",
    "with open('csvdata.csv','r') as f:\n",
    "    r=csv.reader(f)\n",
    "    m=list(r)\n",
    "    for i in l:\n",
    "        m.append(i)\n",
    "    print(m)"
   ]
  },
  {
   "cell_type": "markdown",
   "id": "ceb2fb71",
   "metadata": {},
   "source": [
    "# YAML"
   ]
  },
  {
   "cell_type": "code",
   "execution_count": null,
   "id": "b7643e4f",
   "metadata": {},
   "outputs": [],
   "source": [
    "import yaml\n",
    "\n",
    "d={\n",
    "    \"Name\":\"Niv\",\n",
    "    \"Version\":1.2,\n",
    "    \"Users\":['m1','m2']\n",
    "}\n",
    "\n",
    "with open('yamlfile.yaml','w') as y1:\n",
    "    yaml.dump(d,y1,sort_keys=False) #default sort_keys will be True\n",
    "\n",
    "\n",
    "\n"
   ]
  },
  {
   "cell_type": "code",
   "execution_count": 41,
   "id": "6753c71f",
   "metadata": {},
   "outputs": [
    {
     "name": "stdout",
     "output_type": "stream",
     "text": [
      "{'Name': 'Niv', 'Version': 1.2, 'Users': ['m1', 'm2']}\n"
     ]
    }
   ],
   "source": [
    "with open('yamlfile.yaml','r') as y2:\n",
    "    d=yaml.safe_load(y2)\n",
    "    print(d)\n"
   ]
  },
  {
   "cell_type": "code",
   "execution_count": null,
   "id": "a665b9e8",
   "metadata": {},
   "outputs": [],
   "source": [
    "# convert json to yaml\n",
    "\n",
    "import json\n",
    "\n",
    "with open('data.json','r') as f1:\n",
    "    c1=json.load(f1)\n",
    "\n",
    "with open('yam2.yaml','w') as f2:\n",
    "    yaml.dump(c1,f2,sort_keys=False)\n",
    "\n"
   ]
  },
  {
   "cell_type": "code",
   "execution_count": null,
   "id": "dc3f18ce",
   "metadata": {},
   "outputs": [],
   "source": [
    "#convert yaml; to json\n",
    "\n",
    "with open('yamlfile.yaml','r') as y2:\n",
    "    d=yaml.safe_load(y2)\n",
    "\n",
    "with open('data2.json','w') as f1:\n",
    "    json.dump(d,f1,indent=4)\n"
   ]
  },
  {
   "cell_type": "markdown",
   "id": "8523b1a0",
   "metadata": {},
   "source": [
    "# TASK"
   ]
  },
  {
   "cell_type": "code",
   "execution_count": null,
   "id": "07031163",
   "metadata": {},
   "outputs": [],
   "source": []
  }
 ],
 "metadata": {
  "kernelspec": {
   "display_name": "Python 3",
   "language": "python",
   "name": "python3"
  },
  "language_info": {
   "codemirror_mode": {
    "name": "ipython",
    "version": 3
   },
   "file_extension": ".py",
   "mimetype": "text/x-python",
   "name": "python",
   "nbconvert_exporter": "python",
   "pygments_lexer": "ipython3",
   "version": "3.12.3"
  }
 },
 "nbformat": 4,
 "nbformat_minor": 5
}
