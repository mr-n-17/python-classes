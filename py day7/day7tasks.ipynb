{
 "cells": [
  {
   "cell_type": "code",
   "execution_count": 4,
   "id": "54150986",
   "metadata": {},
   "outputs": [
    {
     "name": "stdout",
     "output_type": "stream",
     "text": [
      "Python is awesome\n",
      "\n",
      "File handling is powerful\n",
      "\n",
      "Practice makes perfect\n"
     ]
    }
   ],
   "source": [
    "#1. Write and Read a File\n",
    "# Task:\n",
    "# Create a text file called data.txt. Write the following lines into it:\n",
    "\n",
    "# Python is awesome\n",
    "# File handling is powerful\n",
    "# Practice makes perfect\n",
    "\n",
    "# Then read and print the content of the file.\n",
    "\n",
    "with open('data.txt','r') as r1:\n",
    "    print(r1.readline())\n",
    "    print(r1.readline())\n",
    "    print(r1.readline())"
   ]
  },
  {
   "cell_type": "code",
   "execution_count": 20,
   "id": "40a2eacc",
   "metadata": {},
   "outputs": [
    {
     "name": "stdout",
     "output_type": "stream",
     "text": [
      "10\n"
     ]
    }
   ],
   "source": [
    "# 2. Count Number of Words in a File\n",
    "# Task:\n",
    "# Open a file and count how many words it contains.\n",
    "\n",
    "with open('data.txt','r') as r1:\n",
    "    c=0\n",
    "    for i in r1.readlines():\n",
    "        for j in i.split():\n",
    "            c+=1\n",
    "    print(c)\n",
    "\n",
    "\n"
   ]
  },
  {
   "cell_type": "code",
   "execution_count": 34,
   "id": "9edd6746",
   "metadata": {},
   "outputs": [
    {
     "name": "stdout",
     "output_type": "stream",
     "text": [
      "File handling is powerful\n"
     ]
    }
   ],
   "source": [
    "# 3. Search for a Word in a File\n",
    "# Task:\n",
    "# Ask the user for a word, search for that word in the file, and print the line(s) where it's found.\n",
    "\n",
    "n=input('ENTER THE WORD TO SEARCH: ')\n",
    "\n",
    "with open('data.txt','r') as r1:\n",
    "    c=len(r1.readlines())\n",
    "    r1.seek(0)\n",
    "    for i in range(c):\n",
    "        m=r1.readline().split()\n",
    "        if n in m: \n",
    "            print(*m)\n",
    "            break\n",
    "\n"
   ]
  },
  {
   "cell_type": "code",
   "execution_count": 35,
   "id": "7531e467",
   "metadata": {},
   "outputs": [],
   "source": [
    "# 4. Copy Content from One File to Another\n",
    "# Task:\n",
    "# Copy the content from data.txt to copy.txt.\n",
    "\n",
    "with open('data.txt','r') as r1:\n",
    "    c=r1.readlines()\n",
    "\n",
    "with open('newdata.txt','w') as r2:\n",
    "    for i in c:\n",
    "        r2.write(i+'\\n')\n"
   ]
  },
  {
   "cell_type": "code",
   "execution_count": 38,
   "id": "d9f376ee",
   "metadata": {},
   "outputs": [],
   "source": [
    "# 5. Append to a File\n",
    "# Task:\n",
    "# Append a new sentence to the end of data.txt without overwriting existing content.\n",
    "\n",
    "with open('data.txt','a') as r1:\n",
    "    r1.write('\\nNEW LINE IS ADDING\\n')"
   ]
  },
  {
   "cell_type": "code",
   "execution_count": null,
   "id": "63bef8c1",
   "metadata": {},
   "outputs": [
    {
     "name": "stdout",
     "output_type": "stream",
     "text": [
      "['Python is awesome\\n', 'File handling is powerful\\n', 'Practice makes perfect']\n",
      "Practice makes perfect\n",
      "File handling is powerful\n",
      "\n",
      "Python is awesome\n",
      "\n"
     ]
    }
   ],
   "source": [
    "# 6. Display File Content in Reverse\n",
    "# Task:\n",
    "# Read all lines from the file and print them in reverse order.\n",
    "\n",
    "with open('data.txt','r') as r1:\n",
    "    c=r1.readlines()\n",
    "    print(c)\n",
    "    for i in c[::-1]:\n",
    "        print(i)\n",
    "        "
   ]
  },
  {
   "cell_type": "code",
   "execution_count": 51,
   "id": "9436adc7",
   "metadata": {},
   "outputs": [],
   "source": [
    "# . Write Random Numbers to File\n",
    "# Task:\n",
    "# Use the random module to write 100 random integers to a file (one per line).\n",
    "\n",
    "import random\n",
    "\n",
    "def get():\n",
    "    return random.randint(1,101)\n",
    "\n",
    "\n",
    "with open('randomnum.txt','w') as r1:\n",
    "    for i in range(100):\n",
    "        r1.write(str(get())+'\\n')"
   ]
  },
  {
   "cell_type": "code",
   "execution_count": 52,
   "id": "ddabf7ba",
   "metadata": {},
   "outputs": [
    {
     "name": "stdout",
     "output_type": "stream",
     "text": [
      "468\n"
     ]
    }
   ],
   "source": [
    "# 9. Sum of Numbers in a File\n",
    "# Task:\n",
    "# Read all numbers from the file you created above and print their sum.\n",
    "\n",
    "with open('randomnum.txt','r') as r1:\n",
    "    c=0\n",
    "    for i in range(1,11):\n",
    "        c+=int(r1.readline())\n",
    "    print(c)\n",
    "        "
   ]
  },
  {
   "cell_type": "code",
   "execution_count": 56,
   "id": "84d07f79",
   "metadata": {},
   "outputs": [
    {
     "name": "stdout",
     "output_type": "stream",
     "text": [
      "1 : Python is awesome\n",
      "\n",
      "2 : File handling is powerful\n",
      "\n",
      "3 : Practice makes perfect\n"
     ]
    }
   ],
   "source": [
    "# 10. Line Numbering\n",
    "# Task:\n",
    "# Read a file and print each line preceded by its line number, like:\n",
    "# 1: Python is awesome\n",
    "# 2: File handling is powerful\n",
    "\n",
    "\n",
    "with open('data.txt','r') as r1:\n",
    "    c=len(r1.readlines())\n",
    "    r1.seek(0)\n",
    "    for i in range(c):\n",
    "        print(f'{i+1} : {r1.readline()}')"
   ]
  },
  {
   "cell_type": "code",
   "execution_count": null,
   "id": "28baca1d",
   "metadata": {},
   "outputs": [
    {
     "name": "stdout",
     "output_type": "stream",
     "text": [
      "{'Python': 1, 'is': 2, 'awesome': 1, 'File': 1, 'handling': 1, 'powerful': 1, 'Practice': 1, 'makes': 1, 'perfect': 1}\n"
     ]
    }
   ],
   "source": [
    "# 11. Count the Occurrence of each words from a text file.\n",
    "\n",
    "with open('data.txt','r') as r1:\n",
    "    d={}\n",
    "    c=len(r1.readlines())\n",
    "    r1.seek(0)\n",
    "    for j in range(c):\n",
    "        for i in r1.readline().split():\n",
    "            if i in d:\n",
    "                d[i]+=1\n",
    "            else: d[i]=1 \n",
    "print(d)\n",
    "\n",
    "        \n",
    "\n"
   ]
  },
  {
   "cell_type": "markdown",
   "id": "b731b4cc",
   "metadata": {},
   "source": [
    "# JSON TASKS"
   ]
  },
  {
   "cell_type": "code",
   "execution_count": null,
   "id": "dcff759a",
   "metadata": {},
   "outputs": [],
   "source": [
    "# 1. Write a Dictionary to a JSON File\n",
    "# Task:\n",
    "# Create a Python dictionary and write it to a file called data.json.\n",
    "\n"
   ]
  }
 ],
 "metadata": {
  "kernelspec": {
   "display_name": "Python 3",
   "language": "python",
   "name": "python3"
  },
  "language_info": {
   "codemirror_mode": {
    "name": "ipython",
    "version": 3
   },
   "file_extension": ".py",
   "mimetype": "text/x-python",
   "name": "python",
   "nbconvert_exporter": "python",
   "pygments_lexer": "ipython3",
   "version": "3.12.3"
  }
 },
 "nbformat": 4,
 "nbformat_minor": 5
}
