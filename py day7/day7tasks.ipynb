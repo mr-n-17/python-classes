{
 "cells": [
  {
   "cell_type": "code",
   "execution_count": 4,
   "id": "54150986",
   "metadata": {},
   "outputs": [
    {
     "name": "stdout",
     "output_type": "stream",
     "text": [
      "Python is awesome\n",
      "\n",
      "File handling is powerful\n",
      "\n",
      "Practice makes perfect\n"
     ]
    }
   ],
   "source": [
    "#1. Write and Read a File\n",
    "# Task:\n",
    "# Create a text file called data.txt. Write the following lines into it:\n",
    "\n",
    "# Python is awesome\n",
    "# File handling is powerful\n",
    "# Practice makes perfect\n",
    "\n",
    "# Then read and print the content of the file.\n",
    "\n",
    "with open('data.txt','r') as r1:\n",
    "    print(r1.readline())\n",
    "    print(r1.readline())\n",
    "    print(r1.readline())"
   ]
  },
  {
   "cell_type": "code",
   "execution_count": 20,
   "id": "40a2eacc",
   "metadata": {},
   "outputs": [
    {
     "name": "stdout",
     "output_type": "stream",
     "text": [
      "10\n"
     ]
    }
   ],
   "source": [
    "# 2. Count Number of Words in a File\n",
    "# Task:\n",
    "# Open a file and count how many words it contains.\n",
    "\n",
    "with open('data.txt','r') as r1:\n",
    "    c=0\n",
    "    for i in r1.readlines():\n",
    "        for j in i.split():\n",
    "            c+=1\n",
    "    print(c)\n",
    "\n",
    "\n"
   ]
  },
  {
   "cell_type": "code",
   "execution_count": 34,
   "id": "9edd6746",
   "metadata": {},
   "outputs": [
    {
     "name": "stdout",
     "output_type": "stream",
     "text": [
      "File handling is powerful\n"
     ]
    }
   ],
   "source": [
    "# 3. Search for a Word in a File\n",
    "# Task:\n",
    "# Ask the user for a word, search for that word in the file, and print the line(s) where it's found.\n",
    "\n",
    "n=input('ENTER THE WORD TO SEARCH: ')\n",
    "\n",
    "with open('data.txt','r') as r1:\n",
    "    c=len(r1.readlines())\n",
    "    r1.seek(0)\n",
    "    for i in range(c):\n",
    "        m=r1.readline().split()\n",
    "        if n in m: \n",
    "            print(*m)\n",
    "            break\n",
    "\n"
   ]
  },
  {
   "cell_type": "code",
   "execution_count": 35,
   "id": "7531e467",
   "metadata": {},
   "outputs": [],
   "source": [
    "# 4. Copy Content from One File to Another\n",
    "# Task:\n",
    "# Copy the content from data.txt to copy.txt.\n",
    "\n",
    "with open('data.txt','r') as r1:\n",
    "    c=r1.readlines()\n",
    "\n",
    "with open('newdata.txt','w') as r2:\n",
    "    for i in c:\n",
    "        r2.write(i+'\\n')\n"
   ]
  },
  {
   "cell_type": "code",
   "execution_count": 38,
   "id": "d9f376ee",
   "metadata": {},
   "outputs": [],
   "source": [
    "# 5. Append to a File\n",
    "# Task:\n",
    "# Append a new sentence to the end of data.txt without overwriting existing content.\n",
    "\n",
    "with open('data.txt','a') as r1:\n",
    "    r1.write('\\nNEW LINE IS ADDING\\n')"
   ]
  },
  {
   "cell_type": "code",
   "execution_count": null,
   "id": "63bef8c1",
   "metadata": {},
   "outputs": [
    {
     "name": "stdout",
     "output_type": "stream",
     "text": [
      "['Python is awesome\\n', 'File handling is powerful\\n', 'Practice makes perfect']\n",
      "Practice makes perfect\n",
      "File handling is powerful\n",
      "\n",
      "Python is awesome\n",
      "\n"
     ]
    }
   ],
   "source": [
    "# 6. Display File Content in Reverse\n",
    "# Task:\n",
    "# Read all lines from the file and print them in reverse order.\n",
    "\n",
    "with open('data.txt','r') as r1:\n",
    "    c=r1.readlines()\n",
    "    print(c)\n",
    "    for i in c[::-1]:\n",
    "        print(i)\n",
    "        "
   ]
  },
  {
   "cell_type": "code",
   "execution_count": 51,
   "id": "9436adc7",
   "metadata": {},
   "outputs": [],
   "source": [
    "# . Write Random Numbers to File\n",
    "# Task:\n",
    "# Use the random module to write 100 random integers to a file (one per line).\n",
    "\n",
    "import random\n",
    "\n",
    "def get():\n",
    "    return random.randint(1,101)\n",
    "\n",
    "\n",
    "with open('randomnum.txt','w') as r1:\n",
    "    for i in range(100):\n",
    "        r1.write(str(get())+'\\n')"
   ]
  },
  {
   "cell_type": "code",
   "execution_count": 52,
   "id": "ddabf7ba",
   "metadata": {},
   "outputs": [
    {
     "name": "stdout",
     "output_type": "stream",
     "text": [
      "468\n"
     ]
    }
   ],
   "source": [
    "# 9. Sum of Numbers in a File\n",
    "# Task:\n",
    "# Read all numbers from the file you created above and print their sum.\n",
    "\n",
    "with open('randomnum.txt','r') as r1:\n",
    "    c=0\n",
    "    for i in range(1,11):\n",
    "        c+=int(r1.readline())\n",
    "    print(c)\n",
    "        "
   ]
  },
  {
   "cell_type": "code",
   "execution_count": 56,
   "id": "84d07f79",
   "metadata": {},
   "outputs": [
    {
     "name": "stdout",
     "output_type": "stream",
     "text": [
      "1 : Python is awesome\n",
      "\n",
      "2 : File handling is powerful\n",
      "\n",
      "3 : Practice makes perfect\n"
     ]
    }
   ],
   "source": [
    "# 10. Line Numbering\n",
    "# Task:\n",
    "# Read a file and print each line preceded by its line number, like:\n",
    "# 1: Python is awesome\n",
    "# 2: File handling is powerful\n",
    "\n",
    "\n",
    "with open('data.txt','r') as r1:\n",
    "    c=len(r1.readlines())\n",
    "    r1.seek(0)\n",
    "    for i in range(c):\n",
    "        print(f'{i+1} : {r1.readline()}')"
   ]
  },
  {
   "cell_type": "code",
   "execution_count": 1,
   "id": "28baca1d",
   "metadata": {},
   "outputs": [
    {
     "name": "stdout",
     "output_type": "stream",
     "text": [
      "{'Python': 1, 'is': 2, 'awesome': 1, 'File': 1, 'handling': 1, 'powerful': 1, 'Practice': 1, 'makes': 1, 'perfect': 1}\n"
     ]
    }
   ],
   "source": [
    "# 11. Count the Occurrence of each words from a text file.\n",
    "\n",
    "with open('data.txt','r') as r1:\n",
    "    d={}\n",
    "    c=len(r1.readlines())\n",
    "    r1.seek(0)\n",
    "    for j in range(c):\n",
    "        for i in r1.readline().split():\n",
    "            if i in d:\n",
    "                d[i]+=1\n",
    "            else: d[i]=1 \n",
    "print(d)\n",
    "\n",
    "        \n",
    "\n"
   ]
  },
  {
   "cell_type": "markdown",
   "id": "b731b4cc",
   "metadata": {},
   "source": [
    "# JSON TASKS"
   ]
  },
  {
   "cell_type": "code",
   "execution_count": 7,
   "id": "dcff759a",
   "metadata": {},
   "outputs": [],
   "source": [
    "# 1. Write a Dictionary to a JSON File\n",
    "# Task:\n",
    "# Create a Python dictionary and write it to a file called data.json.\n",
    "import json\n",
    "d={\n",
    "    'name':'Nivas',\n",
    "    'age':21,\n",
    "    'place': 'TN',\n",
    "    'work':'IT'\n",
    "}\n",
    "d2={\n",
    "    'name':'JIM',\n",
    "    'age':22,\n",
    "    'place': 'AP',\n",
    "    'work':'NON IT'\n",
    "}\n",
    "\n",
    "with open('task1.json','w') as j1:\n",
    "    json.dump(d,j1,indent=4)"
   ]
  },
  {
   "cell_type": "code",
   "execution_count": 12,
   "id": "9d223daa",
   "metadata": {},
   "outputs": [
    {
     "name": "stdout",
     "output_type": "stream",
     "text": [
      "dict_keys(['name', 'age', 'place', 'work']) dict_values(['Nivas', 21, 'TN', 'IT'])\n",
      "name: Nivas age: 21 place: TN work: IT\n"
     ]
    }
   ],
   "source": [
    "# 2. Read JSON Data from a File\n",
    "# Task:\n",
    "# Read the JSON data from data.json and print each key-value pair.\n",
    "\n",
    "with open('task1.json','r') as j2:\n",
    "    c=json.load(j2)\n",
    "    print(c.keys(),c.values())\n",
    "    print(*(map(lambda k: f\"{k}: {c[k]}\",c.keys())))\n"
   ]
  },
  {
   "cell_type": "code",
   "execution_count": 2,
   "id": "3155e6f7",
   "metadata": {},
   "outputs": [],
   "source": [
    "# 3. Update JSON Data in a File\n",
    "# Task:\n",
    "# Add a new key \"location\": \"Bangalore\" to the existing JSON data and write it back to the same file.\n",
    "\n",
    "import json\n",
    "with open('task1.json','r') as j2:\n",
    "    c=json.load(j2)\n",
    "    c['location']=\"Bangalore\"\n",
    "    \n",
    "with open('task1.json','w') as j3:\n",
    "    json.dump(c,j3,indent=4)\n",
    "\n"
   ]
  },
  {
   "cell_type": "code",
   "execution_count": null,
   "id": "44d87102",
   "metadata": {},
   "outputs": [
    {
     "name": "stdout",
     "output_type": "stream",
     "text": [
      "{\n",
      "    \"name\": \"Nivas\",\n",
      "    \"age\": 21,\n",
      "    \"place\": \"TN\",\n",
      "    \"work\": \"IT\",\n",
      "    \"location\": \"Bangalore\"\n",
      "}\n"
     ]
    }
   ],
   "source": [
    "# 4. Pretty Print JSON Data\n",
    "# Task:\n",
    "# Read a JSON file and print its contents in a readable/indented format.\n",
    "\n",
    "with open('task1.json','r') as j2:\n",
    "    c=json.load(j2)\n",
    "    print(json.dumps(c, indent=4))\n",
    "    "
   ]
  },
  {
   "cell_type": "code",
   "execution_count": 23,
   "id": "48e6cbe9",
   "metadata": {},
   "outputs": [
    {
     "name": "stdout",
     "output_type": "stream",
     "text": [
      "{'name': 'Bob', 'age': 25, 'city': 'Mumbai', 'hobbies': ['reading', 'coding'], 'is_student': False, 'grades': {'math': 92, 'science': 88}}\n",
      "\n",
      "\"\\n{\\n    \\\"name\\\": \\\"Bob\\\",\\n    \\\"age\\\": 25,\\n    \\\"city\\\": \\\"Mumbai\\\",\\n    \\\"hobbies\\\": [\\\"reading\\\", \\\"coding\\\"],\\n    \\\"is_student\\\": false,\\n    \\\"grades\\\": {\\n        \\\"math\\\": 92,\\n        \\\"science\\\": 88\\n    }\\n}\\n\"\n"
     ]
    }
   ],
   "source": [
    "# 5. Convert JSON to Python Object and Back\n",
    "# Task:\n",
    "# Convert a JSON string into a Python dictionary and then back into a JSON string.\n",
    "\n",
    "json_string = \"\"\"\n",
    "{\n",
    "    \"name\": \"Bob\",\n",
    "    \"age\": 25,\n",
    "    \"city\": \"Mumbai\",\n",
    "    \"hobbies\": [\"reading\", \"coding\"],\n",
    "    \"is_student\": false,\n",
    "    \"grades\": {\n",
    "        \"math\": 92,\n",
    "        \"science\": 88\n",
    "    }\n",
    "}\n",
    "\"\"\"\n",
    "print(json.loads(json_string))\n",
    "print()\n",
    "print(json.dumps(json_string, indent=4))\n",
    "    "
   ]
  },
  {
   "cell_type": "code",
   "execution_count": null,
   "id": "8bd9b148",
   "metadata": {},
   "outputs": [
    {
     "name": "stdout",
     "output_type": "stream",
     "text": [
      "{'math': 92, 'science': 88}\n"
     ]
    }
   ],
   "source": [
    "# 6. Work with Nested JSON\n",
    "# Task:\n",
    "# Read a file with nested JSON\n",
    "# Write a nested JSON file\n",
    "import json\n",
    "\n",
    "j={\n",
    "    \"name\": \"Bob\",\n",
    "    \"age\": 25,\n",
    "    \"city\": \"Mumbai\",\n",
    "    \"hobbies\": [\"reading\", \"coding\"],\n",
    "    \"is_student\": False,\n",
    "    \"grades\": {\n",
    "        \"math\": 92,\n",
    "        \"science\": 88\n",
    "    }\n",
    "}\n",
    "\n",
    "with open('task6.json','r') as j3:\n",
    "    c=json.load(j3)\n",
    "    \n",
    "    for i in c:\n",
    "        if isinstance(c[i], dict):\n",
    "            print(c[i])\n",
    "            break\n",
    "        \n",
    "    c[\"staus\"]= {\n",
    "            \"single\": 'yes',\n",
    "            \"marrioed\": 'no' }\n",
    "    \n",
    "    with open('task6.json','w') as j4:\n",
    "        json.dump(c,j4,indent=4)\n",
    "    "
   ]
  },
  {
   "cell_type": "code",
   "execution_count": 25,
   "id": "4c99c013",
   "metadata": {},
   "outputs": [
    {
     "name": "stdout",
     "output_type": "stream",
     "text": [
      "{'name': 'jim', 'age': 21, 'phone': 542187358, 'pincode': 890987, 'new obj': 'new one', 'Version': 1.2, 'Users': ['m1', 'm2']}\n"
     ]
    }
   ],
   "source": [
    "# 7. Merge Two JSON Files\n",
    "# Task:\n",
    "# Load two JSON files and merge their contents into a new file.\n",
    "\n",
    "\n",
    "\n",
    "with open('data.json','r') as j3:\n",
    "    c=json.load(j3)\n",
    "    \n",
    "with open('data2.json','r') as j4:\n",
    "    d=json.load(j4)\n",
    "\n",
    "for i in d:\n",
    "    if i.lower() not in c:\n",
    "        c[i]=d[i]\n",
    "print(c)\n",
    "\n",
    "with open('data3.json','w') as j5:\n",
    "    json.dump(c,j5,indent=4)\n",
    "    \n",
    "\n"
   ]
  },
  {
   "cell_type": "code",
   "execution_count": 19,
   "id": "a705532c",
   "metadata": {},
   "outputs": [
    {
     "name": "stdout",
     "output_type": "stream",
     "text": [
      "7\n"
     ]
    }
   ],
   "source": [
    "# 8. Count Entries(items) in a JSON Array\n",
    "\n",
    "with open('data3.json','r') as j4:\n",
    "    d=json.load(j4)\n",
    "    print(len(d))"
   ]
  },
  {
   "cell_type": "code",
   "execution_count": 26,
   "id": "d5dba36e",
   "metadata": {},
   "outputs": [
    {
     "name": "stdout",
     "output_type": "stream",
     "text": [
      "{'name': 'jim', 'phone': 542187358, 'pincode': 890987, 'new obj': 'new one', 'Version': 1.2, 'Users': ['m1', 'm2']}\n"
     ]
    }
   ],
   "source": [
    "# 9. Remove a Key from JSON File\n",
    "# Task:\n",
    "# Remove the key \"age\" from the JSON file if it exists.\n",
    "\n",
    "\n",
    "with open('data3.json','r') as j4:\n",
    "    d=json.load(j4)\n",
    "    d.pop('age')\n",
    "    print(d)\n",
    "    \n",
    "with open('data3.json','w') as j5:\n",
    "    json.dump(d,j5,indent=4)\n",
    "    "
   ]
  },
  {
   "cell_type": "code",
   "execution_count": 29,
   "id": "eb1f5ba9",
   "metadata": {},
   "outputs": [
    {
     "name": "stdout",
     "output_type": "stream",
     "text": [
      "{'user.name': 'Alice', 'user.address.city': 'Mumbai', 'user.address.pin': 400001}\n"
     ]
    }
   ],
   "source": [
    "# 10.Flatten a Nested JSON\n",
    "# Task:\n",
    "# Write a function to flatten a nested dictionary. For example:\n",
    "\n",
    "a={\n",
    "  \"user\": {\n",
    "    \"name\": \"Alice\",\n",
    "    \"address\": {\n",
    "      \"city\": \"Mumbai\",\n",
    "      \"pin\": 400001\n",
    "    }\n",
    "  }\n",
    "}\n",
    "\n",
    "# Should become:\n",
    "\n",
    "# {\n",
    "#   \"user.name\": \"Alice\",\n",
    "#   \"user.address.city\": \"Mumbai\",\n",
    "#   \"user.address.pin\": 400001\n",
    "# }\n",
    "\n",
    "with open('data4.json','w') as j4:\n",
    "    json.dump(a,j4,indent=4)\n",
    "    \n",
    "with open('data4.json','r') as j4:\n",
    "    c=json.load(j4)\n",
    "    \n",
    "def flatten_json(nested_json, parent_key='', sep='.'):\n",
    "    items = []\n",
    "    for k, v in nested_json.items():\n",
    "        new_key = parent_key + sep + k if parent_key else k\n",
    "        if isinstance(v, dict):\n",
    "            items.extend(flatten_json(v, new_key, sep=sep).items())\n",
    "        elif isinstance(v, list):\n",
    "            for i, list_item in enumerate(v):\n",
    "                list_new_key = new_key + sep + str(i)\n",
    "                if isinstance(list_item, dict):\n",
    "                    items.extend(flatten_json(list_item, list_new_key, sep=sep).items())\n",
    "                else:\n",
    "                    items.append((list_new_key, list_item))\n",
    "        else:\n",
    "            items.append((new_key, v))\n",
    "    return dict(items)\n",
    "\n",
    "m=flatten_json(c)\n",
    "print(m)\n",
    "        \n",
    "            \n",
    "            \n",
    "        \n",
    "        \n",
    "        "
   ]
  },
  {
   "cell_type": "code",
   "execution_count": null,
   "id": "495bc5e3",
   "metadata": {},
   "outputs": [],
   "source": [
    "# 1. Write a List of Dictionaries to CSV\n",
    "# Task:\n",
    "# Given:\n",
    "\n",
    "# users = [\n",
    "#     {\"name\": \"Alice\", \"age\": 25},\n",
    "#     {\"name\": \"Bob\", \"age\": 30},\n",
    "# ]\n",
    "# Write this to a CSV file with headers name and age.\n",
    "\n",
    "import csv\n",
    "users = [\n",
    "    {\"name\": \"Alice\", \"age\": 25,'marks':70},\n",
    "    {\"name\": \"Bob\", \"age\": 30,'marks':65},\n",
    "]\n",
    "\n",
    "    \n",
    "with open('task1csv.csv','w',newline='') as c1:\n",
    "    w1=csv.DictWriter(c1,fieldnames=['name','age'])\n",
    "    w1.writeheader()\n",
    "    w1.writerows(users)\n",
    "    \n",
    "\n"
   ]
  },
  {
   "cell_type": "code",
   "execution_count": 33,
   "id": "b29fcf9f",
   "metadata": {},
   "outputs": [
    {
     "name": "stdout",
     "output_type": "stream",
     "text": [
      "['Alice', '10', 'Tpt']\n",
      "['Jim', '23', 'New york']\n",
      "['Jim', '23', 'New york']\n"
     ]
    }
   ],
   "source": [
    "# 2. Read a CSV File and Print Each Row\n",
    "# Task:\n",
    "# Read the CSV created above and print each row in a readable format.\n",
    "\n",
    "with open('csvdata2.csv','r') as c1:\n",
    "    e=csv.reader(c1)\n",
    "    for i in e:\n",
    "        print(i)"
   ]
  },
  {
   "cell_type": "code",
   "execution_count": 50,
   "id": "11ffa149",
   "metadata": {},
   "outputs": [
    {
     "name": "stdout",
     "output_type": "stream",
     "text": [
      "{'name': 'Alice', 'age': '25', 'marks': '70'}\n"
     ]
    }
   ],
   "source": [
    "# 3. Filter Rows Based on a Condition\n",
    "# Task:\n",
    "# From a CSV file with student scores, filter and print only those who scored above 75.\n",
    "\n",
    "\n",
    "users = [\n",
    "    {\"name\": \"Alice\", \"age\": 25,'marks':70},\n",
    "    {\"name\": \"Bob\", \"age\": 30,'marks':65},\n",
    "]\n",
    "\n",
    "with open('task2csv.csv','w',newline='') as c2:\n",
    "    w1=csv.DictWriter(c2,fieldnames=['name','age','marks'])\n",
    "    w1.writeheader()\n",
    "    w1.writerows(users)\n",
    "\n",
    "with open('task2csv.csv','r',newline='') as c3:\n",
    "    w2=csv.DictReader(c3)\n",
    "    for i in w2:\n",
    "        if int(i['marks'])>=66:\n",
    "            print(i)\n",
    "        \n",
    "        \n",
    "    \n"
   ]
  },
  {
   "cell_type": "code",
   "execution_count": null,
   "id": "ce203a15",
   "metadata": {},
   "outputs": [
    {
     "name": "stdout",
     "output_type": "stream",
     "text": [
      "3 3\n"
     ]
    }
   ],
   "source": [
    "# 4. Count Total Rows and Columns\n",
    "# Task:\n",
    "# Read a CSV and print:\n",
    "\n",
    "# Total number of rows (excluding header)\n",
    "# Total number of columns\n",
    "\n",
    "\n",
    "with open('task2csv.csv','r',newline='') as c4:\n",
    "    w2=csv.reader(c4)\n",
    "    r=0\n",
    "    for i in w2:\n",
    "        r+=1\n",
    "        c=len(i)\n",
    "    print(r,c)\n",
    "    \n",
    "\n"
   ]
  },
  {
   "cell_type": "code",
   "execution_count": 65,
   "id": "5f243ef4",
   "metadata": {},
   "outputs": [],
   "source": [
    "# 5. Append a New Row to an Existing CSV File\n",
    "\n",
    "m=[['Charlie',35,'Kolkata']]\n",
    "with open('csvdata2.csv','a',newline='') as c3:\n",
    "    e1=csv.writer(c3)\n",
    "    e1.writerows(m)"
   ]
  },
  {
   "cell_type": "code",
   "execution_count": 68,
   "id": "c0263835",
   "metadata": {},
   "outputs": [],
   "source": [
    "# 6. Convert CSV to JSON\n",
    "\n",
    "with open('dictf.csv','r') as c4:\n",
    "    m=[]\n",
    "    e1=csv.DictReader(c4)\n",
    "    for i in e1:\n",
    "        m.append(i)\n",
    "        \n",
    "with open('csvtojson.json','w') as f1:\n",
    "    json.dump(m,f1,indent=4)\n",
    "    "
   ]
  },
  {
   "cell_type": "code",
   "execution_count": null,
   "id": "c3c92259",
   "metadata": {},
   "outputs": [],
   "source": []
  }
 ],
 "metadata": {
  "kernelspec": {
   "display_name": "Python 3",
   "language": "python",
   "name": "python3"
  },
  "language_info": {
   "codemirror_mode": {
    "name": "ipython",
    "version": 3
   },
   "file_extension": ".py",
   "mimetype": "text/x-python",
   "name": "python",
   "nbconvert_exporter": "python",
   "pygments_lexer": "ipython3",
   "version": "3.11.1"
  }
 },
 "nbformat": 4,
 "nbformat_minor": 5
}
